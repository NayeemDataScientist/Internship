{
 "cells": [
  {
   "cell_type": "markdown",
   "id": "8849b535",
   "metadata": {},
   "source": [
    "# Web scrapping using selenium"
   ]
  },
  {
   "cell_type": "code",
   "execution_count": 2,
   "id": "3205d813",
   "metadata": {},
   "outputs": [
    {
     "name": "stderr",
     "output_type": "stream",
     "text": [
      "WARNING: Ignoring invalid distribution -cikit-learn (c:\\programdata\\anaconda3\\lib\\site-packages)\n",
      "WARNING: Ignoring invalid distribution -cikit-learn (c:\\programdata\\anaconda3\\lib\\site-packages)\n",
      "WARNING: Ignoring invalid distribution -cikit-learn (c:\\programdata\\anaconda3\\lib\\site-packages)\n",
      "WARNING: Ignoring invalid distribution -cikit-learn (c:\\programdata\\anaconda3\\lib\\site-packages)\n",
      "WARNING: Ignoring invalid distribution -cikit-learn (c:\\programdata\\anaconda3\\lib\\site-packages)\n",
      "WARNING: Ignoring invalid distribution -cikit-learn (c:\\programdata\\anaconda3\\lib\\site-packages)\n"
     ]
    },
    {
     "name": "stdout",
     "output_type": "stream",
     "text": [
      "Requirement already satisfied: selenium in c:\\programdata\\anaconda3\\lib\\site-packages (4.1.3)\n",
      "Requirement already satisfied: trio~=0.17 in c:\\programdata\\anaconda3\\lib\\site-packages (from selenium) (0.20.0)\n",
      "Requirement already satisfied: trio-websocket~=0.9 in c:\\programdata\\anaconda3\\lib\\site-packages (from selenium) (0.9.2)\n",
      "Requirement already satisfied: urllib3[secure,socks]~=1.26 in c:\\programdata\\anaconda3\\lib\\site-packages (from selenium) (1.26.7)\n",
      "Requirement already satisfied: sniffio in c:\\programdata\\anaconda3\\lib\\site-packages (from trio~=0.17->selenium) (1.2.0)\n",
      "Requirement already satisfied: idna in c:\\programdata\\anaconda3\\lib\\site-packages (from trio~=0.17->selenium) (3.2)\n",
      "Requirement already satisfied: cffi>=1.14 in c:\\programdata\\anaconda3\\lib\\site-packages (from trio~=0.17->selenium) (1.14.6)\n",
      "Requirement already satisfied: attrs>=19.2.0 in c:\\programdata\\anaconda3\\lib\\site-packages (from trio~=0.17->selenium) (21.2.0)\n",
      "Requirement already satisfied: async-generator>=1.9 in c:\\programdata\\anaconda3\\lib\\site-packages (from trio~=0.17->selenium) (1.10)\n",
      "Requirement already satisfied: sortedcontainers in c:\\programdata\\anaconda3\\lib\\site-packages (from trio~=0.17->selenium) (2.4.0)\n",
      "Requirement already satisfied: outcome in c:\\programdata\\anaconda3\\lib\\site-packages (from trio~=0.17->selenium) (1.1.0)\n",
      "Requirement already satisfied: pycparser in c:\\programdata\\anaconda3\\lib\\site-packages (from cffi>=1.14->trio~=0.17->selenium) (2.20)\n",
      "Requirement already satisfied: wsproto>=0.14 in c:\\programdata\\anaconda3\\lib\\site-packages (from trio-websocket~=0.9->selenium) (1.1.0)\n",
      "Requirement already satisfied: PySocks!=1.5.7,<2.0,>=1.5.6 in c:\\programdata\\anaconda3\\lib\\site-packages (from urllib3[secure,socks]~=1.26->selenium) (1.7.1)\n",
      "Requirement already satisfied: pyOpenSSL>=0.14 in c:\\programdata\\anaconda3\\lib\\site-packages (from urllib3[secure,socks]~=1.26->selenium) (21.0.0)\n",
      "Requirement already satisfied: cryptography>=1.3.4 in c:\\programdata\\anaconda3\\lib\\site-packages (from urllib3[secure,socks]~=1.26->selenium) (3.4.8)\n",
      "Requirement already satisfied: certifi in c:\\programdata\\anaconda3\\lib\\site-packages (from urllib3[secure,socks]~=1.26->selenium) (2021.10.8)\n",
      "Requirement already satisfied: six>=1.5.2 in c:\\programdata\\anaconda3\\lib\\site-packages (from pyOpenSSL>=0.14->urllib3[secure,socks]~=1.26->selenium) (1.16.0)\n",
      "Requirement already satisfied: h11<1,>=0.9.0 in c:\\programdata\\anaconda3\\lib\\site-packages (from wsproto>=0.14->trio-websocket~=0.9->selenium) (0.13.0)\n"
     ]
    }
   ],
   "source": [
    "!pip install selenium\n",
    "\n",
    "\n",
    "import pandas as pd \n",
    "import numpy as np\n",
    "from selenium import webdriver\n",
    "import warnings\n",
    "warnings.filterwarnings('ignore')"
   ]
  },
  {
   "cell_type": "markdown",
   "id": "c7ffc72a",
   "metadata": {},
   "source": [
    "# Q1: Write a python program to scrape data for “Data Analyst” Job position in “Bangalore” location. You have to scrape the job-title, job-location, company_name, experience_required. You have to scrape first 10 jobs data."
   ]
  },
  {
   "cell_type": "code",
   "execution_count": 3,
   "id": "86728304",
   "metadata": {},
   "outputs": [],
   "source": [
    "driver=webdriver.Chrome('chromedriver.exe')"
   ]
  },
  {
   "cell_type": "code",
   "execution_count": 4,
   "id": "a54a2f6d",
   "metadata": {},
   "outputs": [],
   "source": [
    "url='https://www.naukri.com/'\n",
    "driver.get(url)"
   ]
  },
  {
   "cell_type": "code",
   "execution_count": 5,
   "id": "c5e5ee12",
   "metadata": {},
   "outputs": [
    {
     "data": {
      "text/plain": [
       "<selenium.webdriver.remote.webelement.WebElement (session=\"14c217c72494af4d8fcd98c0540f2e39\", element=\"053c954f-c78b-4688-9c3f-5c59ecfac38b\")>"
      ]
     },
     "execution_count": 5,
     "metadata": {},
     "output_type": "execute_result"
    }
   ],
   "source": [
    "srh_job=driver.find_element_by_class_name('suggestor-input ')\n",
    "srh_job"
   ]
  },
  {
   "cell_type": "code",
   "execution_count": 6,
   "id": "f4958843",
   "metadata": {},
   "outputs": [],
   "source": [
    "srh_job.send_keys('Data Analyst')"
   ]
  },
  {
   "cell_type": "code",
   "execution_count": 7,
   "id": "324c99c2",
   "metadata": {},
   "outputs": [
    {
     "data": {
      "text/plain": [
       "<selenium.webdriver.remote.webelement.WebElement (session=\"14c217c72494af4d8fcd98c0540f2e39\", element=\"cac82264-f5f0-4dc5-95e6-284779323246\")>"
      ]
     },
     "execution_count": 7,
     "metadata": {},
     "output_type": "execute_result"
    }
   ],
   "source": [
    "loc_job=driver.find_element_by_xpath('/html/body/div/div[2]/div[3]/div/div/div[3]/div/div/div/input')\n",
    "loc_job"
   ]
  },
  {
   "cell_type": "code",
   "execution_count": 8,
   "id": "cf5453b1",
   "metadata": {},
   "outputs": [],
   "source": [
    "loc_job.send_keys('Bangalore')"
   ]
  },
  {
   "cell_type": "code",
   "execution_count": 9,
   "id": "34584712",
   "metadata": {},
   "outputs": [],
   "source": [
    "srh_btn=driver.find_element_by_class_name('qsbSubmit')\n",
    "srh_btn.click()"
   ]
  },
  {
   "cell_type": "code",
   "execution_count": 10,
   "id": "14ea33de",
   "metadata": {},
   "outputs": [],
   "source": [
    "job_tags=driver.find_elements_by_xpath('//a[@class=\"title fw500 ellipsis\"]')"
   ]
  },
  {
   "cell_type": "code",
   "execution_count": 11,
   "id": "d52db0e2",
   "metadata": {},
   "outputs": [
    {
     "data": {
      "text/plain": [
       "[<selenium.webdriver.remote.webelement.WebElement (session=\"14c217c72494af4d8fcd98c0540f2e39\", element=\"bac6fedd-d69c-47f8-b205-ebdc3f98b4be\")>,\n",
       " <selenium.webdriver.remote.webelement.WebElement (session=\"14c217c72494af4d8fcd98c0540f2e39\", element=\"13219704-bbc6-4b3e-8f52-ece02a3acae7\")>,\n",
       " <selenium.webdriver.remote.webelement.WebElement (session=\"14c217c72494af4d8fcd98c0540f2e39\", element=\"d8f876cf-f22e-4360-92a2-4e107e08076d\")>,\n",
       " <selenium.webdriver.remote.webelement.WebElement (session=\"14c217c72494af4d8fcd98c0540f2e39\", element=\"24ff2e02-49a6-4255-9067-6185bb3b5259\")>,\n",
       " <selenium.webdriver.remote.webelement.WebElement (session=\"14c217c72494af4d8fcd98c0540f2e39\", element=\"7fbf9625-0fb8-4c01-aa33-d7a2a6b61779\")>,\n",
       " <selenium.webdriver.remote.webelement.WebElement (session=\"14c217c72494af4d8fcd98c0540f2e39\", element=\"6873e567-07e0-40a7-924c-06e704799cb9\")>,\n",
       " <selenium.webdriver.remote.webelement.WebElement (session=\"14c217c72494af4d8fcd98c0540f2e39\", element=\"166c3c38-159c-4c2d-9073-5049678b1d05\")>,\n",
       " <selenium.webdriver.remote.webelement.WebElement (session=\"14c217c72494af4d8fcd98c0540f2e39\", element=\"5c0c2a2f-4414-4364-96e6-48bcf7b7ca01\")>,\n",
       " <selenium.webdriver.remote.webelement.WebElement (session=\"14c217c72494af4d8fcd98c0540f2e39\", element=\"7736b039-1466-4f18-9232-adecebebf8e3\")>,\n",
       " <selenium.webdriver.remote.webelement.WebElement (session=\"14c217c72494af4d8fcd98c0540f2e39\", element=\"3f7e0a69-8e11-4b31-8c0b-9b0c64db3d0a\")>,\n",
       " <selenium.webdriver.remote.webelement.WebElement (session=\"14c217c72494af4d8fcd98c0540f2e39\", element=\"46d6c1ff-53cd-4c79-9e86-8f5a49b4506e\")>,\n",
       " <selenium.webdriver.remote.webelement.WebElement (session=\"14c217c72494af4d8fcd98c0540f2e39\", element=\"8b429bde-a64d-44bf-a57e-2042f7b3fb6a\")>,\n",
       " <selenium.webdriver.remote.webelement.WebElement (session=\"14c217c72494af4d8fcd98c0540f2e39\", element=\"3287e38a-2e2a-4d6a-907f-4882e65352ac\")>,\n",
       " <selenium.webdriver.remote.webelement.WebElement (session=\"14c217c72494af4d8fcd98c0540f2e39\", element=\"0ec4e012-7f3c-4f89-9bb3-5df260816143\")>,\n",
       " <selenium.webdriver.remote.webelement.WebElement (session=\"14c217c72494af4d8fcd98c0540f2e39\", element=\"ff9d1c8d-d197-4c72-a8b5-809a14db4999\")>,\n",
       " <selenium.webdriver.remote.webelement.WebElement (session=\"14c217c72494af4d8fcd98c0540f2e39\", element=\"7b8fed9a-4ae6-45c3-b1b4-c3e6185ab267\")>,\n",
       " <selenium.webdriver.remote.webelement.WebElement (session=\"14c217c72494af4d8fcd98c0540f2e39\", element=\"885d6631-2770-4991-a8e3-1490ec5ff9de\")>,\n",
       " <selenium.webdriver.remote.webelement.WebElement (session=\"14c217c72494af4d8fcd98c0540f2e39\", element=\"760d9228-a1f7-48f4-8bc3-ba7505e62db3\")>,\n",
       " <selenium.webdriver.remote.webelement.WebElement (session=\"14c217c72494af4d8fcd98c0540f2e39\", element=\"e4133665-7b87-4cb0-a1bd-7f7a6a35e3d4\")>,\n",
       " <selenium.webdriver.remote.webelement.WebElement (session=\"14c217c72494af4d8fcd98c0540f2e39\", element=\"1a9b8cc0-d7c4-42c8-b720-23bd1e670611\")>]"
      ]
     },
     "execution_count": 11,
     "metadata": {},
     "output_type": "execute_result"
    }
   ],
   "source": [
    "job_tags"
   ]
  },
  {
   "cell_type": "code",
   "execution_count": 12,
   "id": "76858552",
   "metadata": {},
   "outputs": [
    {
     "data": {
      "text/plain": [
       "20"
      ]
     },
     "execution_count": 12,
     "metadata": {},
     "output_type": "execute_result"
    }
   ],
   "source": [
    "len(job_tags)"
   ]
  },
  {
   "cell_type": "code",
   "execution_count": 13,
   "id": "bbb5176b",
   "metadata": {},
   "outputs": [
    {
     "data": {
      "text/plain": [
       "['Hiring For Data Analyst I(SQL & Python)',\n",
       " 'Senior Data Analyst II',\n",
       " 'Senior Data Analyst',\n",
       " 'Senior Data Analyst II',\n",
       " 'Senior Data Analyst II',\n",
       " 'Senior Data Analyst - Ads & Promotion Platform (APP)',\n",
       " 'Hiring Data analyst with Pharma Background across India',\n",
       " 'Data Coordinator | Data Analyst | MS Excel | Typing | Bangalore',\n",
       " 'Lead Data Analyst - Flipkart Data science group',\n",
       " 'Data Analyst']"
      ]
     },
     "execution_count": 13,
     "metadata": {},
     "output_type": "execute_result"
    }
   ],
   "source": [
    "job_titles=[]\n",
    "for i in job_tags:\n",
    "    job_titles.append(i.text)\n",
    "    \n",
    "job_titles[0:10] "
   ]
  },
  {
   "cell_type": "code",
   "execution_count": 14,
   "id": "e65aea76",
   "metadata": {},
   "outputs": [],
   "source": [
    "location=driver.find_elements_by_xpath('//li[@class=\"fleft grey-text br2 placeHolderLi location\"]')"
   ]
  },
  {
   "cell_type": "code",
   "execution_count": 15,
   "id": "f1a1ca33",
   "metadata": {},
   "outputs": [
    {
     "data": {
      "text/plain": [
       "[<selenium.webdriver.remote.webelement.WebElement (session=\"14c217c72494af4d8fcd98c0540f2e39\", element=\"9f868e4c-4664-4d23-98e7-ccaaeebdaa7b\")>,\n",
       " <selenium.webdriver.remote.webelement.WebElement (session=\"14c217c72494af4d8fcd98c0540f2e39\", element=\"54fa1e1f-649c-44d4-bfd5-c461490455bf\")>,\n",
       " <selenium.webdriver.remote.webelement.WebElement (session=\"14c217c72494af4d8fcd98c0540f2e39\", element=\"18dbb526-72b8-4ad2-a145-7f4ce27187eb\")>,\n",
       " <selenium.webdriver.remote.webelement.WebElement (session=\"14c217c72494af4d8fcd98c0540f2e39\", element=\"26e8fb41-667c-4ff3-b8d2-c14680f248b0\")>,\n",
       " <selenium.webdriver.remote.webelement.WebElement (session=\"14c217c72494af4d8fcd98c0540f2e39\", element=\"d4cd5642-b8ed-4337-bbcd-1dd2c7845c54\")>,\n",
       " <selenium.webdriver.remote.webelement.WebElement (session=\"14c217c72494af4d8fcd98c0540f2e39\", element=\"0cec1312-cb44-499f-be17-fd0e80e86c52\")>,\n",
       " <selenium.webdriver.remote.webelement.WebElement (session=\"14c217c72494af4d8fcd98c0540f2e39\", element=\"a2925b2d-05cf-4d4f-aced-7618c97202b0\")>,\n",
       " <selenium.webdriver.remote.webelement.WebElement (session=\"14c217c72494af4d8fcd98c0540f2e39\", element=\"0a0c2f93-9240-4275-9a4a-53eb208e1605\")>,\n",
       " <selenium.webdriver.remote.webelement.WebElement (session=\"14c217c72494af4d8fcd98c0540f2e39\", element=\"447c6d33-4d76-4958-a3b8-9b3edb547ff6\")>,\n",
       " <selenium.webdriver.remote.webelement.WebElement (session=\"14c217c72494af4d8fcd98c0540f2e39\", element=\"a1fe9cb2-9b14-4e9e-9281-ec5230e7b404\")>,\n",
       " <selenium.webdriver.remote.webelement.WebElement (session=\"14c217c72494af4d8fcd98c0540f2e39\", element=\"cec0bffc-825c-438e-8f2e-a0de313db3d7\")>,\n",
       " <selenium.webdriver.remote.webelement.WebElement (session=\"14c217c72494af4d8fcd98c0540f2e39\", element=\"54f5ab10-6987-4bf6-9d19-27a43b5b6861\")>,\n",
       " <selenium.webdriver.remote.webelement.WebElement (session=\"14c217c72494af4d8fcd98c0540f2e39\", element=\"c1e34b7c-8786-45fa-b053-8f4222e7eae7\")>,\n",
       " <selenium.webdriver.remote.webelement.WebElement (session=\"14c217c72494af4d8fcd98c0540f2e39\", element=\"c5ac9ebe-6599-4f77-b2e6-a5252e4c13b3\")>,\n",
       " <selenium.webdriver.remote.webelement.WebElement (session=\"14c217c72494af4d8fcd98c0540f2e39\", element=\"1d4e878a-ff18-4d3b-92ac-4cee590948df\")>,\n",
       " <selenium.webdriver.remote.webelement.WebElement (session=\"14c217c72494af4d8fcd98c0540f2e39\", element=\"86dfd849-3b07-40b9-ba43-8b3754b832e9\")>,\n",
       " <selenium.webdriver.remote.webelement.WebElement (session=\"14c217c72494af4d8fcd98c0540f2e39\", element=\"d78c8d27-caec-4115-93ea-d639008e3044\")>,\n",
       " <selenium.webdriver.remote.webelement.WebElement (session=\"14c217c72494af4d8fcd98c0540f2e39\", element=\"2a6f59ba-7a02-4162-b9ab-ee6342f6da5b\")>,\n",
       " <selenium.webdriver.remote.webelement.WebElement (session=\"14c217c72494af4d8fcd98c0540f2e39\", element=\"aa0a093c-3194-4d1a-9267-1c36d6756c85\")>,\n",
       " <selenium.webdriver.remote.webelement.WebElement (session=\"14c217c72494af4d8fcd98c0540f2e39\", element=\"ce7c50dd-0a71-49bc-bfec-ef14405f20b9\")>]"
      ]
     },
     "execution_count": 15,
     "metadata": {},
     "output_type": "execute_result"
    }
   ],
   "source": [
    "location"
   ]
  },
  {
   "cell_type": "code",
   "execution_count": 16,
   "id": "1d32c758",
   "metadata": {},
   "outputs": [
    {
     "data": {
      "text/plain": [
       "20"
      ]
     },
     "execution_count": 16,
     "metadata": {},
     "output_type": "execute_result"
    }
   ],
   "source": [
    "len(location)"
   ]
  },
  {
   "cell_type": "code",
   "execution_count": 17,
   "id": "994c4377",
   "metadata": {},
   "outputs": [
    {
     "data": {
      "text/plain": [
       "['Bangalore/Bengaluru',\n",
       " 'Bangalore/Bengaluru',\n",
       " 'Bangalore/Bengaluru',\n",
       " 'Bangalore/Bengaluru',\n",
       " 'Bangalore/Bengaluru',\n",
       " 'Bangalore/Bengaluru',\n",
       " 'Hyderabad/Secunderabad, Chennai, Bangalore/Bengaluru\\n(WFH during Covid)',\n",
       " 'Bangalore/Bengaluru(Sadashiva Nagar)',\n",
       " 'Bangalore/Bengaluru',\n",
       " 'Bangalore/Bengaluru']"
      ]
     },
     "execution_count": 17,
     "metadata": {},
     "output_type": "execute_result"
    }
   ],
   "source": [
    "loc=[]\n",
    "for i in location:\n",
    "    loc.append(i.text)\n",
    "    \n",
    "loc[0:10]  \n"
   ]
  },
  {
   "cell_type": "code",
   "execution_count": 18,
   "id": "283cf037",
   "metadata": {},
   "outputs": [],
   "source": [
    "company=driver.find_elements_by_xpath('//a[@class=\"subTitle ellipsis fleft\"]')"
   ]
  },
  {
   "cell_type": "code",
   "execution_count": 19,
   "id": "9c9a1f6c",
   "metadata": {},
   "outputs": [
    {
     "data": {
      "text/plain": [
       "[<selenium.webdriver.remote.webelement.WebElement (session=\"14c217c72494af4d8fcd98c0540f2e39\", element=\"c080173a-a0b2-4e9c-ba4d-f0b1c95bd7d5\")>,\n",
       " <selenium.webdriver.remote.webelement.WebElement (session=\"14c217c72494af4d8fcd98c0540f2e39\", element=\"671fd264-8a9e-4b4b-81d1-33eba787c1a3\")>,\n",
       " <selenium.webdriver.remote.webelement.WebElement (session=\"14c217c72494af4d8fcd98c0540f2e39\", element=\"07520be0-4738-42e4-9cd2-be6d29d834e0\")>,\n",
       " <selenium.webdriver.remote.webelement.WebElement (session=\"14c217c72494af4d8fcd98c0540f2e39\", element=\"530551c9-5022-4db5-b508-928b1d0720f9\")>,\n",
       " <selenium.webdriver.remote.webelement.WebElement (session=\"14c217c72494af4d8fcd98c0540f2e39\", element=\"2d6357fd-52b0-4597-abdf-4e6a31c9cf27\")>,\n",
       " <selenium.webdriver.remote.webelement.WebElement (session=\"14c217c72494af4d8fcd98c0540f2e39\", element=\"3d5641d8-2618-4381-876a-895453bbdfe4\")>,\n",
       " <selenium.webdriver.remote.webelement.WebElement (session=\"14c217c72494af4d8fcd98c0540f2e39\", element=\"a57e52ec-d4a1-4ef6-b9f2-037e46d1acf7\")>,\n",
       " <selenium.webdriver.remote.webelement.WebElement (session=\"14c217c72494af4d8fcd98c0540f2e39\", element=\"a73454a1-295c-4618-bda5-ea6387d11318\")>,\n",
       " <selenium.webdriver.remote.webelement.WebElement (session=\"14c217c72494af4d8fcd98c0540f2e39\", element=\"7372011f-3950-4e58-b247-0a438289219c\")>,\n",
       " <selenium.webdriver.remote.webelement.WebElement (session=\"14c217c72494af4d8fcd98c0540f2e39\", element=\"55991277-38e3-463a-a722-4132e1f822b1\")>,\n",
       " <selenium.webdriver.remote.webelement.WebElement (session=\"14c217c72494af4d8fcd98c0540f2e39\", element=\"9c886ade-02cd-4d5c-95d2-07b96e769897\")>,\n",
       " <selenium.webdriver.remote.webelement.WebElement (session=\"14c217c72494af4d8fcd98c0540f2e39\", element=\"f63c4108-064f-46a1-a94d-61eb0fdc249f\")>,\n",
       " <selenium.webdriver.remote.webelement.WebElement (session=\"14c217c72494af4d8fcd98c0540f2e39\", element=\"4c27e75c-e33f-401c-a573-fad5b39c5052\")>,\n",
       " <selenium.webdriver.remote.webelement.WebElement (session=\"14c217c72494af4d8fcd98c0540f2e39\", element=\"b9f55c96-0413-45f0-8814-bb5f2e445f99\")>,\n",
       " <selenium.webdriver.remote.webelement.WebElement (session=\"14c217c72494af4d8fcd98c0540f2e39\", element=\"4cabfcee-4ba2-4258-afde-86d97de040cd\")>,\n",
       " <selenium.webdriver.remote.webelement.WebElement (session=\"14c217c72494af4d8fcd98c0540f2e39\", element=\"4b3cb847-ef57-4862-a50f-02276fbae361\")>,\n",
       " <selenium.webdriver.remote.webelement.WebElement (session=\"14c217c72494af4d8fcd98c0540f2e39\", element=\"51285190-d7fb-4e52-9b92-9c015beb7dd3\")>,\n",
       " <selenium.webdriver.remote.webelement.WebElement (session=\"14c217c72494af4d8fcd98c0540f2e39\", element=\"f913ec05-a404-403f-b541-b2a4f44c5b55\")>,\n",
       " <selenium.webdriver.remote.webelement.WebElement (session=\"14c217c72494af4d8fcd98c0540f2e39\", element=\"fc9841a9-3576-4ec1-acef-ce57e0cb8ec8\")>,\n",
       " <selenium.webdriver.remote.webelement.WebElement (session=\"14c217c72494af4d8fcd98c0540f2e39\", element=\"a12acd6d-424b-4a5c-8030-3759d9523850\")>]"
      ]
     },
     "execution_count": 19,
     "metadata": {},
     "output_type": "execute_result"
    }
   ],
   "source": [
    "company"
   ]
  },
  {
   "cell_type": "code",
   "execution_count": 20,
   "id": "b7f6d68f",
   "metadata": {},
   "outputs": [
    {
     "data": {
      "text/plain": [
       "20"
      ]
     },
     "execution_count": 20,
     "metadata": {},
     "output_type": "execute_result"
    }
   ],
   "source": [
    "len(company)"
   ]
  },
  {
   "cell_type": "code",
   "execution_count": 22,
   "id": "22281ae2",
   "metadata": {},
   "outputs": [
    {
     "data": {
      "text/plain": [
       "['Clario India Pvt Ltd',\n",
       " 'Flipkart',\n",
       " 'Flipkart',\n",
       " 'Flipkart',\n",
       " 'Flipkart',\n",
       " 'Gojek',\n",
       " 'HCL',\n",
       " 'Inspiration Manpower Consultancy Pvt. Ltd.',\n",
       " 'Flipkart',\n",
       " 'Flipkart']"
      ]
     },
     "execution_count": 22,
     "metadata": {},
     "output_type": "execute_result"
    }
   ],
   "source": [
    "comp=[]\n",
    "for i in company:\n",
    "    comp.append(i.text)\n",
    "    \n",
    "comp[0:10]"
   ]
  },
  {
   "cell_type": "code",
   "execution_count": 23,
   "id": "aa3a4d1b",
   "metadata": {},
   "outputs": [],
   "source": [
    "experience=driver.find_elements_by_xpath('//span[contains(@title,\"Yrs\")]')"
   ]
  },
  {
   "cell_type": "code",
   "execution_count": 25,
   "id": "7164aba1",
   "metadata": {},
   "outputs": [
    {
     "data": {
      "text/plain": [
       "[<selenium.webdriver.remote.webelement.WebElement (session=\"14c217c72494af4d8fcd98c0540f2e39\", element=\"5d6f9f46-e986-4f82-81a7-71b85716bb10\")>,\n",
       " <selenium.webdriver.remote.webelement.WebElement (session=\"14c217c72494af4d8fcd98c0540f2e39\", element=\"80297711-e244-4036-a583-5c156276c33a\")>,\n",
       " <selenium.webdriver.remote.webelement.WebElement (session=\"14c217c72494af4d8fcd98c0540f2e39\", element=\"4f187b89-f63c-4b34-8d14-e1f54751e512\")>,\n",
       " <selenium.webdriver.remote.webelement.WebElement (session=\"14c217c72494af4d8fcd98c0540f2e39\", element=\"f1898a15-3e09-433d-932b-066265be4b79\")>,\n",
       " <selenium.webdriver.remote.webelement.WebElement (session=\"14c217c72494af4d8fcd98c0540f2e39\", element=\"7201db3c-fcf7-436e-a94b-1ae0583a1985\")>,\n",
       " <selenium.webdriver.remote.webelement.WebElement (session=\"14c217c72494af4d8fcd98c0540f2e39\", element=\"d191c823-cf84-4ff1-a6d2-23f0a3a292c6\")>,\n",
       " <selenium.webdriver.remote.webelement.WebElement (session=\"14c217c72494af4d8fcd98c0540f2e39\", element=\"35f414c1-f0db-4f19-bbb1-84b4e3b1cf36\")>,\n",
       " <selenium.webdriver.remote.webelement.WebElement (session=\"14c217c72494af4d8fcd98c0540f2e39\", element=\"d32d32d0-0d4f-47a4-a110-960dc14f4557\")>,\n",
       " <selenium.webdriver.remote.webelement.WebElement (session=\"14c217c72494af4d8fcd98c0540f2e39\", element=\"29d2a339-24a1-457f-9304-3ee498f86d76\")>,\n",
       " <selenium.webdriver.remote.webelement.WebElement (session=\"14c217c72494af4d8fcd98c0540f2e39\", element=\"eb122c96-6f16-48ae-8d22-8f5aa401dc8e\")>,\n",
       " <selenium.webdriver.remote.webelement.WebElement (session=\"14c217c72494af4d8fcd98c0540f2e39\", element=\"d27ead7d-108d-4305-b8f3-98038b3d17c9\")>,\n",
       " <selenium.webdriver.remote.webelement.WebElement (session=\"14c217c72494af4d8fcd98c0540f2e39\", element=\"16e4b796-a5a2-4e8a-9001-456effe5ce80\")>,\n",
       " <selenium.webdriver.remote.webelement.WebElement (session=\"14c217c72494af4d8fcd98c0540f2e39\", element=\"74cd146c-5241-4eb7-b775-3a20b52cee3c\")>,\n",
       " <selenium.webdriver.remote.webelement.WebElement (session=\"14c217c72494af4d8fcd98c0540f2e39\", element=\"e3e42862-5c50-4c25-9c29-34392105fe98\")>,\n",
       " <selenium.webdriver.remote.webelement.WebElement (session=\"14c217c72494af4d8fcd98c0540f2e39\", element=\"aec4618f-b3df-4f69-b1e6-a2e45f795e10\")>,\n",
       " <selenium.webdriver.remote.webelement.WebElement (session=\"14c217c72494af4d8fcd98c0540f2e39\", element=\"f87c9b7f-f383-41c6-a338-6b5a486e3e1b\")>,\n",
       " <selenium.webdriver.remote.webelement.WebElement (session=\"14c217c72494af4d8fcd98c0540f2e39\", element=\"eb6026ef-8bb0-4583-bbec-a02f74ee0b68\")>,\n",
       " <selenium.webdriver.remote.webelement.WebElement (session=\"14c217c72494af4d8fcd98c0540f2e39\", element=\"df126caf-c0a7-4676-b24d-a3717de61737\")>,\n",
       " <selenium.webdriver.remote.webelement.WebElement (session=\"14c217c72494af4d8fcd98c0540f2e39\", element=\"9ecbb2ef-5d87-4a23-b64b-ac19b798a8bf\")>]"
      ]
     },
     "execution_count": 25,
     "metadata": {},
     "output_type": "execute_result"
    }
   ],
   "source": [
    "experience"
   ]
  },
  {
   "cell_type": "code",
   "execution_count": 26,
   "id": "1a8c7c81",
   "metadata": {},
   "outputs": [
    {
     "data": {
      "text/plain": [
       "['0-2 Yrs',\n",
       " '3-6 Yrs',\n",
       " '3-8 Yrs',\n",
       " '2-4 Yrs',\n",
       " '2-4 Yrs',\n",
       " '3-8 Yrs',\n",
       " '6-11 Yrs',\n",
       " '4-7 Yrs',\n",
       " '1-3 Yrs',\n",
       " '7-12 Yrs']"
      ]
     },
     "execution_count": 26,
     "metadata": {},
     "output_type": "execute_result"
    }
   ],
   "source": [
    "exp=[]\n",
    "for i in experience:\n",
    "    exp.append(i.text)\n",
    "    \n",
    "exp[0:10]"
   ]
  },
  {
   "cell_type": "code",
   "execution_count": 28,
   "id": "5de6f400",
   "metadata": {},
   "outputs": [],
   "source": [
    "df=pd.DataFrame({'Job-Title':job_titles[0:10],'Job-Location':loc[0:10],'Company-Name':comp[0:10],'Expirence-required':exp[0:10]})"
   ]
  },
  {
   "cell_type": "code",
   "execution_count": 29,
   "id": "50360907",
   "metadata": {},
   "outputs": [
    {
     "data": {
      "text/html": [
       "<div>\n",
       "<style scoped>\n",
       "    .dataframe tbody tr th:only-of-type {\n",
       "        vertical-align: middle;\n",
       "    }\n",
       "\n",
       "    .dataframe tbody tr th {\n",
       "        vertical-align: top;\n",
       "    }\n",
       "\n",
       "    .dataframe thead th {\n",
       "        text-align: right;\n",
       "    }\n",
       "</style>\n",
       "<table border=\"1\" class=\"dataframe\">\n",
       "  <thead>\n",
       "    <tr style=\"text-align: right;\">\n",
       "      <th></th>\n",
       "      <th>Job-Title</th>\n",
       "      <th>Job-Location</th>\n",
       "      <th>Company-Name</th>\n",
       "      <th>Expirence-required</th>\n",
       "    </tr>\n",
       "  </thead>\n",
       "  <tbody>\n",
       "    <tr>\n",
       "      <th>0</th>\n",
       "      <td>Hiring For Data Analyst I(SQL &amp; Python)</td>\n",
       "      <td>Bangalore/Bengaluru</td>\n",
       "      <td>Clario India Pvt Ltd</td>\n",
       "      <td>0-2 Yrs</td>\n",
       "    </tr>\n",
       "    <tr>\n",
       "      <th>1</th>\n",
       "      <td>Senior Data Analyst II</td>\n",
       "      <td>Bangalore/Bengaluru</td>\n",
       "      <td>Flipkart</td>\n",
       "      <td>3-6 Yrs</td>\n",
       "    </tr>\n",
       "    <tr>\n",
       "      <th>2</th>\n",
       "      <td>Senior Data Analyst</td>\n",
       "      <td>Bangalore/Bengaluru</td>\n",
       "      <td>Flipkart</td>\n",
       "      <td>3-8 Yrs</td>\n",
       "    </tr>\n",
       "    <tr>\n",
       "      <th>3</th>\n",
       "      <td>Senior Data Analyst II</td>\n",
       "      <td>Bangalore/Bengaluru</td>\n",
       "      <td>Flipkart</td>\n",
       "      <td>2-4 Yrs</td>\n",
       "    </tr>\n",
       "    <tr>\n",
       "      <th>4</th>\n",
       "      <td>Senior Data Analyst II</td>\n",
       "      <td>Bangalore/Bengaluru</td>\n",
       "      <td>Flipkart</td>\n",
       "      <td>2-4 Yrs</td>\n",
       "    </tr>\n",
       "    <tr>\n",
       "      <th>5</th>\n",
       "      <td>Senior Data Analyst - Ads &amp; Promotion Platform...</td>\n",
       "      <td>Bangalore/Bengaluru</td>\n",
       "      <td>Gojek</td>\n",
       "      <td>3-8 Yrs</td>\n",
       "    </tr>\n",
       "    <tr>\n",
       "      <th>6</th>\n",
       "      <td>Hiring Data analyst with Pharma Background acr...</td>\n",
       "      <td>Hyderabad/Secunderabad, Chennai, Bangalore/Ben...</td>\n",
       "      <td>HCL</td>\n",
       "      <td>6-11 Yrs</td>\n",
       "    </tr>\n",
       "    <tr>\n",
       "      <th>7</th>\n",
       "      <td>Data Coordinator | Data Analyst | MS Excel | T...</td>\n",
       "      <td>Bangalore/Bengaluru(Sadashiva Nagar)</td>\n",
       "      <td>Inspiration Manpower Consultancy Pvt. Ltd.</td>\n",
       "      <td>4-7 Yrs</td>\n",
       "    </tr>\n",
       "    <tr>\n",
       "      <th>8</th>\n",
       "      <td>Lead Data Analyst - Flipkart Data science group</td>\n",
       "      <td>Bangalore/Bengaluru</td>\n",
       "      <td>Flipkart</td>\n",
       "      <td>1-3 Yrs</td>\n",
       "    </tr>\n",
       "    <tr>\n",
       "      <th>9</th>\n",
       "      <td>Data Analyst</td>\n",
       "      <td>Bangalore/Bengaluru</td>\n",
       "      <td>Flipkart</td>\n",
       "      <td>7-12 Yrs</td>\n",
       "    </tr>\n",
       "  </tbody>\n",
       "</table>\n",
       "</div>"
      ],
      "text/plain": [
       "                                           Job-Title  \\\n",
       "0            Hiring For Data Analyst I(SQL & Python)   \n",
       "1                             Senior Data Analyst II   \n",
       "2                                Senior Data Analyst   \n",
       "3                             Senior Data Analyst II   \n",
       "4                             Senior Data Analyst II   \n",
       "5  Senior Data Analyst - Ads & Promotion Platform...   \n",
       "6  Hiring Data analyst with Pharma Background acr...   \n",
       "7  Data Coordinator | Data Analyst | MS Excel | T...   \n",
       "8    Lead Data Analyst - Flipkart Data science group   \n",
       "9                                       Data Analyst   \n",
       "\n",
       "                                        Job-Location  \\\n",
       "0                                Bangalore/Bengaluru   \n",
       "1                                Bangalore/Bengaluru   \n",
       "2                                Bangalore/Bengaluru   \n",
       "3                                Bangalore/Bengaluru   \n",
       "4                                Bangalore/Bengaluru   \n",
       "5                                Bangalore/Bengaluru   \n",
       "6  Hyderabad/Secunderabad, Chennai, Bangalore/Ben...   \n",
       "7               Bangalore/Bengaluru(Sadashiva Nagar)   \n",
       "8                                Bangalore/Bengaluru   \n",
       "9                                Bangalore/Bengaluru   \n",
       "\n",
       "                                 Company-Name Expirence-required  \n",
       "0                        Clario India Pvt Ltd            0-2 Yrs  \n",
       "1                                    Flipkart            3-6 Yrs  \n",
       "2                                    Flipkart            3-8 Yrs  \n",
       "3                                    Flipkart            2-4 Yrs  \n",
       "4                                    Flipkart            2-4 Yrs  \n",
       "5                                       Gojek            3-8 Yrs  \n",
       "6                                         HCL           6-11 Yrs  \n",
       "7  Inspiration Manpower Consultancy Pvt. Ltd.            4-7 Yrs  \n",
       "8                                    Flipkart            1-3 Yrs  \n",
       "9                                    Flipkart           7-12 Yrs  "
      ]
     },
     "execution_count": 29,
     "metadata": {},
     "output_type": "execute_result"
    }
   ],
   "source": [
    "df"
   ]
  },
  {
   "cell_type": "markdown",
   "id": "7038bf32",
   "metadata": {},
   "source": [
    "# Q2: Write a python program to scrape data for “Data Scientist” Job position in “Bangalore” location. You have to scrape the job-title, job-location, company_name. You have to scrape first 10 jobs data."
   ]
  },
  {
   "cell_type": "code",
   "execution_count": 114,
   "id": "33c227b9",
   "metadata": {},
   "outputs": [],
   "source": [
    "driver1=webdriver.Chrome('chromedriver.exe')"
   ]
  },
  {
   "cell_type": "code",
   "execution_count": 115,
   "id": "64e42b08",
   "metadata": {},
   "outputs": [],
   "source": [
    "url1='https://www.naukri.com/'\n",
    "driver1.get(url1)"
   ]
  },
  {
   "cell_type": "code",
   "execution_count": 116,
   "id": "8658aaa2",
   "metadata": {},
   "outputs": [
    {
     "data": {
      "text/plain": [
       "<selenium.webdriver.remote.webelement.WebElement (session=\"fab54562149b66af6c33de0f694d218a\", element=\"b6b82d31-04b2-4504-9594-4d2c64be5b29\")>"
      ]
     },
     "execution_count": 116,
     "metadata": {},
     "output_type": "execute_result"
    }
   ],
   "source": [
    "srh_job1=driver1.find_element_by_class_name('suggestor-input ')\n",
    "srh_job1"
   ]
  },
  {
   "cell_type": "code",
   "execution_count": 117,
   "id": "569cd738",
   "metadata": {},
   "outputs": [],
   "source": [
    "srh_job1.send_keys('Data Scientist')"
   ]
  },
  {
   "cell_type": "code",
   "execution_count": 118,
   "id": "7e9d32c4",
   "metadata": {},
   "outputs": [],
   "source": [
    "loc_job1=driver1.find_element_by_xpath('/html/body/div/div[2]/div[3]/div/div/div[3]/div/div/div/input')\n"
   ]
  },
  {
   "cell_type": "code",
   "execution_count": 119,
   "id": "3802ac67",
   "metadata": {},
   "outputs": [],
   "source": [
    "loc_job1.send_keys('Banglore')"
   ]
  },
  {
   "cell_type": "code",
   "execution_count": 120,
   "id": "7ddfd021",
   "metadata": {},
   "outputs": [],
   "source": [
    "srh_btn1=driver1.find_element_by_class_name('qsbSubmit')\n",
    "srh_btn1.click()"
   ]
  },
  {
   "cell_type": "code",
   "execution_count": 121,
   "id": "ec5074a0",
   "metadata": {},
   "outputs": [],
   "source": [
    "job_tags1=driver1.find_elements_by_xpath('//a[@class=\"title fw500 ellipsis\"]')"
   ]
  },
  {
   "cell_type": "code",
   "execution_count": 122,
   "id": "1e8797e8",
   "metadata": {},
   "outputs": [
    {
     "data": {
      "text/plain": [
       "[<selenium.webdriver.remote.webelement.WebElement (session=\"fab54562149b66af6c33de0f694d218a\", element=\"6b6ce40c-8041-43f8-8f95-943f6c8aa876\")>,\n",
       " <selenium.webdriver.remote.webelement.WebElement (session=\"fab54562149b66af6c33de0f694d218a\", element=\"233d089f-371f-4941-9de1-4a406c62d3e6\")>,\n",
       " <selenium.webdriver.remote.webelement.WebElement (session=\"fab54562149b66af6c33de0f694d218a\", element=\"51db67b4-4d30-4b25-a4e4-d00cc573dbf1\")>,\n",
       " <selenium.webdriver.remote.webelement.WebElement (session=\"fab54562149b66af6c33de0f694d218a\", element=\"e2a467bb-b5bb-426f-9dac-4735e3ee0847\")>,\n",
       " <selenium.webdriver.remote.webelement.WebElement (session=\"fab54562149b66af6c33de0f694d218a\", element=\"a922b1ef-52b3-4fb7-89bd-8a0c59a9634f\")>,\n",
       " <selenium.webdriver.remote.webelement.WebElement (session=\"fab54562149b66af6c33de0f694d218a\", element=\"80f4a188-7ce3-4532-88a9-90bdde662419\")>,\n",
       " <selenium.webdriver.remote.webelement.WebElement (session=\"fab54562149b66af6c33de0f694d218a\", element=\"74b8eb30-c3be-4f51-b521-86498c8da2d4\")>,\n",
       " <selenium.webdriver.remote.webelement.WebElement (session=\"fab54562149b66af6c33de0f694d218a\", element=\"57255442-a555-4922-badb-e32d821754e2\")>,\n",
       " <selenium.webdriver.remote.webelement.WebElement (session=\"fab54562149b66af6c33de0f694d218a\", element=\"5dcfb56d-07ca-4e94-91b6-bc8946db3a00\")>,\n",
       " <selenium.webdriver.remote.webelement.WebElement (session=\"fab54562149b66af6c33de0f694d218a\", element=\"1b068cbc-1aa0-4309-aaea-b7ca30913207\")>,\n",
       " <selenium.webdriver.remote.webelement.WebElement (session=\"fab54562149b66af6c33de0f694d218a\", element=\"4347d374-604b-43ea-aaa6-c63d3d89c017\")>,\n",
       " <selenium.webdriver.remote.webelement.WebElement (session=\"fab54562149b66af6c33de0f694d218a\", element=\"894e8ae4-309a-4e4e-8fbe-97246fae785f\")>,\n",
       " <selenium.webdriver.remote.webelement.WebElement (session=\"fab54562149b66af6c33de0f694d218a\", element=\"22439ca3-2f73-4f65-b386-524e5944a909\")>,\n",
       " <selenium.webdriver.remote.webelement.WebElement (session=\"fab54562149b66af6c33de0f694d218a\", element=\"d4d688ed-dab3-4b3b-8779-3548fce81db0\")>,\n",
       " <selenium.webdriver.remote.webelement.WebElement (session=\"fab54562149b66af6c33de0f694d218a\", element=\"96543f2f-d248-4a78-b4c9-e3ec7df4c936\")>,\n",
       " <selenium.webdriver.remote.webelement.WebElement (session=\"fab54562149b66af6c33de0f694d218a\", element=\"4351287f-277f-4ee4-b4a3-f426f11902b0\")>,\n",
       " <selenium.webdriver.remote.webelement.WebElement (session=\"fab54562149b66af6c33de0f694d218a\", element=\"d8f06918-0ae4-4645-b676-61121466ec18\")>,\n",
       " <selenium.webdriver.remote.webelement.WebElement (session=\"fab54562149b66af6c33de0f694d218a\", element=\"ad2a3cca-35b3-486b-ae12-693821b4045d\")>,\n",
       " <selenium.webdriver.remote.webelement.WebElement (session=\"fab54562149b66af6c33de0f694d218a\", element=\"3b922c8e-4b57-4dcf-acfd-96bac277401a\")>,\n",
       " <selenium.webdriver.remote.webelement.WebElement (session=\"fab54562149b66af6c33de0f694d218a\", element=\"de34ddee-8dd6-4b04-b05d-bf9f18704756\")>]"
      ]
     },
     "execution_count": 122,
     "metadata": {},
     "output_type": "execute_result"
    }
   ],
   "source": [
    "job_tags1"
   ]
  },
  {
   "cell_type": "code",
   "execution_count": 123,
   "id": "35b12fa3",
   "metadata": {},
   "outputs": [
    {
     "data": {
      "text/plain": [
       "20"
      ]
     },
     "execution_count": 123,
     "metadata": {},
     "output_type": "execute_result"
    }
   ],
   "source": [
    "len(job_tags1)"
   ]
  },
  {
   "cell_type": "code",
   "execution_count": 124,
   "id": "5715177d",
   "metadata": {},
   "outputs": [
    {
     "data": {
      "text/plain": [
       "['Data Scientist',\n",
       " 'Data Scientist',\n",
       " 'Senior/ Lead Data Scientist',\n",
       " 'Data Scientist / Analyst',\n",
       " 'Forecasting Analyst/ Data Scientist (US Client)',\n",
       " 'Computer Vision Python Data Scientist',\n",
       " 'Excellent Opportunity For Freshers For AI/ML, Data Scientist, BI, QA',\n",
       " 'Junior Data Scientist',\n",
       " 'Data Scientist',\n",
       " 'Data Scientist',\n",
       " 'Data Scientist',\n",
       " 'Data Scientist',\n",
       " 'Senior Data Scientist',\n",
       " 'Senior Data Scientist',\n",
       " 'Senior Data Scientist',\n",
       " 'Sr. Data Scientist, Digital Services Analytics',\n",
       " 'HCL Tech Opening - Senior Data Scientist',\n",
       " 'Cognitive/AI Senior Data Scientist',\n",
       " 'Sr. Product Data Scientist',\n",
       " 'Data Scientist II- Merchandise & Discovery']"
      ]
     },
     "execution_count": 124,
     "metadata": {},
     "output_type": "execute_result"
    }
   ],
   "source": [
    "job_titles1=[]\n",
    "for i in job_tags1:\n",
    "    job_titles1.append(i.text)\n",
    "    \n",
    "job_titles1   "
   ]
  },
  {
   "cell_type": "code",
   "execution_count": 125,
   "id": "d58bc8ee",
   "metadata": {},
   "outputs": [],
   "source": [
    "job_loc=driver1.find_elements_by_xpath('//li[@class=\"fleft grey-text br2 placeHolderLi location\"]')"
   ]
  },
  {
   "cell_type": "code",
   "execution_count": 126,
   "id": "0c69a4fc",
   "metadata": {},
   "outputs": [
    {
     "data": {
      "text/plain": [
       "[<selenium.webdriver.remote.webelement.WebElement (session=\"fab54562149b66af6c33de0f694d218a\", element=\"6962e629-d5e1-4be9-9d5f-e84c8d8e104d\")>,\n",
       " <selenium.webdriver.remote.webelement.WebElement (session=\"fab54562149b66af6c33de0f694d218a\", element=\"67eff15a-3098-410a-999a-eba9056d3b8d\")>,\n",
       " <selenium.webdriver.remote.webelement.WebElement (session=\"fab54562149b66af6c33de0f694d218a\", element=\"4743c688-788b-433e-abba-5b2e57ae47ef\")>,\n",
       " <selenium.webdriver.remote.webelement.WebElement (session=\"fab54562149b66af6c33de0f694d218a\", element=\"67e6d9e6-8695-4fd2-b5db-7acee1d15070\")>,\n",
       " <selenium.webdriver.remote.webelement.WebElement (session=\"fab54562149b66af6c33de0f694d218a\", element=\"46a54758-fcfd-42bd-b322-da9d6ea7cd7e\")>,\n",
       " <selenium.webdriver.remote.webelement.WebElement (session=\"fab54562149b66af6c33de0f694d218a\", element=\"a4841007-1b42-42f5-87f5-6b4d2df97d13\")>,\n",
       " <selenium.webdriver.remote.webelement.WebElement (session=\"fab54562149b66af6c33de0f694d218a\", element=\"d3639cf2-031a-4a16-aa1f-ee089cafcc18\")>,\n",
       " <selenium.webdriver.remote.webelement.WebElement (session=\"fab54562149b66af6c33de0f694d218a\", element=\"3ff0d4ae-b430-4386-93db-e88bf4a6f7bd\")>,\n",
       " <selenium.webdriver.remote.webelement.WebElement (session=\"fab54562149b66af6c33de0f694d218a\", element=\"dbc9f9a7-1bdf-4eb4-babd-fd7ad33e6fe3\")>,\n",
       " <selenium.webdriver.remote.webelement.WebElement (session=\"fab54562149b66af6c33de0f694d218a\", element=\"8a499869-bb1c-4ca0-ab39-d81e61b7ccf6\")>,\n",
       " <selenium.webdriver.remote.webelement.WebElement (session=\"fab54562149b66af6c33de0f694d218a\", element=\"602c647b-2f7e-4f84-b6eb-8c33cbd2f5d7\")>,\n",
       " <selenium.webdriver.remote.webelement.WebElement (session=\"fab54562149b66af6c33de0f694d218a\", element=\"6389aae2-d4b6-4540-9a53-1ca22c65a485\")>,\n",
       " <selenium.webdriver.remote.webelement.WebElement (session=\"fab54562149b66af6c33de0f694d218a\", element=\"c47c223e-a0c0-44fe-99e3-906f77ae1d62\")>,\n",
       " <selenium.webdriver.remote.webelement.WebElement (session=\"fab54562149b66af6c33de0f694d218a\", element=\"a9d9aa26-39de-4bfc-bdc9-55130f9e6f63\")>,\n",
       " <selenium.webdriver.remote.webelement.WebElement (session=\"fab54562149b66af6c33de0f694d218a\", element=\"53a53d37-3104-403a-a890-d693ed613701\")>,\n",
       " <selenium.webdriver.remote.webelement.WebElement (session=\"fab54562149b66af6c33de0f694d218a\", element=\"0115e65d-1e47-498d-8e6c-4bdccf3a9ad1\")>,\n",
       " <selenium.webdriver.remote.webelement.WebElement (session=\"fab54562149b66af6c33de0f694d218a\", element=\"7216935b-28d5-4175-a226-abe54cf5ccf2\")>,\n",
       " <selenium.webdriver.remote.webelement.WebElement (session=\"fab54562149b66af6c33de0f694d218a\", element=\"c92e4ed2-602b-4048-b59f-907a20b35a08\")>,\n",
       " <selenium.webdriver.remote.webelement.WebElement (session=\"fab54562149b66af6c33de0f694d218a\", element=\"74ba478d-c648-4f45-9926-c2a27badf9b8\")>,\n",
       " <selenium.webdriver.remote.webelement.WebElement (session=\"fab54562149b66af6c33de0f694d218a\", element=\"68fd3cad-caa7-420a-88ed-772925e0178e\")>]"
      ]
     },
     "execution_count": 126,
     "metadata": {},
     "output_type": "execute_result"
    }
   ],
   "source": [
    "job_loc"
   ]
  },
  {
   "cell_type": "code",
   "execution_count": 127,
   "id": "f947ddb0",
   "metadata": {},
   "outputs": [
    {
     "data": {
      "text/plain": [
       "['Pune, Gurgaon/Gurugram, Chennai, Bangalore/Bengaluru, Delhi / NCR, Mumbai (All Areas)',\n",
       " 'Bangalore/Bengaluru',\n",
       " 'Bangalore/Bengaluru',\n",
       " 'Bangalore/Bengaluru',\n",
       " 'Gurgaon/Gurugram, Bangalore/Bengaluru\\n(WFH during Covid)',\n",
       " 'Mumbai, Hyderabad/Secunderabad, Pune, Chennai, Bangalore/Bengaluru',\n",
       " 'Noida, Kolkata, Hyderabad/Secunderabad, Pune, Chennai, Bangalore/Bengaluru, Delhi / NCR, Mumbai (All Areas)\\n(WFH during Covid)',\n",
       " 'Bangalore/Bengaluru',\n",
       " 'Hyderabad/Secunderabad, Pune, Bangalore/Bengaluru',\n",
       " 'Bangalore/Bengaluru',\n",
       " 'Bangalore/Bengaluru',\n",
       " 'Mumbai, Bangalore/Bengaluru',\n",
       " 'Bangalore/Bengaluru',\n",
       " 'Bangalore/Bengaluru',\n",
       " 'Noida, Pune, Bangalore/Bengaluru',\n",
       " 'Bangalore/Bengaluru',\n",
       " 'Noida, Kolkata, Hyderabad/Secunderabad, Pune, Chennai, Bangalore/Bengaluru',\n",
       " 'Bangalore/Bengaluru',\n",
       " 'Bangalore/Bengaluru',\n",
       " 'Bangalore/Bengaluru']"
      ]
     },
     "execution_count": 127,
     "metadata": {},
     "output_type": "execute_result"
    }
   ],
   "source": [
    "job_loc1=[]\n",
    "for i in job_loc:\n",
    "    job_loc1.append(i.text)\n",
    "    \n",
    "job_loc1"
   ]
  },
  {
   "cell_type": "code",
   "execution_count": 128,
   "id": "b31bbee1",
   "metadata": {},
   "outputs": [],
   "source": [
    "comp_name=driver1.find_elements_by_xpath('//a[@class=\"subTitle ellipsis fleft\"]')"
   ]
  },
  {
   "cell_type": "code",
   "execution_count": 129,
   "id": "ca676b56",
   "metadata": {},
   "outputs": [
    {
     "data": {
      "text/plain": [
       "[<selenium.webdriver.remote.webelement.WebElement (session=\"fab54562149b66af6c33de0f694d218a\", element=\"7abbd9fb-5f01-4845-b64b-35d757f838a5\")>,\n",
       " <selenium.webdriver.remote.webelement.WebElement (session=\"fab54562149b66af6c33de0f694d218a\", element=\"75973565-5f1d-4db6-a42d-85b51c248af5\")>,\n",
       " <selenium.webdriver.remote.webelement.WebElement (session=\"fab54562149b66af6c33de0f694d218a\", element=\"933548a0-4515-43b3-911d-f14428bf9e85\")>,\n",
       " <selenium.webdriver.remote.webelement.WebElement (session=\"fab54562149b66af6c33de0f694d218a\", element=\"e3e4a32e-0656-45ca-a49f-005b3359afc5\")>,\n",
       " <selenium.webdriver.remote.webelement.WebElement (session=\"fab54562149b66af6c33de0f694d218a\", element=\"5e3f9332-cf00-41e7-8bcc-fd68d00a84b1\")>,\n",
       " <selenium.webdriver.remote.webelement.WebElement (session=\"fab54562149b66af6c33de0f694d218a\", element=\"542ed899-e46c-4d96-808b-26a68991d373\")>,\n",
       " <selenium.webdriver.remote.webelement.WebElement (session=\"fab54562149b66af6c33de0f694d218a\", element=\"7c4f4751-731b-4d27-b3d0-f0031a47b74e\")>,\n",
       " <selenium.webdriver.remote.webelement.WebElement (session=\"fab54562149b66af6c33de0f694d218a\", element=\"f0a08c5e-5e7b-4ea4-b41f-69e9db649bf9\")>,\n",
       " <selenium.webdriver.remote.webelement.WebElement (session=\"fab54562149b66af6c33de0f694d218a\", element=\"bb3b4532-f38c-427e-86e0-ee58983a5215\")>,\n",
       " <selenium.webdriver.remote.webelement.WebElement (session=\"fab54562149b66af6c33de0f694d218a\", element=\"83dbd7a4-57d0-4c7e-8e33-016f4a3daba2\")>,\n",
       " <selenium.webdriver.remote.webelement.WebElement (session=\"fab54562149b66af6c33de0f694d218a\", element=\"bc6802fa-8ae2-4970-b16e-221b37545cad\")>,\n",
       " <selenium.webdriver.remote.webelement.WebElement (session=\"fab54562149b66af6c33de0f694d218a\", element=\"988353e1-8df9-4f75-8ca7-df5eccbaabf9\")>,\n",
       " <selenium.webdriver.remote.webelement.WebElement (session=\"fab54562149b66af6c33de0f694d218a\", element=\"02ee57fc-2d09-4503-aca4-d1b206aa9754\")>,\n",
       " <selenium.webdriver.remote.webelement.WebElement (session=\"fab54562149b66af6c33de0f694d218a\", element=\"bbaa3af7-f3fc-44a7-aedd-c316bc492889\")>,\n",
       " <selenium.webdriver.remote.webelement.WebElement (session=\"fab54562149b66af6c33de0f694d218a\", element=\"c7bde7fd-8419-42ac-93d2-4dde2d734185\")>,\n",
       " <selenium.webdriver.remote.webelement.WebElement (session=\"fab54562149b66af6c33de0f694d218a\", element=\"104a5c33-280b-474e-9160-6f76734a8b6a\")>,\n",
       " <selenium.webdriver.remote.webelement.WebElement (session=\"fab54562149b66af6c33de0f694d218a\", element=\"9643897a-c7ac-4e7b-92d2-f4c9e3c24657\")>,\n",
       " <selenium.webdriver.remote.webelement.WebElement (session=\"fab54562149b66af6c33de0f694d218a\", element=\"9b7bce3b-3f2c-4cfd-9b83-977cc46ffc76\")>,\n",
       " <selenium.webdriver.remote.webelement.WebElement (session=\"fab54562149b66af6c33de0f694d218a\", element=\"29b4c4c9-6ca1-4217-962d-1ddba682b8fe\")>,\n",
       " <selenium.webdriver.remote.webelement.WebElement (session=\"fab54562149b66af6c33de0f694d218a\", element=\"164b68c4-b6c1-43c8-82ff-cc7f0669f355\")>]"
      ]
     },
     "execution_count": 129,
     "metadata": {},
     "output_type": "execute_result"
    }
   ],
   "source": [
    "comp_name"
   ]
  },
  {
   "cell_type": "code",
   "execution_count": 130,
   "id": "9cdd0478",
   "metadata": {},
   "outputs": [
    {
     "data": {
      "text/plain": [
       "['HDFC Bank',\n",
       " 'Shell',\n",
       " 'AmoliTalents',\n",
       " 'open data fabric',\n",
       " 'Concentrix',\n",
       " 'OceanOfWeb',\n",
       " 'NTT Data',\n",
       " 'Titan',\n",
       " 'Amazon',\n",
       " 'Hewlett-Packard (HP)',\n",
       " 'Shell',\n",
       " 'Master Mind Consultancy',\n",
       " 'newscorp',\n",
       " 'Walmart',\n",
       " 'Precisely',\n",
       " 'Dell',\n",
       " 'HCL',\n",
       " 'IBM',\n",
       " 'Uber',\n",
       " 'Swiggy']"
      ]
     },
     "execution_count": 130,
     "metadata": {},
     "output_type": "execute_result"
    }
   ],
   "source": [
    "comp_name1=[]\n",
    "for i in comp_name:\n",
    "    comp_name1.append(i.text)\n",
    "    \n",
    "comp_name1"
   ]
  },
  {
   "cell_type": "code",
   "execution_count": 131,
   "id": "06cf8d0d",
   "metadata": {},
   "outputs": [],
   "source": [
    "df=pd.DataFrame({'Job-Title':job_titles1,'Job-Location':job_loc1,'Company-Name':comp_name1})"
   ]
  },
  {
   "cell_type": "code",
   "execution_count": 132,
   "id": "75a34a87",
   "metadata": {},
   "outputs": [
    {
     "data": {
      "text/html": [
       "<div>\n",
       "<style scoped>\n",
       "    .dataframe tbody tr th:only-of-type {\n",
       "        vertical-align: middle;\n",
       "    }\n",
       "\n",
       "    .dataframe tbody tr th {\n",
       "        vertical-align: top;\n",
       "    }\n",
       "\n",
       "    .dataframe thead th {\n",
       "        text-align: right;\n",
       "    }\n",
       "</style>\n",
       "<table border=\"1\" class=\"dataframe\">\n",
       "  <thead>\n",
       "    <tr style=\"text-align: right;\">\n",
       "      <th></th>\n",
       "      <th>Job-Title</th>\n",
       "      <th>Job-Location</th>\n",
       "      <th>Company-Name</th>\n",
       "    </tr>\n",
       "  </thead>\n",
       "  <tbody>\n",
       "    <tr>\n",
       "      <th>0</th>\n",
       "      <td>Data Scientist</td>\n",
       "      <td>Pune, Gurgaon/Gurugram, Chennai, Bangalore/Ben...</td>\n",
       "      <td>HDFC Bank</td>\n",
       "    </tr>\n",
       "    <tr>\n",
       "      <th>1</th>\n",
       "      <td>Data Scientist</td>\n",
       "      <td>Bangalore/Bengaluru</td>\n",
       "      <td>Shell</td>\n",
       "    </tr>\n",
       "    <tr>\n",
       "      <th>2</th>\n",
       "      <td>Senior/ Lead Data Scientist</td>\n",
       "      <td>Bangalore/Bengaluru</td>\n",
       "      <td>AmoliTalents</td>\n",
       "    </tr>\n",
       "    <tr>\n",
       "      <th>3</th>\n",
       "      <td>Data Scientist / Analyst</td>\n",
       "      <td>Bangalore/Bengaluru</td>\n",
       "      <td>open data fabric</td>\n",
       "    </tr>\n",
       "    <tr>\n",
       "      <th>4</th>\n",
       "      <td>Forecasting Analyst/ Data Scientist (US Client)</td>\n",
       "      <td>Gurgaon/Gurugram, Bangalore/Bengaluru\\n(WFH du...</td>\n",
       "      <td>Concentrix</td>\n",
       "    </tr>\n",
       "    <tr>\n",
       "      <th>5</th>\n",
       "      <td>Computer Vision Python Data Scientist</td>\n",
       "      <td>Mumbai, Hyderabad/Secunderabad, Pune, Chennai,...</td>\n",
       "      <td>OceanOfWeb</td>\n",
       "    </tr>\n",
       "    <tr>\n",
       "      <th>6</th>\n",
       "      <td>Excellent Opportunity For Freshers For AI/ML, ...</td>\n",
       "      <td>Noida, Kolkata, Hyderabad/Secunderabad, Pune, ...</td>\n",
       "      <td>NTT Data</td>\n",
       "    </tr>\n",
       "    <tr>\n",
       "      <th>7</th>\n",
       "      <td>Junior Data Scientist</td>\n",
       "      <td>Bangalore/Bengaluru</td>\n",
       "      <td>Titan</td>\n",
       "    </tr>\n",
       "    <tr>\n",
       "      <th>8</th>\n",
       "      <td>Data Scientist</td>\n",
       "      <td>Hyderabad/Secunderabad, Pune, Bangalore/Bengaluru</td>\n",
       "      <td>Amazon</td>\n",
       "    </tr>\n",
       "    <tr>\n",
       "      <th>9</th>\n",
       "      <td>Data Scientist</td>\n",
       "      <td>Bangalore/Bengaluru</td>\n",
       "      <td>Hewlett-Packard (HP)</td>\n",
       "    </tr>\n",
       "    <tr>\n",
       "      <th>10</th>\n",
       "      <td>Data Scientist</td>\n",
       "      <td>Bangalore/Bengaluru</td>\n",
       "      <td>Shell</td>\n",
       "    </tr>\n",
       "    <tr>\n",
       "      <th>11</th>\n",
       "      <td>Data Scientist</td>\n",
       "      <td>Mumbai, Bangalore/Bengaluru</td>\n",
       "      <td>Master Mind Consultancy</td>\n",
       "    </tr>\n",
       "    <tr>\n",
       "      <th>12</th>\n",
       "      <td>Senior Data Scientist</td>\n",
       "      <td>Bangalore/Bengaluru</td>\n",
       "      <td>newscorp</td>\n",
       "    </tr>\n",
       "    <tr>\n",
       "      <th>13</th>\n",
       "      <td>Senior Data Scientist</td>\n",
       "      <td>Bangalore/Bengaluru</td>\n",
       "      <td>Walmart</td>\n",
       "    </tr>\n",
       "    <tr>\n",
       "      <th>14</th>\n",
       "      <td>Senior Data Scientist</td>\n",
       "      <td>Noida, Pune, Bangalore/Bengaluru</td>\n",
       "      <td>Precisely</td>\n",
       "    </tr>\n",
       "    <tr>\n",
       "      <th>15</th>\n",
       "      <td>Sr. Data Scientist, Digital Services Analytics</td>\n",
       "      <td>Bangalore/Bengaluru</td>\n",
       "      <td>Dell</td>\n",
       "    </tr>\n",
       "    <tr>\n",
       "      <th>16</th>\n",
       "      <td>HCL Tech Opening - Senior Data Scientist</td>\n",
       "      <td>Noida, Kolkata, Hyderabad/Secunderabad, Pune, ...</td>\n",
       "      <td>HCL</td>\n",
       "    </tr>\n",
       "    <tr>\n",
       "      <th>17</th>\n",
       "      <td>Cognitive/AI Senior Data Scientist</td>\n",
       "      <td>Bangalore/Bengaluru</td>\n",
       "      <td>IBM</td>\n",
       "    </tr>\n",
       "    <tr>\n",
       "      <th>18</th>\n",
       "      <td>Sr. Product Data Scientist</td>\n",
       "      <td>Bangalore/Bengaluru</td>\n",
       "      <td>Uber</td>\n",
       "    </tr>\n",
       "    <tr>\n",
       "      <th>19</th>\n",
       "      <td>Data Scientist II- Merchandise &amp; Discovery</td>\n",
       "      <td>Bangalore/Bengaluru</td>\n",
       "      <td>Swiggy</td>\n",
       "    </tr>\n",
       "  </tbody>\n",
       "</table>\n",
       "</div>"
      ],
      "text/plain": [
       "                                            Job-Title  \\\n",
       "0                                      Data Scientist   \n",
       "1                                      Data Scientist   \n",
       "2                         Senior/ Lead Data Scientist   \n",
       "3                            Data Scientist / Analyst   \n",
       "4     Forecasting Analyst/ Data Scientist (US Client)   \n",
       "5               Computer Vision Python Data Scientist   \n",
       "6   Excellent Opportunity For Freshers For AI/ML, ...   \n",
       "7                               Junior Data Scientist   \n",
       "8                                      Data Scientist   \n",
       "9                                      Data Scientist   \n",
       "10                                     Data Scientist   \n",
       "11                                     Data Scientist   \n",
       "12                              Senior Data Scientist   \n",
       "13                              Senior Data Scientist   \n",
       "14                              Senior Data Scientist   \n",
       "15     Sr. Data Scientist, Digital Services Analytics   \n",
       "16           HCL Tech Opening - Senior Data Scientist   \n",
       "17                 Cognitive/AI Senior Data Scientist   \n",
       "18                         Sr. Product Data Scientist   \n",
       "19         Data Scientist II- Merchandise & Discovery   \n",
       "\n",
       "                                         Job-Location             Company-Name  \n",
       "0   Pune, Gurgaon/Gurugram, Chennai, Bangalore/Ben...                HDFC Bank  \n",
       "1                                 Bangalore/Bengaluru                    Shell  \n",
       "2                                 Bangalore/Bengaluru             AmoliTalents  \n",
       "3                                 Bangalore/Bengaluru         open data fabric  \n",
       "4   Gurgaon/Gurugram, Bangalore/Bengaluru\\n(WFH du...               Concentrix  \n",
       "5   Mumbai, Hyderabad/Secunderabad, Pune, Chennai,...               OceanOfWeb  \n",
       "6   Noida, Kolkata, Hyderabad/Secunderabad, Pune, ...                 NTT Data  \n",
       "7                                 Bangalore/Bengaluru                    Titan  \n",
       "8   Hyderabad/Secunderabad, Pune, Bangalore/Bengaluru                   Amazon  \n",
       "9                                 Bangalore/Bengaluru     Hewlett-Packard (HP)  \n",
       "10                                Bangalore/Bengaluru                    Shell  \n",
       "11                        Mumbai, Bangalore/Bengaluru  Master Mind Consultancy  \n",
       "12                                Bangalore/Bengaluru                 newscorp  \n",
       "13                                Bangalore/Bengaluru                  Walmart  \n",
       "14                   Noida, Pune, Bangalore/Bengaluru                Precisely  \n",
       "15                                Bangalore/Bengaluru                     Dell  \n",
       "16  Noida, Kolkata, Hyderabad/Secunderabad, Pune, ...                      HCL  \n",
       "17                                Bangalore/Bengaluru                      IBM  \n",
       "18                                Bangalore/Bengaluru                     Uber  \n",
       "19                                Bangalore/Bengaluru                   Swiggy  "
      ]
     },
     "execution_count": 132,
     "metadata": {},
     "output_type": "execute_result"
    }
   ],
   "source": [
    "df"
   ]
  },
  {
   "cell_type": "markdown",
   "id": "398039f3",
   "metadata": {},
   "source": [
    "# Q3: In this question you have to scrape data using the filters available on the webpage as shown below"
   ]
  },
  {
   "cell_type": "code",
   "execution_count": 133,
   "id": "c1346247",
   "metadata": {},
   "outputs": [],
   "source": [
    "import pandas as pd \n",
    "import numpy as np\n",
    "from selenium import webdriver\n",
    "import warnings\n",
    "warnings.filterwarnings('ignore')"
   ]
  },
  {
   "cell_type": "code",
   "execution_count": 134,
   "id": "dd81edbf",
   "metadata": {},
   "outputs": [],
   "source": [
    "driver3=webdriver.Chrome('chromedriver.exe')"
   ]
  },
  {
   "cell_type": "code",
   "execution_count": 135,
   "id": "ea0555fa",
   "metadata": {},
   "outputs": [],
   "source": [
    "url3='https://www.naukri.com/'\n",
    "driver3.get(url3)"
   ]
  },
  {
   "cell_type": "code",
   "execution_count": 136,
   "id": "9d260608",
   "metadata": {},
   "outputs": [],
   "source": [
    "srh_job3=driver3.find_element_by_class_name('suggestor-input')"
   ]
  },
  {
   "cell_type": "code",
   "execution_count": 137,
   "id": "ba89b2ef",
   "metadata": {},
   "outputs": [
    {
     "data": {
      "text/plain": [
       "<selenium.webdriver.remote.webelement.WebElement (session=\"05263fe055f9222781612e1bd157ab7c\", element=\"c1d98e2b-7b34-4f4f-836f-9d44ef53258f\")>"
      ]
     },
     "execution_count": 137,
     "metadata": {},
     "output_type": "execute_result"
    }
   ],
   "source": [
    "srh_job3"
   ]
  },
  {
   "cell_type": "code",
   "execution_count": 138,
   "id": "884c6602",
   "metadata": {},
   "outputs": [],
   "source": [
    "srh_job3.send_keys('Data Scientist')"
   ]
  },
  {
   "cell_type": "code",
   "execution_count": 139,
   "id": "1f22d66f",
   "metadata": {},
   "outputs": [],
   "source": [
    "srh_btn3=driver3.find_element_by_class_name('qsbSubmit')\n",
    "srh_btn3.click()"
   ]
  },
  {
   "cell_type": "code",
   "execution_count": 141,
   "id": "50d61edd",
   "metadata": {},
   "outputs": [],
   "source": [
    "loc_filter=driver3.find_element_by_xpath('/html/body/div[1]/div[3]/div[2]/section[2]/div[2]/article[1]/div[1]/div[1]/ul/li[3]/span')"
   ]
  },
  {
   "cell_type": "code",
   "execution_count": 143,
   "id": "b183c86a",
   "metadata": {},
   "outputs": [],
   "source": [
    "loc_filter.click()"
   ]
  },
  {
   "cell_type": "code",
   "execution_count": 144,
   "id": "bf31ba3f",
   "metadata": {},
   "outputs": [],
   "source": [
    "sal_filter=driver3.find_element_by_xpath('/html/body/div[1]/div[3]/div[2]/section[1]/div[2]/div[4]/div[2]/div[2]/label/p/span[1]')\n",
    "sal_filter.click()"
   ]
  },
  {
   "cell_type": "code",
   "execution_count": 145,
   "id": "fef0355e",
   "metadata": {},
   "outputs": [],
   "source": [
    "job_tags2=driver3.find_elements_by_xpath('//a[@class=\"title fw500 ellipsis\"]')"
   ]
  },
  {
   "cell_type": "code",
   "execution_count": 146,
   "id": "5e24d03a",
   "metadata": {},
   "outputs": [
    {
     "data": {
      "text/plain": [
       "[<selenium.webdriver.remote.webelement.WebElement (session=\"05263fe055f9222781612e1bd157ab7c\", element=\"be08b23d-df19-4ddb-a728-4b029ee9abd1\")>,\n",
       " <selenium.webdriver.remote.webelement.WebElement (session=\"05263fe055f9222781612e1bd157ab7c\", element=\"2496573a-9c93-45ed-88b3-ae315d92c31e\")>,\n",
       " <selenium.webdriver.remote.webelement.WebElement (session=\"05263fe055f9222781612e1bd157ab7c\", element=\"7debb54c-f402-46ee-9b1c-edb1d64fa775\")>,\n",
       " <selenium.webdriver.remote.webelement.WebElement (session=\"05263fe055f9222781612e1bd157ab7c\", element=\"efdea87b-efb6-4044-94c8-c143088e4897\")>,\n",
       " <selenium.webdriver.remote.webelement.WebElement (session=\"05263fe055f9222781612e1bd157ab7c\", element=\"f974bb1b-6b58-4b42-b6ea-cd86455241cc\")>,\n",
       " <selenium.webdriver.remote.webelement.WebElement (session=\"05263fe055f9222781612e1bd157ab7c\", element=\"c139ebe5-37f7-40b4-b246-d91f75b6ea35\")>,\n",
       " <selenium.webdriver.remote.webelement.WebElement (session=\"05263fe055f9222781612e1bd157ab7c\", element=\"95119801-454f-45c2-a904-87f8e9880651\")>,\n",
       " <selenium.webdriver.remote.webelement.WebElement (session=\"05263fe055f9222781612e1bd157ab7c\", element=\"1eb5dfb1-f7d8-48c4-a63a-a936a164f975\")>,\n",
       " <selenium.webdriver.remote.webelement.WebElement (session=\"05263fe055f9222781612e1bd157ab7c\", element=\"81991725-a529-4e36-af36-d29314c87519\")>,\n",
       " <selenium.webdriver.remote.webelement.WebElement (session=\"05263fe055f9222781612e1bd157ab7c\", element=\"1ae8b460-56bc-46f5-81cb-bf74c45028a5\")>,\n",
       " <selenium.webdriver.remote.webelement.WebElement (session=\"05263fe055f9222781612e1bd157ab7c\", element=\"081059b6-0ac1-4225-b527-1271b156262f\")>,\n",
       " <selenium.webdriver.remote.webelement.WebElement (session=\"05263fe055f9222781612e1bd157ab7c\", element=\"4d104053-e95e-4a25-beed-3477c836e006\")>,\n",
       " <selenium.webdriver.remote.webelement.WebElement (session=\"05263fe055f9222781612e1bd157ab7c\", element=\"3e39522b-f231-45be-a6c7-037c086ce82b\")>,\n",
       " <selenium.webdriver.remote.webelement.WebElement (session=\"05263fe055f9222781612e1bd157ab7c\", element=\"9091221d-2d9b-4032-ac1a-cf2cba224dfb\")>,\n",
       " <selenium.webdriver.remote.webelement.WebElement (session=\"05263fe055f9222781612e1bd157ab7c\", element=\"ade3c90c-4721-43fd-a8c3-6c844a69c44f\")>,\n",
       " <selenium.webdriver.remote.webelement.WebElement (session=\"05263fe055f9222781612e1bd157ab7c\", element=\"1c1f18d2-b20e-43a9-a272-7f8798a485b2\")>,\n",
       " <selenium.webdriver.remote.webelement.WebElement (session=\"05263fe055f9222781612e1bd157ab7c\", element=\"dfb45dcd-3b7b-4435-9ff2-293ed554888b\")>,\n",
       " <selenium.webdriver.remote.webelement.WebElement (session=\"05263fe055f9222781612e1bd157ab7c\", element=\"3b5b0749-fab4-4503-9c0a-80533c339969\")>,\n",
       " <selenium.webdriver.remote.webelement.WebElement (session=\"05263fe055f9222781612e1bd157ab7c\", element=\"4d3ab363-ce22-4694-a375-4655efd2a8b4\")>,\n",
       " <selenium.webdriver.remote.webelement.WebElement (session=\"05263fe055f9222781612e1bd157ab7c\", element=\"89764420-d24f-495f-ad2c-34dc592bbc89\")>]"
      ]
     },
     "execution_count": 146,
     "metadata": {},
     "output_type": "execute_result"
    }
   ],
   "source": [
    "job_tags2"
   ]
  },
  {
   "cell_type": "code",
   "execution_count": 147,
   "id": "75a3bbe2",
   "metadata": {},
   "outputs": [
    {
     "data": {
      "text/plain": [
       "20"
      ]
     },
     "execution_count": 147,
     "metadata": {},
     "output_type": "execute_result"
    }
   ],
   "source": [
    "len(job_tags2)"
   ]
  },
  {
   "cell_type": "code",
   "execution_count": 148,
   "id": "c5736aab",
   "metadata": {},
   "outputs": [
    {
     "data": {
      "text/plain": [
       "['Excellent Opportunity For Freshers For AI/ML, Data Scientist, BI, QA',\n",
       " 'Looking For Senior / Lead Data Scientist with Cyient Ltd at Hyderabad.',\n",
       " 'Sr. Data Scientist, Digital Services Analytics',\n",
       " 'Lead - Data Scientist / Analytics',\n",
       " 'Job Openings - Freshers, Experienced For Data Scientist Role',\n",
       " 'Associate Data Scientist',\n",
       " 'Data Scientist',\n",
       " 'Junior Data Analyst/ Scientist- Fresher Position',\n",
       " 'Data Analyst / Data Scientist / Business Analytics / Fresher - MNC',\n",
       " 'Associate Data Scientist']"
      ]
     },
     "execution_count": 148,
     "metadata": {},
     "output_type": "execute_result"
    }
   ],
   "source": [
    "job_head=[]\n",
    "for i in job_tags2:\n",
    "    job_head.append(i.text)\n",
    "    job_head=job_head[0:10]\n",
    "    \n",
    "job_head "
   ]
  },
  {
   "cell_type": "code",
   "execution_count": 149,
   "id": "1b57f0e3",
   "metadata": {},
   "outputs": [],
   "source": [
    "job_loc3=driver3.find_elements_by_xpath('//li[@class=\"fleft grey-text br2 placeHolderLi location\"]')"
   ]
  },
  {
   "cell_type": "code",
   "execution_count": 150,
   "id": "5fc1bccd",
   "metadata": {},
   "outputs": [
    {
     "data": {
      "text/plain": [
       "[<selenium.webdriver.remote.webelement.WebElement (session=\"05263fe055f9222781612e1bd157ab7c\", element=\"3d4ce84d-4aef-4295-9fce-fc1c2055421d\")>,\n",
       " <selenium.webdriver.remote.webelement.WebElement (session=\"05263fe055f9222781612e1bd157ab7c\", element=\"30f45a62-37a0-4b97-ad9a-1b6df88f6246\")>,\n",
       " <selenium.webdriver.remote.webelement.WebElement (session=\"05263fe055f9222781612e1bd157ab7c\", element=\"f12a8f75-e67b-4b29-8b8b-2859fc7f9ba0\")>,\n",
       " <selenium.webdriver.remote.webelement.WebElement (session=\"05263fe055f9222781612e1bd157ab7c\", element=\"c95ffec9-fb7e-4be7-b963-c6d07ea6a848\")>,\n",
       " <selenium.webdriver.remote.webelement.WebElement (session=\"05263fe055f9222781612e1bd157ab7c\", element=\"59f8d5df-5379-4d7f-bed1-84181e2d4e53\")>,\n",
       " <selenium.webdriver.remote.webelement.WebElement (session=\"05263fe055f9222781612e1bd157ab7c\", element=\"6cc3ced2-2977-4a2a-ac35-acfaa61d5473\")>,\n",
       " <selenium.webdriver.remote.webelement.WebElement (session=\"05263fe055f9222781612e1bd157ab7c\", element=\"019bc19e-80ce-44af-b0f9-687cfb2109cb\")>,\n",
       " <selenium.webdriver.remote.webelement.WebElement (session=\"05263fe055f9222781612e1bd157ab7c\", element=\"1c406f6f-695a-4132-b3a0-6c9e0f205c24\")>,\n",
       " <selenium.webdriver.remote.webelement.WebElement (session=\"05263fe055f9222781612e1bd157ab7c\", element=\"060463d0-0915-4aea-820e-70ffcb5fca2f\")>,\n",
       " <selenium.webdriver.remote.webelement.WebElement (session=\"05263fe055f9222781612e1bd157ab7c\", element=\"3773e091-005f-41dc-a8d0-6a2da508cef0\")>,\n",
       " <selenium.webdriver.remote.webelement.WebElement (session=\"05263fe055f9222781612e1bd157ab7c\", element=\"e82afc2b-42f9-45aa-80ec-04167b46484d\")>,\n",
       " <selenium.webdriver.remote.webelement.WebElement (session=\"05263fe055f9222781612e1bd157ab7c\", element=\"1919daa8-0a70-4732-8f26-f5a28b9b9e5c\")>,\n",
       " <selenium.webdriver.remote.webelement.WebElement (session=\"05263fe055f9222781612e1bd157ab7c\", element=\"8f54bb1b-9227-4de0-a69a-bf2736d9a3ff\")>,\n",
       " <selenium.webdriver.remote.webelement.WebElement (session=\"05263fe055f9222781612e1bd157ab7c\", element=\"48e84a13-25fb-4eed-9457-ef7846a8aaf7\")>,\n",
       " <selenium.webdriver.remote.webelement.WebElement (session=\"05263fe055f9222781612e1bd157ab7c\", element=\"f3030bc3-6348-4543-81ab-8d487fa503a3\")>,\n",
       " <selenium.webdriver.remote.webelement.WebElement (session=\"05263fe055f9222781612e1bd157ab7c\", element=\"315949b2-c086-4d5e-afd7-792ab55c32d6\")>,\n",
       " <selenium.webdriver.remote.webelement.WebElement (session=\"05263fe055f9222781612e1bd157ab7c\", element=\"efff6f77-ef4c-48d9-a94d-727a5b982a66\")>,\n",
       " <selenium.webdriver.remote.webelement.WebElement (session=\"05263fe055f9222781612e1bd157ab7c\", element=\"326378fc-91dd-48e4-9e1e-66e8da5b6173\")>,\n",
       " <selenium.webdriver.remote.webelement.WebElement (session=\"05263fe055f9222781612e1bd157ab7c\", element=\"c8d6e5bd-4905-4c98-bc1d-645cf8d4fe58\")>,\n",
       " <selenium.webdriver.remote.webelement.WebElement (session=\"05263fe055f9222781612e1bd157ab7c\", element=\"e0d2cb34-3be3-439c-a310-5c7af0d06d91\")>]"
      ]
     },
     "execution_count": 150,
     "metadata": {},
     "output_type": "execute_result"
    }
   ],
   "source": [
    "job_loc3"
   ]
  },
  {
   "cell_type": "code",
   "execution_count": 151,
   "id": "f97ed07a",
   "metadata": {},
   "outputs": [
    {
     "data": {
      "text/plain": [
       "20"
      ]
     },
     "execution_count": 151,
     "metadata": {},
     "output_type": "execute_result"
    }
   ],
   "source": [
    "len(job_loc3)"
   ]
  },
  {
   "cell_type": "code",
   "execution_count": 152,
   "id": "a317b549",
   "metadata": {},
   "outputs": [
    {
     "data": {
      "text/plain": [
       "['Noida, Kolkata, Hyderabad/Secunderabad, Pune, Chennai, Bangalore/Bengaluru, Delhi / NCR, Mumbai (All Areas)\\n(WFH during Covid)',\n",
       " 'Hyderabad/Secunderabad',\n",
       " 'Bangalore/Bengaluru',\n",
       " 'Hyderabad/Secunderabad',\n",
       " 'Hyderabad/Secunderabad',\n",
       " 'Chennai',\n",
       " 'Bangalore/Bengaluru',\n",
       " 'Kolkata, Hyderabad/Secunderabad, Pune, Ahmedabad, Chennai, Bangalore/Bengaluru, Delhi / NCR, Mumbai (All Areas)\\n(WFH during Covid)',\n",
       " 'Noida, New Delhi, Delhi / NCR',\n",
       " 'Chennai']"
      ]
     },
     "execution_count": 152,
     "metadata": {},
     "output_type": "execute_result"
    }
   ],
   "source": [
    "job_location=[]\n",
    "for i in job_loc3:\n",
    "    job_location.append(i.text)\n",
    "    job_location=job_location[0:10]\n",
    "    \n",
    "job_location "
   ]
  },
  {
   "cell_type": "code",
   "execution_count": 153,
   "id": "0ea797ca",
   "metadata": {},
   "outputs": [],
   "source": [
    "comp_name3=driver3.find_elements_by_xpath('//a[@class=\"subTitle ellipsis fleft\"]')"
   ]
  },
  {
   "cell_type": "code",
   "execution_count": 154,
   "id": "fbc63e3e",
   "metadata": {},
   "outputs": [
    {
     "data": {
      "text/plain": [
       "[<selenium.webdriver.remote.webelement.WebElement (session=\"05263fe055f9222781612e1bd157ab7c\", element=\"b6608f1f-33d9-4ee1-ac5b-5ac3c8dbcdd6\")>,\n",
       " <selenium.webdriver.remote.webelement.WebElement (session=\"05263fe055f9222781612e1bd157ab7c\", element=\"ef3187ae-8b77-45d0-a425-ecad288824b8\")>,\n",
       " <selenium.webdriver.remote.webelement.WebElement (session=\"05263fe055f9222781612e1bd157ab7c\", element=\"9dfc41b3-9377-4db8-8e68-29ae5d11b2cd\")>,\n",
       " <selenium.webdriver.remote.webelement.WebElement (session=\"05263fe055f9222781612e1bd157ab7c\", element=\"b9d0e336-e492-4263-b62e-e30d97b7e812\")>,\n",
       " <selenium.webdriver.remote.webelement.WebElement (session=\"05263fe055f9222781612e1bd157ab7c\", element=\"3bd52fe4-8da5-4b2e-97c7-7dbcc785b102\")>,\n",
       " <selenium.webdriver.remote.webelement.WebElement (session=\"05263fe055f9222781612e1bd157ab7c\", element=\"4e1345ee-719e-44c3-b375-3daf929b9e94\")>,\n",
       " <selenium.webdriver.remote.webelement.WebElement (session=\"05263fe055f9222781612e1bd157ab7c\", element=\"89e26e48-bc2a-43bc-9211-118205846e3a\")>,\n",
       " <selenium.webdriver.remote.webelement.WebElement (session=\"05263fe055f9222781612e1bd157ab7c\", element=\"1dea5da3-3aa5-4575-82a0-c036f822b7aa\")>,\n",
       " <selenium.webdriver.remote.webelement.WebElement (session=\"05263fe055f9222781612e1bd157ab7c\", element=\"467200a2-c54b-46aa-84d3-e988e642b086\")>,\n",
       " <selenium.webdriver.remote.webelement.WebElement (session=\"05263fe055f9222781612e1bd157ab7c\", element=\"d2055a7e-c73c-42f4-96aa-9db150706674\")>,\n",
       " <selenium.webdriver.remote.webelement.WebElement (session=\"05263fe055f9222781612e1bd157ab7c\", element=\"e6b04053-85f6-4477-b753-1cdba57dfdbb\")>,\n",
       " <selenium.webdriver.remote.webelement.WebElement (session=\"05263fe055f9222781612e1bd157ab7c\", element=\"a9b98e1c-5c69-4e75-801b-61552cf752a0\")>,\n",
       " <selenium.webdriver.remote.webelement.WebElement (session=\"05263fe055f9222781612e1bd157ab7c\", element=\"157f8853-aaa3-4e04-ab81-fa72b6132853\")>,\n",
       " <selenium.webdriver.remote.webelement.WebElement (session=\"05263fe055f9222781612e1bd157ab7c\", element=\"347958c3-bb0e-417c-a1bd-fb55ae52c458\")>,\n",
       " <selenium.webdriver.remote.webelement.WebElement (session=\"05263fe055f9222781612e1bd157ab7c\", element=\"cf7d3401-8426-4ad9-add5-5c9787304cd7\")>,\n",
       " <selenium.webdriver.remote.webelement.WebElement (session=\"05263fe055f9222781612e1bd157ab7c\", element=\"6b353d0b-649d-47bb-8f99-c0e1a6a85e29\")>,\n",
       " <selenium.webdriver.remote.webelement.WebElement (session=\"05263fe055f9222781612e1bd157ab7c\", element=\"ee29a3a4-ee54-4ae6-82b4-36cfc356e4e3\")>,\n",
       " <selenium.webdriver.remote.webelement.WebElement (session=\"05263fe055f9222781612e1bd157ab7c\", element=\"8a82f30a-a011-45e2-a4f0-c50f601c7b09\")>,\n",
       " <selenium.webdriver.remote.webelement.WebElement (session=\"05263fe055f9222781612e1bd157ab7c\", element=\"2d4832ee-f309-4119-bb7c-cb51c213e7ff\")>,\n",
       " <selenium.webdriver.remote.webelement.WebElement (session=\"05263fe055f9222781612e1bd157ab7c\", element=\"ec898020-3298-4406-bede-294f185efd25\")>]"
      ]
     },
     "execution_count": 154,
     "metadata": {},
     "output_type": "execute_result"
    }
   ],
   "source": [
    "comp_name3"
   ]
  },
  {
   "cell_type": "code",
   "execution_count": 155,
   "id": "b613f86f",
   "metadata": {},
   "outputs": [
    {
     "data": {
      "text/plain": [
       "20"
      ]
     },
     "execution_count": 155,
     "metadata": {},
     "output_type": "execute_result"
    }
   ],
   "source": [
    "len(comp_name3)"
   ]
  },
  {
   "cell_type": "code",
   "execution_count": 156,
   "id": "9b117a91",
   "metadata": {},
   "outputs": [
    {
     "data": {
      "text/plain": [
       "['NTT Data',\n",
       " 'Cyient',\n",
       " 'Dell',\n",
       " 'Sutherland Global Services Inc',\n",
       " 'GlobalData',\n",
       " 'Shell',\n",
       " 'Infosys',\n",
       " 'Sejal Consulting Hub',\n",
       " 'GABA Consultancy services',\n",
       " 'Shell']"
      ]
     },
     "execution_count": 156,
     "metadata": {},
     "output_type": "execute_result"
    }
   ],
   "source": [
    "comp_location=[]\n",
    "for i in comp_name3:\n",
    "    comp_location.append(i.text)\n",
    "    comp_location=comp_location[0:10]\n",
    "    \n",
    "comp_location"
   ]
  },
  {
   "cell_type": "code",
   "execution_count": 157,
   "id": "df69e299",
   "metadata": {},
   "outputs": [
    {
     "data": {
      "text/plain": [
       "[<selenium.webdriver.remote.webelement.WebElement (session=\"05263fe055f9222781612e1bd157ab7c\", element=\"88e8cf33-26e4-4842-aebc-91f5c543bbdc\")>,\n",
       " <selenium.webdriver.remote.webelement.WebElement (session=\"05263fe055f9222781612e1bd157ab7c\", element=\"1117fa9a-fe28-48f5-b699-ccc7d1654eb3\")>,\n",
       " <selenium.webdriver.remote.webelement.WebElement (session=\"05263fe055f9222781612e1bd157ab7c\", element=\"4b3be318-4232-4d47-ae95-b059f85c7a84\")>,\n",
       " <selenium.webdriver.remote.webelement.WebElement (session=\"05263fe055f9222781612e1bd157ab7c\", element=\"25e4996b-ab9d-4f12-8cd0-538e41be37e7\")>,\n",
       " <selenium.webdriver.remote.webelement.WebElement (session=\"05263fe055f9222781612e1bd157ab7c\", element=\"5937e033-e196-4acd-8a09-62911929845d\")>,\n",
       " <selenium.webdriver.remote.webelement.WebElement (session=\"05263fe055f9222781612e1bd157ab7c\", element=\"ef1da225-f2e6-4ef3-a01e-3c00c62d544b\")>,\n",
       " <selenium.webdriver.remote.webelement.WebElement (session=\"05263fe055f9222781612e1bd157ab7c\", element=\"62114e4d-cfcc-4dc1-bba0-1606b02c8fb4\")>,\n",
       " <selenium.webdriver.remote.webelement.WebElement (session=\"05263fe055f9222781612e1bd157ab7c\", element=\"2d75dc66-3489-4989-9a2e-f02901725b23\")>,\n",
       " <selenium.webdriver.remote.webelement.WebElement (session=\"05263fe055f9222781612e1bd157ab7c\", element=\"fb00fd4e-9102-441d-bbef-d7f2e551d6cd\")>,\n",
       " <selenium.webdriver.remote.webelement.WebElement (session=\"05263fe055f9222781612e1bd157ab7c\", element=\"73150195-d225-435b-97cd-fdf82372e941\")>,\n",
       " <selenium.webdriver.remote.webelement.WebElement (session=\"05263fe055f9222781612e1bd157ab7c\", element=\"1d6e8744-46a9-478b-8105-7337668d46b5\")>,\n",
       " <selenium.webdriver.remote.webelement.WebElement (session=\"05263fe055f9222781612e1bd157ab7c\", element=\"4d4e4d79-b7d6-4254-9065-af7a6eba1130\")>,\n",
       " <selenium.webdriver.remote.webelement.WebElement (session=\"05263fe055f9222781612e1bd157ab7c\", element=\"80032d08-3750-4af9-8583-9ad175e24232\")>,\n",
       " <selenium.webdriver.remote.webelement.WebElement (session=\"05263fe055f9222781612e1bd157ab7c\", element=\"aab9ac1a-08f1-4faa-a2fb-ebe0d4a7df6e\")>,\n",
       " <selenium.webdriver.remote.webelement.WebElement (session=\"05263fe055f9222781612e1bd157ab7c\", element=\"e0b956c1-d492-4433-bcf6-d0040ee38387\")>,\n",
       " <selenium.webdriver.remote.webelement.WebElement (session=\"05263fe055f9222781612e1bd157ab7c\", element=\"eb544d45-c005-4136-946d-f88c807beae0\")>,\n",
       " <selenium.webdriver.remote.webelement.WebElement (session=\"05263fe055f9222781612e1bd157ab7c\", element=\"9e68b784-fc8d-435d-80b2-193a08c4b666\")>,\n",
       " <selenium.webdriver.remote.webelement.WebElement (session=\"05263fe055f9222781612e1bd157ab7c\", element=\"d2814fed-9f41-4038-bbc1-4a8aca5da73a\")>,\n",
       " <selenium.webdriver.remote.webelement.WebElement (session=\"05263fe055f9222781612e1bd157ab7c\", element=\"92576d01-4f68-49fc-b35d-388388c0d185\")>,\n",
       " <selenium.webdriver.remote.webelement.WebElement (session=\"05263fe055f9222781612e1bd157ab7c\", element=\"890896d9-cd9d-4215-9446-d4c809dbfc39\")>]"
      ]
     },
     "execution_count": 157,
     "metadata": {},
     "output_type": "execute_result"
    }
   ],
   "source": [
    "expirence=driver3.find_elements_by_xpath('//span[contains(@title,\"Yrs\")]')\n",
    "expirence"
   ]
  },
  {
   "cell_type": "code",
   "execution_count": 158,
   "id": "892dec52",
   "metadata": {},
   "outputs": [
    {
     "data": {
      "text/plain": [
       "20"
      ]
     },
     "execution_count": 158,
     "metadata": {},
     "output_type": "execute_result"
    }
   ],
   "source": [
    "len(expirence)"
   ]
  },
  {
   "cell_type": "code",
   "execution_count": 159,
   "id": "88abbc17",
   "metadata": {},
   "outputs": [
    {
     "data": {
      "text/plain": [
       "['0-0 Yrs',\n",
       " '5-10 Yrs',\n",
       " '6-11 Yrs',\n",
       " '3-6 Yrs',\n",
       " '0-2 Yrs',\n",
       " '2-7 Yrs',\n",
       " '2-7 Yrs',\n",
       " '0-3 Yrs',\n",
       " '0-0 Yrs',\n",
       " '2-7 Yrs']"
      ]
     },
     "execution_count": 159,
     "metadata": {},
     "output_type": "execute_result"
    }
   ],
   "source": [
    "exp_req=[]\n",
    "for i in expirence:\n",
    "    exp_req.append(i.text)\n",
    "    exp_req=exp_req[0:10]\n",
    "    \n",
    "exp_req"
   ]
  },
  {
   "cell_type": "code",
   "execution_count": 160,
   "id": "5c6518cd",
   "metadata": {},
   "outputs": [],
   "source": [
    "df=pd.DataFrame({'Job-Title':job_head,'Job-Location':job_location,'Company-Name':comp_location,'Expirence-Required':exp_req})"
   ]
  },
  {
   "cell_type": "code",
   "execution_count": 161,
   "id": "995ddaac",
   "metadata": {},
   "outputs": [
    {
     "data": {
      "text/html": [
       "<div>\n",
       "<style scoped>\n",
       "    .dataframe tbody tr th:only-of-type {\n",
       "        vertical-align: middle;\n",
       "    }\n",
       "\n",
       "    .dataframe tbody tr th {\n",
       "        vertical-align: top;\n",
       "    }\n",
       "\n",
       "    .dataframe thead th {\n",
       "        text-align: right;\n",
       "    }\n",
       "</style>\n",
       "<table border=\"1\" class=\"dataframe\">\n",
       "  <thead>\n",
       "    <tr style=\"text-align: right;\">\n",
       "      <th></th>\n",
       "      <th>Job-Title</th>\n",
       "      <th>Job-Location</th>\n",
       "      <th>Company-Name</th>\n",
       "      <th>Expirence-Required</th>\n",
       "    </tr>\n",
       "  </thead>\n",
       "  <tbody>\n",
       "    <tr>\n",
       "      <th>0</th>\n",
       "      <td>Excellent Opportunity For Freshers For AI/ML, ...</td>\n",
       "      <td>Noida, Kolkata, Hyderabad/Secunderabad, Pune, ...</td>\n",
       "      <td>NTT Data</td>\n",
       "      <td>0-0 Yrs</td>\n",
       "    </tr>\n",
       "    <tr>\n",
       "      <th>1</th>\n",
       "      <td>Looking For Senior / Lead Data Scientist with ...</td>\n",
       "      <td>Hyderabad/Secunderabad</td>\n",
       "      <td>Cyient</td>\n",
       "      <td>5-10 Yrs</td>\n",
       "    </tr>\n",
       "    <tr>\n",
       "      <th>2</th>\n",
       "      <td>Sr. Data Scientist, Digital Services Analytics</td>\n",
       "      <td>Bangalore/Bengaluru</td>\n",
       "      <td>Dell</td>\n",
       "      <td>6-11 Yrs</td>\n",
       "    </tr>\n",
       "    <tr>\n",
       "      <th>3</th>\n",
       "      <td>Lead - Data Scientist / Analytics</td>\n",
       "      <td>Hyderabad/Secunderabad</td>\n",
       "      <td>Sutherland Global Services Inc</td>\n",
       "      <td>3-6 Yrs</td>\n",
       "    </tr>\n",
       "    <tr>\n",
       "      <th>4</th>\n",
       "      <td>Job Openings - Freshers, Experienced For Data ...</td>\n",
       "      <td>Hyderabad/Secunderabad</td>\n",
       "      <td>GlobalData</td>\n",
       "      <td>0-2 Yrs</td>\n",
       "    </tr>\n",
       "    <tr>\n",
       "      <th>5</th>\n",
       "      <td>Associate Data Scientist</td>\n",
       "      <td>Chennai</td>\n",
       "      <td>Shell</td>\n",
       "      <td>2-7 Yrs</td>\n",
       "    </tr>\n",
       "    <tr>\n",
       "      <th>6</th>\n",
       "      <td>Data Scientist</td>\n",
       "      <td>Bangalore/Bengaluru</td>\n",
       "      <td>Infosys</td>\n",
       "      <td>2-7 Yrs</td>\n",
       "    </tr>\n",
       "    <tr>\n",
       "      <th>7</th>\n",
       "      <td>Junior Data Analyst/ Scientist- Fresher Position</td>\n",
       "      <td>Kolkata, Hyderabad/Secunderabad, Pune, Ahmedab...</td>\n",
       "      <td>Sejal Consulting Hub</td>\n",
       "      <td>0-3 Yrs</td>\n",
       "    </tr>\n",
       "    <tr>\n",
       "      <th>8</th>\n",
       "      <td>Data Analyst / Data Scientist / Business Analy...</td>\n",
       "      <td>Noida, New Delhi, Delhi / NCR</td>\n",
       "      <td>GABA Consultancy services</td>\n",
       "      <td>0-0 Yrs</td>\n",
       "    </tr>\n",
       "    <tr>\n",
       "      <th>9</th>\n",
       "      <td>Associate Data Scientist</td>\n",
       "      <td>Chennai</td>\n",
       "      <td>Shell</td>\n",
       "      <td>2-7 Yrs</td>\n",
       "    </tr>\n",
       "  </tbody>\n",
       "</table>\n",
       "</div>"
      ],
      "text/plain": [
       "                                           Job-Title  \\\n",
       "0  Excellent Opportunity For Freshers For AI/ML, ...   \n",
       "1  Looking For Senior / Lead Data Scientist with ...   \n",
       "2     Sr. Data Scientist, Digital Services Analytics   \n",
       "3                  Lead - Data Scientist / Analytics   \n",
       "4  Job Openings - Freshers, Experienced For Data ...   \n",
       "5                           Associate Data Scientist   \n",
       "6                                     Data Scientist   \n",
       "7   Junior Data Analyst/ Scientist- Fresher Position   \n",
       "8  Data Analyst / Data Scientist / Business Analy...   \n",
       "9                           Associate Data Scientist   \n",
       "\n",
       "                                        Job-Location  \\\n",
       "0  Noida, Kolkata, Hyderabad/Secunderabad, Pune, ...   \n",
       "1                             Hyderabad/Secunderabad   \n",
       "2                                Bangalore/Bengaluru   \n",
       "3                             Hyderabad/Secunderabad   \n",
       "4                             Hyderabad/Secunderabad   \n",
       "5                                            Chennai   \n",
       "6                                Bangalore/Bengaluru   \n",
       "7  Kolkata, Hyderabad/Secunderabad, Pune, Ahmedab...   \n",
       "8                      Noida, New Delhi, Delhi / NCR   \n",
       "9                                            Chennai   \n",
       "\n",
       "                     Company-Name Expirence-Required  \n",
       "0                        NTT Data            0-0 Yrs  \n",
       "1                          Cyient           5-10 Yrs  \n",
       "2                            Dell           6-11 Yrs  \n",
       "3  Sutherland Global Services Inc            3-6 Yrs  \n",
       "4                      GlobalData            0-2 Yrs  \n",
       "5                           Shell            2-7 Yrs  \n",
       "6                         Infosys            2-7 Yrs  \n",
       "7            Sejal Consulting Hub            0-3 Yrs  \n",
       "8       GABA Consultancy services            0-0 Yrs  \n",
       "9                           Shell            2-7 Yrs  "
      ]
     },
     "execution_count": 161,
     "metadata": {},
     "output_type": "execute_result"
    }
   ],
   "source": [
    "df"
   ]
  },
  {
   "cell_type": "markdown",
   "id": "c677650b",
   "metadata": {},
   "source": [
    "# Q4: Scrape data of first 100 sunglasses listings on flipkart.com. You have to scrape four attributes: 1. Brand 2. Product Description 3. Price"
   ]
  },
  {
   "cell_type": "code",
   "execution_count": 186,
   "id": "c0e21a2d",
   "metadata": {},
   "outputs": [],
   "source": [
    "driver4=webdriver.Chrome('chromedriver.exe')"
   ]
  },
  {
   "cell_type": "code",
   "execution_count": 187,
   "id": "81f3cf6c",
   "metadata": {},
   "outputs": [],
   "source": [
    "url4='https://www.flipkart.com/'\n",
    "driver4.get(url4)"
   ]
  },
  {
   "cell_type": "code",
   "execution_count": 188,
   "id": "4301947a",
   "metadata": {},
   "outputs": [],
   "source": [
    "srh_glass=driver4.find_element_by_class_name('_3704LK')"
   ]
  },
  {
   "cell_type": "code",
   "execution_count": 189,
   "id": "d2413edf",
   "metadata": {},
   "outputs": [
    {
     "data": {
      "text/plain": [
       "<selenium.webdriver.remote.webelement.WebElement (session=\"097acb3de4f78fd0b4bc5d601f10cab0\", element=\"370c7714-7da8-4a2d-9ed6-18d1036004ca\")>"
      ]
     },
     "execution_count": 189,
     "metadata": {},
     "output_type": "execute_result"
    }
   ],
   "source": [
    "srh_glass"
   ]
  },
  {
   "cell_type": "code",
   "execution_count": 190,
   "id": "cd7c3011",
   "metadata": {},
   "outputs": [],
   "source": [
    "srh_glass.send_keys('sunglasses')"
   ]
  },
  {
   "cell_type": "code",
   "execution_count": 191,
   "id": "41a020f3",
   "metadata": {},
   "outputs": [],
   "source": [
    "srh_btn4=driver4.find_element_by_class_name('L0Z3Pu')"
   ]
  },
  {
   "cell_type": "code",
   "execution_count": 193,
   "id": "e1438dfe",
   "metadata": {},
   "outputs": [],
   "source": [
    "srh_btn4.click()"
   ]
  },
  {
   "cell_type": "code",
   "execution_count": 194,
   "id": "9c37e1d8",
   "metadata": {},
   "outputs": [],
   "source": [
    "brand=driver4.find_element_by_class_name('_2WkVRV')"
   ]
  },
  {
   "cell_type": "code",
   "execution_count": 195,
   "id": "51a82cd6",
   "metadata": {},
   "outputs": [
    {
     "data": {
      "text/plain": [
       "<selenium.webdriver.remote.webelement.WebElement (session=\"097acb3de4f78fd0b4bc5d601f10cab0\", element=\"cca01b28-3218-4811-afe1-e63ff6b8b6f6\")>"
      ]
     },
     "execution_count": 195,
     "metadata": {},
     "output_type": "execute_result"
    }
   ],
   "source": [
    "brand"
   ]
  },
  {
   "cell_type": "code",
   "execution_count": 196,
   "id": "dd4665e9",
   "metadata": {},
   "outputs": [
    {
     "data": {
      "text/plain": [
       "'ROYAL SON'"
      ]
     },
     "execution_count": 196,
     "metadata": {},
     "output_type": "execute_result"
    }
   ],
   "source": [
    "brand.text"
   ]
  },
  {
   "cell_type": "code",
   "execution_count": 197,
   "id": "060c1672",
   "metadata": {},
   "outputs": [],
   "source": [
    "page_brand=driver4.find_elements_by_xpath('//div[@class=\"_2WkVRV\"]')"
   ]
  },
  {
   "cell_type": "code",
   "execution_count": 198,
   "id": "472f72dc",
   "metadata": {},
   "outputs": [
    {
     "data": {
      "text/plain": [
       "[<selenium.webdriver.remote.webelement.WebElement (session=\"097acb3de4f78fd0b4bc5d601f10cab0\", element=\"cca01b28-3218-4811-afe1-e63ff6b8b6f6\")>,\n",
       " <selenium.webdriver.remote.webelement.WebElement (session=\"097acb3de4f78fd0b4bc5d601f10cab0\", element=\"515c1377-fffe-4766-89c4-33ac4df4a250\")>,\n",
       " <selenium.webdriver.remote.webelement.WebElement (session=\"097acb3de4f78fd0b4bc5d601f10cab0\", element=\"6acdac1c-4a9f-444d-91e7-d46c8c425f9b\")>,\n",
       " <selenium.webdriver.remote.webelement.WebElement (session=\"097acb3de4f78fd0b4bc5d601f10cab0\", element=\"0ad5bf67-4159-468a-8dbd-878d8d199921\")>,\n",
       " <selenium.webdriver.remote.webelement.WebElement (session=\"097acb3de4f78fd0b4bc5d601f10cab0\", element=\"c78a36fd-a9d1-41fa-844d-99d92d9b782e\")>,\n",
       " <selenium.webdriver.remote.webelement.WebElement (session=\"097acb3de4f78fd0b4bc5d601f10cab0\", element=\"230fa699-c27c-4cf5-bc6b-4e56f80c022a\")>,\n",
       " <selenium.webdriver.remote.webelement.WebElement (session=\"097acb3de4f78fd0b4bc5d601f10cab0\", element=\"820020cf-2da1-47ef-bbb7-7a97da469054\")>,\n",
       " <selenium.webdriver.remote.webelement.WebElement (session=\"097acb3de4f78fd0b4bc5d601f10cab0\", element=\"948a4080-c37b-4a70-b00c-33cc8423b351\")>,\n",
       " <selenium.webdriver.remote.webelement.WebElement (session=\"097acb3de4f78fd0b4bc5d601f10cab0\", element=\"6f18b8cf-0d9c-428f-901d-8e52e3b790af\")>,\n",
       " <selenium.webdriver.remote.webelement.WebElement (session=\"097acb3de4f78fd0b4bc5d601f10cab0\", element=\"578e709d-2c1c-4bba-a807-11579ad75814\")>,\n",
       " <selenium.webdriver.remote.webelement.WebElement (session=\"097acb3de4f78fd0b4bc5d601f10cab0\", element=\"c94fe5b3-4e0a-4817-b2f0-79c9ab744f5e\")>,\n",
       " <selenium.webdriver.remote.webelement.WebElement (session=\"097acb3de4f78fd0b4bc5d601f10cab0\", element=\"be070b0c-e47a-45dc-983a-86d8f2622aa1\")>,\n",
       " <selenium.webdriver.remote.webelement.WebElement (session=\"097acb3de4f78fd0b4bc5d601f10cab0\", element=\"8168f829-471c-4566-b5d8-2c78644ee24a\")>,\n",
       " <selenium.webdriver.remote.webelement.WebElement (session=\"097acb3de4f78fd0b4bc5d601f10cab0\", element=\"86de1a1f-a93e-41de-af87-cb8122f1e350\")>,\n",
       " <selenium.webdriver.remote.webelement.WebElement (session=\"097acb3de4f78fd0b4bc5d601f10cab0\", element=\"d0f3ffdb-cc6d-40b4-9223-193bb1dcd532\")>,\n",
       " <selenium.webdriver.remote.webelement.WebElement (session=\"097acb3de4f78fd0b4bc5d601f10cab0\", element=\"641d726d-63c0-4850-a1bd-ff814e28a6de\")>,\n",
       " <selenium.webdriver.remote.webelement.WebElement (session=\"097acb3de4f78fd0b4bc5d601f10cab0\", element=\"dbc4d1f6-b7f0-4efb-86c4-2eb4b61c2e72\")>,\n",
       " <selenium.webdriver.remote.webelement.WebElement (session=\"097acb3de4f78fd0b4bc5d601f10cab0\", element=\"a6b062ad-4d3c-4e70-a561-056eb485bcb0\")>,\n",
       " <selenium.webdriver.remote.webelement.WebElement (session=\"097acb3de4f78fd0b4bc5d601f10cab0\", element=\"f18305ab-352b-4d70-8781-1ff0628996d6\")>,\n",
       " <selenium.webdriver.remote.webelement.WebElement (session=\"097acb3de4f78fd0b4bc5d601f10cab0\", element=\"99f34cad-1e52-45e9-b13a-11f145d1479f\")>,\n",
       " <selenium.webdriver.remote.webelement.WebElement (session=\"097acb3de4f78fd0b4bc5d601f10cab0\", element=\"1e221bda-d4bf-4a9c-ba42-6c21fe2ba4d5\")>,\n",
       " <selenium.webdriver.remote.webelement.WebElement (session=\"097acb3de4f78fd0b4bc5d601f10cab0\", element=\"b9ff54e8-d1ce-4c7c-863d-bd15d1a7cd36\")>,\n",
       " <selenium.webdriver.remote.webelement.WebElement (session=\"097acb3de4f78fd0b4bc5d601f10cab0\", element=\"15074725-45f3-4b41-aa58-f4c065fc4851\")>,\n",
       " <selenium.webdriver.remote.webelement.WebElement (session=\"097acb3de4f78fd0b4bc5d601f10cab0\", element=\"97c8d193-bd3c-4bf9-8ab4-b65c4e2b948c\")>,\n",
       " <selenium.webdriver.remote.webelement.WebElement (session=\"097acb3de4f78fd0b4bc5d601f10cab0\", element=\"5036117c-45a6-4f75-80c6-65123458ebe0\")>,\n",
       " <selenium.webdriver.remote.webelement.WebElement (session=\"097acb3de4f78fd0b4bc5d601f10cab0\", element=\"89126e0a-0fd6-4345-b25f-f2e78c6ec13b\")>,\n",
       " <selenium.webdriver.remote.webelement.WebElement (session=\"097acb3de4f78fd0b4bc5d601f10cab0\", element=\"a5baa034-ccfa-4a97-9f4b-a240bf66a924\")>,\n",
       " <selenium.webdriver.remote.webelement.WebElement (session=\"097acb3de4f78fd0b4bc5d601f10cab0\", element=\"7ff42e5c-54bc-4187-b7bd-689332bcf692\")>,\n",
       " <selenium.webdriver.remote.webelement.WebElement (session=\"097acb3de4f78fd0b4bc5d601f10cab0\", element=\"70f5633f-ea68-4274-93bd-f961ee81602c\")>,\n",
       " <selenium.webdriver.remote.webelement.WebElement (session=\"097acb3de4f78fd0b4bc5d601f10cab0\", element=\"ab728f6f-f1df-434e-80af-53bce48a56ec\")>,\n",
       " <selenium.webdriver.remote.webelement.WebElement (session=\"097acb3de4f78fd0b4bc5d601f10cab0\", element=\"e0c454da-f27c-436c-97ba-6581983cd45a\")>,\n",
       " <selenium.webdriver.remote.webelement.WebElement (session=\"097acb3de4f78fd0b4bc5d601f10cab0\", element=\"45b0847c-9909-4279-9b27-f285055b5bc4\")>,\n",
       " <selenium.webdriver.remote.webelement.WebElement (session=\"097acb3de4f78fd0b4bc5d601f10cab0\", element=\"69ad09c8-d8f2-4dc3-b52a-e9c54b543ab1\")>,\n",
       " <selenium.webdriver.remote.webelement.WebElement (session=\"097acb3de4f78fd0b4bc5d601f10cab0\", element=\"6d92faa6-ca1c-47e7-96c7-1675d686096d\")>,\n",
       " <selenium.webdriver.remote.webelement.WebElement (session=\"097acb3de4f78fd0b4bc5d601f10cab0\", element=\"5d50151d-33c9-4210-9913-82b4ac7390f7\")>,\n",
       " <selenium.webdriver.remote.webelement.WebElement (session=\"097acb3de4f78fd0b4bc5d601f10cab0\", element=\"efd9b905-4b33-4b22-a50c-8d128c15846c\")>,\n",
       " <selenium.webdriver.remote.webelement.WebElement (session=\"097acb3de4f78fd0b4bc5d601f10cab0\", element=\"989367ad-e1e0-4375-87f1-4ea8c2997aba\")>,\n",
       " <selenium.webdriver.remote.webelement.WebElement (session=\"097acb3de4f78fd0b4bc5d601f10cab0\", element=\"34efe712-4abc-42df-bbcf-9489c9e5995a\")>,\n",
       " <selenium.webdriver.remote.webelement.WebElement (session=\"097acb3de4f78fd0b4bc5d601f10cab0\", element=\"9c09c4e1-034a-4c4a-a6bd-cac9877f1ed1\")>,\n",
       " <selenium.webdriver.remote.webelement.WebElement (session=\"097acb3de4f78fd0b4bc5d601f10cab0\", element=\"6bf3c258-fc68-4b58-ab59-353ce74a461d\")>]"
      ]
     },
     "execution_count": 198,
     "metadata": {},
     "output_type": "execute_result"
    }
   ],
   "source": [
    "page_brand"
   ]
  },
  {
   "cell_type": "code",
   "execution_count": 199,
   "id": "3dc14e81",
   "metadata": {},
   "outputs": [
    {
     "data": {
      "text/plain": [
       "['ROYAL SON',\n",
       " 'ROYAL SON',\n",
       " 'SRPM',\n",
       " 'SUNBEE',\n",
       " 'PIRASO',\n",
       " 'Elligator',\n",
       " 'PIRASO',\n",
       " 'ROYAL SON',\n",
       " 'DEIXELS',\n",
       " 'New Specs',\n",
       " 'Fastrack',\n",
       " 'ROYAL SON',\n",
       " 'Fastrack',\n",
       " 'GANSTA',\n",
       " 'SHAAH COLLECTIONS',\n",
       " 'ROZZETTA CRAFT',\n",
       " 'PIRASO',\n",
       " 'SUNBEE',\n",
       " 'Silver Kartz',\n",
       " 'NuVew',\n",
       " 'kingsunglasses',\n",
       " 'ROZZETTA CRAFT',\n",
       " 'New Specs',\n",
       " 'ROYAL SON',\n",
       " 'kingsunglasses',\n",
       " 'Fastrack',\n",
       " 'SRPM',\n",
       " 'povty',\n",
       " 'Lee Topper',\n",
       " 'Lee Topper',\n",
       " 'Fastrack',\n",
       " 'ROYAL SON',\n",
       " 'kingsunglasses',\n",
       " 'ROYAL SON',\n",
       " 'SHAAH COLLECTIONS',\n",
       " 'ROYAL SON',\n",
       " 'SRPM',\n",
       " 'Elligator',\n",
       " 'PHENOMENAL',\n",
       " 'ROYAL SON']"
      ]
     },
     "execution_count": 199,
     "metadata": {},
     "output_type": "execute_result"
    }
   ],
   "source": [
    "brand_name=[]\n",
    "for i in page_brand:\n",
    "    brand_name.append(i.text)\n",
    "    \n",
    "brand_name "
   ]
  },
  {
   "cell_type": "code",
   "execution_count": 200,
   "id": "59ebf8f2",
   "metadata": {},
   "outputs": [
    {
     "data": {
      "text/plain": [
       "[<selenium.webdriver.remote.webelement.WebElement (session=\"097acb3de4f78fd0b4bc5d601f10cab0\", element=\"c8d24f3b-ed94-4063-b3c6-f151354525b9\")>,\n",
       " <selenium.webdriver.remote.webelement.WebElement (session=\"097acb3de4f78fd0b4bc5d601f10cab0\", element=\"8a3995d3-c959-45df-a1f0-55f189a97814\")>,\n",
       " <selenium.webdriver.remote.webelement.WebElement (session=\"097acb3de4f78fd0b4bc5d601f10cab0\", element=\"05a38c6a-9926-4bf3-8523-01562b7f9b89\")>,\n",
       " <selenium.webdriver.remote.webelement.WebElement (session=\"097acb3de4f78fd0b4bc5d601f10cab0\", element=\"ef60fd3d-f1e1-4a35-b1db-6aa0fed4a2ec\")>,\n",
       " <selenium.webdriver.remote.webelement.WebElement (session=\"097acb3de4f78fd0b4bc5d601f10cab0\", element=\"93920c18-f013-4007-92f5-b58a4f1fcacb\")>,\n",
       " <selenium.webdriver.remote.webelement.WebElement (session=\"097acb3de4f78fd0b4bc5d601f10cab0\", element=\"d2a1d5e7-530d-490d-8923-f23c5c31bed9\")>,\n",
       " <selenium.webdriver.remote.webelement.WebElement (session=\"097acb3de4f78fd0b4bc5d601f10cab0\", element=\"2202e0d1-4f56-440c-bbb6-b0fe3bf299a7\")>,\n",
       " <selenium.webdriver.remote.webelement.WebElement (session=\"097acb3de4f78fd0b4bc5d601f10cab0\", element=\"a83cbaa9-2ccc-4e52-a724-329bcd3e68f2\")>,\n",
       " <selenium.webdriver.remote.webelement.WebElement (session=\"097acb3de4f78fd0b4bc5d601f10cab0\", element=\"f1e0bdbd-5055-4dd1-b2cf-7b9513f972e2\")>,\n",
       " <selenium.webdriver.remote.webelement.WebElement (session=\"097acb3de4f78fd0b4bc5d601f10cab0\", element=\"a49e7fcf-dcdc-4316-bcf4-bfeef1bfb417\")>,\n",
       " <selenium.webdriver.remote.webelement.WebElement (session=\"097acb3de4f78fd0b4bc5d601f10cab0\", element=\"2fc8cb1c-f8d0-4473-b42d-665db27cf45d\")>,\n",
       " <selenium.webdriver.remote.webelement.WebElement (session=\"097acb3de4f78fd0b4bc5d601f10cab0\", element=\"97604868-c090-443a-a69f-9a9c8911beae\")>,\n",
       " <selenium.webdriver.remote.webelement.WebElement (session=\"097acb3de4f78fd0b4bc5d601f10cab0\", element=\"2c82e9a4-2f17-4d7f-bb6c-7d09add91748\")>,\n",
       " <selenium.webdriver.remote.webelement.WebElement (session=\"097acb3de4f78fd0b4bc5d601f10cab0\", element=\"0b9a1ac7-7082-412d-817a-88d6d48c3ef6\")>,\n",
       " <selenium.webdriver.remote.webelement.WebElement (session=\"097acb3de4f78fd0b4bc5d601f10cab0\", element=\"8f6cada6-50db-4383-8002-cfcb9fe4d237\")>,\n",
       " <selenium.webdriver.remote.webelement.WebElement (session=\"097acb3de4f78fd0b4bc5d601f10cab0\", element=\"1339bacd-50ba-4c7c-a4a9-80b939bfb067\")>,\n",
       " <selenium.webdriver.remote.webelement.WebElement (session=\"097acb3de4f78fd0b4bc5d601f10cab0\", element=\"96975922-cf0e-44b3-b908-f494b89d11bb\")>,\n",
       " <selenium.webdriver.remote.webelement.WebElement (session=\"097acb3de4f78fd0b4bc5d601f10cab0\", element=\"255dbce0-c9bc-470e-8dcf-a219f833f0bb\")>,\n",
       " <selenium.webdriver.remote.webelement.WebElement (session=\"097acb3de4f78fd0b4bc5d601f10cab0\", element=\"3da643b1-8f62-4e6a-aec7-46d5caf7bd58\")>,\n",
       " <selenium.webdriver.remote.webelement.WebElement (session=\"097acb3de4f78fd0b4bc5d601f10cab0\", element=\"d317e73b-2ff9-4028-8525-33524e7448d3\")>,\n",
       " <selenium.webdriver.remote.webelement.WebElement (session=\"097acb3de4f78fd0b4bc5d601f10cab0\", element=\"571322e4-57ad-43df-923e-90602479b94e\")>,\n",
       " <selenium.webdriver.remote.webelement.WebElement (session=\"097acb3de4f78fd0b4bc5d601f10cab0\", element=\"e33f99cc-c237-4e8a-8dea-93cf6c9adc62\")>,\n",
       " <selenium.webdriver.remote.webelement.WebElement (session=\"097acb3de4f78fd0b4bc5d601f10cab0\", element=\"a61abb32-5fa7-4119-a4de-e83e1c4b38f0\")>,\n",
       " <selenium.webdriver.remote.webelement.WebElement (session=\"097acb3de4f78fd0b4bc5d601f10cab0\", element=\"43717cc3-55f5-4f37-8193-e95adfae43d4\")>,\n",
       " <selenium.webdriver.remote.webelement.WebElement (session=\"097acb3de4f78fd0b4bc5d601f10cab0\", element=\"70b6b27a-dd43-496b-9193-5f6e502c398c\")>,\n",
       " <selenium.webdriver.remote.webelement.WebElement (session=\"097acb3de4f78fd0b4bc5d601f10cab0\", element=\"e320dbda-6e16-4b02-8899-a71f5ab755be\")>,\n",
       " <selenium.webdriver.remote.webelement.WebElement (session=\"097acb3de4f78fd0b4bc5d601f10cab0\", element=\"bed25c5b-adb2-45c9-b9f1-ea587cc02af8\")>,\n",
       " <selenium.webdriver.remote.webelement.WebElement (session=\"097acb3de4f78fd0b4bc5d601f10cab0\", element=\"5bff0fc9-c3dd-4987-9935-748965d28ce0\")>,\n",
       " <selenium.webdriver.remote.webelement.WebElement (session=\"097acb3de4f78fd0b4bc5d601f10cab0\", element=\"1efccdb7-e93c-4db3-8abb-25caf835b805\")>,\n",
       " <selenium.webdriver.remote.webelement.WebElement (session=\"097acb3de4f78fd0b4bc5d601f10cab0\", element=\"1ce0a2ef-6b6b-4599-9b4d-976cf7db65cb\")>,\n",
       " <selenium.webdriver.remote.webelement.WebElement (session=\"097acb3de4f78fd0b4bc5d601f10cab0\", element=\"0507ee01-1306-4b5d-b92e-f0da4b14837b\")>,\n",
       " <selenium.webdriver.remote.webelement.WebElement (session=\"097acb3de4f78fd0b4bc5d601f10cab0\", element=\"0779a90d-b874-4edf-9416-02247da54621\")>,\n",
       " <selenium.webdriver.remote.webelement.WebElement (session=\"097acb3de4f78fd0b4bc5d601f10cab0\", element=\"4de1cadc-ead9-41af-ad24-a93732e25ddd\")>,\n",
       " <selenium.webdriver.remote.webelement.WebElement (session=\"097acb3de4f78fd0b4bc5d601f10cab0\", element=\"fda34649-d46b-4e8f-8eac-437da457cc29\")>,\n",
       " <selenium.webdriver.remote.webelement.WebElement (session=\"097acb3de4f78fd0b4bc5d601f10cab0\", element=\"e51c1619-99e8-4f37-864a-2d027da7b539\")>,\n",
       " <selenium.webdriver.remote.webelement.WebElement (session=\"097acb3de4f78fd0b4bc5d601f10cab0\", element=\"0fba1684-192e-4b2a-acce-b077e401b67b\")>,\n",
       " <selenium.webdriver.remote.webelement.WebElement (session=\"097acb3de4f78fd0b4bc5d601f10cab0\", element=\"1ab558f1-10fa-474f-bbe9-beb09e4f2d1b\")>,\n",
       " <selenium.webdriver.remote.webelement.WebElement (session=\"097acb3de4f78fd0b4bc5d601f10cab0\", element=\"d8a75c1b-b764-46da-ab5a-d9d501f3ebef\")>,\n",
       " <selenium.webdriver.remote.webelement.WebElement (session=\"097acb3de4f78fd0b4bc5d601f10cab0\", element=\"bbe07a7b-22cd-4063-9113-d1cc83dd6e1a\")>,\n",
       " <selenium.webdriver.remote.webelement.WebElement (session=\"097acb3de4f78fd0b4bc5d601f10cab0\", element=\"d60671a4-ae93-4a1b-99a9-1740f9abaa18\")>]"
      ]
     },
     "execution_count": 200,
     "metadata": {},
     "output_type": "execute_result"
    }
   ],
   "source": [
    "prdt_des=driver4.find_elements_by_xpath('//a[@class=\"IRpwTa\"]')\n",
    "prdt_des"
   ]
  },
  {
   "cell_type": "code",
   "execution_count": 201,
   "id": "7620be92",
   "metadata": {},
   "outputs": [
    {
     "data": {
      "text/plain": [
       "40"
      ]
     },
     "execution_count": 201,
     "metadata": {},
     "output_type": "execute_result"
    }
   ],
   "source": [
    "len(prdt_des)"
   ]
  },
  {
   "cell_type": "code",
   "execution_count": 202,
   "id": "978b660d",
   "metadata": {},
   "outputs": [
    {
     "data": {
      "text/plain": [
       "['UV Protection Retro Square Sunglasses (60)',\n",
       " 'Polarized, UV Protection Aviator Sunglasses (57)',\n",
       " 'UV Protection Wayfarer Sunglasses (50)',\n",
       " 'UV Protection, Polarized Wayfarer Sunglasses (Free Size...',\n",
       " 'UV Protection Aviator Sunglasses (54)',\n",
       " 'UV Protection Round Sunglasses (54)',\n",
       " 'UV Protection Aviator Sunglasses (54)',\n",
       " 'UV Protection, Polarized Round Sunglasses (54)',\n",
       " 'UV Protection Aviator, Wayfarer Sunglasses (Free Size)',\n",
       " 'UV Protection Rectangular Sunglasses (Free Size)',\n",
       " 'UV Protection Rectangular Sunglasses (Free Size)',\n",
       " 'Polarized, UV Protection Round Sunglasses (52)',\n",
       " 'Gradient, UV Protection Wayfarer Sunglasses (Free Size)',\n",
       " 'UV Protection, Riding Glasses Wayfarer Sunglasses (53)',\n",
       " 'UV Protection, Polarized, Mirrored Rectangular Sunglass...',\n",
       " 'UV Protection, Gradient Retro Square Sunglasses (Free S...',\n",
       " 'UV Protection Aviator Sunglasses (54)',\n",
       " 'UV Protection, Polarized, Mirrored Round Sunglasses (Fr...',\n",
       " 'UV Protection Wayfarer Sunglasses (Free Size)',\n",
       " 'UV Protection, Mirrored Wayfarer, Retro Square Sunglass...',\n",
       " 'UV Protection, Riding Glasses, Mirrored Wayfarer Sungla...',\n",
       " 'Polarized, Night Vision, Riding Glasses Sports, Wrap-ar...',\n",
       " 'Mirrored, UV Protection, Riding Glasses, Others Round S...',\n",
       " 'UV Protection Retro Square Sunglasses (60)',\n",
       " 'UV Protection Round Sunglasses (Free Size)',\n",
       " 'UV Protection Wayfarer Sunglasses (Free Size)',\n",
       " 'UV Protection Wayfarer Sunglasses (53)',\n",
       " 'UV Protection Retro Square Sunglasses (Free Size)',\n",
       " 'Riding Glasses Wrap-around Sunglasses (Free Size)',\n",
       " 'UV Protection Rectangular Sunglasses (Free Size)',\n",
       " 'Polarized Retro Square Sunglasses (Free Size)',\n",
       " 'UV Protection, Gradient Butterfly, Over-sized Sunglasse...',\n",
       " 'UV Protection Round Sunglasses (54)',\n",
       " 'Mirrored Aviator Sunglasses (55)',\n",
       " 'UV Protection, Polarized, Mirrored Rectangular Sunglass...',\n",
       " 'Polarized, UV Protection Rectangular Sunglasses (60)',\n",
       " 'Others Wayfarer, Retro Square Sunglasses (50)',\n",
       " 'UV Protection Round Sunglasses (53)',\n",
       " 'UV Protection Retro Square Sunglasses (53)',\n",
       " 'UV Protection, Gradient Over-sized Sunglasses (56)']"
      ]
     },
     "execution_count": 202,
     "metadata": {},
     "output_type": "execute_result"
    }
   ],
   "source": [
    "des_name=[]\n",
    "for i in prdt_des:\n",
    "    des_name.append(i.text)\n",
    "    \n",
    "des_name"
   ]
  },
  {
   "cell_type": "code",
   "execution_count": 203,
   "id": "96d8963e",
   "metadata": {},
   "outputs": [
    {
     "data": {
      "text/plain": [
       "[<selenium.webdriver.remote.webelement.WebElement (session=\"097acb3de4f78fd0b4bc5d601f10cab0\", element=\"e8c82e87-3ea7-466a-acd6-c4441537543c\")>,\n",
       " <selenium.webdriver.remote.webelement.WebElement (session=\"097acb3de4f78fd0b4bc5d601f10cab0\", element=\"2008de4f-eecb-447c-978a-e6b829064440\")>,\n",
       " <selenium.webdriver.remote.webelement.WebElement (session=\"097acb3de4f78fd0b4bc5d601f10cab0\", element=\"1d1038d0-2edb-44b1-b0d1-7ee07bb1e1e2\")>,\n",
       " <selenium.webdriver.remote.webelement.WebElement (session=\"097acb3de4f78fd0b4bc5d601f10cab0\", element=\"1090a730-cad2-4bc5-b8f5-18eec23ce006\")>,\n",
       " <selenium.webdriver.remote.webelement.WebElement (session=\"097acb3de4f78fd0b4bc5d601f10cab0\", element=\"e058a33a-2d85-4c1c-b32c-974c974d10ae\")>,\n",
       " <selenium.webdriver.remote.webelement.WebElement (session=\"097acb3de4f78fd0b4bc5d601f10cab0\", element=\"4975fb06-1bc7-4dab-a5e9-632befa7e597\")>,\n",
       " <selenium.webdriver.remote.webelement.WebElement (session=\"097acb3de4f78fd0b4bc5d601f10cab0\", element=\"b36e07cb-fbcf-48a2-b504-413a03fec83d\")>,\n",
       " <selenium.webdriver.remote.webelement.WebElement (session=\"097acb3de4f78fd0b4bc5d601f10cab0\", element=\"d27f3c73-7ebd-4f63-9712-40dbd89da6e0\")>,\n",
       " <selenium.webdriver.remote.webelement.WebElement (session=\"097acb3de4f78fd0b4bc5d601f10cab0\", element=\"37b15fd8-90df-4582-baea-7eed5caa3545\")>,\n",
       " <selenium.webdriver.remote.webelement.WebElement (session=\"097acb3de4f78fd0b4bc5d601f10cab0\", element=\"c3eac4b3-ec3b-4142-b1af-b1ca46cab65e\")>,\n",
       " <selenium.webdriver.remote.webelement.WebElement (session=\"097acb3de4f78fd0b4bc5d601f10cab0\", element=\"4327d363-7116-4e06-b621-ceb10db3131b\")>,\n",
       " <selenium.webdriver.remote.webelement.WebElement (session=\"097acb3de4f78fd0b4bc5d601f10cab0\", element=\"5a936f69-c929-4929-90a4-d67da0679eff\")>,\n",
       " <selenium.webdriver.remote.webelement.WebElement (session=\"097acb3de4f78fd0b4bc5d601f10cab0\", element=\"74932edf-4ee7-49cf-b126-372454751a15\")>,\n",
       " <selenium.webdriver.remote.webelement.WebElement (session=\"097acb3de4f78fd0b4bc5d601f10cab0\", element=\"35554ab3-053f-4f0c-985c-79ced36848bf\")>,\n",
       " <selenium.webdriver.remote.webelement.WebElement (session=\"097acb3de4f78fd0b4bc5d601f10cab0\", element=\"b8003888-ecaf-491a-a08c-ea9891ab0e08\")>,\n",
       " <selenium.webdriver.remote.webelement.WebElement (session=\"097acb3de4f78fd0b4bc5d601f10cab0\", element=\"f5d4f5f3-fa19-4f5a-b401-e2ff52f508b5\")>,\n",
       " <selenium.webdriver.remote.webelement.WebElement (session=\"097acb3de4f78fd0b4bc5d601f10cab0\", element=\"825618ce-a34a-45fe-9356-85d77a8bffbb\")>,\n",
       " <selenium.webdriver.remote.webelement.WebElement (session=\"097acb3de4f78fd0b4bc5d601f10cab0\", element=\"ddb0348d-6329-4d46-8948-220b99a109f9\")>,\n",
       " <selenium.webdriver.remote.webelement.WebElement (session=\"097acb3de4f78fd0b4bc5d601f10cab0\", element=\"5fb015df-7d22-4405-bb35-85b3cba4199a\")>,\n",
       " <selenium.webdriver.remote.webelement.WebElement (session=\"097acb3de4f78fd0b4bc5d601f10cab0\", element=\"f1e3835e-636d-4093-9007-316714f94ec9\")>,\n",
       " <selenium.webdriver.remote.webelement.WebElement (session=\"097acb3de4f78fd0b4bc5d601f10cab0\", element=\"d70b5391-febb-425c-9e81-811379f8a766\")>,\n",
       " <selenium.webdriver.remote.webelement.WebElement (session=\"097acb3de4f78fd0b4bc5d601f10cab0\", element=\"4e67d067-3c8e-4474-ab47-e8e650517eb8\")>,\n",
       " <selenium.webdriver.remote.webelement.WebElement (session=\"097acb3de4f78fd0b4bc5d601f10cab0\", element=\"d31dd707-4694-49af-92a1-ee9221609baf\")>,\n",
       " <selenium.webdriver.remote.webelement.WebElement (session=\"097acb3de4f78fd0b4bc5d601f10cab0\", element=\"6773741c-c2f1-40ca-b46f-5b11c94f0a56\")>,\n",
       " <selenium.webdriver.remote.webelement.WebElement (session=\"097acb3de4f78fd0b4bc5d601f10cab0\", element=\"118a11c6-2331-4256-a992-6b446cfec2ff\")>,\n",
       " <selenium.webdriver.remote.webelement.WebElement (session=\"097acb3de4f78fd0b4bc5d601f10cab0\", element=\"e59566b3-fdbb-49dc-bcfd-7cfb4ca7ed67\")>,\n",
       " <selenium.webdriver.remote.webelement.WebElement (session=\"097acb3de4f78fd0b4bc5d601f10cab0\", element=\"fead7b1f-7205-4333-99d7-6386e944408c\")>,\n",
       " <selenium.webdriver.remote.webelement.WebElement (session=\"097acb3de4f78fd0b4bc5d601f10cab0\", element=\"8cc4f2e5-e15c-4024-81bf-a2be84f44794\")>,\n",
       " <selenium.webdriver.remote.webelement.WebElement (session=\"097acb3de4f78fd0b4bc5d601f10cab0\", element=\"761c094e-1419-450f-b9f3-1e49d79c2c5f\")>,\n",
       " <selenium.webdriver.remote.webelement.WebElement (session=\"097acb3de4f78fd0b4bc5d601f10cab0\", element=\"6e1df11c-2fa0-4893-a921-f2432a36646b\")>,\n",
       " <selenium.webdriver.remote.webelement.WebElement (session=\"097acb3de4f78fd0b4bc5d601f10cab0\", element=\"25464e88-58b7-4925-afee-bd1e0103e411\")>,\n",
       " <selenium.webdriver.remote.webelement.WebElement (session=\"097acb3de4f78fd0b4bc5d601f10cab0\", element=\"5c24049f-1cb6-44e6-857f-09d725527fef\")>,\n",
       " <selenium.webdriver.remote.webelement.WebElement (session=\"097acb3de4f78fd0b4bc5d601f10cab0\", element=\"a7595058-98f0-40f6-b093-2a0ef594fccc\")>,\n",
       " <selenium.webdriver.remote.webelement.WebElement (session=\"097acb3de4f78fd0b4bc5d601f10cab0\", element=\"45b1ae14-2872-4048-b8c9-5d8477fba7d1\")>,\n",
       " <selenium.webdriver.remote.webelement.WebElement (session=\"097acb3de4f78fd0b4bc5d601f10cab0\", element=\"30eb4b21-db4b-4acd-a2c4-e4719cf7d31f\")>,\n",
       " <selenium.webdriver.remote.webelement.WebElement (session=\"097acb3de4f78fd0b4bc5d601f10cab0\", element=\"f26c52ab-662f-4bc1-9c67-b4ffe84c7494\")>,\n",
       " <selenium.webdriver.remote.webelement.WebElement (session=\"097acb3de4f78fd0b4bc5d601f10cab0\", element=\"de2e0afd-a3db-4803-8162-d97ade15c832\")>,\n",
       " <selenium.webdriver.remote.webelement.WebElement (session=\"097acb3de4f78fd0b4bc5d601f10cab0\", element=\"2e621a4e-3b43-4fb1-b042-885beda86311\")>,\n",
       " <selenium.webdriver.remote.webelement.WebElement (session=\"097acb3de4f78fd0b4bc5d601f10cab0\", element=\"f33e2c73-ad8b-41fc-bf65-950998283712\")>,\n",
       " <selenium.webdriver.remote.webelement.WebElement (session=\"097acb3de4f78fd0b4bc5d601f10cab0\", element=\"99a5b274-93fc-450e-9202-ce7ef6ba0d14\")>]"
      ]
     },
     "execution_count": 203,
     "metadata": {},
     "output_type": "execute_result"
    }
   ],
   "source": [
    "price=driver4.find_elements_by_xpath('//div[@class=\"_30jeq3\"]')\n",
    "price"
   ]
  },
  {
   "cell_type": "code",
   "execution_count": 204,
   "id": "f5581e52",
   "metadata": {},
   "outputs": [
    {
     "data": {
      "text/plain": [
       "['₹519',\n",
       " '₹709',\n",
       " '₹148',\n",
       " '₹203',\n",
       " '₹179',\n",
       " '₹208',\n",
       " '₹175',\n",
       " '₹649',\n",
       " '₹152',\n",
       " '₹182',\n",
       " '₹629',\n",
       " '₹709',\n",
       " '₹629',\n",
       " '₹148',\n",
       " '₹115',\n",
       " '₹281',\n",
       " '₹175',\n",
       " '₹234',\n",
       " '₹183',\n",
       " '₹246',\n",
       " '₹134',\n",
       " '₹424',\n",
       " '₹213',\n",
       " '₹649',\n",
       " '₹239',\n",
       " '₹549',\n",
       " '₹170',\n",
       " '₹249',\n",
       " '₹225',\n",
       " '₹149',\n",
       " '₹548',\n",
       " '₹614',\n",
       " '₹136',\n",
       " '₹329',\n",
       " '₹131',\n",
       " '₹649',\n",
       " '₹128',\n",
       " '₹139',\n",
       " '₹239',\n",
       " '₹614']"
      ]
     },
     "execution_count": 204,
     "metadata": {},
     "output_type": "execute_result"
    }
   ],
   "source": [
    "price_name=[]\n",
    "for i in price:\n",
    "    price_name.append(i.text)\n",
    "    \n",
    "price_name"
   ]
  },
  {
   "cell_type": "code",
   "execution_count": 205,
   "id": "814babaf",
   "metadata": {},
   "outputs": [],
   "source": [
    "next_page=driver4.find_element_by_class_name('ge-49M')"
   ]
  },
  {
   "cell_type": "code",
   "execution_count": 206,
   "id": "e4cb9c1f",
   "metadata": {},
   "outputs": [],
   "source": [
    "next_page.click()"
   ]
  },
  {
   "cell_type": "code",
   "execution_count": 207,
   "id": "f47277ff",
   "metadata": {},
   "outputs": [],
   "source": [
    "page2_glass=driver4.find_elements_by_xpath('//div[@class=\"_2WkVRV\"]')"
   ]
  },
  {
   "cell_type": "code",
   "execution_count": 208,
   "id": "091151ff",
   "metadata": {},
   "outputs": [
    {
     "data": {
      "text/plain": [
       "[<selenium.webdriver.remote.webelement.WebElement (session=\"097acb3de4f78fd0b4bc5d601f10cab0\", element=\"cca01b28-3218-4811-afe1-e63ff6b8b6f6\")>,\n",
       " <selenium.webdriver.remote.webelement.WebElement (session=\"097acb3de4f78fd0b4bc5d601f10cab0\", element=\"515c1377-fffe-4766-89c4-33ac4df4a250\")>,\n",
       " <selenium.webdriver.remote.webelement.WebElement (session=\"097acb3de4f78fd0b4bc5d601f10cab0\", element=\"6acdac1c-4a9f-444d-91e7-d46c8c425f9b\")>,\n",
       " <selenium.webdriver.remote.webelement.WebElement (session=\"097acb3de4f78fd0b4bc5d601f10cab0\", element=\"0ad5bf67-4159-468a-8dbd-878d8d199921\")>,\n",
       " <selenium.webdriver.remote.webelement.WebElement (session=\"097acb3de4f78fd0b4bc5d601f10cab0\", element=\"c78a36fd-a9d1-41fa-844d-99d92d9b782e\")>,\n",
       " <selenium.webdriver.remote.webelement.WebElement (session=\"097acb3de4f78fd0b4bc5d601f10cab0\", element=\"230fa699-c27c-4cf5-bc6b-4e56f80c022a\")>,\n",
       " <selenium.webdriver.remote.webelement.WebElement (session=\"097acb3de4f78fd0b4bc5d601f10cab0\", element=\"820020cf-2da1-47ef-bbb7-7a97da469054\")>,\n",
       " <selenium.webdriver.remote.webelement.WebElement (session=\"097acb3de4f78fd0b4bc5d601f10cab0\", element=\"948a4080-c37b-4a70-b00c-33cc8423b351\")>,\n",
       " <selenium.webdriver.remote.webelement.WebElement (session=\"097acb3de4f78fd0b4bc5d601f10cab0\", element=\"6f18b8cf-0d9c-428f-901d-8e52e3b790af\")>,\n",
       " <selenium.webdriver.remote.webelement.WebElement (session=\"097acb3de4f78fd0b4bc5d601f10cab0\", element=\"578e709d-2c1c-4bba-a807-11579ad75814\")>,\n",
       " <selenium.webdriver.remote.webelement.WebElement (session=\"097acb3de4f78fd0b4bc5d601f10cab0\", element=\"c94fe5b3-4e0a-4817-b2f0-79c9ab744f5e\")>,\n",
       " <selenium.webdriver.remote.webelement.WebElement (session=\"097acb3de4f78fd0b4bc5d601f10cab0\", element=\"be070b0c-e47a-45dc-983a-86d8f2622aa1\")>,\n",
       " <selenium.webdriver.remote.webelement.WebElement (session=\"097acb3de4f78fd0b4bc5d601f10cab0\", element=\"8168f829-471c-4566-b5d8-2c78644ee24a\")>,\n",
       " <selenium.webdriver.remote.webelement.WebElement (session=\"097acb3de4f78fd0b4bc5d601f10cab0\", element=\"86de1a1f-a93e-41de-af87-cb8122f1e350\")>,\n",
       " <selenium.webdriver.remote.webelement.WebElement (session=\"097acb3de4f78fd0b4bc5d601f10cab0\", element=\"d0f3ffdb-cc6d-40b4-9223-193bb1dcd532\")>,\n",
       " <selenium.webdriver.remote.webelement.WebElement (session=\"097acb3de4f78fd0b4bc5d601f10cab0\", element=\"156a1e56-00b4-4972-be49-9d80c53f7a5b\")>,\n",
       " <selenium.webdriver.remote.webelement.WebElement (session=\"097acb3de4f78fd0b4bc5d601f10cab0\", element=\"dbc4d1f6-b7f0-4efb-86c4-2eb4b61c2e72\")>,\n",
       " <selenium.webdriver.remote.webelement.WebElement (session=\"097acb3de4f78fd0b4bc5d601f10cab0\", element=\"a6b062ad-4d3c-4e70-a561-056eb485bcb0\")>,\n",
       " <selenium.webdriver.remote.webelement.WebElement (session=\"097acb3de4f78fd0b4bc5d601f10cab0\", element=\"f18305ab-352b-4d70-8781-1ff0628996d6\")>,\n",
       " <selenium.webdriver.remote.webelement.WebElement (session=\"097acb3de4f78fd0b4bc5d601f10cab0\", element=\"68be5b86-f8b8-49a1-b3ee-41f78f6423a6\")>,\n",
       " <selenium.webdriver.remote.webelement.WebElement (session=\"097acb3de4f78fd0b4bc5d601f10cab0\", element=\"1e221bda-d4bf-4a9c-ba42-6c21fe2ba4d5\")>,\n",
       " <selenium.webdriver.remote.webelement.WebElement (session=\"097acb3de4f78fd0b4bc5d601f10cab0\", element=\"b9ff54e8-d1ce-4c7c-863d-bd15d1a7cd36\")>,\n",
       " <selenium.webdriver.remote.webelement.WebElement (session=\"097acb3de4f78fd0b4bc5d601f10cab0\", element=\"15074725-45f3-4b41-aa58-f4c065fc4851\")>,\n",
       " <selenium.webdriver.remote.webelement.WebElement (session=\"097acb3de4f78fd0b4bc5d601f10cab0\", element=\"0069304f-3127-4bf7-b462-b7412e641bc9\")>,\n",
       " <selenium.webdriver.remote.webelement.WebElement (session=\"097acb3de4f78fd0b4bc5d601f10cab0\", element=\"5036117c-45a6-4f75-80c6-65123458ebe0\")>,\n",
       " <selenium.webdriver.remote.webelement.WebElement (session=\"097acb3de4f78fd0b4bc5d601f10cab0\", element=\"89126e0a-0fd6-4345-b25f-f2e78c6ec13b\")>,\n",
       " <selenium.webdriver.remote.webelement.WebElement (session=\"097acb3de4f78fd0b4bc5d601f10cab0\", element=\"a5baa034-ccfa-4a97-9f4b-a240bf66a924\")>,\n",
       " <selenium.webdriver.remote.webelement.WebElement (session=\"097acb3de4f78fd0b4bc5d601f10cab0\", element=\"a1cd0a8a-7f60-4468-b23f-64ebcd55a0ed\")>,\n",
       " <selenium.webdriver.remote.webelement.WebElement (session=\"097acb3de4f78fd0b4bc5d601f10cab0\", element=\"70f5633f-ea68-4274-93bd-f961ee81602c\")>,\n",
       " <selenium.webdriver.remote.webelement.WebElement (session=\"097acb3de4f78fd0b4bc5d601f10cab0\", element=\"ab728f6f-f1df-434e-80af-53bce48a56ec\")>,\n",
       " <selenium.webdriver.remote.webelement.WebElement (session=\"097acb3de4f78fd0b4bc5d601f10cab0\", element=\"e0c454da-f27c-436c-97ba-6581983cd45a\")>,\n",
       " <selenium.webdriver.remote.webelement.WebElement (session=\"097acb3de4f78fd0b4bc5d601f10cab0\", element=\"45b0847c-9909-4279-9b27-f285055b5bc4\")>,\n",
       " <selenium.webdriver.remote.webelement.WebElement (session=\"097acb3de4f78fd0b4bc5d601f10cab0\", element=\"69ad09c8-d8f2-4dc3-b52a-e9c54b543ab1\")>,\n",
       " <selenium.webdriver.remote.webelement.WebElement (session=\"097acb3de4f78fd0b4bc5d601f10cab0\", element=\"6d92faa6-ca1c-47e7-96c7-1675d686096d\")>,\n",
       " <selenium.webdriver.remote.webelement.WebElement (session=\"097acb3de4f78fd0b4bc5d601f10cab0\", element=\"5d50151d-33c9-4210-9913-82b4ac7390f7\")>,\n",
       " <selenium.webdriver.remote.webelement.WebElement (session=\"097acb3de4f78fd0b4bc5d601f10cab0\", element=\"58742633-b429-4bd4-b5cf-c7c1df04fdb5\")>,\n",
       " <selenium.webdriver.remote.webelement.WebElement (session=\"097acb3de4f78fd0b4bc5d601f10cab0\", element=\"989367ad-e1e0-4375-87f1-4ea8c2997aba\")>,\n",
       " <selenium.webdriver.remote.webelement.WebElement (session=\"097acb3de4f78fd0b4bc5d601f10cab0\", element=\"34efe712-4abc-42df-bbcf-9489c9e5995a\")>,\n",
       " <selenium.webdriver.remote.webelement.WebElement (session=\"097acb3de4f78fd0b4bc5d601f10cab0\", element=\"9c09c4e1-034a-4c4a-a6bd-cac9877f1ed1\")>,\n",
       " <selenium.webdriver.remote.webelement.WebElement (session=\"097acb3de4f78fd0b4bc5d601f10cab0\", element=\"7804eece-2143-4454-8657-176db1d8189b\")>]"
      ]
     },
     "execution_count": 208,
     "metadata": {},
     "output_type": "execute_result"
    }
   ],
   "source": [
    "page2_glass"
   ]
  },
  {
   "cell_type": "code",
   "execution_count": 209,
   "id": "c7fc8d4e",
   "metadata": {},
   "outputs": [
    {
     "data": {
      "text/plain": [
       "['ROYAL SON',\n",
       " 'ROYAL SON',\n",
       " 'SRPM',\n",
       " 'SUNBEE',\n",
       " 'PIRASO',\n",
       " 'Elligator',\n",
       " 'PIRASO',\n",
       " 'ROYAL SON',\n",
       " 'DEIXELS',\n",
       " 'New Specs',\n",
       " 'Fastrack',\n",
       " 'ROYAL SON',\n",
       " 'Fastrack',\n",
       " 'GANSTA',\n",
       " 'SHAAH COLLECTIONS',\n",
       " 'NuVew',\n",
       " 'PIRASO',\n",
       " 'SUNBEE',\n",
       " 'Silver Kartz',\n",
       " 'ROYAL SON',\n",
       " 'kingsunglasses',\n",
       " 'ROZZETTA CRAFT',\n",
       " 'New Specs',\n",
       " 'AISLIN',\n",
       " 'kingsunglasses',\n",
       " 'Fastrack',\n",
       " 'SRPM',\n",
       " 'ROYAL SON',\n",
       " 'Lee Topper',\n",
       " 'Lee Topper',\n",
       " 'Fastrack',\n",
       " 'ROYAL SON',\n",
       " 'kingsunglasses',\n",
       " 'ROYAL SON',\n",
       " 'SHAAH COLLECTIONS',\n",
       " 'ROYAL SON',\n",
       " 'SRPM',\n",
       " 'Elligator',\n",
       " 'PHENOMENAL',\n",
       " 'ROZZETTA CRAFT']"
      ]
     },
     "execution_count": 209,
     "metadata": {},
     "output_type": "execute_result"
    }
   ],
   "source": [
    "page2_brand=[]\n",
    "for i in page2_glass:\n",
    "    page2_brand.append(i.text)\n",
    "    \n",
    "page2_brand"
   ]
  },
  {
   "cell_type": "code",
   "execution_count": 210,
   "id": "3d9644db",
   "metadata": {},
   "outputs": [
    {
     "data": {
      "text/plain": [
       "[<selenium.webdriver.remote.webelement.WebElement (session=\"097acb3de4f78fd0b4bc5d601f10cab0\", element=\"c8d24f3b-ed94-4063-b3c6-f151354525b9\")>,\n",
       " <selenium.webdriver.remote.webelement.WebElement (session=\"097acb3de4f78fd0b4bc5d601f10cab0\", element=\"8a3995d3-c959-45df-a1f0-55f189a97814\")>,\n",
       " <selenium.webdriver.remote.webelement.WebElement (session=\"097acb3de4f78fd0b4bc5d601f10cab0\", element=\"05a38c6a-9926-4bf3-8523-01562b7f9b89\")>,\n",
       " <selenium.webdriver.remote.webelement.WebElement (session=\"097acb3de4f78fd0b4bc5d601f10cab0\", element=\"ef60fd3d-f1e1-4a35-b1db-6aa0fed4a2ec\")>,\n",
       " <selenium.webdriver.remote.webelement.WebElement (session=\"097acb3de4f78fd0b4bc5d601f10cab0\", element=\"93920c18-f013-4007-92f5-b58a4f1fcacb\")>,\n",
       " <selenium.webdriver.remote.webelement.WebElement (session=\"097acb3de4f78fd0b4bc5d601f10cab0\", element=\"d2a1d5e7-530d-490d-8923-f23c5c31bed9\")>,\n",
       " <selenium.webdriver.remote.webelement.WebElement (session=\"097acb3de4f78fd0b4bc5d601f10cab0\", element=\"2202e0d1-4f56-440c-bbb6-b0fe3bf299a7\")>,\n",
       " <selenium.webdriver.remote.webelement.WebElement (session=\"097acb3de4f78fd0b4bc5d601f10cab0\", element=\"a83cbaa9-2ccc-4e52-a724-329bcd3e68f2\")>,\n",
       " <selenium.webdriver.remote.webelement.WebElement (session=\"097acb3de4f78fd0b4bc5d601f10cab0\", element=\"f1e0bdbd-5055-4dd1-b2cf-7b9513f972e2\")>,\n",
       " <selenium.webdriver.remote.webelement.WebElement (session=\"097acb3de4f78fd0b4bc5d601f10cab0\", element=\"a49e7fcf-dcdc-4316-bcf4-bfeef1bfb417\")>,\n",
       " <selenium.webdriver.remote.webelement.WebElement (session=\"097acb3de4f78fd0b4bc5d601f10cab0\", element=\"2fc8cb1c-f8d0-4473-b42d-665db27cf45d\")>,\n",
       " <selenium.webdriver.remote.webelement.WebElement (session=\"097acb3de4f78fd0b4bc5d601f10cab0\", element=\"97604868-c090-443a-a69f-9a9c8911beae\")>,\n",
       " <selenium.webdriver.remote.webelement.WebElement (session=\"097acb3de4f78fd0b4bc5d601f10cab0\", element=\"2c82e9a4-2f17-4d7f-bb6c-7d09add91748\")>,\n",
       " <selenium.webdriver.remote.webelement.WebElement (session=\"097acb3de4f78fd0b4bc5d601f10cab0\", element=\"0b9a1ac7-7082-412d-817a-88d6d48c3ef6\")>,\n",
       " <selenium.webdriver.remote.webelement.WebElement (session=\"097acb3de4f78fd0b4bc5d601f10cab0\", element=\"8f6cada6-50db-4383-8002-cfcb9fe4d237\")>,\n",
       " <selenium.webdriver.remote.webelement.WebElement (session=\"097acb3de4f78fd0b4bc5d601f10cab0\", element=\"1f08d3c2-23f0-4e9a-b60c-98c460763eb0\")>,\n",
       " <selenium.webdriver.remote.webelement.WebElement (session=\"097acb3de4f78fd0b4bc5d601f10cab0\", element=\"96975922-cf0e-44b3-b908-f494b89d11bb\")>,\n",
       " <selenium.webdriver.remote.webelement.WebElement (session=\"097acb3de4f78fd0b4bc5d601f10cab0\", element=\"255dbce0-c9bc-470e-8dcf-a219f833f0bb\")>,\n",
       " <selenium.webdriver.remote.webelement.WebElement (session=\"097acb3de4f78fd0b4bc5d601f10cab0\", element=\"3da643b1-8f62-4e6a-aec7-46d5caf7bd58\")>,\n",
       " <selenium.webdriver.remote.webelement.WebElement (session=\"097acb3de4f78fd0b4bc5d601f10cab0\", element=\"25e4c156-ce99-4a0b-a77e-0696b18bf384\")>,\n",
       " <selenium.webdriver.remote.webelement.WebElement (session=\"097acb3de4f78fd0b4bc5d601f10cab0\", element=\"571322e4-57ad-43df-923e-90602479b94e\")>,\n",
       " <selenium.webdriver.remote.webelement.WebElement (session=\"097acb3de4f78fd0b4bc5d601f10cab0\", element=\"e33f99cc-c237-4e8a-8dea-93cf6c9adc62\")>,\n",
       " <selenium.webdriver.remote.webelement.WebElement (session=\"097acb3de4f78fd0b4bc5d601f10cab0\", element=\"a61abb32-5fa7-4119-a4de-e83e1c4b38f0\")>,\n",
       " <selenium.webdriver.remote.webelement.WebElement (session=\"097acb3de4f78fd0b4bc5d601f10cab0\", element=\"1e058cf1-5915-4ba0-bd98-42bcad602e41\")>,\n",
       " <selenium.webdriver.remote.webelement.WebElement (session=\"097acb3de4f78fd0b4bc5d601f10cab0\", element=\"70b6b27a-dd43-496b-9193-5f6e502c398c\")>,\n",
       " <selenium.webdriver.remote.webelement.WebElement (session=\"097acb3de4f78fd0b4bc5d601f10cab0\", element=\"e320dbda-6e16-4b02-8899-a71f5ab755be\")>,\n",
       " <selenium.webdriver.remote.webelement.WebElement (session=\"097acb3de4f78fd0b4bc5d601f10cab0\", element=\"bed25c5b-adb2-45c9-b9f1-ea587cc02af8\")>,\n",
       " <selenium.webdriver.remote.webelement.WebElement (session=\"097acb3de4f78fd0b4bc5d601f10cab0\", element=\"cf2aa630-4e59-4b4d-bbfb-e74e4879be79\")>,\n",
       " <selenium.webdriver.remote.webelement.WebElement (session=\"097acb3de4f78fd0b4bc5d601f10cab0\", element=\"1efccdb7-e93c-4db3-8abb-25caf835b805\")>,\n",
       " <selenium.webdriver.remote.webelement.WebElement (session=\"097acb3de4f78fd0b4bc5d601f10cab0\", element=\"1ce0a2ef-6b6b-4599-9b4d-976cf7db65cb\")>,\n",
       " <selenium.webdriver.remote.webelement.WebElement (session=\"097acb3de4f78fd0b4bc5d601f10cab0\", element=\"0507ee01-1306-4b5d-b92e-f0da4b14837b\")>,\n",
       " <selenium.webdriver.remote.webelement.WebElement (session=\"097acb3de4f78fd0b4bc5d601f10cab0\", element=\"0779a90d-b874-4edf-9416-02247da54621\")>,\n",
       " <selenium.webdriver.remote.webelement.WebElement (session=\"097acb3de4f78fd0b4bc5d601f10cab0\", element=\"4de1cadc-ead9-41af-ad24-a93732e25ddd\")>,\n",
       " <selenium.webdriver.remote.webelement.WebElement (session=\"097acb3de4f78fd0b4bc5d601f10cab0\", element=\"fda34649-d46b-4e8f-8eac-437da457cc29\")>,\n",
       " <selenium.webdriver.remote.webelement.WebElement (session=\"097acb3de4f78fd0b4bc5d601f10cab0\", element=\"e51c1619-99e8-4f37-864a-2d027da7b539\")>,\n",
       " <selenium.webdriver.remote.webelement.WebElement (session=\"097acb3de4f78fd0b4bc5d601f10cab0\", element=\"955c2dac-5769-4148-a814-355c047e0bc3\")>,\n",
       " <selenium.webdriver.remote.webelement.WebElement (session=\"097acb3de4f78fd0b4bc5d601f10cab0\", element=\"1ab558f1-10fa-474f-bbe9-beb09e4f2d1b\")>,\n",
       " <selenium.webdriver.remote.webelement.WebElement (session=\"097acb3de4f78fd0b4bc5d601f10cab0\", element=\"d8a75c1b-b764-46da-ab5a-d9d501f3ebef\")>,\n",
       " <selenium.webdriver.remote.webelement.WebElement (session=\"097acb3de4f78fd0b4bc5d601f10cab0\", element=\"bbe07a7b-22cd-4063-9113-d1cc83dd6e1a\")>,\n",
       " <selenium.webdriver.remote.webelement.WebElement (session=\"097acb3de4f78fd0b4bc5d601f10cab0\", element=\"603e833c-56b8-4f75-bcb2-554b2d5005a9\")>]"
      ]
     },
     "execution_count": 210,
     "metadata": {},
     "output_type": "execute_result"
    }
   ],
   "source": [
    "prdt2_des=driver4.find_elements_by_xpath('//a[@class=\"IRpwTa\"]')\n",
    "prdt2_des"
   ]
  },
  {
   "cell_type": "code",
   "execution_count": 211,
   "id": "ddc6c18c",
   "metadata": {},
   "outputs": [
    {
     "data": {
      "text/plain": [
       "['UV Protection Retro Square Sunglasses (60)',\n",
       " 'Polarized, UV Protection Aviator Sunglasses (57)',\n",
       " 'UV Protection Wayfarer Sunglasses (50)',\n",
       " 'UV Protection, Polarized Wayfarer Sunglasses (Free Size...',\n",
       " 'UV Protection Aviator Sunglasses (54)',\n",
       " 'UV Protection Round Sunglasses (54)',\n",
       " 'UV Protection Aviator Sunglasses (54)',\n",
       " 'UV Protection, Polarized Round Sunglasses (54)',\n",
       " 'UV Protection Aviator, Wayfarer Sunglasses (Free Size)',\n",
       " 'UV Protection Rectangular Sunglasses (Free Size)',\n",
       " 'UV Protection Rectangular Sunglasses (Free Size)',\n",
       " 'Polarized, UV Protection Round Sunglasses (52)',\n",
       " 'Gradient, UV Protection Wayfarer Sunglasses (Free Size)',\n",
       " 'UV Protection, Riding Glasses Wayfarer Sunglasses (53)',\n",
       " 'UV Protection, Polarized, Mirrored Rectangular Sunglass...',\n",
       " 'UV Protection, Mirrored Wayfarer, Retro Square Sunglass...',\n",
       " 'UV Protection Aviator Sunglasses (54)',\n",
       " 'UV Protection, Polarized, Mirrored Round Sunglasses (Fr...',\n",
       " 'UV Protection Wayfarer Sunglasses (Free Size)',\n",
       " 'UV Protection Retro Square Sunglasses (60)',\n",
       " 'UV Protection, Riding Glasses, Mirrored Wayfarer Sungla...',\n",
       " 'Polarized, Night Vision, Riding Glasses Sports, Wrap-ar...',\n",
       " 'Mirrored, UV Protection, Riding Glasses, Others Round S...',\n",
       " 'UV Protection, Gradient Cat-eye Sunglasses (58)',\n",
       " 'UV Protection Round Sunglasses (Free Size)',\n",
       " 'UV Protection Wayfarer Sunglasses (Free Size)',\n",
       " 'UV Protection Wayfarer Sunglasses (53)',\n",
       " 'Polarized, UV Protection Rectangular Sunglasses (60)',\n",
       " 'Riding Glasses Wrap-around Sunglasses (Free Size)',\n",
       " 'UV Protection Rectangular Sunglasses (Free Size)',\n",
       " 'Polarized Retro Square Sunglasses (Free Size)',\n",
       " 'UV Protection, Gradient Butterfly, Over-sized Sunglasse...',\n",
       " 'UV Protection Round Sunglasses (54)',\n",
       " 'Mirrored Aviator Sunglasses (55)',\n",
       " 'UV Protection, Polarized, Mirrored Rectangular Sunglass...',\n",
       " 'UV Protection, Gradient Over-sized Sunglasses (56)',\n",
       " 'Others Wayfarer, Retro Square Sunglasses (50)',\n",
       " 'UV Protection Round Sunglasses (53)',\n",
       " 'UV Protection Retro Square Sunglasses (53)',\n",
       " 'UV Protection, Gradient Retro Square Sunglasses (Free S...']"
      ]
     },
     "execution_count": 211,
     "metadata": {},
     "output_type": "execute_result"
    }
   ],
   "source": [
    "des2_name=[]\n",
    "for i in prdt2_des:\n",
    "    des2_name.append(i.text)\n",
    "    \n",
    "des2_name"
   ]
  },
  {
   "cell_type": "code",
   "execution_count": 212,
   "id": "f3eb696b",
   "metadata": {},
   "outputs": [
    {
     "data": {
      "text/plain": [
       "[<selenium.webdriver.remote.webelement.WebElement (session=\"097acb3de4f78fd0b4bc5d601f10cab0\", element=\"e8c82e87-3ea7-466a-acd6-c4441537543c\")>,\n",
       " <selenium.webdriver.remote.webelement.WebElement (session=\"097acb3de4f78fd0b4bc5d601f10cab0\", element=\"2008de4f-eecb-447c-978a-e6b829064440\")>,\n",
       " <selenium.webdriver.remote.webelement.WebElement (session=\"097acb3de4f78fd0b4bc5d601f10cab0\", element=\"1d1038d0-2edb-44b1-b0d1-7ee07bb1e1e2\")>,\n",
       " <selenium.webdriver.remote.webelement.WebElement (session=\"097acb3de4f78fd0b4bc5d601f10cab0\", element=\"1090a730-cad2-4bc5-b8f5-18eec23ce006\")>,\n",
       " <selenium.webdriver.remote.webelement.WebElement (session=\"097acb3de4f78fd0b4bc5d601f10cab0\", element=\"e058a33a-2d85-4c1c-b32c-974c974d10ae\")>,\n",
       " <selenium.webdriver.remote.webelement.WebElement (session=\"097acb3de4f78fd0b4bc5d601f10cab0\", element=\"4975fb06-1bc7-4dab-a5e9-632befa7e597\")>,\n",
       " <selenium.webdriver.remote.webelement.WebElement (session=\"097acb3de4f78fd0b4bc5d601f10cab0\", element=\"b36e07cb-fbcf-48a2-b504-413a03fec83d\")>,\n",
       " <selenium.webdriver.remote.webelement.WebElement (session=\"097acb3de4f78fd0b4bc5d601f10cab0\", element=\"d27f3c73-7ebd-4f63-9712-40dbd89da6e0\")>,\n",
       " <selenium.webdriver.remote.webelement.WebElement (session=\"097acb3de4f78fd0b4bc5d601f10cab0\", element=\"37b15fd8-90df-4582-baea-7eed5caa3545\")>,\n",
       " <selenium.webdriver.remote.webelement.WebElement (session=\"097acb3de4f78fd0b4bc5d601f10cab0\", element=\"c3eac4b3-ec3b-4142-b1af-b1ca46cab65e\")>,\n",
       " <selenium.webdriver.remote.webelement.WebElement (session=\"097acb3de4f78fd0b4bc5d601f10cab0\", element=\"4327d363-7116-4e06-b621-ceb10db3131b\")>,\n",
       " <selenium.webdriver.remote.webelement.WebElement (session=\"097acb3de4f78fd0b4bc5d601f10cab0\", element=\"5a936f69-c929-4929-90a4-d67da0679eff\")>,\n",
       " <selenium.webdriver.remote.webelement.WebElement (session=\"097acb3de4f78fd0b4bc5d601f10cab0\", element=\"74932edf-4ee7-49cf-b126-372454751a15\")>,\n",
       " <selenium.webdriver.remote.webelement.WebElement (session=\"097acb3de4f78fd0b4bc5d601f10cab0\", element=\"35554ab3-053f-4f0c-985c-79ced36848bf\")>,\n",
       " <selenium.webdriver.remote.webelement.WebElement (session=\"097acb3de4f78fd0b4bc5d601f10cab0\", element=\"b8003888-ecaf-491a-a08c-ea9891ab0e08\")>,\n",
       " <selenium.webdriver.remote.webelement.WebElement (session=\"097acb3de4f78fd0b4bc5d601f10cab0\", element=\"8785c6ff-1e9a-43dd-b91c-037519482153\")>,\n",
       " <selenium.webdriver.remote.webelement.WebElement (session=\"097acb3de4f78fd0b4bc5d601f10cab0\", element=\"825618ce-a34a-45fe-9356-85d77a8bffbb\")>,\n",
       " <selenium.webdriver.remote.webelement.WebElement (session=\"097acb3de4f78fd0b4bc5d601f10cab0\", element=\"ddb0348d-6329-4d46-8948-220b99a109f9\")>,\n",
       " <selenium.webdriver.remote.webelement.WebElement (session=\"097acb3de4f78fd0b4bc5d601f10cab0\", element=\"5fb015df-7d22-4405-bb35-85b3cba4199a\")>,\n",
       " <selenium.webdriver.remote.webelement.WebElement (session=\"097acb3de4f78fd0b4bc5d601f10cab0\", element=\"4ff06b96-c5a5-4572-8e56-c0c64299b4d1\")>,\n",
       " <selenium.webdriver.remote.webelement.WebElement (session=\"097acb3de4f78fd0b4bc5d601f10cab0\", element=\"d70b5391-febb-425c-9e81-811379f8a766\")>,\n",
       " <selenium.webdriver.remote.webelement.WebElement (session=\"097acb3de4f78fd0b4bc5d601f10cab0\", element=\"4e67d067-3c8e-4474-ab47-e8e650517eb8\")>,\n",
       " <selenium.webdriver.remote.webelement.WebElement (session=\"097acb3de4f78fd0b4bc5d601f10cab0\", element=\"d31dd707-4694-49af-92a1-ee9221609baf\")>,\n",
       " <selenium.webdriver.remote.webelement.WebElement (session=\"097acb3de4f78fd0b4bc5d601f10cab0\", element=\"a14f47ac-142f-42e3-a734-c60f61c01b50\")>,\n",
       " <selenium.webdriver.remote.webelement.WebElement (session=\"097acb3de4f78fd0b4bc5d601f10cab0\", element=\"118a11c6-2331-4256-a992-6b446cfec2ff\")>,\n",
       " <selenium.webdriver.remote.webelement.WebElement (session=\"097acb3de4f78fd0b4bc5d601f10cab0\", element=\"e59566b3-fdbb-49dc-bcfd-7cfb4ca7ed67\")>,\n",
       " <selenium.webdriver.remote.webelement.WebElement (session=\"097acb3de4f78fd0b4bc5d601f10cab0\", element=\"fead7b1f-7205-4333-99d7-6386e944408c\")>,\n",
       " <selenium.webdriver.remote.webelement.WebElement (session=\"097acb3de4f78fd0b4bc5d601f10cab0\", element=\"e333e765-38b0-4437-9499-69d0b4639973\")>,\n",
       " <selenium.webdriver.remote.webelement.WebElement (session=\"097acb3de4f78fd0b4bc5d601f10cab0\", element=\"761c094e-1419-450f-b9f3-1e49d79c2c5f\")>,\n",
       " <selenium.webdriver.remote.webelement.WebElement (session=\"097acb3de4f78fd0b4bc5d601f10cab0\", element=\"6e1df11c-2fa0-4893-a921-f2432a36646b\")>,\n",
       " <selenium.webdriver.remote.webelement.WebElement (session=\"097acb3de4f78fd0b4bc5d601f10cab0\", element=\"25464e88-58b7-4925-afee-bd1e0103e411\")>,\n",
       " <selenium.webdriver.remote.webelement.WebElement (session=\"097acb3de4f78fd0b4bc5d601f10cab0\", element=\"5c24049f-1cb6-44e6-857f-09d725527fef\")>,\n",
       " <selenium.webdriver.remote.webelement.WebElement (session=\"097acb3de4f78fd0b4bc5d601f10cab0\", element=\"a7595058-98f0-40f6-b093-2a0ef594fccc\")>,\n",
       " <selenium.webdriver.remote.webelement.WebElement (session=\"097acb3de4f78fd0b4bc5d601f10cab0\", element=\"45b1ae14-2872-4048-b8c9-5d8477fba7d1\")>,\n",
       " <selenium.webdriver.remote.webelement.WebElement (session=\"097acb3de4f78fd0b4bc5d601f10cab0\", element=\"30eb4b21-db4b-4acd-a2c4-e4719cf7d31f\")>,\n",
       " <selenium.webdriver.remote.webelement.WebElement (session=\"097acb3de4f78fd0b4bc5d601f10cab0\", element=\"efe5f0d4-941b-442a-bd60-e7edf2114406\")>,\n",
       " <selenium.webdriver.remote.webelement.WebElement (session=\"097acb3de4f78fd0b4bc5d601f10cab0\", element=\"de2e0afd-a3db-4803-8162-d97ade15c832\")>,\n",
       " <selenium.webdriver.remote.webelement.WebElement (session=\"097acb3de4f78fd0b4bc5d601f10cab0\", element=\"2e621a4e-3b43-4fb1-b042-885beda86311\")>,\n",
       " <selenium.webdriver.remote.webelement.WebElement (session=\"097acb3de4f78fd0b4bc5d601f10cab0\", element=\"f33e2c73-ad8b-41fc-bf65-950998283712\")>,\n",
       " <selenium.webdriver.remote.webelement.WebElement (session=\"097acb3de4f78fd0b4bc5d601f10cab0\", element=\"5d182f9b-f65b-4fa7-99a3-de3ece5d4cf8\")>]"
      ]
     },
     "execution_count": 212,
     "metadata": {},
     "output_type": "execute_result"
    }
   ],
   "source": [
    "price2=driver4.find_elements_by_xpath('//div[@class=\"_30jeq3\"]')\n",
    "price2"
   ]
  },
  {
   "cell_type": "code",
   "execution_count": 213,
   "id": "3f5be411",
   "metadata": {},
   "outputs": [
    {
     "data": {
      "text/plain": [
       "['₹519',\n",
       " '₹709',\n",
       " '₹148',\n",
       " '₹203',\n",
       " '₹179',\n",
       " '₹208',\n",
       " '₹175',\n",
       " '₹649',\n",
       " '₹152',\n",
       " '₹182',\n",
       " '₹629',\n",
       " '₹709',\n",
       " '₹629',\n",
       " '₹148',\n",
       " '₹115',\n",
       " '₹246',\n",
       " '₹175',\n",
       " '₹234',\n",
       " '₹183',\n",
       " '₹649',\n",
       " '₹134',\n",
       " '₹424',\n",
       " '₹213',\n",
       " '₹409',\n",
       " '₹239',\n",
       " '₹549',\n",
       " '₹170',\n",
       " '₹649',\n",
       " '₹225',\n",
       " '₹149',\n",
       " '₹548',\n",
       " '₹614',\n",
       " '₹136',\n",
       " '₹329',\n",
       " '₹131',\n",
       " '₹614',\n",
       " '₹128',\n",
       " '₹139',\n",
       " '₹239',\n",
       " '₹281']"
      ]
     },
     "execution_count": 213,
     "metadata": {},
     "output_type": "execute_result"
    }
   ],
   "source": [
    "price2_name=[]\n",
    "for i in price2:\n",
    "    price2_name.append(i.text)\n",
    "    \n",
    "price2_name"
   ]
  },
  {
   "cell_type": "code",
   "execution_count": 214,
   "id": "71d3b017",
   "metadata": {},
   "outputs": [],
   "source": [
    "next_page=driver4.find_element_by_class_name('ge-49M')"
   ]
  },
  {
   "cell_type": "code",
   "execution_count": 215,
   "id": "972e07f7",
   "metadata": {},
   "outputs": [
    {
     "data": {
      "text/plain": [
       "<selenium.webdriver.remote.webelement.WebElement (session=\"097acb3de4f78fd0b4bc5d601f10cab0\", element=\"bd0acc2b-54cc-40a6-ab47-79d26afb1e04\")>"
      ]
     },
     "execution_count": 215,
     "metadata": {},
     "output_type": "execute_result"
    }
   ],
   "source": [
    "next_page"
   ]
  },
  {
   "cell_type": "code",
   "execution_count": 216,
   "id": "c5ae6792",
   "metadata": {},
   "outputs": [],
   "source": [
    "next_page.click()"
   ]
  },
  {
   "cell_type": "code",
   "execution_count": 217,
   "id": "7fae1862",
   "metadata": {},
   "outputs": [
    {
     "data": {
      "text/plain": [
       "[<selenium.webdriver.remote.webelement.WebElement (session=\"097acb3de4f78fd0b4bc5d601f10cab0\", element=\"cca01b28-3218-4811-afe1-e63ff6b8b6f6\")>,\n",
       " <selenium.webdriver.remote.webelement.WebElement (session=\"097acb3de4f78fd0b4bc5d601f10cab0\", element=\"515c1377-fffe-4766-89c4-33ac4df4a250\")>,\n",
       " <selenium.webdriver.remote.webelement.WebElement (session=\"097acb3de4f78fd0b4bc5d601f10cab0\", element=\"6acdac1c-4a9f-444d-91e7-d46c8c425f9b\")>,\n",
       " <selenium.webdriver.remote.webelement.WebElement (session=\"097acb3de4f78fd0b4bc5d601f10cab0\", element=\"0ad5bf67-4159-468a-8dbd-878d8d199921\")>,\n",
       " <selenium.webdriver.remote.webelement.WebElement (session=\"097acb3de4f78fd0b4bc5d601f10cab0\", element=\"c78a36fd-a9d1-41fa-844d-99d92d9b782e\")>,\n",
       " <selenium.webdriver.remote.webelement.WebElement (session=\"097acb3de4f78fd0b4bc5d601f10cab0\", element=\"230fa699-c27c-4cf5-bc6b-4e56f80c022a\")>,\n",
       " <selenium.webdriver.remote.webelement.WebElement (session=\"097acb3de4f78fd0b4bc5d601f10cab0\", element=\"820020cf-2da1-47ef-bbb7-7a97da469054\")>,\n",
       " <selenium.webdriver.remote.webelement.WebElement (session=\"097acb3de4f78fd0b4bc5d601f10cab0\", element=\"948a4080-c37b-4a70-b00c-33cc8423b351\")>,\n",
       " <selenium.webdriver.remote.webelement.WebElement (session=\"097acb3de4f78fd0b4bc5d601f10cab0\", element=\"6f18b8cf-0d9c-428f-901d-8e52e3b790af\")>,\n",
       " <selenium.webdriver.remote.webelement.WebElement (session=\"097acb3de4f78fd0b4bc5d601f10cab0\", element=\"578e709d-2c1c-4bba-a807-11579ad75814\")>,\n",
       " <selenium.webdriver.remote.webelement.WebElement (session=\"097acb3de4f78fd0b4bc5d601f10cab0\", element=\"c94fe5b3-4e0a-4817-b2f0-79c9ab744f5e\")>,\n",
       " <selenium.webdriver.remote.webelement.WebElement (session=\"097acb3de4f78fd0b4bc5d601f10cab0\", element=\"be070b0c-e47a-45dc-983a-86d8f2622aa1\")>,\n",
       " <selenium.webdriver.remote.webelement.WebElement (session=\"097acb3de4f78fd0b4bc5d601f10cab0\", element=\"8168f829-471c-4566-b5d8-2c78644ee24a\")>,\n",
       " <selenium.webdriver.remote.webelement.WebElement (session=\"097acb3de4f78fd0b4bc5d601f10cab0\", element=\"86de1a1f-a93e-41de-af87-cb8122f1e350\")>,\n",
       " <selenium.webdriver.remote.webelement.WebElement (session=\"097acb3de4f78fd0b4bc5d601f10cab0\", element=\"d0f3ffdb-cc6d-40b4-9223-193bb1dcd532\")>,\n",
       " <selenium.webdriver.remote.webelement.WebElement (session=\"097acb3de4f78fd0b4bc5d601f10cab0\", element=\"156a1e56-00b4-4972-be49-9d80c53f7a5b\")>,\n",
       " <selenium.webdriver.remote.webelement.WebElement (session=\"097acb3de4f78fd0b4bc5d601f10cab0\", element=\"dbc4d1f6-b7f0-4efb-86c4-2eb4b61c2e72\")>,\n",
       " <selenium.webdriver.remote.webelement.WebElement (session=\"097acb3de4f78fd0b4bc5d601f10cab0\", element=\"a6b062ad-4d3c-4e70-a561-056eb485bcb0\")>,\n",
       " <selenium.webdriver.remote.webelement.WebElement (session=\"097acb3de4f78fd0b4bc5d601f10cab0\", element=\"f18305ab-352b-4d70-8781-1ff0628996d6\")>,\n",
       " <selenium.webdriver.remote.webelement.WebElement (session=\"097acb3de4f78fd0b4bc5d601f10cab0\", element=\"68be5b86-f8b8-49a1-b3ee-41f78f6423a6\")>,\n",
       " <selenium.webdriver.remote.webelement.WebElement (session=\"097acb3de4f78fd0b4bc5d601f10cab0\", element=\"1e221bda-d4bf-4a9c-ba42-6c21fe2ba4d5\")>,\n",
       " <selenium.webdriver.remote.webelement.WebElement (session=\"097acb3de4f78fd0b4bc5d601f10cab0\", element=\"b9ff54e8-d1ce-4c7c-863d-bd15d1a7cd36\")>,\n",
       " <selenium.webdriver.remote.webelement.WebElement (session=\"097acb3de4f78fd0b4bc5d601f10cab0\", element=\"15074725-45f3-4b41-aa58-f4c065fc4851\")>,\n",
       " <selenium.webdriver.remote.webelement.WebElement (session=\"097acb3de4f78fd0b4bc5d601f10cab0\", element=\"0069304f-3127-4bf7-b462-b7412e641bc9\")>,\n",
       " <selenium.webdriver.remote.webelement.WebElement (session=\"097acb3de4f78fd0b4bc5d601f10cab0\", element=\"5036117c-45a6-4f75-80c6-65123458ebe0\")>,\n",
       " <selenium.webdriver.remote.webelement.WebElement (session=\"097acb3de4f78fd0b4bc5d601f10cab0\", element=\"89126e0a-0fd6-4345-b25f-f2e78c6ec13b\")>,\n",
       " <selenium.webdriver.remote.webelement.WebElement (session=\"097acb3de4f78fd0b4bc5d601f10cab0\", element=\"a5baa034-ccfa-4a97-9f4b-a240bf66a924\")>,\n",
       " <selenium.webdriver.remote.webelement.WebElement (session=\"097acb3de4f78fd0b4bc5d601f10cab0\", element=\"a1cd0a8a-7f60-4468-b23f-64ebcd55a0ed\")>,\n",
       " <selenium.webdriver.remote.webelement.WebElement (session=\"097acb3de4f78fd0b4bc5d601f10cab0\", element=\"70f5633f-ea68-4274-93bd-f961ee81602c\")>,\n",
       " <selenium.webdriver.remote.webelement.WebElement (session=\"097acb3de4f78fd0b4bc5d601f10cab0\", element=\"ab728f6f-f1df-434e-80af-53bce48a56ec\")>,\n",
       " <selenium.webdriver.remote.webelement.WebElement (session=\"097acb3de4f78fd0b4bc5d601f10cab0\", element=\"e0c454da-f27c-436c-97ba-6581983cd45a\")>,\n",
       " <selenium.webdriver.remote.webelement.WebElement (session=\"097acb3de4f78fd0b4bc5d601f10cab0\", element=\"45b0847c-9909-4279-9b27-f285055b5bc4\")>,\n",
       " <selenium.webdriver.remote.webelement.WebElement (session=\"097acb3de4f78fd0b4bc5d601f10cab0\", element=\"69ad09c8-d8f2-4dc3-b52a-e9c54b543ab1\")>,\n",
       " <selenium.webdriver.remote.webelement.WebElement (session=\"097acb3de4f78fd0b4bc5d601f10cab0\", element=\"6d92faa6-ca1c-47e7-96c7-1675d686096d\")>,\n",
       " <selenium.webdriver.remote.webelement.WebElement (session=\"097acb3de4f78fd0b4bc5d601f10cab0\", element=\"5d50151d-33c9-4210-9913-82b4ac7390f7\")>,\n",
       " <selenium.webdriver.remote.webelement.WebElement (session=\"097acb3de4f78fd0b4bc5d601f10cab0\", element=\"58742633-b429-4bd4-b5cf-c7c1df04fdb5\")>,\n",
       " <selenium.webdriver.remote.webelement.WebElement (session=\"097acb3de4f78fd0b4bc5d601f10cab0\", element=\"989367ad-e1e0-4375-87f1-4ea8c2997aba\")>,\n",
       " <selenium.webdriver.remote.webelement.WebElement (session=\"097acb3de4f78fd0b4bc5d601f10cab0\", element=\"34efe712-4abc-42df-bbcf-9489c9e5995a\")>,\n",
       " <selenium.webdriver.remote.webelement.WebElement (session=\"097acb3de4f78fd0b4bc5d601f10cab0\", element=\"9c09c4e1-034a-4c4a-a6bd-cac9877f1ed1\")>,\n",
       " <selenium.webdriver.remote.webelement.WebElement (session=\"097acb3de4f78fd0b4bc5d601f10cab0\", element=\"7804eece-2143-4454-8657-176db1d8189b\")>]"
      ]
     },
     "execution_count": 217,
     "metadata": {},
     "output_type": "execute_result"
    }
   ],
   "source": [
    "page3_brand=driver4.find_elements_by_xpath('//div[@class=\"_2WkVRV\"]')\n",
    "page3_brand"
   ]
  },
  {
   "cell_type": "code",
   "execution_count": 218,
   "id": "5600c4aa",
   "metadata": {},
   "outputs": [
    {
     "data": {
      "text/plain": [
       "['ROYAL SON',\n",
       " 'ROYAL SON',\n",
       " 'SRPM',\n",
       " 'SUNBEE',\n",
       " 'PIRASO',\n",
       " 'Elligator',\n",
       " 'PIRASO',\n",
       " 'ROYAL SON',\n",
       " 'DEIXELS',\n",
       " 'New Specs',\n",
       " 'Fastrack',\n",
       " 'ROYAL SON',\n",
       " 'Fastrack',\n",
       " 'GANSTA',\n",
       " 'SHAAH COLLECTIONS',\n",
       " 'NuVew',\n",
       " 'PIRASO',\n",
       " 'SUNBEE',\n",
       " 'Silver Kartz',\n",
       " 'ROYAL SON',\n",
       " 'kingsunglasses',\n",
       " 'ROZZETTA CRAFT',\n",
       " 'New Specs',\n",
       " 'AISLIN',\n",
       " 'kingsunglasses',\n",
       " 'Fastrack',\n",
       " 'SRPM',\n",
       " 'ROYAL SON',\n",
       " 'Lee Topper',\n",
       " 'Lee Topper',\n",
       " 'Fastrack',\n",
       " 'ROYAL SON',\n",
       " 'kingsunglasses',\n",
       " 'ROYAL SON',\n",
       " 'SHAAH COLLECTIONS',\n",
       " 'ROYAL SON',\n",
       " 'SRPM',\n",
       " 'Elligator',\n",
       " 'PHENOMENAL',\n",
       " 'ROZZETTA CRAFT']"
      ]
     },
     "execution_count": 218,
     "metadata": {},
     "output_type": "execute_result"
    }
   ],
   "source": [
    "brand3=[]\n",
    "for i in page3_brand:\n",
    "    brand3.append(i.text)\n",
    "    brand3.append:brand3[0:20]\n",
    "brand3"
   ]
  },
  {
   "cell_type": "markdown",
   "id": "84320278",
   "metadata": {},
   "source": [
    "# Q5: Scrape 100 reviews data from flipkart.com for iphone11 phone. You have to go the link:"
   ]
  },
  {
   "cell_type": "code",
   "execution_count": 219,
   "id": "420357fc",
   "metadata": {},
   "outputs": [],
   "source": [
    "driver5=webdriver.Chrome('chromedriver.exe')"
   ]
  },
  {
   "cell_type": "code",
   "execution_count": null,
   "id": "74e1230f",
   "metadata": {},
   "outputs": [],
   "source": [
    "url5=https:\"s://www.flipkart.com/apple-iphone-11-black-64-gb-includes- earpods-power\u0002adapter/p/itm0f37c2240b217?pid=MOBFKCTSVZAXUHGR&lid=LSTMOBFKCTSVZAXUHGREPBFGI&marketplace\""
   ]
  },
  {
   "cell_type": "code",
   "execution_count": null,
   "id": "22a50cae",
   "metadata": {},
   "outputs": [],
   "source": [
    "driver5.get(url5)"
   ]
  },
  {
   "cell_type": "raw",
   "id": "9e56e50b",
   "metadata": {},
   "source": [
    "# The Link provided above is not opening in 'automated tested chrome' it may be removed by flipkart so cannot scrap the data. "
   ]
  },
  {
   "cell_type": "markdown",
   "id": "14907634",
   "metadata": {},
   "source": [
    "# Q6: Scrape data for first 100 sneakers you find when you visit flipkart.com andsearch for “sneakers” in the search field.  You have to scrape 4 attributes of each sneaker: 1. Brand 2. Product Description 3. Price\n"
   ]
  },
  {
   "cell_type": "code",
   "execution_count": 230,
   "id": "f5b6f763",
   "metadata": {},
   "outputs": [],
   "source": [
    "driver6=webdriver.Chrome('chromedriver.exe')"
   ]
  },
  {
   "cell_type": "code",
   "execution_count": 231,
   "id": "08471c5c",
   "metadata": {},
   "outputs": [],
   "source": [
    "url6=\"https://www.flipkart.com/\"\n",
    "driver6.get(url6)"
   ]
  },
  {
   "cell_type": "code",
   "execution_count": 232,
   "id": "84d76313",
   "metadata": {},
   "outputs": [],
   "source": [
    "srh_sneaker=driver6.find_element_by_class_name('_3704LK')"
   ]
  },
  {
   "cell_type": "code",
   "execution_count": 233,
   "id": "ab1c7a74",
   "metadata": {},
   "outputs": [
    {
     "data": {
      "text/plain": [
       "<selenium.webdriver.remote.webelement.WebElement (session=\"0589ce7fe05662a439ffcac636061717\", element=\"8eb04076-b507-4258-aff0-4afc0e2c791c\")>"
      ]
     },
     "execution_count": 233,
     "metadata": {},
     "output_type": "execute_result"
    }
   ],
   "source": [
    "srh_sneaker"
   ]
  },
  {
   "cell_type": "code",
   "execution_count": 234,
   "id": "f39a6967",
   "metadata": {},
   "outputs": [],
   "source": [
    "srh_sneaker.send_keys('sneakers')"
   ]
  },
  {
   "cell_type": "code",
   "execution_count": 235,
   "id": "4713e71b",
   "metadata": {},
   "outputs": [],
   "source": [
    "srh_btn6=driver6.find_element_by_class_name(\"_34RNph\")\n",
    "srh_btn6.click()"
   ]
  },
  {
   "cell_type": "code",
   "execution_count": 236,
   "id": "3eac40e5",
   "metadata": {},
   "outputs": [],
   "source": [
    "brand_name6 = []\n",
    "prd_desc6 = []\n",
    "price6 = []\n",
    "discount6 = []\n",
    "\n",
    "for k in range(1,4):\n",
    "\n",
    "    \n",
    "    brand = driver6.find_elements_by_class_name('_2WkVRV')\n",
    "    \n",
    "\n",
    "    for i in brand:\n",
    "        brand_name6.append(i.text)\n",
    "\n",
    "    desc = driver6.find_elements_by_class_name('IRpwTa')\n",
    "    \n",
    "\n",
    "    for i in desc:\n",
    "        prd_desc6.append(i.text)\n",
    "\n",
    "    cost = driver6.find_elements_by_class_name(\"_30jeq3\")\n",
    "    \n",
    "\n",
    "    for i in cost:\n",
    "        price6.append(i.text)\n",
    "\n",
    "\n",
    "    dis = driver6.find_elements_by_class_name(\"_3Ay6Sb\")\n",
    "    \n",
    "    for i in dis:\n",
    "        discount6.append(i.text)\n",
    "    \n",
    "    \n",
    "        nxt_button=driver6.find_elements_by_xpath(\"//a[@class='_1LKTO3']\")              \n",
    "    try:\n",
    "\n",
    "        driver6.get(nxt_button[1].get_attribute('href'))\n",
    "        \n",
    "\n",
    "    except:\n",
    "\n",
    "        driver6.get(nxt_button[0].get_attribute('href'))"
   ]
  },
  {
   "cell_type": "code",
   "execution_count": 237,
   "id": "f973faa3",
   "metadata": {},
   "outputs": [],
   "source": [
    "brand_name6 = brand_name6[0:100]\n",
    "prd_desc6 = prd_desc6[0:100]\n",
    "price6 = price6[0:100]\n",
    "discount6 = discount6[0:100]"
   ]
  },
  {
   "cell_type": "code",
   "execution_count": 238,
   "id": "477083db",
   "metadata": {},
   "outputs": [],
   "source": [
    "df6 = pd.DataFrame({})\n",
    "df6['brand_name'] = brand_name6\n",
    "df6['prd_desc'] = prd_desc6\n",
    "df6['price'] = price6\n",
    "df6['discount'] = discount6"
   ]
  },
  {
   "cell_type": "code",
   "execution_count": 239,
   "id": "494cf826",
   "metadata": {},
   "outputs": [
    {
     "data": {
      "text/html": [
       "<div>\n",
       "<style scoped>\n",
       "    .dataframe tbody tr th:only-of-type {\n",
       "        vertical-align: middle;\n",
       "    }\n",
       "\n",
       "    .dataframe tbody tr th {\n",
       "        vertical-align: top;\n",
       "    }\n",
       "\n",
       "    .dataframe thead th {\n",
       "        text-align: right;\n",
       "    }\n",
       "</style>\n",
       "<table border=\"1\" class=\"dataframe\">\n",
       "  <thead>\n",
       "    <tr style=\"text-align: right;\">\n",
       "      <th></th>\n",
       "      <th>brand_name</th>\n",
       "      <th>prd_desc</th>\n",
       "      <th>price</th>\n",
       "      <th>discount</th>\n",
       "    </tr>\n",
       "  </thead>\n",
       "  <tbody>\n",
       "    <tr>\n",
       "      <th>0</th>\n",
       "      <td>BRUTON</td>\n",
       "      <td>Combo Pack Of 4 Casual Shoes Loafer Shoes Snea...</td>\n",
       "      <td>₹499</td>\n",
       "      <td>85% off</td>\n",
       "    </tr>\n",
       "    <tr>\n",
       "      <th>1</th>\n",
       "      <td>KWIK FIT</td>\n",
       "      <td>Kwik FIT casual sneaker shoes and partywear sh...</td>\n",
       "      <td>₹429</td>\n",
       "      <td>78% off</td>\n",
       "    </tr>\n",
       "    <tr>\n",
       "      <th>2</th>\n",
       "      <td>SPARX</td>\n",
       "      <td>SM-322 Sneakers For Men</td>\n",
       "      <td>₹891</td>\n",
       "      <td>15% off</td>\n",
       "    </tr>\n",
       "    <tr>\n",
       "      <th>3</th>\n",
       "      <td>SPARX</td>\n",
       "      <td>SM-322 Sneakers For Men</td>\n",
       "      <td>₹688</td>\n",
       "      <td>31% off</td>\n",
       "    </tr>\n",
       "    <tr>\n",
       "      <th>4</th>\n",
       "      <td>Labbin</td>\n",
       "      <td>Sneakers For Men</td>\n",
       "      <td>₹474</td>\n",
       "      <td>52% off</td>\n",
       "    </tr>\n",
       "    <tr>\n",
       "      <th>...</th>\n",
       "      <td>...</td>\n",
       "      <td>...</td>\n",
       "      <td>...</td>\n",
       "      <td>...</td>\n",
       "    </tr>\n",
       "    <tr>\n",
       "      <th>95</th>\n",
       "      <td>RapidBox</td>\n",
       "      <td>Sneakers For Men</td>\n",
       "      <td>₹2,294</td>\n",
       "      <td>61% off</td>\n",
       "    </tr>\n",
       "    <tr>\n",
       "      <th>96</th>\n",
       "      <td>PUMA</td>\n",
       "      <td>Future Rider Core Sneakers For Men</td>\n",
       "      <td>₹2,749</td>\n",
       "      <td>48% off</td>\n",
       "    </tr>\n",
       "    <tr>\n",
       "      <th>97</th>\n",
       "      <td>PUMA</td>\n",
       "      <td>X-Ray Square Celestial Sneakers For Men</td>\n",
       "      <td>₹499</td>\n",
       "      <td>76% off</td>\n",
       "    </tr>\n",
       "    <tr>\n",
       "      <th>98</th>\n",
       "      <td>FLYING MACHINE</td>\n",
       "      <td>LOPAZ Sneakers For Men</td>\n",
       "      <td>₹1,344</td>\n",
       "      <td>80% off</td>\n",
       "    </tr>\n",
       "    <tr>\n",
       "      <th>99</th>\n",
       "      <td>AMICO</td>\n",
       "      <td>Sneakers For Men</td>\n",
       "      <td>₹1,767</td>\n",
       "      <td>65% off</td>\n",
       "    </tr>\n",
       "  </tbody>\n",
       "</table>\n",
       "<p>100 rows × 4 columns</p>\n",
       "</div>"
      ],
      "text/plain": [
       "        brand_name                                           prd_desc   price  \\\n",
       "0           BRUTON  Combo Pack Of 4 Casual Shoes Loafer Shoes Snea...    ₹499   \n",
       "1         KWIK FIT  Kwik FIT casual sneaker shoes and partywear sh...    ₹429   \n",
       "2            SPARX                            SM-322 Sneakers For Men    ₹891   \n",
       "3            SPARX                            SM-322 Sneakers For Men    ₹688   \n",
       "4           Labbin                                   Sneakers For Men    ₹474   \n",
       "..             ...                                                ...     ...   \n",
       "95        RapidBox                                   Sneakers For Men  ₹2,294   \n",
       "96            PUMA                 Future Rider Core Sneakers For Men  ₹2,749   \n",
       "97            PUMA            X-Ray Square Celestial Sneakers For Men    ₹499   \n",
       "98  FLYING MACHINE                             LOPAZ Sneakers For Men  ₹1,344   \n",
       "99           AMICO                                   Sneakers For Men  ₹1,767   \n",
       "\n",
       "   discount  \n",
       "0   85% off  \n",
       "1   78% off  \n",
       "2   15% off  \n",
       "3   31% off  \n",
       "4   52% off  \n",
       "..      ...  \n",
       "95  61% off  \n",
       "96  48% off  \n",
       "97  76% off  \n",
       "98  80% off  \n",
       "99  65% off  \n",
       "\n",
       "[100 rows x 4 columns]"
      ]
     },
     "execution_count": 239,
     "metadata": {},
     "output_type": "execute_result"
    }
   ],
   "source": [
    "df6"
   ]
  },
  {
   "cell_type": "markdown",
   "id": "6c68aeaf",
   "metadata": {},
   "source": [
    "# Q7: Go to the link - https://www.myntra.com/shoes  Set Price filter to “Rs. 7149 to Rs. 14099 ” , Color filter to “Black”, as shown inthe below image.\n"
   ]
  },
  {
   "cell_type": "code",
   "execution_count": 240,
   "id": "b7deeb73",
   "metadata": {},
   "outputs": [],
   "source": [
    "driver=webdriver.Chrome('chromedriver.exe')"
   ]
  },
  {
   "cell_type": "code",
   "execution_count": 242,
   "id": "bfb1ddeb",
   "metadata": {},
   "outputs": [],
   "source": [
    "url = \"https://www.myntra.com/shoes\"\n",
    "\n",
    "driver.get(url)"
   ]
  },
  {
   "cell_type": "code",
   "execution_count": 243,
   "id": "f44891ea",
   "metadata": {},
   "outputs": [],
   "source": [
    "driver.find_element_by_xpath(\"/html/body/div[2]/div/div[1]/main/div[3]/div[1]/section/div/div[5]/ul/li[2]/label/div\").click()"
   ]
  },
  {
   "cell_type": "code",
   "execution_count": 244,
   "id": "b10e3690",
   "metadata": {},
   "outputs": [],
   "source": [
    "driver.find_element_by_xpath(\"/html/body/div[2]/div/div[1]/main/div[3]/div[1]/section/div/div[6]/ul/li[1]/label/div\").click()"
   ]
  },
  {
   "cell_type": "code",
   "execution_count": 245,
   "id": "d2ad7b7f",
   "metadata": {},
   "outputs": [],
   "source": [
    "brand_name7 = []\n",
    "prd_desc7 = []\n",
    "price7 = []\n",
    "\n",
    "\n",
    "\n",
    "brand = driver.find_elements_by_class_name('product-brand')\n",
    "    \n",
    "\n",
    "for i in brand:\n",
    "    brand_name7.append(i.text)\n",
    "\n",
    "desc = driver.find_elements_by_class_name('product-product')\n",
    "    \n",
    "for i in desc:\n",
    "    prd_desc7.append(i.text)\n",
    "\n",
    "cost = driver.find_elements_by_class_name(\"product-price\")\n",
    "    \n",
    "\n",
    "for i in cost:\n",
    "    price7.append(i.text)"
   ]
  },
  {
   "cell_type": "code",
   "execution_count": 246,
   "id": "5c12fbdf",
   "metadata": {},
   "outputs": [
    {
     "data": {
      "text/plain": [
       "(50, 50, 50)"
      ]
     },
     "execution_count": 246,
     "metadata": {},
     "output_type": "execute_result"
    }
   ],
   "source": [
    "len(brand_name7),len(prd_desc7),len(price7)"
   ]
  },
  {
   "cell_type": "code",
   "execution_count": 247,
   "id": "6d431aad",
   "metadata": {},
   "outputs": [],
   "source": [
    "driver = webdriver.Chrome('chromedriver.exe')\n",
    "\n",
    "url = \"https://www.myntra.com/shoes?f=Color%3ABlack_36454f&p=2&plaEnabled=false&rf=Price%3A6657.0_13105.0_6657.0%20TO%2013105.0\"\n",
    "\n",
    "driver.get(url)"
   ]
  },
  {
   "cell_type": "code",
   "execution_count": 248,
   "id": "b9d9a908",
   "metadata": {},
   "outputs": [],
   "source": [
    "brand_name1 = []\n",
    "prd_desc1 = []\n",
    "price1 = []\n",
    "\n",
    "\n",
    "\n",
    "brand = driver.find_elements_by_class_name('product-brand')\n",
    "    \n",
    "\n",
    "for i in brand:\n",
    "    brand_name1.append(i.text)\n",
    "\n",
    "desc = driver.find_elements_by_class_name('product-product')\n",
    "    \n",
    "for i in desc:\n",
    "    prd_desc1.append(i.text)\n",
    "\n",
    "cost = driver.find_elements_by_class_name(\"product-price\")\n",
    "    \n",
    "\n",
    "for i in cost:\n",
    "    price1.append(i.text)"
   ]
  },
  {
   "cell_type": "code",
   "execution_count": 249,
   "id": "ea0900d4",
   "metadata": {},
   "outputs": [],
   "source": [
    "df24 = pd.DataFrame({})\n",
    "df24['brand_name'] = brand_name7+brand_name1\n",
    "df24['prd_desc'] = prd_desc7+prd_desc1\n",
    "df24['[price]'] = price7+prd_desc1\n"
   ]
  },
  {
   "cell_type": "code",
   "execution_count": 250,
   "id": "c92bf0b8",
   "metadata": {},
   "outputs": [
    {
     "data": {
      "text/html": [
       "<div>\n",
       "<style scoped>\n",
       "    .dataframe tbody tr th:only-of-type {\n",
       "        vertical-align: middle;\n",
       "    }\n",
       "\n",
       "    .dataframe tbody tr th {\n",
       "        vertical-align: top;\n",
       "    }\n",
       "\n",
       "    .dataframe thead th {\n",
       "        text-align: right;\n",
       "    }\n",
       "</style>\n",
       "<table border=\"1\" class=\"dataframe\">\n",
       "  <thead>\n",
       "    <tr style=\"text-align: right;\">\n",
       "      <th></th>\n",
       "      <th>brand_name</th>\n",
       "      <th>prd_desc</th>\n",
       "      <th>[price]</th>\n",
       "    </tr>\n",
       "  </thead>\n",
       "  <tbody>\n",
       "    <tr>\n",
       "      <th>0</th>\n",
       "      <td>Nike</td>\n",
       "      <td>Men Winflo 7 Running Shoes</td>\n",
       "      <td>Rs. 7995</td>\n",
       "    </tr>\n",
       "    <tr>\n",
       "      <th>1</th>\n",
       "      <td>ALDO</td>\n",
       "      <td>Men Printed Sneakers</td>\n",
       "      <td>Rs. 9099Rs. 12999(30% OFF)</td>\n",
       "    </tr>\n",
       "    <tr>\n",
       "      <th>2</th>\n",
       "      <td>ALDO</td>\n",
       "      <td>Men Leather Driving Shoes</td>\n",
       "      <td>Rs. 12999</td>\n",
       "    </tr>\n",
       "    <tr>\n",
       "      <th>3</th>\n",
       "      <td>Tommy Hilfiger</td>\n",
       "      <td>Men Cleated Leather Sneakers</td>\n",
       "      <td>Rs. 7739Rs. 8599(10% OFF)</td>\n",
       "    </tr>\n",
       "    <tr>\n",
       "      <th>4</th>\n",
       "      <td>ALDO</td>\n",
       "      <td>Men Woven Design Sneakers</td>\n",
       "      <td>Rs. 13999</td>\n",
       "    </tr>\n",
       "    <tr>\n",
       "      <th>...</th>\n",
       "      <td>...</td>\n",
       "      <td>...</td>\n",
       "      <td>...</td>\n",
       "    </tr>\n",
       "    <tr>\n",
       "      <th>95</th>\n",
       "      <td>Cole Haan</td>\n",
       "      <td>Women Open Toe Flats</td>\n",
       "      <td>Women Open Toe Flats</td>\n",
       "    </tr>\n",
       "    <tr>\n",
       "      <th>96</th>\n",
       "      <td>Royal Enfield</td>\n",
       "      <td>Cabo WP Riding Boots</td>\n",
       "      <td>Cabo WP Riding Boots</td>\n",
       "    </tr>\n",
       "    <tr>\n",
       "      <th>97</th>\n",
       "      <td>J.FONTINI</td>\n",
       "      <td>Men Leather Formal Loafers</td>\n",
       "      <td>Men Leather Formal Loafers</td>\n",
       "    </tr>\n",
       "    <tr>\n",
       "      <th>98</th>\n",
       "      <td>ASICS</td>\n",
       "      <td>Men Colourblocked PU Sneakers</td>\n",
       "      <td>Men Colourblocked PU Sneakers</td>\n",
       "    </tr>\n",
       "    <tr>\n",
       "      <th>99</th>\n",
       "      <td>Cole Haan</td>\n",
       "      <td>Women Sneakers</td>\n",
       "      <td>Women Sneakers</td>\n",
       "    </tr>\n",
       "  </tbody>\n",
       "</table>\n",
       "<p>100 rows × 3 columns</p>\n",
       "</div>"
      ],
      "text/plain": [
       "        brand_name                       prd_desc  \\\n",
       "0             Nike     Men Winflo 7 Running Shoes   \n",
       "1             ALDO           Men Printed Sneakers   \n",
       "2             ALDO      Men Leather Driving Shoes   \n",
       "3   Tommy Hilfiger   Men Cleated Leather Sneakers   \n",
       "4             ALDO      Men Woven Design Sneakers   \n",
       "..             ...                            ...   \n",
       "95       Cole Haan           Women Open Toe Flats   \n",
       "96   Royal Enfield           Cabo WP Riding Boots   \n",
       "97       J.FONTINI     Men Leather Formal Loafers   \n",
       "98           ASICS  Men Colourblocked PU Sneakers   \n",
       "99       Cole Haan                 Women Sneakers   \n",
       "\n",
       "                          [price]  \n",
       "0                        Rs. 7995  \n",
       "1      Rs. 9099Rs. 12999(30% OFF)  \n",
       "2                       Rs. 12999  \n",
       "3       Rs. 7739Rs. 8599(10% OFF)  \n",
       "4                       Rs. 13999  \n",
       "..                            ...  \n",
       "95           Women Open Toe Flats  \n",
       "96           Cabo WP Riding Boots  \n",
       "97     Men Leather Formal Loafers  \n",
       "98  Men Colourblocked PU Sneakers  \n",
       "99                 Women Sneakers  \n",
       "\n",
       "[100 rows x 3 columns]"
      ]
     },
     "execution_count": 250,
     "metadata": {},
     "output_type": "execute_result"
    }
   ],
   "source": [
    "df24"
   ]
  },
  {
   "cell_type": "markdown",
   "id": "7bbb3b42",
   "metadata": {},
   "source": [
    "# Q8: Go to webpage https://www.amazon.in/ Enter “Laptop” in the search field and then click the search icon. Then set CPU Type filter to “Intel Core i7” and “Intel Core i9” as shown in the below image:\n"
   ]
  },
  {
   "cell_type": "code",
   "execution_count": 251,
   "id": "e7364d38",
   "metadata": {},
   "outputs": [],
   "source": [
    "import selenium \n",
    "from selenium import webdriver\n",
    "import pandas as pd\n",
    "import warnings \n",
    "warnings.filterwarnings('ignore')"
   ]
  },
  {
   "cell_type": "code",
   "execution_count": 252,
   "id": "93270776",
   "metadata": {},
   "outputs": [],
   "source": [
    "driver=webdriver.Chrome('chromedriver.exe')"
   ]
  },
  {
   "cell_type": "code",
   "execution_count": 253,
   "id": "a900c6ab",
   "metadata": {},
   "outputs": [],
   "source": [
    "url='https://www.amazon.in/'\n",
    "driver.get(url)\n"
   ]
  },
  {
   "cell_type": "code",
   "execution_count": 254,
   "id": "bb13bb7e",
   "metadata": {},
   "outputs": [
    {
     "data": {
      "text/plain": [
       "<selenium.webdriver.remote.webelement.WebElement (session=\"657e3a49db7b3d000eb76fa098dad58b\", element=\"c68f4e35-9881-4fa1-bb9f-fdd82282b11f\")>"
      ]
     },
     "execution_count": 254,
     "metadata": {},
     "output_type": "execute_result"
    }
   ],
   "source": [
    "srh_lap=driver.find_element_by_id('twotabsearchtextbox')\n",
    "srh_lap"
   ]
  },
  {
   "cell_type": "code",
   "execution_count": 255,
   "id": "111813c9",
   "metadata": {},
   "outputs": [],
   "source": [
    "srh_lap.send_keys(\"Laptop\")"
   ]
  },
  {
   "cell_type": "code",
   "execution_count": 256,
   "id": "f977910c",
   "metadata": {},
   "outputs": [],
   "source": [
    "button_srh=driver.find_element_by_id(\"nav-search-submit-button\")"
   ]
  },
  {
   "cell_type": "code",
   "execution_count": 257,
   "id": "f9212142",
   "metadata": {},
   "outputs": [],
   "source": [
    "button_srh.click()"
   ]
  },
  {
   "cell_type": "code",
   "execution_count": 258,
   "id": "045339f2",
   "metadata": {},
   "outputs": [],
   "source": [
    "core_i7=driver.find_element_by_xpath(\"/html/body/div[1]/div[2]/div[1]/div[2]/div/div[3]/span/div[1]/div/div/div[6]/ul[4]/li[12]/span/a/span\")"
   ]
  },
  {
   "cell_type": "code",
   "execution_count": 259,
   "id": "f7852ff4",
   "metadata": {},
   "outputs": [],
   "source": [
    "core_i7.click()"
   ]
  },
  {
   "cell_type": "code",
   "execution_count": 260,
   "id": "afda8acb",
   "metadata": {},
   "outputs": [],
   "source": [
    "core_i9=driver.find_element_by_xpath(\"/html/body/div[1]/div[2]/div[1]/div[2]/div/div[3]/span/div[1]/div/div/div[6]/ul[4]/li[14]/span/a/span\")"
   ]
  },
  {
   "cell_type": "code",
   "execution_count": 262,
   "id": "7541a59e",
   "metadata": {},
   "outputs": [],
   "source": [
    "core_i9.click()"
   ]
  },
  {
   "cell_type": "code",
   "execution_count": 263,
   "id": "ee00e73b",
   "metadata": {},
   "outputs": [],
   "source": [
    "lap_title=driver.find_elements_by_xpath('//a[@class=\"a-link-normal s-underline-text s-underline-link-text s-link-style a-text-normal\"]')"
   ]
  },
  {
   "cell_type": "code",
   "execution_count": 264,
   "id": "f1ffc579",
   "metadata": {},
   "outputs": [
    {
     "data": {
      "text/plain": [
       "[<selenium.webdriver.remote.webelement.WebElement (session=\"657e3a49db7b3d000eb76fa098dad58b\", element=\"390186f0-e48e-4ff1-a789-b57e4069fcec\")>,\n",
       " <selenium.webdriver.remote.webelement.WebElement (session=\"657e3a49db7b3d000eb76fa098dad58b\", element=\"422593ba-f43d-4a4b-acc6-d4d7b4d3b4e2\")>,\n",
       " <selenium.webdriver.remote.webelement.WebElement (session=\"657e3a49db7b3d000eb76fa098dad58b\", element=\"99da1bff-9674-4c29-8872-73d2263f5fbc\")>,\n",
       " <selenium.webdriver.remote.webelement.WebElement (session=\"657e3a49db7b3d000eb76fa098dad58b\", element=\"16cd3679-434e-406a-aeda-b667c656345f\")>,\n",
       " <selenium.webdriver.remote.webelement.WebElement (session=\"657e3a49db7b3d000eb76fa098dad58b\", element=\"833fb715-d614-4f87-97b4-9b9813bd1e3e\")>,\n",
       " <selenium.webdriver.remote.webelement.WebElement (session=\"657e3a49db7b3d000eb76fa098dad58b\", element=\"42c9af25-3f43-46f5-8dda-3e06ed33a919\")>,\n",
       " <selenium.webdriver.remote.webelement.WebElement (session=\"657e3a49db7b3d000eb76fa098dad58b\", element=\"6d678eac-38be-4b16-ad06-af770eab80d3\")>,\n",
       " <selenium.webdriver.remote.webelement.WebElement (session=\"657e3a49db7b3d000eb76fa098dad58b\", element=\"dcea038d-d21c-4a64-86a8-c22e10cd5b4d\")>,\n",
       " <selenium.webdriver.remote.webelement.WebElement (session=\"657e3a49db7b3d000eb76fa098dad58b\", element=\"8878c39e-bfe3-4bde-a2e9-51f6ebe4f681\")>,\n",
       " <selenium.webdriver.remote.webelement.WebElement (session=\"657e3a49db7b3d000eb76fa098dad58b\", element=\"75271e0f-77e6-4956-b352-1184d942329f\")>,\n",
       " <selenium.webdriver.remote.webelement.WebElement (session=\"657e3a49db7b3d000eb76fa098dad58b\", element=\"59b76578-f99e-4a88-a008-4a8c184cbbae\")>,\n",
       " <selenium.webdriver.remote.webelement.WebElement (session=\"657e3a49db7b3d000eb76fa098dad58b\", element=\"5e2ab210-0ad3-43a2-b1c5-94045c6bbbfe\")>,\n",
       " <selenium.webdriver.remote.webelement.WebElement (session=\"657e3a49db7b3d000eb76fa098dad58b\", element=\"b2d24cbf-84a3-4ea6-89e1-dcb9d89abf04\")>,\n",
       " <selenium.webdriver.remote.webelement.WebElement (session=\"657e3a49db7b3d000eb76fa098dad58b\", element=\"3f8c44a6-4c05-4df1-80a8-55ad464e6e31\")>,\n",
       " <selenium.webdriver.remote.webelement.WebElement (session=\"657e3a49db7b3d000eb76fa098dad58b\", element=\"606a8d06-1a88-4a78-b050-db0370f6ff4d\")>,\n",
       " <selenium.webdriver.remote.webelement.WebElement (session=\"657e3a49db7b3d000eb76fa098dad58b\", element=\"fd9c68e7-c0cc-497f-be60-484aa2bccec2\")>]"
      ]
     },
     "execution_count": 264,
     "metadata": {},
     "output_type": "execute_result"
    }
   ],
   "source": [
    "lap_title"
   ]
  },
  {
   "cell_type": "code",
   "execution_count": 265,
   "id": "b14c3a26",
   "metadata": {},
   "outputs": [],
   "source": [
    "lap_price=driver.find_elements_by_xpath('//span[@class=\"a-price-whole\"]')"
   ]
  },
  {
   "cell_type": "code",
   "execution_count": 266,
   "id": "08b5dca4",
   "metadata": {},
   "outputs": [
    {
     "data": {
      "text/plain": [
       "[<selenium.webdriver.remote.webelement.WebElement (session=\"657e3a49db7b3d000eb76fa098dad58b\", element=\"cf7cc59b-f051-4364-8f5a-c4f57af5ae2a\")>,\n",
       " <selenium.webdriver.remote.webelement.WebElement (session=\"657e3a49db7b3d000eb76fa098dad58b\", element=\"b4067f5b-527a-43f3-8735-cda29f8d0712\")>,\n",
       " <selenium.webdriver.remote.webelement.WebElement (session=\"657e3a49db7b3d000eb76fa098dad58b\", element=\"e60975da-7a25-4505-9616-70e4eea256fc\")>,\n",
       " <selenium.webdriver.remote.webelement.WebElement (session=\"657e3a49db7b3d000eb76fa098dad58b\", element=\"e7391742-9177-4ffb-8bc8-9d247614755b\")>,\n",
       " <selenium.webdriver.remote.webelement.WebElement (session=\"657e3a49db7b3d000eb76fa098dad58b\", element=\"529b6e64-58d1-45fd-bbec-66a38375ac6d\")>,\n",
       " <selenium.webdriver.remote.webelement.WebElement (session=\"657e3a49db7b3d000eb76fa098dad58b\", element=\"112d9fc0-cc9c-44a7-b6c2-0f8519d1c8bf\")>,\n",
       " <selenium.webdriver.remote.webelement.WebElement (session=\"657e3a49db7b3d000eb76fa098dad58b\", element=\"9083a697-37d6-44bf-ad3a-fbf7dc9aba16\")>,\n",
       " <selenium.webdriver.remote.webelement.WebElement (session=\"657e3a49db7b3d000eb76fa098dad58b\", element=\"b986f8bc-d3de-4dd0-a50f-e951c85933fc\")>,\n",
       " <selenium.webdriver.remote.webelement.WebElement (session=\"657e3a49db7b3d000eb76fa098dad58b\", element=\"9f6ac960-7822-4f03-bb73-808724cb66dc\")>,\n",
       " <selenium.webdriver.remote.webelement.WebElement (session=\"657e3a49db7b3d000eb76fa098dad58b\", element=\"7de52294-c6f0-4bf3-80ec-b1208b23a967\")>,\n",
       " <selenium.webdriver.remote.webelement.WebElement (session=\"657e3a49db7b3d000eb76fa098dad58b\", element=\"0b5d7f87-8fad-4a2b-a718-adb3b327cd9a\")>,\n",
       " <selenium.webdriver.remote.webelement.WebElement (session=\"657e3a49db7b3d000eb76fa098dad58b\", element=\"c5e127b0-095d-4201-80d0-8ce915259a7a\")>,\n",
       " <selenium.webdriver.remote.webelement.WebElement (session=\"657e3a49db7b3d000eb76fa098dad58b\", element=\"dd1bbbbf-2e66-4e16-9eeb-8f688b61f997\")>,\n",
       " <selenium.webdriver.remote.webelement.WebElement (session=\"657e3a49db7b3d000eb76fa098dad58b\", element=\"6ed6a851-3f8f-4d95-83f0-469f00bdbb00\")>,\n",
       " <selenium.webdriver.remote.webelement.WebElement (session=\"657e3a49db7b3d000eb76fa098dad58b\", element=\"847d61fe-e03d-4f6c-865d-f233e629a714\")>,\n",
       " <selenium.webdriver.remote.webelement.WebElement (session=\"657e3a49db7b3d000eb76fa098dad58b\", element=\"722386ca-61c3-4b12-9057-ae7633aef7b7\")>,\n",
       " <selenium.webdriver.remote.webelement.WebElement (session=\"657e3a49db7b3d000eb76fa098dad58b\", element=\"1560f15f-adf0-4dd0-b6ce-a9aae34e8a0f\")>,\n",
       " <selenium.webdriver.remote.webelement.WebElement (session=\"657e3a49db7b3d000eb76fa098dad58b\", element=\"7e1ead2a-ab20-408a-8bde-25a403a65b42\")>,\n",
       " <selenium.webdriver.remote.webelement.WebElement (session=\"657e3a49db7b3d000eb76fa098dad58b\", element=\"3fd6e007-4e13-49d2-acf8-bcbbc05bbcee\")>,\n",
       " <selenium.webdriver.remote.webelement.WebElement (session=\"657e3a49db7b3d000eb76fa098dad58b\", element=\"6fecc2b9-e261-4386-80f3-dcf99af8930e\")>,\n",
       " <selenium.webdriver.remote.webelement.WebElement (session=\"657e3a49db7b3d000eb76fa098dad58b\", element=\"bfd74dcf-2f83-4b8b-a980-ba6e924c038e\")>,\n",
       " <selenium.webdriver.remote.webelement.WebElement (session=\"657e3a49db7b3d000eb76fa098dad58b\", element=\"5ac7cd71-fbd8-41be-9aa1-f1b2e37d76eb\")>,\n",
       " <selenium.webdriver.remote.webelement.WebElement (session=\"657e3a49db7b3d000eb76fa098dad58b\", element=\"081e90fc-2cb8-442b-854c-c48535011cd9\")>]"
      ]
     },
     "execution_count": 266,
     "metadata": {},
     "output_type": "execute_result"
    }
   ],
   "source": [
    "lap_price"
   ]
  },
  {
   "cell_type": "code",
   "execution_count": 267,
   "id": "a3267026",
   "metadata": {},
   "outputs": [],
   "source": [
    "Ratings1=driver.find_elements_by_xpath('//a[@class=\"a-popover-trigger a-declarative\"]')"
   ]
  },
  {
   "cell_type": "code",
   "execution_count": 268,
   "id": "183ee38a",
   "metadata": {},
   "outputs": [
    {
     "data": {
      "text/plain": [
       "10"
      ]
     },
     "execution_count": 268,
     "metadata": {},
     "output_type": "execute_result"
    }
   ],
   "source": [
    "len(Ratings1)"
   ]
  },
  {
   "cell_type": "code",
   "execution_count": 269,
   "id": "62fcd44c",
   "metadata": {},
   "outputs": [
    {
     "data": {
      "text/plain": [
       "[<selenium.webdriver.remote.webelement.WebElement (session=\"657e3a49db7b3d000eb76fa098dad58b\", element=\"630e6399-80d9-4322-ae6e-57a0dd470422\")>,\n",
       " <selenium.webdriver.remote.webelement.WebElement (session=\"657e3a49db7b3d000eb76fa098dad58b\", element=\"071053e8-69e4-4090-be0f-ddd7f8cc0dd6\")>,\n",
       " <selenium.webdriver.remote.webelement.WebElement (session=\"657e3a49db7b3d000eb76fa098dad58b\", element=\"b520bf04-a829-4e02-a1e6-a08902fc506e\")>,\n",
       " <selenium.webdriver.remote.webelement.WebElement (session=\"657e3a49db7b3d000eb76fa098dad58b\", element=\"8a046c51-e305-4eb2-90ac-02d3bd00f3c5\")>,\n",
       " <selenium.webdriver.remote.webelement.WebElement (session=\"657e3a49db7b3d000eb76fa098dad58b\", element=\"38fba72e-85d8-40d2-bf93-63065783a537\")>,\n",
       " <selenium.webdriver.remote.webelement.WebElement (session=\"657e3a49db7b3d000eb76fa098dad58b\", element=\"8283ea76-44a8-4c1a-b9bf-d9bd46f07315\")>,\n",
       " <selenium.webdriver.remote.webelement.WebElement (session=\"657e3a49db7b3d000eb76fa098dad58b\", element=\"13d94ca4-5daf-46e9-a1c4-8be65020ca5d\")>,\n",
       " <selenium.webdriver.remote.webelement.WebElement (session=\"657e3a49db7b3d000eb76fa098dad58b\", element=\"4d561ca4-a6ca-4059-a6cf-0bb4832460d3\")>,\n",
       " <selenium.webdriver.remote.webelement.WebElement (session=\"657e3a49db7b3d000eb76fa098dad58b\", element=\"3f8dfc97-7e6a-4dff-af62-484a0875d1db\")>,\n",
       " <selenium.webdriver.remote.webelement.WebElement (session=\"657e3a49db7b3d000eb76fa098dad58b\", element=\"3a06fa41-7154-40ce-acd5-5fdba6810dca\")>]"
      ]
     },
     "execution_count": 269,
     "metadata": {},
     "output_type": "execute_result"
    }
   ],
   "source": [
    "Ratings1"
   ]
  },
  {
   "cell_type": "code",
   "execution_count": 270,
   "id": "2d9e27b8",
   "metadata": {},
   "outputs": [
    {
     "data": {
      "text/plain": [
       "['HP 14s 11th Gen Intel Core i3- 8GB RAM/256GB SSD 14 inch(35.6cm) FHD,Micro-Edge,Anti-Glare,IPS Display/UHD Graphics/ Win 11/ MS Office/ Alexa Built-in/ 1.46kg/ Natural Silver - 14s-dy2506TU',\n",
       " 'HP 15s- Ryzen 5- 8GB RAM/512GB SSD 15.6 inch(39.6cm) FHD,Micro-Edge, Anti-Glare Display (AMD Radeon Graphics/Alexa/Dual Speakers/Fast Charge/Win 11/MS Office), 15s-eq2144au, Natural Silver',\n",
       " 'ASUS TUF Gaming F15 (2021), 15.6-inch (39.62 cms) FHD 240Hz/3ms, Intel Core i9-11900H 11th Gen, RTX 3060 6GB Graphics Gaming Laptop (16GB/1TB SSD/Office 2019/Windows 10/Black/2.3 kg), FX506HM-AZ099TS',\n",
       " 'ASUS TUF Gaming F15 (2021), 15.6\" (39.62 cms) FHD 240Hz, Intel Core i9-11900H 11th Gen, GeForce RTX 3060 6GB Graphics, Gaming Laptop(16GB/1TB SSD/Office 2019/Windows 10/Gray/2.3 Kg), FX566HM-AZ096TS',\n",
       " 'HP ZBOOK Power G8/ Intel core i9-11900H 8 Core/32GB DDR4 3200 RAM/1TB PCIe NVMe TLC SSD /15.6” FHD /Nvidia Quadro T1200 Dedicated Graphics 4GB DDR6 /Windows 10 Pro / 3 Year Warranty',\n",
       " '(Renewed) HP Omen 15-dh0139TX Gaming Laptop (9th Gen i9-9880H/16GB/1TB HDD + 512GB SSD/Win 10/8GB NVIDIA RTX 2080 Graphics) & Z3700 Wireless Mouse',\n",
       " 'ASUS TUF Gaming F15 (2021), 15.6-inch (39.62 cms) FHD 144Hz, Intel Core i9-11900H 11th Gen, RTX 3060 6GB Graphics Gaming Laptop (16GB RAM/1TB SSD/Office 2019/Windows 10/Gray/2.3 kg), FX566HM-HN097TS',\n",
       " 'Redmi Book Pro Intel Core i5 11th Gen 15.6-inch(39.62 cms) Thin and Light Laptop (8GB/512 GB SSD/Windows 10 Home) (Charcoal Gray, 1.8 kg, with MS Office)',\n",
       " 'RedmiBook 15 e-Learning Edition Core i3 11th Gen/8 GB/256 GB SSD/Windows 10 Home/15.6-inch(39.62 cms) FHD Anti Glare/MS Office/Charcoal Gray/1.8 Kg Thin and Light Laptop',\n",
       " 'HP ZBook Power G8/ Intel Core i9-11950H 2.5GHz 8 Core/64GB DDR4/ 2TB PCIe NVMe SSD /15.6” FHD/Nvidia Quadro RTX A2000 Graphics 4GB DDR6/ 1RJ45/ Windows 10 Pro/ 3 Year Warranty from HP']"
      ]
     },
     "execution_count": 270,
     "metadata": {},
     "output_type": "execute_result"
    }
   ],
   "source": [
    "top10=[]\n",
    "for i in lap_title:\n",
    "    top10.append(i.text)\n",
    "    top10=top10[0:10]    \n",
    "top10"
   ]
  },
  {
   "cell_type": "code",
   "execution_count": 271,
   "id": "01525640",
   "metadata": {},
   "outputs": [
    {
     "data": {
      "text/plain": [
       "['39,990',\n",
       " '47,790',\n",
       " '1,43,990',\n",
       " '1,54,890',\n",
       " '2,32,900',\n",
       " '1,38,000',\n",
       " '1,45,990',\n",
       " '47,990',\n",
       " '37,990',\n",
       " '2,93,000']"
      ]
     },
     "execution_count": 271,
     "metadata": {},
     "output_type": "execute_result"
    }
   ],
   "source": [
    "top_price=[]\n",
    "for i in lap_price:\n",
    "    top_price.append(i.text)\n",
    "    top_price=top_price[0:10]    \n",
    "top_price"
   ]
  },
  {
   "cell_type": "code",
   "execution_count": 272,
   "id": "928e3eac",
   "metadata": {},
   "outputs": [
    {
     "data": {
      "text/plain": [
       "['', '', '', '', '', '', '', '', '', '']"
      ]
     },
     "execution_count": 272,
     "metadata": {},
     "output_type": "execute_result"
    }
   ],
   "source": [
    "top_rat=[]\n",
    "for i in Ratings1:\n",
    "    top_rat.append(i.text)\n",
    "    top_rat=top_rat[0:10]    \n",
    "top_rat"
   ]
  },
  {
   "cell_type": "code",
   "execution_count": 273,
   "id": "3606a24c",
   "metadata": {},
   "outputs": [],
   "source": [
    "df20 = pd.DataFrame({})\n",
    "df20['Title'] = top10 \n",
    "df20['Price'] = top_price\n",
    "df20['Ratings'] = top_rat"
   ]
  },
  {
   "cell_type": "code",
   "execution_count": 274,
   "id": "3efb39e9",
   "metadata": {},
   "outputs": [
    {
     "data": {
      "text/html": [
       "<div>\n",
       "<style scoped>\n",
       "    .dataframe tbody tr th:only-of-type {\n",
       "        vertical-align: middle;\n",
       "    }\n",
       "\n",
       "    .dataframe tbody tr th {\n",
       "        vertical-align: top;\n",
       "    }\n",
       "\n",
       "    .dataframe thead th {\n",
       "        text-align: right;\n",
       "    }\n",
       "</style>\n",
       "<table border=\"1\" class=\"dataframe\">\n",
       "  <thead>\n",
       "    <tr style=\"text-align: right;\">\n",
       "      <th></th>\n",
       "      <th>Title</th>\n",
       "      <th>Price</th>\n",
       "      <th>Ratings</th>\n",
       "    </tr>\n",
       "  </thead>\n",
       "  <tbody>\n",
       "    <tr>\n",
       "      <th>0</th>\n",
       "      <td>HP 14s 11th Gen Intel Core i3- 8GB RAM/256GB S...</td>\n",
       "      <td>39,990</td>\n",
       "      <td></td>\n",
       "    </tr>\n",
       "    <tr>\n",
       "      <th>1</th>\n",
       "      <td>HP 15s- Ryzen 5- 8GB RAM/512GB SSD 15.6 inch(3...</td>\n",
       "      <td>47,790</td>\n",
       "      <td></td>\n",
       "    </tr>\n",
       "    <tr>\n",
       "      <th>2</th>\n",
       "      <td>ASUS TUF Gaming F15 (2021), 15.6-inch (39.62 c...</td>\n",
       "      <td>1,43,990</td>\n",
       "      <td></td>\n",
       "    </tr>\n",
       "    <tr>\n",
       "      <th>3</th>\n",
       "      <td>ASUS TUF Gaming F15 (2021), 15.6\" (39.62 cms) ...</td>\n",
       "      <td>1,54,890</td>\n",
       "      <td></td>\n",
       "    </tr>\n",
       "    <tr>\n",
       "      <th>4</th>\n",
       "      <td>HP ZBOOK Power G8/ Intel core i9-11900H 8 Core...</td>\n",
       "      <td>2,32,900</td>\n",
       "      <td></td>\n",
       "    </tr>\n",
       "    <tr>\n",
       "      <th>5</th>\n",
       "      <td>(Renewed) HP Omen 15-dh0139TX Gaming Laptop (9...</td>\n",
       "      <td>1,38,000</td>\n",
       "      <td></td>\n",
       "    </tr>\n",
       "    <tr>\n",
       "      <th>6</th>\n",
       "      <td>ASUS TUF Gaming F15 (2021), 15.6-inch (39.62 c...</td>\n",
       "      <td>1,45,990</td>\n",
       "      <td></td>\n",
       "    </tr>\n",
       "    <tr>\n",
       "      <th>7</th>\n",
       "      <td>Redmi Book Pro Intel Core i5 11th Gen 15.6-inc...</td>\n",
       "      <td>47,990</td>\n",
       "      <td></td>\n",
       "    </tr>\n",
       "    <tr>\n",
       "      <th>8</th>\n",
       "      <td>RedmiBook 15 e-Learning Edition Core i3 11th G...</td>\n",
       "      <td>37,990</td>\n",
       "      <td></td>\n",
       "    </tr>\n",
       "    <tr>\n",
       "      <th>9</th>\n",
       "      <td>HP ZBook Power G8/ Intel Core i9-11950H 2.5GHz...</td>\n",
       "      <td>2,93,000</td>\n",
       "      <td></td>\n",
       "    </tr>\n",
       "  </tbody>\n",
       "</table>\n",
       "</div>"
      ],
      "text/plain": [
       "                                               Title     Price Ratings\n",
       "0  HP 14s 11th Gen Intel Core i3- 8GB RAM/256GB S...    39,990        \n",
       "1  HP 15s- Ryzen 5- 8GB RAM/512GB SSD 15.6 inch(3...    47,790        \n",
       "2  ASUS TUF Gaming F15 (2021), 15.6-inch (39.62 c...  1,43,990        \n",
       "3  ASUS TUF Gaming F15 (2021), 15.6\" (39.62 cms) ...  1,54,890        \n",
       "4  HP ZBOOK Power G8/ Intel core i9-11900H 8 Core...  2,32,900        \n",
       "5  (Renewed) HP Omen 15-dh0139TX Gaming Laptop (9...  1,38,000        \n",
       "6  ASUS TUF Gaming F15 (2021), 15.6-inch (39.62 c...  1,45,990        \n",
       "7  Redmi Book Pro Intel Core i5 11th Gen 15.6-inc...    47,990        \n",
       "8  RedmiBook 15 e-Learning Edition Core i3 11th G...    37,990        \n",
       "9  HP ZBook Power G8/ Intel Core i9-11950H 2.5GHz...  2,93,000        "
      ]
     },
     "execution_count": 274,
     "metadata": {},
     "output_type": "execute_result"
    }
   ],
   "source": [
    "df20"
   ]
  },
  {
   "cell_type": "markdown",
   "id": "e6bbb519",
   "metadata": {},
   "source": [
    "# Q9: Write a python program to scrape data for first 10 job results for Data Scientist Designation in Noida location. You have to scrape company name, No. of days ago when job was posted, Rating of the company.\n"
   ]
  },
  {
   "cell_type": "code",
   "execution_count": 293,
   "id": "948a68c9",
   "metadata": {},
   "outputs": [],
   "source": [
    "import selenium \n",
    "from selenium import webdriver\n",
    "import pandas as pd\n",
    "import warnings \n",
    "warnings.filterwarnings('ignore')"
   ]
  },
  {
   "cell_type": "code",
   "execution_count": 294,
   "id": "9ccc3850",
   "metadata": {},
   "outputs": [],
   "source": [
    "driver=webdriver.Chrome('chromedriver.exe')"
   ]
  },
  {
   "cell_type": "code",
   "execution_count": 295,
   "id": "b8b5779a",
   "metadata": {},
   "outputs": [],
   "source": [
    "url='https://www.ambitionbox.com/'\n",
    "driver.get(url)"
   ]
  },
  {
   "cell_type": "code",
   "execution_count": 296,
   "id": "17a992e3",
   "metadata": {},
   "outputs": [],
   "source": [
    "job_icon=driver.find_element_by_xpath(\"/html/body/div[1]/nav/nav/a[6]\")"
   ]
  },
  {
   "cell_type": "code",
   "execution_count": 297,
   "id": "31682220",
   "metadata": {},
   "outputs": [],
   "source": [
    "job_icon.click()"
   ]
  },
  {
   "cell_type": "code",
   "execution_count": 298,
   "id": "12963ad3",
   "metadata": {},
   "outputs": [],
   "source": [
    "job_srh=driver.find_element_by_xpath(\"/html/body/div[1]/div/div/div[2]/div[1]/div/div/div/div/span/input\")"
   ]
  },
  {
   "cell_type": "code",
   "execution_count": 299,
   "id": "5b0e8b53",
   "metadata": {},
   "outputs": [
    {
     "data": {
      "text/plain": [
       "<selenium.webdriver.remote.webelement.WebElement (session=\"901fedb05c68fd79e65c15b0398a6e6d\", element=\"6215a8c6-6bb4-42e8-976f-b47dfbb00fd7\")>"
      ]
     },
     "execution_count": 299,
     "metadata": {},
     "output_type": "execute_result"
    }
   ],
   "source": [
    "job_srh"
   ]
  },
  {
   "cell_type": "code",
   "execution_count": 300,
   "id": "3b4e01d4",
   "metadata": {},
   "outputs": [],
   "source": [
    "job_srh.send_keys('Data Scientist')"
   ]
  },
  {
   "cell_type": "code",
   "execution_count": 301,
   "id": "bd070414",
   "metadata": {},
   "outputs": [],
   "source": [
    "srh_bt=driver.find_element_by_xpath(\"/html/body/div/div/div/div[2]/div[1]/div/div/div/button/span\")"
   ]
  },
  {
   "cell_type": "code",
   "execution_count": 302,
   "id": "35b7ffaa",
   "metadata": {},
   "outputs": [],
   "source": [
    "srh_bt.click()"
   ]
  },
  {
   "cell_type": "code",
   "execution_count": 303,
   "id": "5e7205d2",
   "metadata": {},
   "outputs": [],
   "source": [
    "loc_job=driver.find_element_by_xpath(\"/html/body/div/div/div/div[2]/div[2]/div[1]/div/div/div/div[2]/div[1]/p\")"
   ]
  },
  {
   "cell_type": "code",
   "execution_count": 304,
   "id": "e5b3576e",
   "metadata": {},
   "outputs": [],
   "source": [
    "loc_job.click()"
   ]
  },
  {
   "cell_type": "code",
   "execution_count": 305,
   "id": "add918e3",
   "metadata": {},
   "outputs": [],
   "source": [
    "noida=driver.find_element_by_xpath(\"/html/body/div/div/div/div[2]/div[2]/div[1]/div/div/div/div[2]/div[1]/p\")"
   ]
  },
  {
   "cell_type": "code",
   "execution_count": 306,
   "id": "a5c35823",
   "metadata": {},
   "outputs": [
    {
     "data": {
      "text/plain": [
       "<selenium.webdriver.remote.webelement.WebElement (session=\"901fedb05c68fd79e65c15b0398a6e6d\", element=\"1a90567d-be13-4045-8948-8e4981ece48e\")>"
      ]
     },
     "execution_count": 306,
     "metadata": {},
     "output_type": "execute_result"
    }
   ],
   "source": [
    "noida"
   ]
  },
  {
   "cell_type": "code",
   "execution_count": 307,
   "id": "62010f5e",
   "metadata": {},
   "outputs": [],
   "source": [
    "company_name=driver.find_elements_by_xpath('//p[@class=\"company body-medium\"]')"
   ]
  },
  {
   "cell_type": "code",
   "execution_count": 308,
   "id": "f2aeb68d",
   "metadata": {},
   "outputs": [
    {
     "data": {
      "text/plain": [
       "[<selenium.webdriver.remote.webelement.WebElement (session=\"901fedb05c68fd79e65c15b0398a6e6d\", element=\"08221836-5d09-4a97-8c37-7d565b3f27f6\")>,\n",
       " <selenium.webdriver.remote.webelement.WebElement (session=\"901fedb05c68fd79e65c15b0398a6e6d\", element=\"26256c90-f73b-4b2e-aabb-43797dd3fc1a\")>,\n",
       " <selenium.webdriver.remote.webelement.WebElement (session=\"901fedb05c68fd79e65c15b0398a6e6d\", element=\"97d09981-8a60-4501-8dfa-6b8f2fa100a4\")>,\n",
       " <selenium.webdriver.remote.webelement.WebElement (session=\"901fedb05c68fd79e65c15b0398a6e6d\", element=\"afb65452-ce3c-4efc-b08a-55c2766a041b\")>,\n",
       " <selenium.webdriver.remote.webelement.WebElement (session=\"901fedb05c68fd79e65c15b0398a6e6d\", element=\"159073a6-972e-49b6-9c18-898c0fc92f80\")>,\n",
       " <selenium.webdriver.remote.webelement.WebElement (session=\"901fedb05c68fd79e65c15b0398a6e6d\", element=\"69dd505b-e5bc-4da0-b099-39f771af79cb\")>,\n",
       " <selenium.webdriver.remote.webelement.WebElement (session=\"901fedb05c68fd79e65c15b0398a6e6d\", element=\"1c1c41ae-11ba-41d5-a756-e589c17a2f1d\")>,\n",
       " <selenium.webdriver.remote.webelement.WebElement (session=\"901fedb05c68fd79e65c15b0398a6e6d\", element=\"e9f2866f-0ef2-4f97-b59e-eadc767344f6\")>,\n",
       " <selenium.webdriver.remote.webelement.WebElement (session=\"901fedb05c68fd79e65c15b0398a6e6d\", element=\"bd6a9a83-09cd-4955-914d-c4f0d06a1ff4\")>,\n",
       " <selenium.webdriver.remote.webelement.WebElement (session=\"901fedb05c68fd79e65c15b0398a6e6d\", element=\"ad4b0ee3-7553-4262-b8b3-9673709dc640\")>]"
      ]
     },
     "execution_count": 308,
     "metadata": {},
     "output_type": "execute_result"
    }
   ],
   "source": [
    "company_name"
   ]
  },
  {
   "cell_type": "code",
   "execution_count": 309,
   "id": "71191564",
   "metadata": {},
   "outputs": [
    {
     "data": {
      "text/plain": [
       "10"
      ]
     },
     "execution_count": 309,
     "metadata": {},
     "output_type": "execute_result"
    }
   ],
   "source": [
    "len(company_name)"
   ]
  },
  {
   "cell_type": "code",
   "execution_count": 322,
   "id": "fb015f81",
   "metadata": {},
   "outputs": [
    {
     "data": {
      "text/plain": [
       "['HP India Sales Private Limited',\n",
       " 'Amazon Development Centre (India) Pvt. Ltd.']"
      ]
     },
     "execution_count": 322,
     "metadata": {},
     "output_type": "execute_result"
    }
   ],
   "source": [
    "comp_list=[]\n",
    "for i in company_name:\n",
    "    comp_list.append(i.text)\n",
    "    \n",
    "comp_list=comp_list[0:2]\n",
    "\n",
    "comp_list"
   ]
  },
  {
   "cell_type": "code",
   "execution_count": 311,
   "id": "551a82c1",
   "metadata": {},
   "outputs": [],
   "source": [
    "days=driver.find_elements_by_xpath('//span[@class=\"body-small-l\"]')"
   ]
  },
  {
   "cell_type": "code",
   "execution_count": 312,
   "id": "005d56a4",
   "metadata": {},
   "outputs": [
    {
     "data": {
      "text/plain": [
       "[<selenium.webdriver.remote.webelement.WebElement (session=\"901fedb05c68fd79e65c15b0398a6e6d\", element=\"43d87533-ac12-4a7b-a602-ec5dd2b1b472\")>,\n",
       " <selenium.webdriver.remote.webelement.WebElement (session=\"901fedb05c68fd79e65c15b0398a6e6d\", element=\"c0dfbe81-220b-4295-ac7d-1649f6f8911b\")>,\n",
       " <selenium.webdriver.remote.webelement.WebElement (session=\"901fedb05c68fd79e65c15b0398a6e6d\", element=\"05436c81-1907-4f29-9046-7060ef6f12d2\")>,\n",
       " <selenium.webdriver.remote.webelement.WebElement (session=\"901fedb05c68fd79e65c15b0398a6e6d\", element=\"e3a38efc-216c-445c-891c-54883e7603da\")>,\n",
       " <selenium.webdriver.remote.webelement.WebElement (session=\"901fedb05c68fd79e65c15b0398a6e6d\", element=\"032e1184-dceb-43da-83fd-05a6fb7b9bde\")>,\n",
       " <selenium.webdriver.remote.webelement.WebElement (session=\"901fedb05c68fd79e65c15b0398a6e6d\", element=\"91b87267-3c76-4179-87dd-2baf49002406\")>,\n",
       " <selenium.webdriver.remote.webelement.WebElement (session=\"901fedb05c68fd79e65c15b0398a6e6d\", element=\"45b40f33-50dd-45df-b32d-e3f6856721dd\")>,\n",
       " <selenium.webdriver.remote.webelement.WebElement (session=\"901fedb05c68fd79e65c15b0398a6e6d\", element=\"530ddf01-2953-4084-863e-0b20a4068e62\")>,\n",
       " <selenium.webdriver.remote.webelement.WebElement (session=\"901fedb05c68fd79e65c15b0398a6e6d\", element=\"75b59f82-6044-4cd2-8bc6-1c3715714886\")>,\n",
       " <selenium.webdriver.remote.webelement.WebElement (session=\"901fedb05c68fd79e65c15b0398a6e6d\", element=\"3d17e0a6-0a26-4ac7-a9f3-5c83210de34e\")>,\n",
       " <selenium.webdriver.remote.webelement.WebElement (session=\"901fedb05c68fd79e65c15b0398a6e6d\", element=\"72dfc23e-8545-4282-b91f-0bd17f4d6fe2\")>,\n",
       " <selenium.webdriver.remote.webelement.WebElement (session=\"901fedb05c68fd79e65c15b0398a6e6d\", element=\"a4836e93-2df6-431c-bd55-4e8e543b1235\")>,\n",
       " <selenium.webdriver.remote.webelement.WebElement (session=\"901fedb05c68fd79e65c15b0398a6e6d\", element=\"f99d557f-5d17-4ede-88f4-bf62a1c6a74b\")>,\n",
       " <selenium.webdriver.remote.webelement.WebElement (session=\"901fedb05c68fd79e65c15b0398a6e6d\", element=\"836ed628-0737-43d5-aafb-4f77862fcbff\")>,\n",
       " <selenium.webdriver.remote.webelement.WebElement (session=\"901fedb05c68fd79e65c15b0398a6e6d\", element=\"61bf7009-836b-41ae-8d9c-7999ee795dce\")>,\n",
       " <selenium.webdriver.remote.webelement.WebElement (session=\"901fedb05c68fd79e65c15b0398a6e6d\", element=\"d95e9118-a2d1-40d1-970d-33c6436cf422\")>,\n",
       " <selenium.webdriver.remote.webelement.WebElement (session=\"901fedb05c68fd79e65c15b0398a6e6d\", element=\"d1b1f8f6-215a-4fe3-b66f-28a521c42929\")>,\n",
       " <selenium.webdriver.remote.webelement.WebElement (session=\"901fedb05c68fd79e65c15b0398a6e6d\", element=\"ef6d861b-a69e-4029-bd2f-9d5032b4538c\")>,\n",
       " <selenium.webdriver.remote.webelement.WebElement (session=\"901fedb05c68fd79e65c15b0398a6e6d\", element=\"8b40c0aa-b3d1-496f-a860-edfd669bebe7\")>,\n",
       " <selenium.webdriver.remote.webelement.WebElement (session=\"901fedb05c68fd79e65c15b0398a6e6d\", element=\"1eb8ba5c-ddcd-40e8-991c-492e0ecccb73\")>]"
      ]
     },
     "execution_count": 312,
     "metadata": {},
     "output_type": "execute_result"
    }
   ],
   "source": [
    "days"
   ]
  },
  {
   "cell_type": "code",
   "execution_count": 321,
   "id": "76030e76",
   "metadata": {},
   "outputs": [
    {
     "data": {
      "text/plain": [
       "['5d ago', 'via naukri.com']"
      ]
     },
     "execution_count": 321,
     "metadata": {},
     "output_type": "execute_result"
    }
   ],
   "source": [
    "days_list=[]\n",
    "for i in days:\n",
    "    days_list.append(i.text)\n",
    "    days_list=days_list[0:2]\n",
    "    \n",
    "days_list"
   ]
  },
  {
   "cell_type": "code",
   "execution_count": 314,
   "id": "618e7b21",
   "metadata": {},
   "outputs": [],
   "source": [
    "ratings=driver.find_elements_by_xpath('//span[@class=\"body-small\"]')"
   ]
  },
  {
   "cell_type": "code",
   "execution_count": 315,
   "id": "40451c9d",
   "metadata": {},
   "outputs": [
    {
     "data": {
      "text/plain": [
       "[<selenium.webdriver.remote.webelement.WebElement (session=\"901fedb05c68fd79e65c15b0398a6e6d\", element=\"e0bf281d-d91f-4a8a-a036-7a02d2b0ae83\")>,\n",
       " <selenium.webdriver.remote.webelement.WebElement (session=\"901fedb05c68fd79e65c15b0398a6e6d\", element=\"86e302a6-9e50-4b09-bd98-6743a7048e15\")>,\n",
       " <selenium.webdriver.remote.webelement.WebElement (session=\"901fedb05c68fd79e65c15b0398a6e6d\", element=\"cfa1cc19-58fb-4690-95cc-4fb28b4ea230\")>,\n",
       " <selenium.webdriver.remote.webelement.WebElement (session=\"901fedb05c68fd79e65c15b0398a6e6d\", element=\"4e5b6f72-16d2-4fe7-8ca2-214fbc86c116\")>,\n",
       " <selenium.webdriver.remote.webelement.WebElement (session=\"901fedb05c68fd79e65c15b0398a6e6d\", element=\"b8a883ca-3551-467b-92c7-a77b4feda570\")>,\n",
       " <selenium.webdriver.remote.webelement.WebElement (session=\"901fedb05c68fd79e65c15b0398a6e6d\", element=\"fb9e2e5e-23a3-4599-a94b-a02c510abaf1\")>,\n",
       " <selenium.webdriver.remote.webelement.WebElement (session=\"901fedb05c68fd79e65c15b0398a6e6d\", element=\"2a53efc6-740c-43a9-ace0-8f3e97d6c353\")>,\n",
       " <selenium.webdriver.remote.webelement.WebElement (session=\"901fedb05c68fd79e65c15b0398a6e6d\", element=\"312f5f79-ce42-4567-8e96-042e49966f20\")>,\n",
       " <selenium.webdriver.remote.webelement.WebElement (session=\"901fedb05c68fd79e65c15b0398a6e6d\", element=\"b35e35ba-fe08-46ee-84b0-7d154ce4ca5e\")>,\n",
       " <selenium.webdriver.remote.webelement.WebElement (session=\"901fedb05c68fd79e65c15b0398a6e6d\", element=\"5a8d8c92-e2eb-4df0-aa77-03cb59e4bbbe\")>]"
      ]
     },
     "execution_count": 315,
     "metadata": {},
     "output_type": "execute_result"
    }
   ],
   "source": [
    "ratings"
   ]
  },
  {
   "cell_type": "code",
   "execution_count": 319,
   "id": "d68c88c2",
   "metadata": {},
   "outputs": [],
   "source": [
    "rat_list=[]\n",
    "for i in ratings:\n",
    "    rat_list.append(i.text)\n",
    "    \n",
    "    \n",
    "rat_list=rat_list[0:2]"
   ]
  },
  {
   "cell_type": "code",
   "execution_count": 320,
   "id": "e69bfff9",
   "metadata": {},
   "outputs": [
    {
     "data": {
      "text/plain": [
       "['4.3', '4.2']"
      ]
     },
     "execution_count": 320,
     "metadata": {},
     "output_type": "execute_result"
    }
   ],
   "source": [
    "rat_list"
   ]
  },
  {
   "cell_type": "code",
   "execution_count": 323,
   "id": "1cbc14b4",
   "metadata": {},
   "outputs": [],
   "source": [
    "df48 = pd.DataFrame({})\n",
    "df48['Comapny Name'] = comp_list \n",
    "df48['Posted Days'] = days_list\n",
    "df48['Ratings'] = rat_list"
   ]
  },
  {
   "cell_type": "code",
   "execution_count": 324,
   "id": "c3bb0d48",
   "metadata": {},
   "outputs": [
    {
     "data": {
      "text/html": [
       "<div>\n",
       "<style scoped>\n",
       "    .dataframe tbody tr th:only-of-type {\n",
       "        vertical-align: middle;\n",
       "    }\n",
       "\n",
       "    .dataframe tbody tr th {\n",
       "        vertical-align: top;\n",
       "    }\n",
       "\n",
       "    .dataframe thead th {\n",
       "        text-align: right;\n",
       "    }\n",
       "</style>\n",
       "<table border=\"1\" class=\"dataframe\">\n",
       "  <thead>\n",
       "    <tr style=\"text-align: right;\">\n",
       "      <th></th>\n",
       "      <th>Comapny Name</th>\n",
       "      <th>Posted Days</th>\n",
       "      <th>Ratings</th>\n",
       "    </tr>\n",
       "  </thead>\n",
       "  <tbody>\n",
       "    <tr>\n",
       "      <th>0</th>\n",
       "      <td>HP India Sales Private Limited</td>\n",
       "      <td>5d ago</td>\n",
       "      <td>4.3</td>\n",
       "    </tr>\n",
       "    <tr>\n",
       "      <th>1</th>\n",
       "      <td>Amazon Development Centre (India) Pvt. Ltd.</td>\n",
       "      <td>via naukri.com</td>\n",
       "      <td>4.2</td>\n",
       "    </tr>\n",
       "  </tbody>\n",
       "</table>\n",
       "</div>"
      ],
      "text/plain": [
       "                                  Comapny Name     Posted Days Ratings\n",
       "0               HP India Sales Private Limited          5d ago     4.3\n",
       "1  Amazon Development Centre (India) Pvt. Ltd.  via naukri.com     4.2"
      ]
     },
     "execution_count": 324,
     "metadata": {},
     "output_type": "execute_result"
    }
   ],
   "source": [
    "df48"
   ]
  },
  {
   "cell_type": "code",
   "execution_count": null,
   "id": "167605eb",
   "metadata": {},
   "outputs": [],
   "source": []
  },
  {
   "cell_type": "code",
   "execution_count": null,
   "id": "180f1654",
   "metadata": {},
   "outputs": [],
   "source": []
  },
  {
   "cell_type": "markdown",
   "id": "705b1ab6",
   "metadata": {},
   "source": [
    "# Q10: Write a python program to scrape the salary data for Data Scientist designation. You have to scrape Company name, Number of salaries, Average salary, Minsalary, Max Salary."
   ]
  },
  {
   "cell_type": "code",
   "execution_count": 51,
   "id": "ca466bb9",
   "metadata": {},
   "outputs": [],
   "source": [
    "import pandas as pd \n",
    "import numpy as np\n",
    "from selenium import webdriver\n",
    "import warnings\n",
    "warnings.filterwarnings('ignore')"
   ]
  },
  {
   "cell_type": "code",
   "execution_count": 52,
   "id": "7498f73f",
   "metadata": {},
   "outputs": [],
   "source": [
    "driver=webdriver.Chrome('chromedriver.exe')"
   ]
  },
  {
   "cell_type": "code",
   "execution_count": 53,
   "id": "b35d699d",
   "metadata": {},
   "outputs": [],
   "source": [
    "url =\"https://www.ambitionbox.com/\"\n",
    "\n",
    "driver.get(url)"
   ]
  },
  {
   "cell_type": "code",
   "execution_count": 54,
   "id": "33e55596",
   "metadata": {},
   "outputs": [],
   "source": [
    "sal_icon=driver.find_element_by_xpath(\"/html/body/div[1]/nav/nav/a[4]\")"
   ]
  },
  {
   "cell_type": "code",
   "execution_count": 55,
   "id": "b62618a3",
   "metadata": {},
   "outputs": [],
   "source": [
    "sal_icon.click()\n"
   ]
  },
  {
   "cell_type": "code",
   "execution_count": 56,
   "id": "731e0789",
   "metadata": {},
   "outputs": [],
   "source": [
    "job_srh=driver.find_element_by_xpath(\"/html/body/div[1]/div/div/div[2]/div/div/div/div[1]/span/input\")"
   ]
  },
  {
   "cell_type": "code",
   "execution_count": 57,
   "id": "1c43ea93",
   "metadata": {},
   "outputs": [
    {
     "data": {
      "text/plain": [
       "<selenium.webdriver.remote.webelement.WebElement (session=\"4a026e2cc3aac7ed1703cca742bd3153\", element=\"8b572160-8c3d-4799-9b36-ec3677332229\")>"
      ]
     },
     "execution_count": 57,
     "metadata": {},
     "output_type": "execute_result"
    }
   ],
   "source": [
    "job_srh"
   ]
  },
  {
   "cell_type": "code",
   "execution_count": 58,
   "id": "ae418ee5",
   "metadata": {},
   "outputs": [],
   "source": [
    "job_srh.send_keys('Data Scientist')"
   ]
  },
  {
   "cell_type": "code",
   "execution_count": 59,
   "id": "a937a1b0",
   "metadata": {},
   "outputs": [],
   "source": [
    "srh_bt=driver.find_element_by_xpath(\"/html/body/div[1]/div/div/div[2]/div/div/div/button/span\")"
   ]
  },
  {
   "cell_type": "code",
   "execution_count": 60,
   "id": "2846a9c4",
   "metadata": {},
   "outputs": [],
   "source": [
    "srh_bt.click()"
   ]
  },
  {
   "cell_type": "code",
   "execution_count": 61,
   "id": "8a89f53e",
   "metadata": {},
   "outputs": [],
   "source": [
    "Company=driver.find_elements_by_xpath('//div[@class=\"name\"]')"
   ]
  },
  {
   "cell_type": "code",
   "execution_count": 77,
   "id": "84b5cf0d",
   "metadata": {},
   "outputs": [
    {
     "data": {
      "text/plain": [
       "[]"
      ]
     },
     "execution_count": 77,
     "metadata": {},
     "output_type": "execute_result"
    }
   ],
   "source": [
    "# The data is not fetching for this problem or it is not redirecting to the main page.\n",
    "\n",
    "Company"
   ]
  },
  {
   "cell_type": "code",
   "execution_count": 63,
   "id": "67ea7e91",
   "metadata": {},
   "outputs": [
    {
     "data": {
      "text/plain": [
       "0"
      ]
     },
     "execution_count": 63,
     "metadata": {},
     "output_type": "execute_result"
    }
   ],
   "source": [
    "len(Company)"
   ]
  },
  {
   "cell_type": "code",
   "execution_count": 68,
   "id": "e2102bc7",
   "metadata": {},
   "outputs": [],
   "source": [
    "Experience=driver.find_elements_by_xpath('//div[@class=\"salaries sbold-list-header\"]')"
   ]
  },
  {
   "cell_type": "code",
   "execution_count": 69,
   "id": "6712c337",
   "metadata": {},
   "outputs": [
    {
     "data": {
      "text/plain": [
       "0"
      ]
     },
     "execution_count": 69,
     "metadata": {},
     "output_type": "execute_result"
    }
   ],
   "source": [
    "len(Experience)"
   ]
  },
  {
   "cell_type": "code",
   "execution_count": 70,
   "id": "c3f6858a",
   "metadata": {},
   "outputs": [
    {
     "data": {
      "text/plain": [
       "[]"
      ]
     },
     "execution_count": 70,
     "metadata": {},
     "output_type": "execute_result"
    }
   ],
   "source": [
    "Experience"
   ]
  },
  {
   "cell_type": "code",
   "execution_count": 71,
   "id": "8c88e14e",
   "metadata": {},
   "outputs": [],
   "source": [
    "Salary=driver.find_elements_by_xpath('//div[@class=\"result-col salary-range\"]')"
   ]
  },
  {
   "cell_type": "code",
   "execution_count": 72,
   "id": "88a60c8e",
   "metadata": {},
   "outputs": [
    {
     "data": {
      "text/plain": [
       "[]"
      ]
     },
     "execution_count": 72,
     "metadata": {},
     "output_type": "execute_result"
    }
   ],
   "source": [
    "Sal=[]\n",
    "for i in Salary:\n",
    "    Sal.append(i.text)\n",
    "    \n",
    "Sal    "
   ]
  },
  {
   "cell_type": "code",
   "execution_count": 73,
   "id": "cba449bf",
   "metadata": {},
   "outputs": [
    {
     "data": {
      "text/plain": [
       "[]"
      ]
     },
     "execution_count": 73,
     "metadata": {},
     "output_type": "execute_result"
    }
   ],
   "source": [
    "Exp=[]\n",
    "for i in Expirence:\n",
    "    Exp.append(i.text)\n",
    "    \n",
    "Exp  "
   ]
  },
  {
   "cell_type": "code",
   "execution_count": 74,
   "id": "1b366619",
   "metadata": {},
   "outputs": [
    {
     "data": {
      "text/plain": [
       "[]"
      ]
     },
     "execution_count": 74,
     "metadata": {},
     "output_type": "execute_result"
    }
   ],
   "source": [
    "Comp=[]\n",
    "for i in Company:\n",
    "    Comp.append(i.text)\n",
    "    \n",
    "Comp    \n"
   ]
  },
  {
   "cell_type": "code",
   "execution_count": 75,
   "id": "37767d67",
   "metadata": {},
   "outputs": [],
   "source": [
    "df21 = pd.DataFrame({})\n",
    "df21['Comapny Name'] = Comp \n",
    "df21['Expirence'] = Exp\n",
    "df21['Average Salary'] = Sal"
   ]
  },
  {
   "cell_type": "code",
   "execution_count": 76,
   "id": "48c80b0e",
   "metadata": {},
   "outputs": [
    {
     "data": {
      "text/html": [
       "<div>\n",
       "<style scoped>\n",
       "    .dataframe tbody tr th:only-of-type {\n",
       "        vertical-align: middle;\n",
       "    }\n",
       "\n",
       "    .dataframe tbody tr th {\n",
       "        vertical-align: top;\n",
       "    }\n",
       "\n",
       "    .dataframe thead th {\n",
       "        text-align: right;\n",
       "    }\n",
       "</style>\n",
       "<table border=\"1\" class=\"dataframe\">\n",
       "  <thead>\n",
       "    <tr style=\"text-align: right;\">\n",
       "      <th></th>\n",
       "      <th>Comapny Name</th>\n",
       "      <th>Expirence</th>\n",
       "      <th>Average Salary</th>\n",
       "    </tr>\n",
       "  </thead>\n",
       "  <tbody>\n",
       "  </tbody>\n",
       "</table>\n",
       "</div>"
      ],
      "text/plain": [
       "Empty DataFrame\n",
       "Columns: [Comapny Name, Expirence, Average Salary]\n",
       "Index: []"
      ]
     },
     "execution_count": 76,
     "metadata": {},
     "output_type": "execute_result"
    }
   ],
   "source": [
    "df21"
   ]
  },
  {
   "cell_type": "code",
   "execution_count": null,
   "id": "c26f8bfb",
   "metadata": {},
   "outputs": [],
   "source": []
  }
 ],
 "metadata": {
  "kernelspec": {
   "display_name": "Python 3 (ipykernel)",
   "language": "python",
   "name": "python3"
  },
  "language_info": {
   "codemirror_mode": {
    "name": "ipython",
    "version": 3
   },
   "file_extension": ".py",
   "mimetype": "text/x-python",
   "name": "python",
   "nbconvert_exporter": "python",
   "pygments_lexer": "ipython3",
   "version": "3.9.7"
  }
 },
 "nbformat": 4,
 "nbformat_minor": 5
}
