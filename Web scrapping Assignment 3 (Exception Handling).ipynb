{
 "cells": [
  {
   "cell_type": "code",
   "execution_count": null,
   "id": "eccbb890",
   "metadata": {},
   "outputs": [],
   "source": []
  },
  {
   "cell_type": "markdown",
   "id": "b32d29fc",
   "metadata": {},
   "source": [
    "# Q 1: Program"
   ]
  },
  {
   "cell_type": "code",
   "execution_count": 16,
   "id": "90c38afa",
   "metadata": {},
   "outputs": [],
   "source": [
    "#import all the required libraries\n",
    "import pandas as pd\n",
    "import selenium\n",
    "from selenium import webdriver\n",
    "from selenium.common.exceptions import StaleElementReferenceException, NoSuchElementException\n",
    "import warnings\n",
    "warnings.filterwarnings('ignore')"
   ]
  },
  {
   "cell_type": "code",
   "execution_count": 17,
   "id": "11434dcd",
   "metadata": {},
   "outputs": [],
   "source": [
    "import requests\n",
    "from selenium import webdriver\n",
    "\n",
    "browser =  webdriver.Chrome(r\"C:\\Users\\Admin\\Downloads\\chromedriver_win32 (1)\\chromedriver.exe\")\n",
    "\n",
    "browser.get(\"https://www.Amazon.in/\")\n",
    "from bs4 import BeautifulSoup\n",
    "browser.maximize_window()"
   ]
  },
  {
   "cell_type": "code",
   "execution_count": 18,
   "id": "f29d9769",
   "metadata": {},
   "outputs": [],
   "source": [
    "#creating the empty list\n",
    "Title=[]\n",
    "Ratings=[]\n",
    "price=[]\n",
    "Rated=[]\n",
    "Delivery=[]\n",
    "images=[]\n",
    "brands=[]"
   ]
  },
  {
   "cell_type": "code",
   "execution_count": 19,
   "id": "65bad91c",
   "metadata": {},
   "outputs": [],
   "source": [
    "#locating the search bar\n",
    "search_bar = browser.find_element_by_id(\"twotabsearchtextbox\")    # Locating searc_bar by id\n",
    "search_bar.clear()                                               # clearing search_bar\n",
    "search_bar.send_keys(\"guitar\")                                   # sending user input to search bar\n",
    "search_button = browser.find_element_by_xpath('//span[@id=\"nav-search-submit-text\"]')       # Locating search_button by xpath\n",
    "search_button.click()    "
   ]
  },
  {
   "cell_type": "code",
   "execution_count": 20,
   "id": "e67784fa",
   "metadata": {},
   "outputs": [],
   "source": [
    "prices=browser.find_elements_by_xpath(\"//span[@class='a-price-whole']\")\n",
    "for i in prices:\n",
    "    price.append(i.text)\n",
    "titles=browser.find_elements_by_xpath(\"//h2[@class='a-size-mini a-spacing-none a-color-base s-line-clamp-4']\")\n",
    "for i in titles:\n",
    "    Title.append(i.text)\n",
    "    "
   ]
  },
  {
   "cell_type": "code",
   "execution_count": 21,
   "id": "affc005e",
   "metadata": {},
   "outputs": [
    {
     "data": {
      "text/plain": [
       "['6,799',\n",
       " '6,999',\n",
       " '',\n",
       " '5,299',\n",
       " '6,899',\n",
       " '3,049',\n",
       " '1,490',\n",
       " '2,290',\n",
       " '2,095',\n",
       " '2,299',\n",
       " '7,499',\n",
       " '2,150',\n",
       " '5,299',\n",
       " '',\n",
       " '',\n",
       " '2,190',\n",
       " '2,090',\n",
       " '1,490',\n",
       " '2,520',\n",
       " '2,090',\n",
       " '5,799',\n",
       " '5,299',\n",
       " '5,999',\n",
       " '2,299',\n",
       " '2,564',\n",
       " '4,280',\n",
       " '7,999',\n",
       " '2,564',\n",
       " '989',\n",
       " '2,895',\n",
       " '948',\n",
       " '999',\n",
       " '2,199',\n",
       " '2,290',\n",
       " '2,520',\n",
       " '2,499',\n",
       " '6,999',\n",
       " '2,649',\n",
       " '2,690',\n",
       " '2,290',\n",
       " '3,658',\n",
       " '3,914',\n",
       " '2,589',\n",
       " '6,335',\n",
       " '2,589',\n",
       " '2,995',\n",
       " '789',\n",
       " '299',\n",
       " '18,977',\n",
       " '9,990',\n",
       " '2,520',\n",
       " '4,595',\n",
       " '3,024',\n",
       " '4,436',\n",
       " '4,169',\n",
       " '2,649',\n",
       " '2,499',\n",
       " '2,799',\n",
       " '5,687',\n",
       " '2,090',\n",
       " '11,548',\n",
       " '3,799',\n",
       " '9,490',\n",
       " '6,899',\n",
       " '3,799',\n",
       " '7,599',\n",
       " '10,150',\n",
       " '939']"
      ]
     },
     "execution_count": 21,
     "metadata": {},
     "output_type": "execute_result"
    }
   ],
   "source": [
    "price"
   ]
  },
  {
   "cell_type": "code",
   "execution_count": 22,
   "id": "861d7280",
   "metadata": {},
   "outputs": [
    {
     "data": {
      "text/plain": [
       "['Kadence Frontier guitar with Online Guitar learning course, Wine Red Acoustic Guitar with Die Cast Keys, Set of Strings, Strap, Picks and Bag (Wine Red, Acoustic)',\n",
       " 'Kadence Frontier Jumbo Semi Acoustic Guitar With Die Cast Keys Super Combo (Bag, 1 pack Strings, Strap, Picks, Capo, Tuner (natural)',\n",
       " 'Belear MJT 38 Inch Black, Acoustic Guitar, With Dual Action Truss Rod',\n",
       " 'Photron Acoustic Guitar, 38 Inch Cutaway, PH38C/BK with Picks Only, Black (Without Bag, Strap and Extra Strings)',\n",
       " 'Juarez Acoustic Guitar, 38 Inch Curved Body Cutaway, 38CUR with Bag, Strings, Pick and Strap, Black',\n",
       " 'Juârez Acoustic Guitar, 38 Inch Cutaway, 038C with Bag, Strings, Pick and Strap, Black',\n",
       " 'Medellin 38\" Acoustic Guitar Blue Burst Carbon Fiber body+(Free Online Learning Course) - Durable Matt finish with handrest, strings, strap, bag, 3 Picks, capo, stand.',\n",
       " 'Intern INT-38C Acoustic Guitar Kit (Sunburst) with Carry bag, Picks, Strings set and Guitar Strap, Small',\n",
       " 'Intern 38C Cutaway Design Black Acoustic Guitar with Picks & Carry Bag',\n",
       " 'Photron Acoustic Guitar, 38 Inch Cutaway, PH38C/BK with Picks Only, Black (Without Bag, Strap and Extra Strings)',\n",
       " 'JUAREZ JRZ38C Right Handed Acoustic Guitar with Bag, Strings, Pick and Strap (Natural, 6 Strings)',\n",
       " 'Intern INT-38C Sunburst Acoustic Guitar kit with carry bag & picks',\n",
       " 'Kadence Frontier Series, Semi Acoustic Guitar With Die Cast Keys (Bag,Strap,Strings And 3 Picks) (Natural)',\n",
       " 'Kadence Frontier guitar with Online Guitar learning course, Wine Red Acoustic Guitar with Die Cast Keys, Set of Strings, Strap, Picks and Bag (Wine Red, Acoustic)',\n",
       " 'Kadence Guitar Frontier Series, Electric Acoustic Black Guitar With EQ, Die Cast Keys, Set of Strings, Strap, Picks and Bag (Black EQ, Electric Acoustic)',\n",
       " 'Medellin 38\" Carbon Fiber Acoustic Guitar with free specailized learning course- MDCF38BK Durable Carbon Fiber Matt Sunburst finish Body for beginners with handrest, set of Strings, Strap, Bag, 3 Picks, Capo, Guitar Wall Hanging Stand and Free GUITAR LEARNING COURSE (Special Learning Combo with Guitar)',\n",
       " 'Henrix 38 Acoustic Guitar (Black) with Dual-action Truss Rod - Includes Picks, Bag, Strings, Strap & Polishing Cloth',\n",
       " 'Hovner 215 Black F-Cut Rosewood Fretboard Acoustic Guitar With Bag,Strap,1 Set of Extra Strings and 2 Picks By K-Retail',\n",
       " 'Yamaha F280 Acoustic Guitar, Natural With Bajaao Gig Bag',\n",
       " 'Henrix 38C 38 inch Cutaway Acoustic Guitar with Dual Action Truss Rod, Gigbag, Picks, String Set, Strap & Cloth',\n",
       " \"HOMME STORE 4 String Guitar Children's Musical Instrument Educational Toy Guitar Ukulele Instruments Beginner Musical Sound Toys Best Gift for Children\",\n",
       " 'Blueberry 38C IN Acoustic Guitar Kit with Bag,Belt & Picks inbuilt Truss-rod (Blue)',\n",
       " \"MAA Enterprises 4 String Guitar Children's Musical Instrument Educational Toy Guitar Ukulele Instruments Beginner Musical Sound Toys Best Gift for Children\",\n",
       " 'NILL CREATION Natural Wooden Rosewood Fretboard Acoustic Guitar with Bag Strap 1 Set of Extra Strings and 2 Picks (Small Size)- Multi Color, Standard (Guitar_Small)',\n",
       " 'Medellin 38\" Carbon Fiber Acoustic Guitar with free specailized learning course- MDCF38BK Heavy Weighted Carbon Fiber Matt White finish Body for beginners with handrest, set of Strings, Strap, Bag, 3 Picks, Capo, Guitar Wall Hanging Stand and Free GUITAR LEARNING COURSE (Special Learning Combo with Guitar)',\n",
       " 'Intern INT-38C-BK-G Cutaway Right Handed Acoustic Guitar Kit, With Bag, Strings, Pick And Strap (Black, 6 Strings)',\n",
       " 'Juarez Acoustic Guitar Kit, 38 Inch Cutaway, 38C with Bag, Strings, Pick and Strap, TBS Transparent Blue Sunburst',\n",
       " 'Medellin 38\" Acoustic Guitar Black Carbon Fiber body+(Free Online Learning Course) - Durable Matt finish with handrest, strings, strap, bag, 3 Picks, capo, stand.',\n",
       " 'Kadence Guitar Acoustica Series A05, Electric Acoustic Guitar, Zebra Wood with Pickup, Inbuilt tuner and Bag (Zebra Wood, Electro Acoustic)',\n",
       " 'Juârez Acoustic Guitar, 38 Inch Cutaway, JRZ38C with Bag, Strings, Pick and Strap, Red',\n",
       " 'Intern INT-38C-RD-G Cutaway Right Handed Acoustic Guitar Kit, With Bag, Strings, Pick And Strap (Red, 6 Strings)',\n",
       " 'Juarez Acoustic Guitar Kit, 38 Inch Cutaway, 38C with Bag, Strings, Pick and Strap, 3TS Sunburst',\n",
       " 'Giuson Venus Blue Rosewood Fretboard Acoustic Guitar With Bag,Strap,1 Set of Extra Strings and 2 Picks',\n",
       " 'Givson Venus Special Cutaway Rosewood 41 Inch Acoustic Guitar Kit with Bag, Rhythm String Set, Strap and 5 Plectrums, (Sunburst)',\n",
       " 'INTERN Cutaway Design Acoustic Guitar Pack -Humidity Proof, Bend resistance, Durable Action, Natural tone & bright resonance. Black Carbon Fibre/Fiber Guitar with Bag, Strap, Strings set & Plectrums.',\n",
       " 'JUAREZ Arpéggio 104.14 cm (41 Inch) Semi-Acoustic Guitar Kit, Thin Line Body, Spruce Top, with 4 Band EQ, Natural',\n",
       " 'INTERN Cutaway Design Acoustic Guitar Pack -Humidity Proof body, Bend resistance, Durable Action, Natural tone & bright resonance. Blue Carbon Fibre/Fiber Guitar with Bag, Strap, Strings set, Picks',\n",
       " 'Blueberry R-34, 34 Inch Acoustic Guitar Kit Inbuilt Truss Rod, with Bag, Belt & One Pack Strings & Picks (Natural)',\n",
       " 'DEVICE OF URBAN INFOTECH Guitar Tuner 360 degree Digital Tuner Easy to Use Highly Accurate Clip-on Tuner Best for Acoustic and Electric Guitar Bass Violin Ukulele With Capo & 5 Picks(Design may very)',\n",
       " 'CVANU Guitar Fretboard Sticker Fingerboard Embossed Carved Decals Stickers (Trapezium Design) With Brown Color Size(5cm X 17cm)',\n",
       " 'Fender Classic Design CD-60S Dreadnought Acoustic Guitar (Black)',\n",
       " 'Yamaha FS100C Acoustic Guitar, Black',\n",
       " 'Juarez Acoustic Guitar, 38 Inch Cutaway, 38CMB with Bag, Strings, Pick and Strap, Matte Black',\n",
       " 'Festra 38C, 38 Inch Acoustic Guitar Kit with Bag, Strap, One Pack Strings And 2 Picks (Black) (Acoustic TRUSS-ROD (40 Inch) Guitar Kit, Classic Brown)',\n",
       " 'JUAREZ JRZ38CTR/BK 38 Inch Acoustic Guitar with Dual Action Truss Rod, Bag, Picks, Allen Key, Extra String Set, Black',\n",
       " 'Vault EA20 Guitar Kit with Learn to Play Ebook, Bag, Strings, Straps, Picks, String winder & Polishing Cloth - 40 inch Cutaway Acoustic Guitar',\n",
       " 'Givsun Lisbon Red 6-String Cut A Way Right Hand Acoustic Semi-Electric Guitar With Bag And Free 1 Set String,2 Picks',\n",
       " 'Juârez Acoustic Guitar, 38 Inch Cutaway, JRZ38C with Bag, Strings, Pick and Strap, Blue',\n",
       " 'Medellin 38\" Carbon Fiber Acoustic Guitar with free specailized learning course- MDCF38BK Durable Carbon Fiber Matt Pink finish Body for beginners with handrest, set of Strings, Strap, Bag, 3 Picks, Capo, Guitar Wall Hanging Stand and Free GUITAR LEARNING COURSE (Special Learning Combo with Guitar)',\n",
       " 'Juârez JRZ38C/MAH 6 Strings Acoustic Guitar 38 Inch Cutaway, Right Handed, Mahogany with Bag, Strings, Picks and Strap',\n",
       " 'JUAREZ Arpeggio 39 Inch Acoustic Guitar Kit, Spruce Top, Rosewood Fretboard & Bridge, Truss Rod, Chrome Die Cast Machine Tuners, Sunburst',\n",
       " 'Intern INT-38C Natural Acoustic Guitar kit with carry bag & picks',\n",
       " 'Kadence Slowhand Series Premium Demi Cut Semi Acoustic Guitar with Shutter (Spruce Wood)',\n",
       " 'Vault Traveller 34 Inch Acoustic Guitar With Bag, Strap, Strings, Polishing Cloth, String Winder and Picks - Natural Gloss',\n",
       " 'Yamaha FS80C The Ultimate Concert Body Cutaway Acoustic Guitar (Black) With Bajaao Gig-Bag',\n",
       " 'Kadence Frontier Jumbo Semi Acoustic Guitar With Die Cast Keys,Super Combo (Bag, 1 pack Strings, Strap, Picks, Capo, Tuner)',\n",
       " 'Vault Traveller 34 Inch Acoustic Guitar With Bag, Strap, Strings, Polishing Cloth, String Winder and Picks - Natural Gloss',\n",
       " 'Vault ST1 Premium Electric Guitar - Metallic Blue',\n",
       " 'Cort AD810 Dreadnought Acoustic Guitar with Gig Bag,Tuner,Picks and Strap (Natural Bundle)',\n",
       " 'Kajal Enterprise 4-String Acoustic Learning Guitar Toy Musical Instrument Educational Guitar Toy for Beginners Kids Child (Brown)']"
      ]
     },
     "execution_count": 22,
     "metadata": {},
     "output_type": "execute_result"
    }
   ],
   "source": [
    "Title"
   ]
  },
  {
   "cell_type": "code",
   "execution_count": 23,
   "id": "264dec7a",
   "metadata": {},
   "outputs": [],
   "source": [
    "urls=browser.find_elements_by_xpath(\"//a[@class='a-link-normal a-text-normal']\")\n",
    "UR=[]\n",
    "for i in urls:\n",
    "    UR.append(i.get_attribute('href'))\n",
    "for url in UR:\n",
    "    browser.get(url)\n",
    "    try:\n",
    "        deliveries=browser.find_element_by_xpath(\"//div[@class='a-section a-spacing-mini']\")\n",
    "        Delivery.append(deliveries.text)\n",
    "        rate=browser.find_element_by_xpath(\"//span[@id='acrCustomerReviewText']\")\n",
    "        rate.click()\n",
    "        rating=browser.find_element_by_xpath(\"//span[@class='a-size-medium a-color-base']\")\n",
    "        Ratings.append(rating.text)\n",
    "        rates=browser.find_element_by_xpath(\"//span[@class='a-size-base a-color-secondary']\")\n",
    "        Rated.append(rates.text)\n",
    "    except NoSuchElementException   as e:\n",
    "        Ratings.append(\"NO rating\")#appending the No rating if no rating is there\n",
    "        Rated.append(\"No rating\")\n",
    "        brands.append(\"No rating\")\n",
    "        Delivery.append(\"No rating\")"
   ]
  },
  {
   "cell_type": "code",
   "execution_count": 24,
   "id": "67e1e694",
   "metadata": {},
   "outputs": [],
   "source": [
    "url=\"https://www.amazon.in/s?k=guitar&ref=nb_sb_noss\"\n",
    "browser.get(url)\n",
    "urls=browser.find_elements_by_xpath(\"//img[@class='s-image']\")\n",
    "images=[]\n",
    "for i in urls:\n",
    "    images.append(i.get_attribute('src'))\n",
    "for url in images:\n",
    "    browser.get(url)"
   ]
  },
  {
   "cell_type": "code",
   "execution_count": 25,
   "id": "689e205c",
   "metadata": {},
   "outputs": [
    {
     "data": {
      "text/plain": [
       "['4 out of 5']"
      ]
     },
     "execution_count": 25,
     "metadata": {},
     "output_type": "execute_result"
    }
   ],
   "source": [
    "Ratings"
   ]
  },
  {
   "cell_type": "code",
   "execution_count": 26,
   "id": "d910f72e",
   "metadata": {},
   "outputs": [
    {
     "data": {
      "text/plain": [
       "['927 global ratings']"
      ]
     },
     "execution_count": 26,
     "metadata": {},
     "output_type": "execute_result"
    }
   ],
   "source": [
    "Rated"
   ]
  },
  {
   "cell_type": "code",
   "execution_count": 27,
   "id": "09310b2a",
   "metadata": {},
   "outputs": [
    {
     "data": {
      "text/plain": [
       "['Ends in 11h 50m 36s']"
      ]
     },
     "execution_count": 27,
     "metadata": {},
     "output_type": "execute_result"
    }
   ],
   "source": [
    "Delivery"
   ]
  },
  {
   "cell_type": "code",
   "execution_count": 28,
   "id": "deeb5c43",
   "metadata": {},
   "outputs": [
    {
     "name": "stdout",
     "output_type": "stream",
     "text": [
      "60\n",
      "68\n",
      "1\n",
      "1\n",
      "1\n",
      "64\n"
     ]
    }
   ],
   "source": [
    "#checking the length of each list\n",
    "print(len(Title))\n",
    "print(len(price))\n",
    "print(len(Ratings))\n",
    "print(len(Delivery))\n",
    "print(len(Rated))\n",
    "print(len(images))"
   ]
  },
  {
   "cell_type": "code",
   "execution_count": 30,
   "id": "e00d7217",
   "metadata": {},
   "outputs": [],
   "source": [
    "import pandas as pd\n",
    "amazon=pd.DataFrame({})\n",
    "amazon['Titles']=Title[0:1]\n",
    "amazon['Price']=price[0:1]\n",
    "amazon['Ratings']=Ratings[0:1]\n",
    "amazon['rates']=Rated[0:1]\n",
    "amazon['delivery']=Delivery[0:1]\n",
    "amazon['images']=images[0:1]"
   ]
  },
  {
   "cell_type": "code",
   "execution_count": 31,
   "id": "089f9e65",
   "metadata": {},
   "outputs": [
    {
     "data": {
      "text/html": [
       "<div>\n",
       "<style scoped>\n",
       "    .dataframe tbody tr th:only-of-type {\n",
       "        vertical-align: middle;\n",
       "    }\n",
       "\n",
       "    .dataframe tbody tr th {\n",
       "        vertical-align: top;\n",
       "    }\n",
       "\n",
       "    .dataframe thead th {\n",
       "        text-align: right;\n",
       "    }\n",
       "</style>\n",
       "<table border=\"1\" class=\"dataframe\">\n",
       "  <thead>\n",
       "    <tr style=\"text-align: right;\">\n",
       "      <th></th>\n",
       "      <th>Titles</th>\n",
       "      <th>Price</th>\n",
       "      <th>Ratings</th>\n",
       "      <th>rates</th>\n",
       "      <th>delivery</th>\n",
       "      <th>images</th>\n",
       "    </tr>\n",
       "  </thead>\n",
       "  <tbody>\n",
       "    <tr>\n",
       "      <th>0</th>\n",
       "      <td>Kadence Frontier guitar with Online Guitar lea...</td>\n",
       "      <td>6,799</td>\n",
       "      <td>4 out of 5</td>\n",
       "      <td>927 global ratings</td>\n",
       "      <td>Ends in 11h 50m 36s</td>\n",
       "      <td>https://m.media-amazon.com/images/I/51FdLmNuPS...</td>\n",
       "    </tr>\n",
       "  </tbody>\n",
       "</table>\n",
       "</div>"
      ],
      "text/plain": [
       "                                              Titles  Price     Ratings  \\\n",
       "0  Kadence Frontier guitar with Online Guitar lea...  6,799  4 out of 5   \n",
       "\n",
       "                rates             delivery  \\\n",
       "0  927 global ratings  Ends in 11h 50m 36s   \n",
       "\n",
       "                                              images  \n",
       "0  https://m.media-amazon.com/images/I/51FdLmNuPS...  "
      ]
     },
     "execution_count": 31,
     "metadata": {},
     "output_type": "execute_result"
    }
   ],
   "source": [
    "amazon"
   ]
  },
  {
   "cell_type": "code",
   "execution_count": null,
   "id": "08f5b624",
   "metadata": {},
   "outputs": [],
   "source": []
  },
  {
   "cell_type": "markdown",
   "id": "d2ea4cb0",
   "metadata": {},
   "source": [
    "# Q 2: Program"
   ]
  },
  {
   "cell_type": "code",
   "execution_count": 32,
   "id": "ddaf6aef",
   "metadata": {},
   "outputs": [],
   "source": [
    "url=\"https://www.amazon.in/s?k=guitar&page=2&qid=1619266454&ref=sr_pg_2\""
   ]
  },
  {
   "cell_type": "code",
   "execution_count": 33,
   "id": "1242138b",
   "metadata": {},
   "outputs": [],
   "source": [
    "browser.get(url)"
   ]
  },
  {
   "cell_type": "code",
   "execution_count": 34,
   "id": "110c6276",
   "metadata": {},
   "outputs": [],
   "source": [
    "prices=browser.find_elements_by_xpath(\"//span[@class='a-price-whole']\")\n",
    "for i in prices:\n",
    "    price.append(i.text)\n",
    "titles=browser.find_elements_by_xpath(\"//h2[@class='a-size-mini a-spacing-none a-color-base s-line-clamp-4']\")\n",
    "for i in titles:\n",
    "    Title.append(i.text)"
   ]
  },
  {
   "cell_type": "code",
   "execution_count": 35,
   "id": "7caf3706",
   "metadata": {},
   "outputs": [
    {
     "data": {
      "text/plain": [
       "['6,799',\n",
       " '6,999',\n",
       " '',\n",
       " '5,299',\n",
       " '6,899',\n",
       " '3,049',\n",
       " '1,490',\n",
       " '2,290',\n",
       " '2,095',\n",
       " '2,299',\n",
       " '7,499',\n",
       " '2,150',\n",
       " '5,299',\n",
       " '',\n",
       " '',\n",
       " '2,190',\n",
       " '2,090',\n",
       " '1,490',\n",
       " '2,520',\n",
       " '2,090',\n",
       " '5,799',\n",
       " '5,299',\n",
       " '5,999',\n",
       " '2,299',\n",
       " '2,564',\n",
       " '4,280',\n",
       " '7,999',\n",
       " '2,564',\n",
       " '989',\n",
       " '2,895',\n",
       " '948',\n",
       " '999',\n",
       " '2,199',\n",
       " '2,290',\n",
       " '2,520',\n",
       " '2,499',\n",
       " '6,999',\n",
       " '2,649',\n",
       " '2,690',\n",
       " '2,290',\n",
       " '3,658',\n",
       " '3,914',\n",
       " '2,589',\n",
       " '6,335',\n",
       " '2,589',\n",
       " '2,995',\n",
       " '789',\n",
       " '299',\n",
       " '18,977',\n",
       " '9,990',\n",
       " '2,520',\n",
       " '4,595',\n",
       " '3,024',\n",
       " '4,436',\n",
       " '4,169',\n",
       " '2,649',\n",
       " '2,499',\n",
       " '2,799',\n",
       " '5,687',\n",
       " '2,090',\n",
       " '11,548',\n",
       " '3,799',\n",
       " '9,490',\n",
       " '6,899',\n",
       " '3,799',\n",
       " '7,599',\n",
       " '10,150',\n",
       " '939',\n",
       " '4,559',\n",
       " '7,599',\n",
       " '6,799',\n",
       " '2,895',\n",
       " '51,138',\n",
       " '2,995',\n",
       " '2,520',\n",
       " '3,999',\n",
       " '7,499',\n",
       " '5,687',\n",
       " '5,759',\n",
       " '9,999',\n",
       " '6,799',\n",
       " '16,149',\n",
       " '3,024',\n",
       " '8,999',\n",
       " '9,400',\n",
       " '2,290',\n",
       " '12,490',\n",
       " '2,849',\n",
       " '1,199',\n",
       " '3,990',\n",
       " '3,990',\n",
       " '9,400',\n",
       " '3,990',\n",
       " '2,520',\n",
       " '6,899',\n",
       " '13,999',\n",
       " '5,471',\n",
       " '3,815',\n",
       " '249',\n",
       " '3,450',\n",
       " '239',\n",
       " '520',\n",
       " '769',\n",
       " '13,999',\n",
       " '5,248',\n",
       " '319',\n",
       " '2,589',\n",
       " '6,150',\n",
       " '3,990',\n",
       " '2,707',\n",
       " '549',\n",
       " '10,150',\n",
       " '4,490',\n",
       " '6,935',\n",
       " '480',\n",
       " '4,088',\n",
       " '3,815',\n",
       " '9,260',\n",
       " '7,219',\n",
       " '8,667',\n",
       " '330',\n",
       " '7,599',\n",
       " '949',\n",
       " '4,295',\n",
       " '4,295',\n",
       " '2,695']"
      ]
     },
     "execution_count": 35,
     "metadata": {},
     "output_type": "execute_result"
    }
   ],
   "source": [
    "price"
   ]
  },
  {
   "cell_type": "code",
   "execution_count": 36,
   "id": "ece175c7",
   "metadata": {},
   "outputs": [
    {
     "data": {
      "text/plain": [
       "['Kadence Frontier guitar with Online Guitar learning course, Wine Red Acoustic Guitar with Die Cast Keys, Set of Strings, Strap, Picks and Bag (Wine Red, Acoustic)',\n",
       " 'Kadence Frontier Jumbo Semi Acoustic Guitar With Die Cast Keys Super Combo (Bag, 1 pack Strings, Strap, Picks, Capo, Tuner (natural)',\n",
       " 'Belear MJT 38 Inch Black, Acoustic Guitar, With Dual Action Truss Rod',\n",
       " 'Photron Acoustic Guitar, 38 Inch Cutaway, PH38C/BK with Picks Only, Black (Without Bag, Strap and Extra Strings)',\n",
       " 'Juarez Acoustic Guitar, 38 Inch Curved Body Cutaway, 38CUR with Bag, Strings, Pick and Strap, Black',\n",
       " 'Juârez Acoustic Guitar, 38 Inch Cutaway, 038C with Bag, Strings, Pick and Strap, Black',\n",
       " 'Medellin 38\" Acoustic Guitar Blue Burst Carbon Fiber body+(Free Online Learning Course) - Durable Matt finish with handrest, strings, strap, bag, 3 Picks, capo, stand.',\n",
       " 'Intern INT-38C Acoustic Guitar Kit (Sunburst) with Carry bag, Picks, Strings set and Guitar Strap, Small',\n",
       " 'Intern 38C Cutaway Design Black Acoustic Guitar with Picks & Carry Bag',\n",
       " 'Photron Acoustic Guitar, 38 Inch Cutaway, PH38C/BK with Picks Only, Black (Without Bag, Strap and Extra Strings)',\n",
       " 'JUAREZ JRZ38C Right Handed Acoustic Guitar with Bag, Strings, Pick and Strap (Natural, 6 Strings)',\n",
       " 'Intern INT-38C Sunburst Acoustic Guitar kit with carry bag & picks',\n",
       " 'Kadence Frontier Series, Semi Acoustic Guitar With Die Cast Keys (Bag,Strap,Strings And 3 Picks) (Natural)',\n",
       " 'Kadence Frontier guitar with Online Guitar learning course, Wine Red Acoustic Guitar with Die Cast Keys, Set of Strings, Strap, Picks and Bag (Wine Red, Acoustic)',\n",
       " 'Kadence Guitar Frontier Series, Electric Acoustic Black Guitar With EQ, Die Cast Keys, Set of Strings, Strap, Picks and Bag (Black EQ, Electric Acoustic)',\n",
       " 'Medellin 38\" Carbon Fiber Acoustic Guitar with free specailized learning course- MDCF38BK Durable Carbon Fiber Matt Sunburst finish Body for beginners with handrest, set of Strings, Strap, Bag, 3 Picks, Capo, Guitar Wall Hanging Stand and Free GUITAR LEARNING COURSE (Special Learning Combo with Guitar)',\n",
       " 'Henrix 38 Acoustic Guitar (Black) with Dual-action Truss Rod - Includes Picks, Bag, Strings, Strap & Polishing Cloth',\n",
       " 'Hovner 215 Black F-Cut Rosewood Fretboard Acoustic Guitar With Bag,Strap,1 Set of Extra Strings and 2 Picks By K-Retail',\n",
       " 'Yamaha F280 Acoustic Guitar, Natural With Bajaao Gig Bag',\n",
       " 'Henrix 38C 38 inch Cutaway Acoustic Guitar with Dual Action Truss Rod, Gigbag, Picks, String Set, Strap & Cloth',\n",
       " \"HOMME STORE 4 String Guitar Children's Musical Instrument Educational Toy Guitar Ukulele Instruments Beginner Musical Sound Toys Best Gift for Children\",\n",
       " 'Blueberry 38C IN Acoustic Guitar Kit with Bag,Belt & Picks inbuilt Truss-rod (Blue)',\n",
       " \"MAA Enterprises 4 String Guitar Children's Musical Instrument Educational Toy Guitar Ukulele Instruments Beginner Musical Sound Toys Best Gift for Children\",\n",
       " 'NILL CREATION Natural Wooden Rosewood Fretboard Acoustic Guitar with Bag Strap 1 Set of Extra Strings and 2 Picks (Small Size)- Multi Color, Standard (Guitar_Small)',\n",
       " 'Medellin 38\" Carbon Fiber Acoustic Guitar with free specailized learning course- MDCF38BK Heavy Weighted Carbon Fiber Matt White finish Body for beginners with handrest, set of Strings, Strap, Bag, 3 Picks, Capo, Guitar Wall Hanging Stand and Free GUITAR LEARNING COURSE (Special Learning Combo with Guitar)',\n",
       " 'Intern INT-38C-BK-G Cutaway Right Handed Acoustic Guitar Kit, With Bag, Strings, Pick And Strap (Black, 6 Strings)',\n",
       " 'Juarez Acoustic Guitar Kit, 38 Inch Cutaway, 38C with Bag, Strings, Pick and Strap, TBS Transparent Blue Sunburst',\n",
       " 'Medellin 38\" Acoustic Guitar Black Carbon Fiber body+(Free Online Learning Course) - Durable Matt finish with handrest, strings, strap, bag, 3 Picks, capo, stand.',\n",
       " 'Kadence Guitar Acoustica Series A05, Electric Acoustic Guitar, Zebra Wood with Pickup, Inbuilt tuner and Bag (Zebra Wood, Electro Acoustic)',\n",
       " 'Juârez Acoustic Guitar, 38 Inch Cutaway, JRZ38C with Bag, Strings, Pick and Strap, Red',\n",
       " 'Intern INT-38C-RD-G Cutaway Right Handed Acoustic Guitar Kit, With Bag, Strings, Pick And Strap (Red, 6 Strings)',\n",
       " 'Juarez Acoustic Guitar Kit, 38 Inch Cutaway, 38C with Bag, Strings, Pick and Strap, 3TS Sunburst',\n",
       " 'Giuson Venus Blue Rosewood Fretboard Acoustic Guitar With Bag,Strap,1 Set of Extra Strings and 2 Picks',\n",
       " 'Givson Venus Special Cutaway Rosewood 41 Inch Acoustic Guitar Kit with Bag, Rhythm String Set, Strap and 5 Plectrums, (Sunburst)',\n",
       " 'INTERN Cutaway Design Acoustic Guitar Pack -Humidity Proof, Bend resistance, Durable Action, Natural tone & bright resonance. Black Carbon Fibre/Fiber Guitar with Bag, Strap, Strings set & Plectrums.',\n",
       " 'JUAREZ Arpéggio 104.14 cm (41 Inch) Semi-Acoustic Guitar Kit, Thin Line Body, Spruce Top, with 4 Band EQ, Natural',\n",
       " 'INTERN Cutaway Design Acoustic Guitar Pack -Humidity Proof body, Bend resistance, Durable Action, Natural tone & bright resonance. Blue Carbon Fibre/Fiber Guitar with Bag, Strap, Strings set, Picks',\n",
       " 'Blueberry R-34, 34 Inch Acoustic Guitar Kit Inbuilt Truss Rod, with Bag, Belt & One Pack Strings & Picks (Natural)',\n",
       " 'DEVICE OF URBAN INFOTECH Guitar Tuner 360 degree Digital Tuner Easy to Use Highly Accurate Clip-on Tuner Best for Acoustic and Electric Guitar Bass Violin Ukulele With Capo & 5 Picks(Design may very)',\n",
       " 'CVANU Guitar Fretboard Sticker Fingerboard Embossed Carved Decals Stickers (Trapezium Design) With Brown Color Size(5cm X 17cm)',\n",
       " 'Fender Classic Design CD-60S Dreadnought Acoustic Guitar (Black)',\n",
       " 'Yamaha FS100C Acoustic Guitar, Black',\n",
       " 'Juarez Acoustic Guitar, 38 Inch Cutaway, 38CMB with Bag, Strings, Pick and Strap, Matte Black',\n",
       " 'Festra 38C, 38 Inch Acoustic Guitar Kit with Bag, Strap, One Pack Strings And 2 Picks (Black) (Acoustic TRUSS-ROD (40 Inch) Guitar Kit, Classic Brown)',\n",
       " 'JUAREZ JRZ38CTR/BK 38 Inch Acoustic Guitar with Dual Action Truss Rod, Bag, Picks, Allen Key, Extra String Set, Black',\n",
       " 'Vault EA20 Guitar Kit with Learn to Play Ebook, Bag, Strings, Straps, Picks, String winder & Polishing Cloth - 40 inch Cutaway Acoustic Guitar',\n",
       " 'Givsun Lisbon Red 6-String Cut A Way Right Hand Acoustic Semi-Electric Guitar With Bag And Free 1 Set String,2 Picks',\n",
       " 'Juârez Acoustic Guitar, 38 Inch Cutaway, JRZ38C with Bag, Strings, Pick and Strap, Blue',\n",
       " 'Medellin 38\" Carbon Fiber Acoustic Guitar with free specailized learning course- MDCF38BK Durable Carbon Fiber Matt Pink finish Body for beginners with handrest, set of Strings, Strap, Bag, 3 Picks, Capo, Guitar Wall Hanging Stand and Free GUITAR LEARNING COURSE (Special Learning Combo with Guitar)',\n",
       " 'Juârez JRZ38C/MAH 6 Strings Acoustic Guitar 38 Inch Cutaway, Right Handed, Mahogany with Bag, Strings, Picks and Strap',\n",
       " 'JUAREZ Arpeggio 39 Inch Acoustic Guitar Kit, Spruce Top, Rosewood Fretboard & Bridge, Truss Rod, Chrome Die Cast Machine Tuners, Sunburst',\n",
       " 'Intern INT-38C Natural Acoustic Guitar kit with carry bag & picks',\n",
       " 'Kadence Slowhand Series Premium Demi Cut Semi Acoustic Guitar with Shutter (Spruce Wood)',\n",
       " 'Vault Traveller 34 Inch Acoustic Guitar With Bag, Strap, Strings, Polishing Cloth, String Winder and Picks - Natural Gloss',\n",
       " 'Yamaha FS80C The Ultimate Concert Body Cutaway Acoustic Guitar (Black) With Bajaao Gig-Bag',\n",
       " 'Kadence Frontier Jumbo Semi Acoustic Guitar With Die Cast Keys,Super Combo (Bag, 1 pack Strings, Strap, Picks, Capo, Tuner)',\n",
       " 'Vault Traveller 34 Inch Acoustic Guitar With Bag, Strap, Strings, Polishing Cloth, String Winder and Picks - Natural Gloss',\n",
       " 'Vault ST1 Premium Electric Guitar - Metallic Blue',\n",
       " 'Cort AD810 Dreadnought Acoustic Guitar with Gig Bag,Tuner,Picks and Strap (Natural Bundle)',\n",
       " 'Kajal Enterprise 4-String Acoustic Learning Guitar Toy Musical Instrument Educational Guitar Toy for Beginners Kids Child (Brown)',\n",
       " 'Vault EA20 Left handed Acoustic Guitar Kit with Learn to Play Ebook, Bag, Strings, Straps, Picks, String winder & Polishing Cloth - 40 inch Cutaway Acoustic Guitar (Natural)',\n",
       " 'Vault ST1 Premium Electric Guitar - Sunburst',\n",
       " 'Kadence Guitar Acoustica Series, 41” Jumbo Size 6-strings Acoustic Guitar, Spruce body with Pick Guard A311 with bag',\n",
       " 'Blueberry 38C IN TrussRod Acoustic Guitar Kit with Bag, Belt & Picks (Sunburst)',\n",
       " 'Epiphone Les Paul Classic 6 String Right Handed Electric Guitar, Ebony',\n",
       " 'Festra R-34, 34 Inch Acoustic Guitar Kit Inbuilt Truss Rod, with Bag, Belt & One Pack Strings & Picks (Natural)',\n",
       " 'Juarez Acoustic Guitar, [LEFT HANDED] 96.52 cm (38 Inch) Cutaway, 38CL/3TS with Bag, Strings, Pick and Strap, 3TS Sunburst',\n",
       " 'Kadence Frontier 34inch guitar for Kids, Travel Guitar for Adult Acoustic Guitar with Die Cast Keys, Set of Strings, Strap, Picks and Bag (Black Guitar)',\n",
       " 'Kadence Guitar Acoustica Series, Electric Acoustic Guitar, Ash Wood with Pickup and Inbuilt tuner (Ash Wood, Electro Acoustic)',\n",
       " 'JUAREZ Arpeggio 99.06 cm (39 Inch) Acoustic Guitar Kit, Spruce Top, Rosewood Fretboard & Bridge, Truss Rod, Chrome Die Cast Machine Tuners, Black',\n",
       " 'Juarez JRZ-ST01, 6 Strings Electric Guitar, Right Handed with Bag/Case, 2 x Picks (3TS Sunburst)',\n",
       " 'Kadence Slowhand Premium Jumbo Semi Acoustic Guitar with Heavy Padded Bag, guitar cable, Pro Capo (Black Spruce Wood)',\n",
       " 'Kadence Guitar Acoustica Series, 41” Jumbo Size 6-strings Acoustic Guitar, Spruce body with Pick Guard A311 with bag',\n",
       " 'Epiphone Les Paul Express\"Travel-Size\" Electric Guitar',\n",
       " 'JUAREZ 96.52 cm (38 Inch) Acoustic Guitar with Dual Action Truss Rod, Bag, Picks, Allen Key, Extra String Set, 3TS Sunburst',\n",
       " 'Yamaha Acoustic Guitar F280 Dreadnought With Mexa Sponge Bag Belt,Plectrums, String Set & Guitar Stand (Natural)',\n",
       " 'Yamaha F310 Acoustic Guitar, Natural',\n",
       " 'Medellin 38\" Acoustic Guitar Purple Burst Carbon Fiber body+(Free Online Learning Course) - Durable Matt finish with handrest, strings, strap, bag, 3 Picks, capo, stand.',\n",
       " 'Juarez Acoustic Guitar, 38 Inch Cutaway with Pick Guard, 38C/RDS with Bag, Strings, Pick and Strap, Red Sunburst',\n",
       " 'Yamaha FSX80C Semi Acoustic Cutaway Guitar with Bag (Black)',\n",
       " 'Blueberry 38 Inch Acoustic Guitar Kit Inbuilt Truss Rod, with Bag, Belt, One Pack Strings And Picks (Brown)',\n",
       " 'VD ENTERPRISE String Acoustic Guitar | Adjustable Tunning Knob | Classical Guitar Toy | Musical Instrument Learning Toy for Kids',\n",
       " 'Blueberry B-40, 40\" Acoustic Guitar Kit with Bag,Belt, One Pack Strings & Picks (Black)',\n",
       " 'SHARE BY Blueberry R-40- Trussrod Acoustic Guitar Kit with Bag, Strap, One Pack Strings and Picks (Natural)',\n",
       " 'Yamaha FS80C Acoustic Guitar Cutaway Concert Body With Mexa Sponge Bag, Guitar Belt, Guitar Stand, String Set & Plectrums.(NT)',\n",
       " 'SHARE BY Blueberry R-40- Trussrod Acoustic Guitar Kit with Bag, Strap, One Pack Strings and Picks (Natural)',\n",
       " 'Juarez Acoustic Guitar, 38 Inch Cutaway with Pick Guard, 38CPG with Bag, Strings, Pick and Strap, Black',\n",
       " 'Kadence Frontier Jumbo Semi Acoustic Guitar With Die Cast Keys Super Combo (Bag, 1 pack Strings, Strap, Picks, Capo, Tuner (natural)',\n",
       " 'Kadence Acoustic Base Guitar Full Size, 4 String, Fretted Bass Guitar - Black',\n",
       " 'Juarez JRZ-ST02 6-String Electric Guitar, Right Handed, Red, with Case/Bag and Picks',\n",
       " 'JUAREZ 104.14 cm (41\") Acoustic Guitar Cutaway with Dual Action Truss Rod, Rosewood Fretboard and Bridge, Padded Cotton Bag, Cotton Strap, 2 Picks, Extra String Set, Blue Sunburst',\n",
       " 'KREEPO Guitar Fretboard Sticker Fingerboard Frets Note Chart Decals Stickers Beginner Learner Acoustic-Electric Guitar Multicolor(9.1cm X 14.5cm)',\n",
       " 'crown spceil 215, das musical acoustic guitar',\n",
       " 'SG MUSICAL Guitar String 1st+2nd+3rd + 4 pcs. Plectrums + 1 Guitar Holder BYTD',\n",
       " 'KHUSHI MUSICALS 6 Pieces Semiclosed Tuners Tuning Pegs with Accs for Electric Acoustic Guitars',\n",
       " 'Techblaze 22 Pcs Guitar Kit Set Guitar Strings Changing Kit Guitar Tool Kit with 6 Strings, 12 Multicolored Picks, 1 Guitar Capo, 1 String Winder 1 String Cutter, 1 Guitar Tuner for Acoustic Guitars',\n",
       " 'Yamaha Electric-Acoustic Guitar FX280 Dreadnought With Mexa Sponge Guitar Bag, Belt,Plectrums & String Set.(Natural)',\n",
       " 'Kadence Acoustica 34” Acoustic Guitar A03 with bag',\n",
       " 'DEVICE OF URBAN INFOTECH 360 degree Rotational Electronic Highly Accurate Clip-on Digital Tuner Easy to Use for Acoustic and Electric Guitar Bass Violin Ukulele with Picks(Design May Vary)',\n",
       " 'INTERN Cutaway Design Acoustic Guitar Pack -Humidity Proof, Bend resistant, Durable Action, Natural tone & resonance. Natural Carbon Fibre/Fiber Guitar with Bag, Strap, Strings set & Plectrums.',\n",
       " 'Aria FET M2 Meranti Thin-Body Cutaway Acoustic Guitar- Fingerboard: Ironwood',\n",
       " 'Blueberry B-40, 40\" Acoustic Guitar Kit with Bag,Belt, One Pack Strings & Picks (Black)',\n",
       " 'Henrix 38 CLH Left Handed Cutway Acoustic Guitar with Dual Action Truss Rod, Gigbag, Picks, String Set, Strap & Polishing Cloth',\n",
       " 'TECHBLAZE Acoustic Guitar Tuning Peg Keys 3R+3L Guitar Machine Heads Knobs with Strap Button Locks Semi-Closed Locks Keys with Gears Screw Set (Silver 6 Pcs)',\n",
       " 'Cort AD810 Dreadnought Acoustic Guitar with Gig Bag,Tuner,Picks and Strap (Natural Bundle)',\n",
       " 'Hovner Carlton Special Quality Rosewood Fretboard Blue Semi Acoustic Guitar With Bag,Strap,1 Set of Extra Strings and 2 Picks By K-Retail (Blue)',\n",
       " 'Granada, Acoustic Guitar, Dreadnought PRLD-14C-F -Natural',\n",
       " 'DEVICE OF URBAN INFOTECH Tuning Peg Silver for Acoustic Guitar Parts Tuners Keys Semi-closed Guitar String Tuning Pegs Tuner Machine Heads Knobs Tuning Keys for Acoustic & Electric Guitar 3R+3L (6PCS)',\n",
       " 'Givsun G-39 Black Matt 6-String Cut A Way Right Hand Acoustic Semi-Electric Guitar With Bag And Free 1 Set String,2 Picks',\n",
       " 'JUAREZ Fiésta 41 Inch Acoustic Guitar Cutaway with Dual Action Truss Rod, 21 Frets Rosewood Fretboard & Bridge, Padded 5mm Cotton Bag, Cotton Strap, 2 Picks, Allen Key, Extra String Set, 3TS Sunburst',\n",
       " 'Fender SA 135C 39 Inch 6 String Cutaway Acoustic Guitar - Hardwood Fretboard - Natural',\n",
       " 'FLABBO Acoustic Guitar Kit Inbuilt Truss Rod with Bag Toy Small Guitar for Beginners Kids Child | Classical Guitar Toy | Musical Instrument Learning Toy for Kids | great gift for kids | of Strings, Strap, Bag, 3 Picks, Capo, Guitar Wall Hanging Stand',\n",
       " 'Vault ST1 Premium Electric Guitar - White',\n",
       " 'Cort AD810-OP Acoustic Guitar, Brown',\n",
       " 'SG Musical - Guitar Cable | Amplifier Cable',\n",
       " 'Vault ST1 Premium Electric Guitar - Sunburst',\n",
       " 'HOMME STORE 4 String Guitar Kids Brown Plastic 4 String Acoustic Guitar for Kids Musical Instrument Learning Educational Small Toy for Boys & Girls (Wooden Guitar) (1)',\n",
       " 'Blueberry R-40- Trussrod Acoustic Guitar Kit with Bag, Strap, One Pack Strings and Picks (Classic Maroon)',\n",
       " 'Blueberry R-40- Trussrod Acoustic Guitar Kit with Bag, Strap, One Pack Strings and Picks (Classic Brown))',\n",
       " 'Blueberry 38C, 38\" Acoustic Guitar Kit with Bag, Strap, One Pack Strings And Picks (Black)']"
      ]
     },
     "execution_count": 36,
     "metadata": {},
     "output_type": "execute_result"
    }
   ],
   "source": [
    "Title"
   ]
  },
  {
   "cell_type": "code",
   "execution_count": 37,
   "id": "53b169c8",
   "metadata": {},
   "outputs": [],
   "source": [
    "urls=browser.find_elements_by_xpath(\"//a[@class='a-link-normal a-text-normal']\")\n",
    "UR=[]\n",
    "for i in urls:\n",
    "    UR.append(i.get_attribute('href'))\n",
    "for url in UR:\n",
    "    browser.get(url)\n",
    "    try:\n",
    "        deliveries=browser.find_element_by_xpath(\"//div[@class='a-section a-spacing-mini']\")\n",
    "        Delivery.append(deliveries.text)\n",
    "        rate=browser.find_element_by_xpath(\"//span[@id='acrCustomerReviewText']\")\n",
    "        rate.click()\n",
    "        rating=browser.find_element_by_xpath(\"//span[@class='a-size-medium a-color-base']\")\n",
    "        Ratings.append(rating.text)\n",
    "        rates=browser.find_element_by_xpath(\"//span[@class='a-size-base a-color-secondary']\")\n",
    "        Rated.append(rates.text)\n",
    "    except NoSuchElementException   as e:\n",
    "        Ratings.append(\"NO rating\")#appending the No rating if no rating is there\n",
    "        Rated.append(\"No rating\")\n",
    "        brands.append(\"No rating\")\n",
    "        Delivery.append(\"No rating\")"
   ]
  },
  {
   "cell_type": "code",
   "execution_count": 38,
   "id": "4914ae61",
   "metadata": {},
   "outputs": [],
   "source": [
    "url=\"https://www.amazon.in/s?k=guitar&page=2&qid=1619266454&ref=sr_pg_2\"\n",
    "browser.get(url)\n",
    "urls=browser.find_elements_by_xpath(\"//img[@class='s-image']\")\n",
    "images=[]\n",
    "for i in urls:\n",
    "    images.append(i.get_attribute('src'))\n",
    "for url in images:\n",
    "    browser.get(url)"
   ]
  },
  {
   "cell_type": "code",
   "execution_count": 39,
   "id": "113e2760",
   "metadata": {},
   "outputs": [
    {
     "data": {
      "text/plain": [
       "['https://m.media-amazon.com/images/I/61AN4MfbbLL._AC_UL320_.jpg',\n",
       " 'https://m.media-amazon.com/images/I/41TAo+WLG-L._AC_UL320_.jpg',\n",
       " 'https://m.media-amazon.com/images/I/516sPjvUtEL._AC_UL320_.jpg',\n",
       " 'https://m.media-amazon.com/images/I/71-vmpM-FCL._AC_UL320_.jpg',\n",
       " 'https://m.media-amazon.com/images/I/612B4ygRpVL._AC_UL320_.jpg',\n",
       " 'https://m.media-amazon.com/images/I/61NW2HiI3pL._AC_UL320_.jpg',\n",
       " 'https://m.media-amazon.com/images/I/71xnPCugO0S._AC_UL320_.jpg',\n",
       " 'https://m.media-amazon.com/images/I/61d3QSFAg8L._AC_UL320_.jpg',\n",
       " 'https://m.media-amazon.com/images/I/61rvzTTm9HL._AC_UL320_.jpg',\n",
       " 'https://m.media-amazon.com/images/I/81RZKrARGfL._AC_UL320_.jpg',\n",
       " 'https://m.media-amazon.com/images/I/71OXkf-hRxL._AC_UL320_.jpg',\n",
       " 'https://m.media-amazon.com/images/I/51UPABaYDmL._AC_UL320_.jpg',\n",
       " 'https://m.media-amazon.com/images/I/516sPjvUtEL._AC_UL320_.jpg',\n",
       " 'https://m.media-amazon.com/images/I/71GtDNhYKaL._AC_UL320_.jpg',\n",
       " 'https://m.media-amazon.com/images/I/519bjHGSNxL._AC_UL320_.jpg',\n",
       " 'https://m.media-amazon.com/images/I/51pc1dUG37L._AC_UL320_.jpg',\n",
       " 'https://m.media-amazon.com/images/I/51WEH8mmx7L._AC_UL320_.jpg',\n",
       " 'https://m.media-amazon.com/images/I/51sh9rnq+sL._AC_UL320_.jpg',\n",
       " 'https://m.media-amazon.com/images/I/71LOTN7uevL._AC_UL320_.jpg',\n",
       " 'https://m.media-amazon.com/images/I/41PlTY7BF2L._AC_UL320_.jpg',\n",
       " 'https://m.media-amazon.com/images/I/71C93t-NBeL._AC_UL320_.jpg',\n",
       " 'https://m.media-amazon.com/images/I/61q2Nez8EaL._AC_UL320_.jpg',\n",
       " 'https://m.media-amazon.com/images/I/61hlLiJDmEL._AC_UL320_.jpg',\n",
       " 'https://m.media-amazon.com/images/I/61+XPhGD2FL._AC_UL320_.jpg',\n",
       " 'https://m.media-amazon.com/images/I/51sndzatlAL._AC_UL320_.jpg',\n",
       " 'https://m.media-amazon.com/images/I/61+XPhGD2FL._AC_UL320_.jpg',\n",
       " 'https://m.media-amazon.com/images/I/71IZ3iTYYzL._AC_UL320_.jpg',\n",
       " 'https://m.media-amazon.com/images/I/511+VapwXDL._AC_UL320_.jpg',\n",
       " 'https://m.media-amazon.com/images/I/51RmCRtxugL._AC_UL320_.jpg',\n",
       " 'https://m.media-amazon.com/images/I/71-dKlQwT1L._AC_UL320_.jpg',\n",
       " 'https://m.media-amazon.com/images/I/81waS-N8GOL._AC_UL320_.jpg',\n",
       " 'https://m.media-amazon.com/images/I/71r75xK3vkL._AC_UL320_.jpg',\n",
       " 'https://m.media-amazon.com/images/I/71Tjb7L+AAS._AC_UL320_.jpg',\n",
       " 'https://m.media-amazon.com/images/I/516rrXQ6LrS._AC_UL320_.jpg',\n",
       " 'https://m.media-amazon.com/images/I/31QZTMm1vtS._AC_UL320_.jpg',\n",
       " 'https://m.media-amazon.com/images/I/41vTWeoqBLL._AC_UL320_.jpg',\n",
       " 'https://m.media-amazon.com/images/I/41BULb8FGcL._AC_UL320_.jpg',\n",
       " 'https://m.media-amazon.com/images/I/91uJ9fLIo2L._AC_UL320_.jpg',\n",
       " 'https://m.media-amazon.com/images/I/41rbirRT5mL._AC_UL320_.jpg',\n",
       " 'https://m.media-amazon.com/images/I/71ryDZYzsFL._AC_UL320_.jpg',\n",
       " 'https://m.media-amazon.com/images/I/51DOA3xMeoL._AC_UL320_.jpg',\n",
       " 'https://m.media-amazon.com/images/I/61hlLiJDmEL._AC_UL320_.jpg',\n",
       " 'https://m.media-amazon.com/images/I/61P6mp6WbLL._AC_UL320_.jpg',\n",
       " 'https://m.media-amazon.com/images/I/51tJHqkq1bL._AC_UL320_.jpg',\n",
       " 'https://m.media-amazon.com/images/I/61mVidQVe3L._AC_UL320_.jpg',\n",
       " 'https://m.media-amazon.com/images/I/71NmbHVlSGL._AC_UL320_.jpg',\n",
       " 'https://m.media-amazon.com/images/I/61YSuoNFolL._AC_UL320_.jpg',\n",
       " 'https://m.media-amazon.com/images/I/51YQGqKVJZL._AC_UL320_.jpg',\n",
       " 'https://m.media-amazon.com/images/I/71TttejsAyL._AC_UL320_.jpg',\n",
       " 'https://m.media-amazon.com/images/I/817YUW6Em6L._AC_UL320_.jpg',\n",
       " 'https://m.media-amazon.com/images/I/51-U4lUh8WL._AC_UL320_.jpg',\n",
       " 'https://m.media-amazon.com/images/I/61ZXDA6g-SS._AC_UL320_.jpg',\n",
       " 'https://m.media-amazon.com/images/I/41bQGpPtL1L._AC_UL320_.jpg',\n",
       " 'https://m.media-amazon.com/images/I/817nlbwA5PL._AC_UL320_.jpg',\n",
       " 'https://m.media-amazon.com/images/I/51-xxDYBJCL._AC_UL320_.jpg',\n",
       " 'https://m.media-amazon.com/images/I/41TAo+WLG-L._AC_UL320_.jpg',\n",
       " 'https://m.media-amazon.com/images/I/61TKGUzMJWL._AC_UL320_.jpg',\n",
       " 'https://m.media-amazon.com/images/I/71wqmD5LNzL._AC_UL320_.jpg',\n",
       " 'https://m.media-amazon.com/images/I/61DAqen49pL._AC_UL320_.jpg',\n",
       " 'https://m.media-amazon.com/images/I/71le5ycqC-L._AC_UL320_.jpg']"
      ]
     },
     "execution_count": 39,
     "metadata": {},
     "output_type": "execute_result"
    }
   ],
   "source": [
    "images"
   ]
  },
  {
   "cell_type": "code",
   "execution_count": 40,
   "id": "e41877ce",
   "metadata": {},
   "outputs": [
    {
     "name": "stdout",
     "output_type": "stream",
     "text": [
      "120\n",
      "126\n",
      "1\n",
      "1\n",
      "1\n",
      "60\n"
     ]
    }
   ],
   "source": [
    "print(len(Title))\n",
    "print(len(price))\n",
    "print(len(Ratings))\n",
    "print(len(Delivery))\n",
    "print(len(Rated))\n",
    "print(len(images))"
   ]
  },
  {
   "cell_type": "code",
   "execution_count": 42,
   "id": "ff25cfd9",
   "metadata": {},
   "outputs": [],
   "source": [
    "import pandas as pd\n",
    "amazon=pd.DataFrame({})\n",
    "amazon['Titles']=Title[0:1]\n",
    "amazon['Price']=price[0:1]\n",
    "amazon['Ratings']=Ratings[0:1]\n",
    "amazon['rates']=Rated[0:1]\n",
    "amazon['delivery']=Delivery[0:1]\n",
    "amazon['images']=images[0:1]"
   ]
  },
  {
   "cell_type": "code",
   "execution_count": 43,
   "id": "adb8e7d3",
   "metadata": {},
   "outputs": [
    {
     "data": {
      "text/html": [
       "<div>\n",
       "<style scoped>\n",
       "    .dataframe tbody tr th:only-of-type {\n",
       "        vertical-align: middle;\n",
       "    }\n",
       "\n",
       "    .dataframe tbody tr th {\n",
       "        vertical-align: top;\n",
       "    }\n",
       "\n",
       "    .dataframe thead th {\n",
       "        text-align: right;\n",
       "    }\n",
       "</style>\n",
       "<table border=\"1\" class=\"dataframe\">\n",
       "  <thead>\n",
       "    <tr style=\"text-align: right;\">\n",
       "      <th></th>\n",
       "      <th>Titles</th>\n",
       "      <th>Price</th>\n",
       "      <th>Ratings</th>\n",
       "      <th>rates</th>\n",
       "      <th>delivery</th>\n",
       "      <th>images</th>\n",
       "    </tr>\n",
       "  </thead>\n",
       "  <tbody>\n",
       "    <tr>\n",
       "      <th>0</th>\n",
       "      <td>Kadence Frontier guitar with Online Guitar lea...</td>\n",
       "      <td>6,799</td>\n",
       "      <td>4 out of 5</td>\n",
       "      <td>927 global ratings</td>\n",
       "      <td>Ends in 11h 50m 36s</td>\n",
       "      <td>https://m.media-amazon.com/images/I/61AN4MfbbL...</td>\n",
       "    </tr>\n",
       "  </tbody>\n",
       "</table>\n",
       "</div>"
      ],
      "text/plain": [
       "                                              Titles  Price     Ratings  \\\n",
       "0  Kadence Frontier guitar with Online Guitar lea...  6,799  4 out of 5   \n",
       "\n",
       "                rates             delivery  \\\n",
       "0  927 global ratings  Ends in 11h 50m 36s   \n",
       "\n",
       "                                              images  \n",
       "0  https://m.media-amazon.com/images/I/61AN4MfbbL...  "
      ]
     },
     "execution_count": 43,
     "metadata": {},
     "output_type": "execute_result"
    }
   ],
   "source": [
    "amazon"
   ]
  },
  {
   "cell_type": "code",
   "execution_count": null,
   "id": "0242ce1f",
   "metadata": {},
   "outputs": [],
   "source": []
  },
  {
   "cell_type": "code",
   "execution_count": 44,
   "id": "7c60f3f1",
   "metadata": {},
   "outputs": [],
   "source": [
    "url=\"https://www.amazon.in/s?k=guitar&page=3&qid=1619266730&ref=sr_pg_3\""
   ]
  },
  {
   "cell_type": "code",
   "execution_count": 45,
   "id": "d44a5e7b",
   "metadata": {},
   "outputs": [],
   "source": [
    "browser.get(url)"
   ]
  },
  {
   "cell_type": "code",
   "execution_count": 46,
   "id": "a6fe518b",
   "metadata": {},
   "outputs": [],
   "source": [
    "prices=browser.find_elements_by_xpath(\"//span[@class='a-price-whole']\")\n",
    "for i in prices:\n",
    "    price.append(i.text)\n",
    "titles=browser.find_elements_by_xpath(\"//h2[@class='a-size-mini a-spacing-none a-color-base s-line-clamp-4']\")\n",
    "for i in titles:\n",
    "    Title.append(i.text)"
   ]
  },
  {
   "cell_type": "code",
   "execution_count": 47,
   "id": "9cd29217",
   "metadata": {},
   "outputs": [],
   "source": [
    "urls=browser.find_elements_by_xpath(\"//a[@class='a-link-normal a-text-normal']\")\n",
    "UR=[]\n",
    "for i in urls:\n",
    "    UR.append(i.get_attribute('href'))\n",
    "for url in UR:\n",
    "    browser.get(url)\n",
    "    try:\n",
    "        deliveries=browser.find_element_by_xpath(\"//div[@class='a-section a-spacing-mini']\")\n",
    "        Delivery.append(deliveries.text)\n",
    "        rate=browser.find_element_by_xpath(\"//span[@id='acrCustomerReviewText']\")\n",
    "        rate.click()\n",
    "        rating=browser.find_element_by_xpath(\"//span[@class='a-size-medium a-color-base']\")\n",
    "        Ratings.append(rating.text)\n",
    "        rates=browser.find_element_by_xpath(\"//span[@class='a-size-base a-color-secondary']\")\n",
    "        Rated.append(rates.text)\n",
    "    except NoSuchElementException   as e:\n",
    "        Ratings.append(\"NO rating\")#appending the No rating if no rating is there\n",
    "        Rated.append(\"No rating\")\n",
    "        brands.append(\"No rating\")\n",
    "        Delivery.append(\"No rating\")"
   ]
  },
  {
   "cell_type": "code",
   "execution_count": 48,
   "id": "31f3d972",
   "metadata": {},
   "outputs": [
    {
     "name": "stdout",
     "output_type": "stream",
     "text": [
      "180\n",
      "189\n",
      "1\n",
      "1\n",
      "1\n",
      "60\n"
     ]
    }
   ],
   "source": [
    "url=\"https://www.amazon.in/s?k=guitar&page=3&qid=1619266730&ref=sr_pg_3\"\n",
    "browser.get(url)\n",
    "urls=browser.find_elements_by_xpath(\"//img[@class='s-image']\")\n",
    "images=[]\n",
    "for i in urls:\n",
    "    images.append(i.get_attribute('src'))\n",
    "for url in images:\n",
    "    browser.get(url)\n",
    "print(len(Title))\n",
    "print(len(price))\n",
    "print(len(Ratings))\n",
    "print(len(Delivery))\n",
    "print(len(Rated))\n",
    "print(len(images))"
   ]
  },
  {
   "cell_type": "code",
   "execution_count": 50,
   "id": "2bf3b84a",
   "metadata": {},
   "outputs": [],
   "source": [
    "import pandas as pd\n",
    "amazon=pd.DataFrame({})\n",
    "amazon['Titles']=Title[0:1]\n",
    "amazon['Price']=price[0:1]\n",
    "amazon['Ratings']=Ratings[0:1]\n",
    "amazon['rates']=Rated[0:1]\n",
    "amazon['delivery']=Delivery[0:1]\n",
    "amazon['images']=images[0:1]"
   ]
  },
  {
   "cell_type": "code",
   "execution_count": 51,
   "id": "db209592",
   "metadata": {},
   "outputs": [
    {
     "data": {
      "text/html": [
       "<div>\n",
       "<style scoped>\n",
       "    .dataframe tbody tr th:only-of-type {\n",
       "        vertical-align: middle;\n",
       "    }\n",
       "\n",
       "    .dataframe tbody tr th {\n",
       "        vertical-align: top;\n",
       "    }\n",
       "\n",
       "    .dataframe thead th {\n",
       "        text-align: right;\n",
       "    }\n",
       "</style>\n",
       "<table border=\"1\" class=\"dataframe\">\n",
       "  <thead>\n",
       "    <tr style=\"text-align: right;\">\n",
       "      <th></th>\n",
       "      <th>Titles</th>\n",
       "      <th>Price</th>\n",
       "      <th>Ratings</th>\n",
       "      <th>rates</th>\n",
       "      <th>delivery</th>\n",
       "      <th>images</th>\n",
       "    </tr>\n",
       "  </thead>\n",
       "  <tbody>\n",
       "    <tr>\n",
       "      <th>0</th>\n",
       "      <td>Kadence Frontier guitar with Online Guitar lea...</td>\n",
       "      <td>6,799</td>\n",
       "      <td>4 out of 5</td>\n",
       "      <td>927 global ratings</td>\n",
       "      <td>Ends in 11h 50m 36s</td>\n",
       "      <td>https://m.media-amazon.com/images/I/41zCD1Om1B...</td>\n",
       "    </tr>\n",
       "  </tbody>\n",
       "</table>\n",
       "</div>"
      ],
      "text/plain": [
       "                                              Titles  Price     Ratings  \\\n",
       "0  Kadence Frontier guitar with Online Guitar lea...  6,799  4 out of 5   \n",
       "\n",
       "                rates             delivery  \\\n",
       "0  927 global ratings  Ends in 11h 50m 36s   \n",
       "\n",
       "                                              images  \n",
       "0  https://m.media-amazon.com/images/I/41zCD1Om1B...  "
      ]
     },
     "execution_count": 51,
     "metadata": {},
     "output_type": "execute_result"
    }
   ],
   "source": [
    "amazon"
   ]
  },
  {
   "cell_type": "code",
   "execution_count": null,
   "id": "edc6021a",
   "metadata": {},
   "outputs": [],
   "source": []
  },
  {
   "cell_type": "markdown",
   "id": "62238ea8",
   "metadata": {},
   "source": [
    "# Q 3: Program"
   ]
  },
  {
   "cell_type": "code",
   "execution_count": 52,
   "id": "7a85ad4f",
   "metadata": {},
   "outputs": [],
   "source": [
    "import pandas as pd\n",
    "import selenium\n",
    "from selenium import webdriver\n",
    "from selenium.common.exceptions import StaleElementReferenceException, NoSuchElementException"
   ]
  },
  {
   "cell_type": "code",
   "execution_count": 54,
   "id": "f3b37307",
   "metadata": {},
   "outputs": [],
   "source": [
    "import requests\n",
    "from selenium import webdriver\n",
    "\n",
    "browser =  browser\n",
    "browser.get(\"https://images.google.com/\")"
   ]
  },
  {
   "cell_type": "code",
   "execution_count": 55,
   "id": "5128c3b9",
   "metadata": {},
   "outputs": [
    {
     "name": "stdout",
     "output_type": "stream",
     "text": [
      "Enter your Search:fruits, cars, machine learning\n"
     ]
    }
   ],
   "source": [
    "search_bar = browser.find_element_by_xpath('//input[@class=\"gLFyf gsfi\"]')    # Locating searc_bar by id\n",
    "search_bar.clear()                                               # clearing search_bar\n",
    "search_bar.send_keys(input(\"Enter your Search:\"))                                   # sending user input to search ba\n",
    "search_button = browser.find_element_by_xpath('//span[@class=\"z1asCe MZy1Rb\"]')       # Locating search_button by xpath\n",
    "search_button.click()"
   ]
  },
  {
   "cell_type": "code",
   "execution_count": 56,
   "id": "1315ae52",
   "metadata": {},
   "outputs": [],
   "source": [
    "browser.execute_script(\"window.scrollBy(0,80000)\" \"\")\n",
    "browser.execute_script(\"window.scrollBy(0,80000)\" \"\")\n",
    "browser.execute_script(\"window.scrollBy(0,80000)\" \"\")\n",
    "browser.execute_script(\"window.scrollBy(0,80000)\" \"\")\n",
    "browser.execute_script(\"window.scrollBy(0,80000)\" \"\")\n",
    "browser.execute_script(\"window.scrollBy(0,80000)\" \"\")\n",
    "browser.execute_script(\"window.scrollBy(0,80000)\" \"\")\n",
    "   "
   ]
  },
  {
   "cell_type": "code",
   "execution_count": 57,
   "id": "5b29a454",
   "metadata": {},
   "outputs": [],
   "source": [
    "urls=browser.find_elements_by_xpath(\"//img[@class='rg_i Q4LuWd']\")#collecting urls of all the laptop\n",
    "images=[]\n",
    "for i in urls:\n",
    "    images.append(i.get_attribute('src'))#getting the url of first 10 laptops"
   ]
  },
  {
   "cell_type": "code",
   "execution_count": 58,
   "id": "afb3c9f7",
   "metadata": {},
   "outputs": [
    {
     "data": {
      "text/plain": [
       "178"
      ]
     },
     "execution_count": 58,
     "metadata": {},
     "output_type": "execute_result"
    }
   ],
   "source": [
    "len(images)"
   ]
  },
  {
   "cell_type": "code",
   "execution_count": 59,
   "id": "97022eae",
   "metadata": {},
   "outputs": [],
   "source": [
    "urls=browser.find_elements_by_xpath(\"//a[@class='VFACy kGQAp sMi44c lNHeqe WGvvNb']\")#collecting urls of all the laptop\n",
    "headers=[]\n",
    "for i in urls:\n",
    "    headers.append(i.get_attribute('href'))#getting the url of first 10 laptops"
   ]
  },
  {
   "cell_type": "code",
   "execution_count": 60,
   "id": "9894e0e2",
   "metadata": {},
   "outputs": [
    {
     "data": {
      "text/plain": [
       "100"
      ]
     },
     "execution_count": 60,
     "metadata": {},
     "output_type": "execute_result"
    }
   ],
   "source": [
    "len(headers)"
   ]
  },
  {
   "cell_type": "code",
   "execution_count": 61,
   "id": "3aec53c7",
   "metadata": {},
   "outputs": [],
   "source": [
    "google=pd.DataFrame({})\n",
    "google['Headers']=headers\n",
    "google['images']=images[0:100]"
   ]
  },
  {
   "cell_type": "code",
   "execution_count": 62,
   "id": "0acdb452",
   "metadata": {},
   "outputs": [
    {
     "data": {
      "text/html": [
       "<div>\n",
       "<style scoped>\n",
       "    .dataframe tbody tr th:only-of-type {\n",
       "        vertical-align: middle;\n",
       "    }\n",
       "\n",
       "    .dataframe tbody tr th {\n",
       "        vertical-align: top;\n",
       "    }\n",
       "\n",
       "    .dataframe thead th {\n",
       "        text-align: right;\n",
       "    }\n",
       "</style>\n",
       "<table border=\"1\" class=\"dataframe\">\n",
       "  <thead>\n",
       "    <tr style=\"text-align: right;\">\n",
       "      <th></th>\n",
       "      <th>Headers</th>\n",
       "      <th>images</th>\n",
       "    </tr>\n",
       "  </thead>\n",
       "  <tbody>\n",
       "    <tr>\n",
       "      <th>0</th>\n",
       "      <td>https://levelup.gitconnected.com/fruits-vegeta...</td>\n",
       "      <td>data:image/jpeg;base64,/9j/4AAQSkZJRgABAQAAAQA...</td>\n",
       "    </tr>\n",
       "    <tr>\n",
       "      <th>1</th>\n",
       "      <td>https://ai.plainenglish.io/introduction-to-mac...</td>\n",
       "      <td>data:image/jpeg;base64,/9j/4AAQSkZJRgABAQAAAQA...</td>\n",
       "    </tr>\n",
       "    <tr>\n",
       "      <th>2</th>\n",
       "      <td>https://analyticsindiamag.com/fruit-recognitio...</td>\n",
       "      <td>data:image/jpeg;base64,/9j/4AAQSkZJRgABAQAAAQA...</td>\n",
       "    </tr>\n",
       "    <tr>\n",
       "      <th>3</th>\n",
       "      <td>https://towardsdatascience.com/the-fruits-of-d...</td>\n",
       "      <td>data:image/jpeg;base64,/9j/4AAQSkZJRgABAQAAAQA...</td>\n",
       "    </tr>\n",
       "    <tr>\n",
       "      <th>4</th>\n",
       "      <td>https://techvidvan.com/tutorials/types-of-mach...</td>\n",
       "      <td>data:image/jpeg;base64,/9j/4AAQSkZJRgABAQAAAQA...</td>\n",
       "    </tr>\n",
       "    <tr>\n",
       "      <th>...</th>\n",
       "      <td>...</td>\n",
       "      <td>...</td>\n",
       "    </tr>\n",
       "    <tr>\n",
       "      <th>95</th>\n",
       "      <td>https://www.geeksforgeeks.org/supervised-unsup...</td>\n",
       "      <td>https://encrypted-tbn0.gstatic.com/images?q=tb...</td>\n",
       "    </tr>\n",
       "    <tr>\n",
       "      <th>96</th>\n",
       "      <td>https://www.slideshare.net/miladabbasi/an-intr...</td>\n",
       "      <td>https://encrypted-tbn0.gstatic.com/images?q=tb...</td>\n",
       "    </tr>\n",
       "    <tr>\n",
       "      <th>97</th>\n",
       "      <td>https://www.businessinsider.com/smart-farming-...</td>\n",
       "      <td>https://encrypted-tbn0.gstatic.com/images?q=tb...</td>\n",
       "    </tr>\n",
       "    <tr>\n",
       "      <th>98</th>\n",
       "      <td>https://mobile.twitter.com/fruit_logistica</td>\n",
       "      <td>https://encrypted-tbn0.gstatic.com/images?q=tb...</td>\n",
       "    </tr>\n",
       "    <tr>\n",
       "      <th>99</th>\n",
       "      <td>https://henzler.github.io/publication/unsuperv...</td>\n",
       "      <td>https://encrypted-tbn0.gstatic.com/images?q=tb...</td>\n",
       "    </tr>\n",
       "  </tbody>\n",
       "</table>\n",
       "<p>100 rows × 2 columns</p>\n",
       "</div>"
      ],
      "text/plain": [
       "                                              Headers  \\\n",
       "0   https://levelup.gitconnected.com/fruits-vegeta...   \n",
       "1   https://ai.plainenglish.io/introduction-to-mac...   \n",
       "2   https://analyticsindiamag.com/fruit-recognitio...   \n",
       "3   https://towardsdatascience.com/the-fruits-of-d...   \n",
       "4   https://techvidvan.com/tutorials/types-of-mach...   \n",
       "..                                                ...   \n",
       "95  https://www.geeksforgeeks.org/supervised-unsup...   \n",
       "96  https://www.slideshare.net/miladabbasi/an-intr...   \n",
       "97  https://www.businessinsider.com/smart-farming-...   \n",
       "98         https://mobile.twitter.com/fruit_logistica   \n",
       "99  https://henzler.github.io/publication/unsuperv...   \n",
       "\n",
       "                                               images  \n",
       "0   data:image/jpeg;base64,/9j/4AAQSkZJRgABAQAAAQA...  \n",
       "1   data:image/jpeg;base64,/9j/4AAQSkZJRgABAQAAAQA...  \n",
       "2   data:image/jpeg;base64,/9j/4AAQSkZJRgABAQAAAQA...  \n",
       "3   data:image/jpeg;base64,/9j/4AAQSkZJRgABAQAAAQA...  \n",
       "4   data:image/jpeg;base64,/9j/4AAQSkZJRgABAQAAAQA...  \n",
       "..                                                ...  \n",
       "95  https://encrypted-tbn0.gstatic.com/images?q=tb...  \n",
       "96  https://encrypted-tbn0.gstatic.com/images?q=tb...  \n",
       "97  https://encrypted-tbn0.gstatic.com/images?q=tb...  \n",
       "98  https://encrypted-tbn0.gstatic.com/images?q=tb...  \n",
       "99  https://encrypted-tbn0.gstatic.com/images?q=tb...  \n",
       "\n",
       "[100 rows x 2 columns]"
      ]
     },
     "execution_count": 62,
     "metadata": {},
     "output_type": "execute_result"
    }
   ],
   "source": [
    "google"
   ]
  },
  {
   "cell_type": "code",
   "execution_count": null,
   "id": "310542a0",
   "metadata": {},
   "outputs": [],
   "source": []
  },
  {
   "cell_type": "markdown",
   "id": "f218d2a2",
   "metadata": {},
   "source": [
    "# Q 4: Program"
   ]
  },
  {
   "cell_type": "code",
   "execution_count": 63,
   "id": "9bb7a895",
   "metadata": {},
   "outputs": [],
   "source": [
    "import pandas as pd\n",
    "import selenium\n",
    "from selenium import webdriver\n",
    "from selenium.common.exceptions import StaleElementReferenceException, NoSuchElementException"
   ]
  },
  {
   "cell_type": "code",
   "execution_count": 64,
   "id": "16761142",
   "metadata": {},
   "outputs": [],
   "source": [
    "driver = webdriver.Chrome(r'C:\\Users\\Admin\\Downloads\\chromedriver_win32 (1)\\chromedriver.exe')\n",
    "\n",
    "url = \"https://www.flipkart.com/\"\n",
    "\n",
    "driver.get(url)\n",
    "\n",
    "driver.maximize_window() # to maximise the chrome window\n",
    "\n",
    "#entering \"Data Analyst\" in job search bar using selenium driver\n",
    "search_glass = driver.find_element_by_class_name('_3704LK')\n",
    "search_glass.send_keys(\"Vivo Mobile Phone\")\n",
    "#clicking submit button using selenium deriver\n",
    "button_1 = driver.find_element_by_xpath('/html/body/div[2]/div/div/button')\n",
    "button_1.click()\n",
    "driver.implicitly_wait(3)\n",
    "click_button = driver.find_element_by_class_name(\"L0Z3Pu\")\n",
    "click_button.click()"
   ]
  },
  {
   "cell_type": "code",
   "execution_count": 65,
   "id": "089add43",
   "metadata": {},
   "outputs": [],
   "source": [
    "Brand =[]\n",
    "br = driver.find_elements_by_xpath(\"//div[@class='_4rR01T']\")\n",
    "for i in br:\n",
    "    try:\n",
    "        Brand.append(i.text)#appending the ratings in Ratings list\n",
    "\n",
    "        \n",
    "\n",
    "    except:\n",
    "        Brand.append(\"_\")#appending the No rating if no rating is there"
   ]
  },
  {
   "cell_type": "code",
   "execution_count": 66,
   "id": "e9248e62",
   "metadata": {},
   "outputs": [
    {
     "data": {
      "text/plain": [
       "24"
      ]
     },
     "execution_count": 66,
     "metadata": {},
     "output_type": "execute_result"
    }
   ],
   "source": [
    "len(Brand)"
   ]
  },
  {
   "cell_type": "code",
   "execution_count": 67,
   "id": "687ac46c",
   "metadata": {},
   "outputs": [
    {
     "data": {
      "text/plain": [
       "['vivo T1 5G (Rainbow Fantasy, 128 GB)',\n",
       " 'vivo T1 5G (Starlight Black, 128 GB)',\n",
       " 'vivo T1 5G (Rainbow Fantasy, 128 GB)',\n",
       " 'vivo T1 5G (Starlight Black, 128 GB)',\n",
       " 'vivo T1 5G (Starlight Black, 128 GB)',\n",
       " 'vivo T1 5G (Rainbow Fantasy, 128 GB)',\n",
       " 'vivo Y21 (Midnight Blue, 64 GB)',\n",
       " 'vivo Y33T (Mirror Black, 128 GB)',\n",
       " 'vivo Y53s (Fantastic Rainbow, 128 GB)',\n",
       " 'vivo Y20G 2021 (Purist Blue, 64 GB)',\n",
       " 'vivo Y20G 2021 (Obsidian Black, 64 GB)',\n",
       " 'vivo Y21A (Diamond Glow, 64 GB)',\n",
       " 'vivo V23 5G (Sunshine Gold, 128 GB)',\n",
       " 'vivo Y53s (Deep Sea Blue, 128 GB)',\n",
       " 'vivo Y15s (Mystic Blue, 32 GB)',\n",
       " 'vivo V23 5G (Stardust Black, 128 GB)',\n",
       " 'vivo Y21A (Midnight Blue, 64 GB)',\n",
       " 'vivo V23 5G (Sunshine Gold, 256 GB)',\n",
       " 'vivo Y21 (Diamond Glow, 64 GB)',\n",
       " 'vivo Y15s (Wave Green, 32 GB)',\n",
       " 'vivo Y21 (Diamond Glow, 128 GB)',\n",
       " 'vivo Y33T (Mid day dream, 128 GB)',\n",
       " 'vivo V21 5G (Sunset Dazzle, 128 GB)',\n",
       " 'vivo Y75 5G (Starlight black, 128 GB)']"
      ]
     },
     "execution_count": 67,
     "metadata": {},
     "output_type": "execute_result"
    }
   ],
   "source": [
    "Brand"
   ]
  },
  {
   "cell_type": "code",
   "execution_count": 68,
   "id": "fb43d78d",
   "metadata": {},
   "outputs": [],
   "source": [
    "ratings=[]\n",
    "rating=driver.find_elements_by_class_name('_1lRcqv')#scraping description by class name = '_2mylT6'\n",
    "for i in rating:\n",
    "    try:\n",
    "        ratings.append(i.text)#appending the ratings in Ratings list\n",
    "\n",
    "        \n",
    "\n",
    "    except:\n",
    "        ratings.append(\"_\")#appending the No rating if no rating is there"
   ]
  },
  {
   "cell_type": "code",
   "execution_count": 69,
   "id": "ab833fe6",
   "metadata": {},
   "outputs": [
    {
     "data": {
      "text/plain": [
       "24"
      ]
     },
     "execution_count": 69,
     "metadata": {},
     "output_type": "execute_result"
    }
   ],
   "source": [
    "len(ratings)"
   ]
  },
  {
   "cell_type": "code",
   "execution_count": 70,
   "id": "b938642b",
   "metadata": {},
   "outputs": [
    {
     "data": {
      "text/plain": [
       "['4.4',\n",
       " '4.4',\n",
       " '4.4',\n",
       " '4.4',\n",
       " '4.3',\n",
       " '4.3',\n",
       " '4.3',\n",
       " '4.4',\n",
       " '4.2',\n",
       " '4.3',\n",
       " '4.3',\n",
       " '4.3',\n",
       " '4.4',\n",
       " '4.2',\n",
       " '4.3',\n",
       " '4.4',\n",
       " '4.3',\n",
       " '4.3',\n",
       " '4.3',\n",
       " '4.3',\n",
       " '4.3',\n",
       " '4.4',\n",
       " '4.3',\n",
       " '4.2']"
      ]
     },
     "execution_count": 70,
     "metadata": {},
     "output_type": "execute_result"
    }
   ],
   "source": [
    "ratings"
   ]
  },
  {
   "cell_type": "code",
   "execution_count": 71,
   "id": "b9e1cf90",
   "metadata": {},
   "outputs": [],
   "source": [
    "RAM=[]\n",
    "RM=driver.find_elements_by_xpath(\"//ul[@class='_1xgFaf']/li[1]\")\n",
    "for i in RM:\n",
    "    try:\n",
    "        RAM.append(i.text)#appending the ratings in Ratings list\n",
    "\n",
    "        \n",
    "\n",
    "    except:\n",
    "        RAM.append(\"_\")#appending the No rating if no rating is there"
   ]
  },
  {
   "cell_type": "code",
   "execution_count": 72,
   "id": "051d7146",
   "metadata": {},
   "outputs": [],
   "source": [
    "Display_Size=[]\n",
    "DS=driver.find_elements_by_xpath(\"//ul[@class='_1xgFaf']/li[2]\")\n",
    "for i in DS:\n",
    "    try:\n",
    "        Display_Size.append(i.text)#appending the ratings in Ratings list\n",
    "\n",
    "        \n",
    "\n",
    "    except:\n",
    "        Display_Size.append(\"_\")#appending the No rating if no rating is there"
   ]
  },
  {
   "cell_type": "code",
   "execution_count": 73,
   "id": "801c5d33",
   "metadata": {},
   "outputs": [
    {
     "data": {
      "text/plain": [
       "['16.71 cm (6.58 inch) Full HD+ Display',\n",
       " '16.71 cm (6.58 inch) Full HD+ Display',\n",
       " '16.71 cm (6.58 inch) Full HD+ Display',\n",
       " '16.71 cm (6.58 inch) Full HD+ Display',\n",
       " '16.71 cm (6.58 inch) Full HD+ Display',\n",
       " '16.71 cm (6.58 inch) Full HD+ Display',\n",
       " '16.54 cm (6.51 inch) HD+ Display',\n",
       " '16.71 cm (6.58 inch) Full HD+ Display',\n",
       " '16.71 cm (6.58 inch) Full HD+ Display',\n",
       " '16.54 cm (6.51 inch) HD+ Display',\n",
       " '16.54 cm (6.51 inch) HD+ Display',\n",
       " '16.54 cm (6.51 inch) Display',\n",
       " '16.36 cm (6.44 inch) Full HD+ Display',\n",
       " '16.71 cm (6.58 inch) Full HD+ Display',\n",
       " '16.54 cm (6.51 inch) HD+ Display',\n",
       " '16.36 cm (6.44 inch) Full HD+ Display',\n",
       " '16.54 cm (6.51 inch) HD+ Display',\n",
       " '16.36 cm (6.44 inch) Full HD+ Display',\n",
       " '16.54 cm (6.51 inch) HD+ Display',\n",
       " '16.54 cm (6.51 inch) HD+ Display',\n",
       " '16.54 cm (6.51 inch) HD+ Display',\n",
       " '16.71 cm (6.58 inch) Full HD+ Display',\n",
       " '16.36 cm (6.44 inch) Full HD+ Display',\n",
       " '16.71 cm (6.58 inch) Full HD+ Display']"
      ]
     },
     "execution_count": 73,
     "metadata": {},
     "output_type": "execute_result"
    }
   ],
   "source": [
    "Display_Size"
   ]
  },
  {
   "cell_type": "code",
   "execution_count": 74,
   "id": "a9fc2a7e",
   "metadata": {},
   "outputs": [],
   "source": [
    "Camera=[]\n",
    "cm=driver.find_elements_by_xpath(\"//ul[@class='_1xgFaf']/li[3]\")\n",
    "for i in cm:\n",
    "    try:\n",
    "        Camera.append(i.text)#appending the ratings in Ratings list\n",
    "\n",
    "        \n",
    "\n",
    "    except:\n",
    "        Camera.append(\"_\")#appending the No rating if no rating is there"
   ]
  },
  {
   "cell_type": "code",
   "execution_count": 75,
   "id": "71dca151",
   "metadata": {},
   "outputs": [
    {
     "data": {
      "text/plain": [
       "['50MP + 2MP + 2MP | 16MP Front Camera',\n",
       " '50MP + 2MP + 2MP | 16MP Front Camera',\n",
       " '50MP + 2MP + 2MP | 16MP Front Camera',\n",
       " '50MP + 2MP + 2MP | 16MP Front Camera',\n",
       " '50MP + 2MP + 2MP | 16MP Front Camera',\n",
       " '50MP + 2MP + 2MP | 16MP Front Camera',\n",
       " '13MP + 2MP | 8MP Front Camera',\n",
       " '50MP + 2MP + 2MP | 16MP Front Camera',\n",
       " '64MP + 2MP + 2MP | 16MP Front Camera',\n",
       " '13MP + 2MP + 2MP | 8MP Front Camera',\n",
       " '13MP + 2MP + 2MP | 8MP Front Camera',\n",
       " '13MP Rear Camera',\n",
       " '64MP + 8MP + 2MP | 50MP + 8MP Dual Front Camera',\n",
       " '64MP + 2MP + 2MP | 16MP Front Camera',\n",
       " '13MP + 2MP | 8MP Front Camera',\n",
       " '64MP + 8MP + 2MP | 50MP + 8MP Dual Front Camera',\n",
       " '13MP + 2MP | 8MP + 8MP Dual Front Camera',\n",
       " '64MP + 8MP + 2MP | 50MP + 8MP Dual Front Camera',\n",
       " '13MP + 2MP | 8MP Front Camera',\n",
       " '13MP + 2MP | 8MP Front Camera',\n",
       " '13MP + 2MP | 8MP Front Camera',\n",
       " '50MP + 2MP + 2MP | 16MP Front Camera',\n",
       " '64MP + 8MP + 2MP | 44MP Front Camera',\n",
       " '50MP + 2MP + 2MP | 16MP Front Camera']"
      ]
     },
     "execution_count": 75,
     "metadata": {},
     "output_type": "execute_result"
    }
   ],
   "source": [
    "Camera"
   ]
  },
  {
   "cell_type": "code",
   "execution_count": 76,
   "id": "3acfcb68",
   "metadata": {},
   "outputs": [],
   "source": [
    "Battery=[]\n",
    "bt=driver.find_elements_by_xpath(\"//ul[@class='_1xgFaf']/li[4]\")\n",
    "for i in bt:\n",
    "    try:\n",
    "        Battery.append(i.text)#appending the ratings in Ratings list\n",
    "\n",
    "        \n",
    "\n",
    "    except:\n",
    "        Battery.append(\"_\")#appending the No rating if no rating is there"
   ]
  },
  {
   "cell_type": "code",
   "execution_count": 77,
   "id": "e16a5db6",
   "metadata": {},
   "outputs": [
    {
     "data": {
      "text/plain": [
       "['5000 mAh Lithium Battery',\n",
       " '5000 mAh Lithium Battery',\n",
       " '5000 mAh Lithium Battery',\n",
       " '5000 mAh Lithium Battery',\n",
       " '5000 mAh Lithium Battery',\n",
       " '5000 mAh Lithium Battery',\n",
       " '5000 mAh Lithium Battery',\n",
       " '5000 mAh Lithium Battery',\n",
       " '5000 mAh Battery',\n",
       " '5000 mAh Li-ion Battery',\n",
       " '5000 mAh Li-ion Battery',\n",
       " '5000 mAh Battery',\n",
       " '4200 mAh Lithium Battery',\n",
       " '5000 mAh Battery',\n",
       " '5000 mAh Lithium Battery Battery',\n",
       " '4200 mAh Lithium Battery',\n",
       " '5000 mAh Battery',\n",
       " '4200 mAh Lithium Battery',\n",
       " '5000 mAh Lithium Battery',\n",
       " '5000 mAh Lithium Battery Battery',\n",
       " '5000 mAh Lithium Battery',\n",
       " '5000 mAh Lithium Battery',\n",
       " '4000 mAh Lithium-ion Battery',\n",
       " '5000 mAh Battery']"
      ]
     },
     "execution_count": 77,
     "metadata": {},
     "output_type": "execute_result"
    }
   ],
   "source": [
    "Battery"
   ]
  },
  {
   "cell_type": "code",
   "execution_count": 78,
   "id": "1529577c",
   "metadata": {},
   "outputs": [],
   "source": [
    "Warranty=[]\n",
    "wy=driver.find_elements_by_xpath(\"//ul[@class='_1xgFaf']/li[5]\")\n",
    "for i in wy:\n",
    "    try:\n",
    "        Warranty.append(i.text)#appending the ratings in Ratings list\n",
    "\n",
    "        \n",
    "\n",
    "    except:\n",
    "        Warranty.append(\"_\")#appending the No rating if no rating is there"
   ]
  },
  {
   "cell_type": "code",
   "execution_count": 79,
   "id": "14e862b4",
   "metadata": {},
   "outputs": [],
   "source": [
    "Prices=[]\n",
    "pr=driver.find_elements_by_xpath(\"//div[@class='_30jeq3 _1_WHN1']\")\n",
    "for i in pr:\n",
    "    try:\n",
    "        Prices.append(i.text)#appending the ratings in Ratings list\n",
    "\n",
    "        \n",
    "\n",
    "    except:\n",
    "        Prices.append(\"_\")#appending the No rating if no rating is there"
   ]
  },
  {
   "cell_type": "code",
   "execution_count": 80,
   "id": "18be7d10",
   "metadata": {},
   "outputs": [],
   "source": [
    "flipkart=pd.DataFrame({})\n",
    "flipkart['brand']=Brand[0:22]\n",
    "flipkart['ratings']=ratings[0:22]\n",
    "flipkart['inches']=Display_Size[0:22]\n",
    "flipkart['camera']=Camera[0:22]\n",
    "flipkart['price']=Prices[0:22]\n",
    "flipkart['Ram']=RAM[0:22]\n",
    "flipkart['battery']=Battery[0:22]\n",
    "flipkart['warranty']=Warranty[0:22]"
   ]
  },
  {
   "cell_type": "code",
   "execution_count": 81,
   "id": "1297f3fc",
   "metadata": {},
   "outputs": [
    {
     "data": {
      "text/html": [
       "<div>\n",
       "<style scoped>\n",
       "    .dataframe tbody tr th:only-of-type {\n",
       "        vertical-align: middle;\n",
       "    }\n",
       "\n",
       "    .dataframe tbody tr th {\n",
       "        vertical-align: top;\n",
       "    }\n",
       "\n",
       "    .dataframe thead th {\n",
       "        text-align: right;\n",
       "    }\n",
       "</style>\n",
       "<table border=\"1\" class=\"dataframe\">\n",
       "  <thead>\n",
       "    <tr style=\"text-align: right;\">\n",
       "      <th></th>\n",
       "      <th>brand</th>\n",
       "      <th>ratings</th>\n",
       "      <th>inches</th>\n",
       "      <th>camera</th>\n",
       "      <th>price</th>\n",
       "      <th>Ram</th>\n",
       "      <th>battery</th>\n",
       "      <th>warranty</th>\n",
       "    </tr>\n",
       "  </thead>\n",
       "  <tbody>\n",
       "    <tr>\n",
       "      <th>0</th>\n",
       "      <td>vivo T1 5G (Rainbow Fantasy, 128 GB)</td>\n",
       "      <td>4.4</td>\n",
       "      <td>16.71 cm (6.58 inch) Full HD+ Display</td>\n",
       "      <td>50MP + 2MP + 2MP | 16MP Front Camera</td>\n",
       "      <td>₹16,990</td>\n",
       "      <td>6 GB RAM | 128 GB ROM | Expandable Upto 1 TB</td>\n",
       "      <td>5000 mAh Lithium Battery</td>\n",
       "      <td>Qualcomm Snapdragon 695 Processor</td>\n",
       "    </tr>\n",
       "    <tr>\n",
       "      <th>1</th>\n",
       "      <td>vivo T1 5G (Starlight Black, 128 GB)</td>\n",
       "      <td>4.4</td>\n",
       "      <td>16.71 cm (6.58 inch) Full HD+ Display</td>\n",
       "      <td>50MP + 2MP + 2MP | 16MP Front Camera</td>\n",
       "      <td>₹15,990</td>\n",
       "      <td>4 GB RAM | 128 GB ROM | Expandable Upto 1 TB</td>\n",
       "      <td>5000 mAh Lithium Battery</td>\n",
       "      <td>Qualcomm Snapdragon 695 Processor</td>\n",
       "    </tr>\n",
       "    <tr>\n",
       "      <th>2</th>\n",
       "      <td>vivo T1 5G (Rainbow Fantasy, 128 GB)</td>\n",
       "      <td>4.4</td>\n",
       "      <td>16.71 cm (6.58 inch) Full HD+ Display</td>\n",
       "      <td>50MP + 2MP + 2MP | 16MP Front Camera</td>\n",
       "      <td>₹15,990</td>\n",
       "      <td>4 GB RAM | 128 GB ROM | Expandable Upto 1 TB</td>\n",
       "      <td>5000 mAh Lithium Battery</td>\n",
       "      <td>Qualcomm Snapdragon 695 Processor</td>\n",
       "    </tr>\n",
       "    <tr>\n",
       "      <th>3</th>\n",
       "      <td>vivo T1 5G (Starlight Black, 128 GB)</td>\n",
       "      <td>4.4</td>\n",
       "      <td>16.71 cm (6.58 inch) Full HD+ Display</td>\n",
       "      <td>50MP + 2MP + 2MP | 16MP Front Camera</td>\n",
       "      <td>₹16,990</td>\n",
       "      <td>6 GB RAM | 128 GB ROM | Expandable Upto 1 TB</td>\n",
       "      <td>5000 mAh Lithium Battery</td>\n",
       "      <td>Qualcomm Snapdragon 695 Processor</td>\n",
       "    </tr>\n",
       "    <tr>\n",
       "      <th>4</th>\n",
       "      <td>vivo T1 5G (Starlight Black, 128 GB)</td>\n",
       "      <td>4.3</td>\n",
       "      <td>16.71 cm (6.58 inch) Full HD+ Display</td>\n",
       "      <td>50MP + 2MP + 2MP | 16MP Front Camera</td>\n",
       "      <td>₹19,990</td>\n",
       "      <td>8 GB RAM | 128 GB ROM | Expandable Upto 1 TB</td>\n",
       "      <td>5000 mAh Lithium Battery</td>\n",
       "      <td>Qualcomm Snapdragon 695 Processor</td>\n",
       "    </tr>\n",
       "    <tr>\n",
       "      <th>5</th>\n",
       "      <td>vivo T1 5G (Rainbow Fantasy, 128 GB)</td>\n",
       "      <td>4.3</td>\n",
       "      <td>16.71 cm (6.58 inch) Full HD+ Display</td>\n",
       "      <td>50MP + 2MP + 2MP | 16MP Front Camera</td>\n",
       "      <td>₹19,990</td>\n",
       "      <td>8 GB RAM | 128 GB ROM | Expandable Upto 1 TB</td>\n",
       "      <td>5000 mAh Lithium Battery</td>\n",
       "      <td>Qualcomm Snapdragon 695 Processor</td>\n",
       "    </tr>\n",
       "    <tr>\n",
       "      <th>6</th>\n",
       "      <td>vivo Y21 (Midnight Blue, 64 GB)</td>\n",
       "      <td>4.3</td>\n",
       "      <td>16.54 cm (6.51 inch) HD+ Display</td>\n",
       "      <td>13MP + 2MP | 8MP Front Camera</td>\n",
       "      <td>₹13,990</td>\n",
       "      <td>4 GB RAM | 64 GB ROM | Expandable Upto 1 TB</td>\n",
       "      <td>5000 mAh Lithium Battery</td>\n",
       "      <td>Mediatek Helio P35 Processor</td>\n",
       "    </tr>\n",
       "    <tr>\n",
       "      <th>7</th>\n",
       "      <td>vivo Y33T (Mirror Black, 128 GB)</td>\n",
       "      <td>4.4</td>\n",
       "      <td>16.71 cm (6.58 inch) Full HD+ Display</td>\n",
       "      <td>50MP + 2MP + 2MP | 16MP Front Camera</td>\n",
       "      <td>₹18,990</td>\n",
       "      <td>8 GB RAM | 128 GB ROM | Expandable Upto 1 TB</td>\n",
       "      <td>5000 mAh Lithium Battery</td>\n",
       "      <td>Qualcomm Snapdragon 680 Processor</td>\n",
       "    </tr>\n",
       "    <tr>\n",
       "      <th>8</th>\n",
       "      <td>vivo Y53s (Fantastic Rainbow, 128 GB)</td>\n",
       "      <td>4.2</td>\n",
       "      <td>16.71 cm (6.58 inch) Full HD+ Display</td>\n",
       "      <td>64MP + 2MP + 2MP | 16MP Front Camera</td>\n",
       "      <td>₹15,990</td>\n",
       "      <td>8 GB RAM | 128 GB ROM | Expandable Upto 1 TB</td>\n",
       "      <td>5000 mAh Battery</td>\n",
       "      <td>MediaTek Helio G80 Processor</td>\n",
       "    </tr>\n",
       "    <tr>\n",
       "      <th>9</th>\n",
       "      <td>vivo Y20G 2021 (Purist Blue, 64 GB)</td>\n",
       "      <td>4.3</td>\n",
       "      <td>16.54 cm (6.51 inch) HD+ Display</td>\n",
       "      <td>13MP + 2MP + 2MP | 8MP Front Camera</td>\n",
       "      <td>₹13,980</td>\n",
       "      <td>4 GB RAM | 64 GB ROM | Expandable Upto 256 GB</td>\n",
       "      <td>5000 mAh Li-ion Battery</td>\n",
       "      <td>MediaTek Helio P35 Processor</td>\n",
       "    </tr>\n",
       "    <tr>\n",
       "      <th>10</th>\n",
       "      <td>vivo Y20G 2021 (Obsidian Black, 64 GB)</td>\n",
       "      <td>4.3</td>\n",
       "      <td>16.54 cm (6.51 inch) HD+ Display</td>\n",
       "      <td>13MP + 2MP + 2MP | 8MP Front Camera</td>\n",
       "      <td>₹13,990</td>\n",
       "      <td>4 GB RAM | 64 GB ROM | Expandable Upto 256 GB</td>\n",
       "      <td>5000 mAh Li-ion Battery</td>\n",
       "      <td>MediaTek Helio P35 Processor</td>\n",
       "    </tr>\n",
       "    <tr>\n",
       "      <th>11</th>\n",
       "      <td>vivo Y21A (Diamond Glow, 64 GB)</td>\n",
       "      <td>4.3</td>\n",
       "      <td>16.54 cm (6.51 inch) Display</td>\n",
       "      <td>13MP Rear Camera</td>\n",
       "      <td>₹13,225</td>\n",
       "      <td>4 GB RAM | 64 GB ROM</td>\n",
       "      <td>5000 mAh Battery</td>\n",
       "      <td>1 Year for Handset and 6 Months for Inbox Acce...</td>\n",
       "    </tr>\n",
       "    <tr>\n",
       "      <th>12</th>\n",
       "      <td>vivo V23 5G (Sunshine Gold, 128 GB)</td>\n",
       "      <td>4.4</td>\n",
       "      <td>16.36 cm (6.44 inch) Full HD+ Display</td>\n",
       "      <td>64MP + 8MP + 2MP | 50MP + 8MP Dual Front Camera</td>\n",
       "      <td>₹29,990</td>\n",
       "      <td>8 GB RAM | 128 GB ROM | Expandable Upto 12 GB</td>\n",
       "      <td>4200 mAh Lithium Battery</td>\n",
       "      <td>Mediatek Dimensity 920 Processor</td>\n",
       "    </tr>\n",
       "    <tr>\n",
       "      <th>13</th>\n",
       "      <td>vivo Y53s (Deep Sea Blue, 128 GB)</td>\n",
       "      <td>4.2</td>\n",
       "      <td>16.71 cm (6.58 inch) Full HD+ Display</td>\n",
       "      <td>64MP + 2MP + 2MP | 16MP Front Camera</td>\n",
       "      <td>₹15,990</td>\n",
       "      <td>8 GB RAM | 128 GB ROM | Expandable Upto 1 TB</td>\n",
       "      <td>5000 mAh Battery</td>\n",
       "      <td>MediaTek Helio G80 Processor</td>\n",
       "    </tr>\n",
       "    <tr>\n",
       "      <th>14</th>\n",
       "      <td>vivo Y15s (Mystic Blue, 32 GB)</td>\n",
       "      <td>4.3</td>\n",
       "      <td>16.54 cm (6.51 inch) HD+ Display</td>\n",
       "      <td>13MP + 2MP | 8MP Front Camera</td>\n",
       "      <td>₹12,490</td>\n",
       "      <td>3 GB RAM | 32 GB ROM | Expandable Upto 1 TB</td>\n",
       "      <td>5000 mAh Lithium Battery Battery</td>\n",
       "      <td>Mediatek Helio P35 Processor</td>\n",
       "    </tr>\n",
       "    <tr>\n",
       "      <th>15</th>\n",
       "      <td>vivo V23 5G (Stardust Black, 128 GB)</td>\n",
       "      <td>4.4</td>\n",
       "      <td>16.36 cm (6.44 inch) Full HD+ Display</td>\n",
       "      <td>64MP + 8MP + 2MP | 50MP + 8MP Dual Front Camera</td>\n",
       "      <td>₹29,990</td>\n",
       "      <td>8 GB RAM | 128 GB ROM</td>\n",
       "      <td>4200 mAh Lithium Battery</td>\n",
       "      <td>Mediatek Dimensity 920 Processor</td>\n",
       "    </tr>\n",
       "    <tr>\n",
       "      <th>16</th>\n",
       "      <td>vivo Y21A (Midnight Blue, 64 GB)</td>\n",
       "      <td>4.3</td>\n",
       "      <td>16.54 cm (6.51 inch) HD+ Display</td>\n",
       "      <td>13MP + 2MP | 8MP + 8MP Dual Front Camera</td>\n",
       "      <td>₹13,378</td>\n",
       "      <td>4 GB RAM | 64 GB ROM | Expandable Upto 1 TB</td>\n",
       "      <td>5000 mAh Battery</td>\n",
       "      <td>Mediatek Helio P22 Processor</td>\n",
       "    </tr>\n",
       "    <tr>\n",
       "      <th>17</th>\n",
       "      <td>vivo V23 5G (Sunshine Gold, 256 GB)</td>\n",
       "      <td>4.3</td>\n",
       "      <td>16.36 cm (6.44 inch) Full HD+ Display</td>\n",
       "      <td>64MP + 8MP + 2MP | 50MP + 8MP Dual Front Camera</td>\n",
       "      <td>₹34,990</td>\n",
       "      <td>12 GB RAM | 256 GB ROM</td>\n",
       "      <td>4200 mAh Lithium Battery</td>\n",
       "      <td>Mediatek Dimensity 920 Processor</td>\n",
       "    </tr>\n",
       "    <tr>\n",
       "      <th>18</th>\n",
       "      <td>vivo Y21 (Diamond Glow, 64 GB)</td>\n",
       "      <td>4.3</td>\n",
       "      <td>16.54 cm (6.51 inch) HD+ Display</td>\n",
       "      <td>13MP + 2MP | 8MP Front Camera</td>\n",
       "      <td>₹13,990</td>\n",
       "      <td>4 GB RAM | 64 GB ROM | Expandable Upto 1 TB</td>\n",
       "      <td>5000 mAh Lithium Battery</td>\n",
       "      <td>Mediatek Helio P35 Processor</td>\n",
       "    </tr>\n",
       "    <tr>\n",
       "      <th>19</th>\n",
       "      <td>vivo Y15s (Wave Green, 32 GB)</td>\n",
       "      <td>4.3</td>\n",
       "      <td>16.54 cm (6.51 inch) HD+ Display</td>\n",
       "      <td>13MP + 2MP | 8MP Front Camera</td>\n",
       "      <td>₹10,990</td>\n",
       "      <td>3 GB RAM | 32 GB ROM | Expandable Upto 1 TB</td>\n",
       "      <td>5000 mAh Lithium Battery Battery</td>\n",
       "      <td>Mediatek Helio P35 Processor</td>\n",
       "    </tr>\n",
       "    <tr>\n",
       "      <th>20</th>\n",
       "      <td>vivo Y21 (Diamond Glow, 128 GB)</td>\n",
       "      <td>4.3</td>\n",
       "      <td>16.54 cm (6.51 inch) HD+ Display</td>\n",
       "      <td>13MP + 2MP | 8MP Front Camera</td>\n",
       "      <td>₹18,990</td>\n",
       "      <td>4 GB RAM | 128 GB ROM | Expandable Upto 1 TB</td>\n",
       "      <td>5000 mAh Lithium Battery</td>\n",
       "      <td>Mediatek Helio P35 Processor</td>\n",
       "    </tr>\n",
       "    <tr>\n",
       "      <th>21</th>\n",
       "      <td>vivo Y33T (Mid day dream, 128 GB)</td>\n",
       "      <td>4.4</td>\n",
       "      <td>16.71 cm (6.58 inch) Full HD+ Display</td>\n",
       "      <td>50MP + 2MP + 2MP | 16MP Front Camera</td>\n",
       "      <td>₹18,990</td>\n",
       "      <td>8 GB RAM | 128 GB ROM | Expandable Upto 1 TB</td>\n",
       "      <td>5000 mAh Lithium Battery</td>\n",
       "      <td>Qualcomm Snapdragon 680 Processor</td>\n",
       "    </tr>\n",
       "  </tbody>\n",
       "</table>\n",
       "</div>"
      ],
      "text/plain": [
       "                                     brand ratings  \\\n",
       "0     vivo T1 5G (Rainbow Fantasy, 128 GB)     4.4   \n",
       "1     vivo T1 5G (Starlight Black, 128 GB)     4.4   \n",
       "2     vivo T1 5G (Rainbow Fantasy, 128 GB)     4.4   \n",
       "3     vivo T1 5G (Starlight Black, 128 GB)     4.4   \n",
       "4     vivo T1 5G (Starlight Black, 128 GB)     4.3   \n",
       "5     vivo T1 5G (Rainbow Fantasy, 128 GB)     4.3   \n",
       "6          vivo Y21 (Midnight Blue, 64 GB)     4.3   \n",
       "7         vivo Y33T (Mirror Black, 128 GB)     4.4   \n",
       "8    vivo Y53s (Fantastic Rainbow, 128 GB)     4.2   \n",
       "9      vivo Y20G 2021 (Purist Blue, 64 GB)     4.3   \n",
       "10  vivo Y20G 2021 (Obsidian Black, 64 GB)     4.3   \n",
       "11         vivo Y21A (Diamond Glow, 64 GB)     4.3   \n",
       "12     vivo V23 5G (Sunshine Gold, 128 GB)     4.4   \n",
       "13       vivo Y53s (Deep Sea Blue, 128 GB)     4.2   \n",
       "14          vivo Y15s (Mystic Blue, 32 GB)     4.3   \n",
       "15    vivo V23 5G (Stardust Black, 128 GB)     4.4   \n",
       "16        vivo Y21A (Midnight Blue, 64 GB)     4.3   \n",
       "17     vivo V23 5G (Sunshine Gold, 256 GB)     4.3   \n",
       "18          vivo Y21 (Diamond Glow, 64 GB)     4.3   \n",
       "19           vivo Y15s (Wave Green, 32 GB)     4.3   \n",
       "20         vivo Y21 (Diamond Glow, 128 GB)     4.3   \n",
       "21       vivo Y33T (Mid day dream, 128 GB)     4.4   \n",
       "\n",
       "                                   inches  \\\n",
       "0   16.71 cm (6.58 inch) Full HD+ Display   \n",
       "1   16.71 cm (6.58 inch) Full HD+ Display   \n",
       "2   16.71 cm (6.58 inch) Full HD+ Display   \n",
       "3   16.71 cm (6.58 inch) Full HD+ Display   \n",
       "4   16.71 cm (6.58 inch) Full HD+ Display   \n",
       "5   16.71 cm (6.58 inch) Full HD+ Display   \n",
       "6        16.54 cm (6.51 inch) HD+ Display   \n",
       "7   16.71 cm (6.58 inch) Full HD+ Display   \n",
       "8   16.71 cm (6.58 inch) Full HD+ Display   \n",
       "9        16.54 cm (6.51 inch) HD+ Display   \n",
       "10       16.54 cm (6.51 inch) HD+ Display   \n",
       "11           16.54 cm (6.51 inch) Display   \n",
       "12  16.36 cm (6.44 inch) Full HD+ Display   \n",
       "13  16.71 cm (6.58 inch) Full HD+ Display   \n",
       "14       16.54 cm (6.51 inch) HD+ Display   \n",
       "15  16.36 cm (6.44 inch) Full HD+ Display   \n",
       "16       16.54 cm (6.51 inch) HD+ Display   \n",
       "17  16.36 cm (6.44 inch) Full HD+ Display   \n",
       "18       16.54 cm (6.51 inch) HD+ Display   \n",
       "19       16.54 cm (6.51 inch) HD+ Display   \n",
       "20       16.54 cm (6.51 inch) HD+ Display   \n",
       "21  16.71 cm (6.58 inch) Full HD+ Display   \n",
       "\n",
       "                                             camera    price  \\\n",
       "0              50MP + 2MP + 2MP | 16MP Front Camera  ₹16,990   \n",
       "1              50MP + 2MP + 2MP | 16MP Front Camera  ₹15,990   \n",
       "2              50MP + 2MP + 2MP | 16MP Front Camera  ₹15,990   \n",
       "3              50MP + 2MP + 2MP | 16MP Front Camera  ₹16,990   \n",
       "4              50MP + 2MP + 2MP | 16MP Front Camera  ₹19,990   \n",
       "5              50MP + 2MP + 2MP | 16MP Front Camera  ₹19,990   \n",
       "6                     13MP + 2MP | 8MP Front Camera  ₹13,990   \n",
       "7              50MP + 2MP + 2MP | 16MP Front Camera  ₹18,990   \n",
       "8              64MP + 2MP + 2MP | 16MP Front Camera  ₹15,990   \n",
       "9               13MP + 2MP + 2MP | 8MP Front Camera  ₹13,980   \n",
       "10              13MP + 2MP + 2MP | 8MP Front Camera  ₹13,990   \n",
       "11                                 13MP Rear Camera  ₹13,225   \n",
       "12  64MP + 8MP + 2MP | 50MP + 8MP Dual Front Camera  ₹29,990   \n",
       "13             64MP + 2MP + 2MP | 16MP Front Camera  ₹15,990   \n",
       "14                    13MP + 2MP | 8MP Front Camera  ₹12,490   \n",
       "15  64MP + 8MP + 2MP | 50MP + 8MP Dual Front Camera  ₹29,990   \n",
       "16         13MP + 2MP | 8MP + 8MP Dual Front Camera  ₹13,378   \n",
       "17  64MP + 8MP + 2MP | 50MP + 8MP Dual Front Camera  ₹34,990   \n",
       "18                    13MP + 2MP | 8MP Front Camera  ₹13,990   \n",
       "19                    13MP + 2MP | 8MP Front Camera  ₹10,990   \n",
       "20                    13MP + 2MP | 8MP Front Camera  ₹18,990   \n",
       "21             50MP + 2MP + 2MP | 16MP Front Camera  ₹18,990   \n",
       "\n",
       "                                              Ram  \\\n",
       "0    6 GB RAM | 128 GB ROM | Expandable Upto 1 TB   \n",
       "1    4 GB RAM | 128 GB ROM | Expandable Upto 1 TB   \n",
       "2    4 GB RAM | 128 GB ROM | Expandable Upto 1 TB   \n",
       "3    6 GB RAM | 128 GB ROM | Expandable Upto 1 TB   \n",
       "4    8 GB RAM | 128 GB ROM | Expandable Upto 1 TB   \n",
       "5    8 GB RAM | 128 GB ROM | Expandable Upto 1 TB   \n",
       "6     4 GB RAM | 64 GB ROM | Expandable Upto 1 TB   \n",
       "7    8 GB RAM | 128 GB ROM | Expandable Upto 1 TB   \n",
       "8    8 GB RAM | 128 GB ROM | Expandable Upto 1 TB   \n",
       "9   4 GB RAM | 64 GB ROM | Expandable Upto 256 GB   \n",
       "10  4 GB RAM | 64 GB ROM | Expandable Upto 256 GB   \n",
       "11                           4 GB RAM | 64 GB ROM   \n",
       "12  8 GB RAM | 128 GB ROM | Expandable Upto 12 GB   \n",
       "13   8 GB RAM | 128 GB ROM | Expandable Upto 1 TB   \n",
       "14    3 GB RAM | 32 GB ROM | Expandable Upto 1 TB   \n",
       "15                          8 GB RAM | 128 GB ROM   \n",
       "16    4 GB RAM | 64 GB ROM | Expandable Upto 1 TB   \n",
       "17                         12 GB RAM | 256 GB ROM   \n",
       "18    4 GB RAM | 64 GB ROM | Expandable Upto 1 TB   \n",
       "19    3 GB RAM | 32 GB ROM | Expandable Upto 1 TB   \n",
       "20   4 GB RAM | 128 GB ROM | Expandable Upto 1 TB   \n",
       "21   8 GB RAM | 128 GB ROM | Expandable Upto 1 TB   \n",
       "\n",
       "                             battery  \\\n",
       "0           5000 mAh Lithium Battery   \n",
       "1           5000 mAh Lithium Battery   \n",
       "2           5000 mAh Lithium Battery   \n",
       "3           5000 mAh Lithium Battery   \n",
       "4           5000 mAh Lithium Battery   \n",
       "5           5000 mAh Lithium Battery   \n",
       "6           5000 mAh Lithium Battery   \n",
       "7           5000 mAh Lithium Battery   \n",
       "8                   5000 mAh Battery   \n",
       "9            5000 mAh Li-ion Battery   \n",
       "10           5000 mAh Li-ion Battery   \n",
       "11                  5000 mAh Battery   \n",
       "12          4200 mAh Lithium Battery   \n",
       "13                  5000 mAh Battery   \n",
       "14  5000 mAh Lithium Battery Battery   \n",
       "15          4200 mAh Lithium Battery   \n",
       "16                  5000 mAh Battery   \n",
       "17          4200 mAh Lithium Battery   \n",
       "18          5000 mAh Lithium Battery   \n",
       "19  5000 mAh Lithium Battery Battery   \n",
       "20          5000 mAh Lithium Battery   \n",
       "21          5000 mAh Lithium Battery   \n",
       "\n",
       "                                             warranty  \n",
       "0                   Qualcomm Snapdragon 695 Processor  \n",
       "1                   Qualcomm Snapdragon 695 Processor  \n",
       "2                   Qualcomm Snapdragon 695 Processor  \n",
       "3                   Qualcomm Snapdragon 695 Processor  \n",
       "4                   Qualcomm Snapdragon 695 Processor  \n",
       "5                   Qualcomm Snapdragon 695 Processor  \n",
       "6                        Mediatek Helio P35 Processor  \n",
       "7                   Qualcomm Snapdragon 680 Processor  \n",
       "8                        MediaTek Helio G80 Processor  \n",
       "9                        MediaTek Helio P35 Processor  \n",
       "10                       MediaTek Helio P35 Processor  \n",
       "11  1 Year for Handset and 6 Months for Inbox Acce...  \n",
       "12                   Mediatek Dimensity 920 Processor  \n",
       "13                       MediaTek Helio G80 Processor  \n",
       "14                       Mediatek Helio P35 Processor  \n",
       "15                   Mediatek Dimensity 920 Processor  \n",
       "16                       Mediatek Helio P22 Processor  \n",
       "17                   Mediatek Dimensity 920 Processor  \n",
       "18                       Mediatek Helio P35 Processor  \n",
       "19                       Mediatek Helio P35 Processor  \n",
       "20                       Mediatek Helio P35 Processor  \n",
       "21                  Qualcomm Snapdragon 680 Processor  "
      ]
     },
     "execution_count": 81,
     "metadata": {},
     "output_type": "execute_result"
    }
   ],
   "source": [
    "flipkart"
   ]
  },
  {
   "cell_type": "code",
   "execution_count": null,
   "id": "f48907ee",
   "metadata": {},
   "outputs": [],
   "source": []
  },
  {
   "cell_type": "markdown",
   "id": "995ff6f1",
   "metadata": {},
   "source": [
    "# Q 5: Program"
   ]
  },
  {
   "cell_type": "code",
   "execution_count": 82,
   "id": "841eadc3",
   "metadata": {},
   "outputs": [],
   "source": [
    "import pandas as pd\n",
    "import selenium\n",
    "from selenium import webdriver\n",
    "from selenium.common.exceptions import StaleElementReferenceException, NoSuchElementException"
   ]
  },
  {
   "cell_type": "code",
   "execution_count": 83,
   "id": "489639af",
   "metadata": {},
   "outputs": [],
   "source": [
    "import requests\n",
    "from selenium import webdriver\n",
    "\n",
    "browser = browser\n",
    "\n",
    "browser.get(\"https://maps.google.com/\")"
   ]
  },
  {
   "cell_type": "code",
   "execution_count": 84,
   "id": "881a1c8f",
   "metadata": {},
   "outputs": [
    {
     "name": "stdout",
     "output_type": "stream",
     "text": [
      "Enter your Search:Belagavi\n"
     ]
    }
   ],
   "source": [
    "browser.maximize_window()\n",
    "search_job = browser.find_element_by_id(\"searchboxinput\")\n",
    "search_job.send_keys(input(\"Enter your Search:\"))"
   ]
  },
  {
   "cell_type": "code",
   "execution_count": 85,
   "id": "4a58e1e2",
   "metadata": {},
   "outputs": [],
   "source": [
    "search_btn = browser.find_element_by_id (\"searchbox-searchbutton\")\n",
    "search_btn.click()"
   ]
  },
  {
   "cell_type": "code",
   "execution_count": 86,
   "id": "8cebe109",
   "metadata": {},
   "outputs": [],
   "source": [
    "a = browser.current_url"
   ]
  },
  {
   "cell_type": "code",
   "execution_count": 87,
   "id": "30db2ac9",
   "metadata": {},
   "outputs": [
    {
     "data": {
      "text/plain": [
       "'https://www.google.com/maps/place/Belagavi,+Karnataka/@15.8666681,74.3683512,11z/data=!3m1!4b1!4m5!3m4!1s0x3bbf669f5095362f:0x7e34b31edcdefb5f!8m2!3d15.8496953!4d74.4976741'"
      ]
     },
     "execution_count": 87,
     "metadata": {},
     "output_type": "execute_result"
    }
   ],
   "source": [
    "a"
   ]
  },
  {
   "cell_type": "code",
   "execution_count": 88,
   "id": "96da4d3d",
   "metadata": {},
   "outputs": [],
   "source": [
    "a =a.split(sep=\"/\")"
   ]
  },
  {
   "cell_type": "code",
   "execution_count": 89,
   "id": "8c0edfcd",
   "metadata": {},
   "outputs": [
    {
     "data": {
      "text/plain": [
       "['https:',\n",
       " '',\n",
       " 'www.google.com',\n",
       " 'maps',\n",
       " 'place',\n",
       " 'Belagavi,+Karnataka',\n",
       " '@15.8666681,74.3683512,11z',\n",
       " 'data=!3m1!4b1!4m5!3m4!1s0x3bbf669f5095362f:0x7e34b31edcdefb5f!8m2!3d15.8496953!4d74.4976741']"
      ]
     },
     "execution_count": 89,
     "metadata": {},
     "output_type": "execute_result"
    }
   ],
   "source": [
    "a"
   ]
  },
  {
   "cell_type": "code",
   "execution_count": 90,
   "id": "ba3394f8",
   "metadata": {},
   "outputs": [
    {
     "data": {
      "text/plain": [
       "'@15.8666681,74.3683512,11z'"
      ]
     },
     "execution_count": 90,
     "metadata": {},
     "output_type": "execute_result"
    }
   ],
   "source": [
    "a[6]"
   ]
  },
  {
   "cell_type": "code",
   "execution_count": null,
   "id": "e4e0e76a",
   "metadata": {},
   "outputs": [],
   "source": []
  },
  {
   "cell_type": "markdown",
   "id": "ac4b16e3",
   "metadata": {},
   "source": [
    "# Q 6: Program"
   ]
  },
  {
   "cell_type": "code",
   "execution_count": 91,
   "id": "59de4552",
   "metadata": {},
   "outputs": [],
   "source": [
    "import pandas as pd\n",
    "import selenium\n",
    "from selenium import webdriver\n",
    "from selenium.common.exceptions import StaleElementReferenceException, NoSuchElementException"
   ]
  },
  {
   "cell_type": "code",
   "execution_count": 92,
   "id": "a94bc7ad",
   "metadata": {},
   "outputs": [],
   "source": [
    "import requests\n",
    "from selenium import webdriver\n",
    "\n",
    "browser =  webdriver.Chrome(r'C:\\Users\\Admin\\Downloads\\chromedriver_win32 (1)\\chromedriver.exe')\n",
    "\n",
    "browser.get(\"https://trak.in/india-startup-funding-investment-2015/\")"
   ]
  },
  {
   "cell_type": "code",
   "execution_count": 93,
   "id": "95d4a788",
   "metadata": {},
   "outputs": [
    {
     "data": {
      "text/plain": [
       "[<selenium.webdriver.remote.webelement.WebElement (session=\"0876c7d773a165d403c49f6a6a2afb1a\", element=\"cf45a747-6d5b-4d06-9342-cf4d614ec762\")>,\n",
       " <selenium.webdriver.remote.webelement.WebElement (session=\"0876c7d773a165d403c49f6a6a2afb1a\", element=\"c2d42109-0763-4f55-b5f1-66292f8f8cfc\")>,\n",
       " <selenium.webdriver.remote.webelement.WebElement (session=\"0876c7d773a165d403c49f6a6a2afb1a\", element=\"c49a24b4-d838-4b3b-b168-26108f180063\")>,\n",
       " <selenium.webdriver.remote.webelement.WebElement (session=\"0876c7d773a165d403c49f6a6a2afb1a\", element=\"520acac1-e97f-45cf-b022-2a30d56817fe\")>,\n",
       " <selenium.webdriver.remote.webelement.WebElement (session=\"0876c7d773a165d403c49f6a6a2afb1a\", element=\"1ac23954-c6c8-4a48-ab7c-e13f5dc72797\")>,\n",
       " <selenium.webdriver.remote.webelement.WebElement (session=\"0876c7d773a165d403c49f6a6a2afb1a\", element=\"edaf1e6d-3788-43b9-9391-7d6e912ec82d\")>,\n",
       " <selenium.webdriver.remote.webelement.WebElement (session=\"0876c7d773a165d403c49f6a6a2afb1a\", element=\"58df1857-f453-4460-976a-1a76aef0832d\")>,\n",
       " <selenium.webdriver.remote.webelement.WebElement (session=\"0876c7d773a165d403c49f6a6a2afb1a\", element=\"bc887d23-a133-4b4d-a0fa-364c70099906\")>,\n",
       " <selenium.webdriver.remote.webelement.WebElement (session=\"0876c7d773a165d403c49f6a6a2afb1a\", element=\"9a80b129-81a2-40bc-93f7-57b993df93bd\")>,\n",
       " <selenium.webdriver.remote.webelement.WebElement (session=\"0876c7d773a165d403c49f6a6a2afb1a\", element=\"b8db26b5-2685-492c-873c-8934c3cdf65d\")>,\n",
       " <selenium.webdriver.remote.webelement.WebElement (session=\"0876c7d773a165d403c49f6a6a2afb1a\", element=\"cf370423-f130-4fbf-a1cd-e4fe46bc5235\")>,\n",
       " <selenium.webdriver.remote.webelement.WebElement (session=\"0876c7d773a165d403c49f6a6a2afb1a\", element=\"b29379c6-f3c0-4bd3-866e-2c2ef79e353e\")>,\n",
       " <selenium.webdriver.remote.webelement.WebElement (session=\"0876c7d773a165d403c49f6a6a2afb1a\", element=\"cda8d562-cabd-412a-8c33-6d80bd0cf1e8\")>,\n",
       " <selenium.webdriver.remote.webelement.WebElement (session=\"0876c7d773a165d403c49f6a6a2afb1a\", element=\"b9b77d2d-c5de-43e3-8db9-bbc355f77741\")>,\n",
       " <selenium.webdriver.remote.webelement.WebElement (session=\"0876c7d773a165d403c49f6a6a2afb1a\", element=\"c3af829f-dcf6-44c6-a6e5-254834ff6766\")>,\n",
       " <selenium.webdriver.remote.webelement.WebElement (session=\"0876c7d773a165d403c49f6a6a2afb1a\", element=\"31831f58-47ab-4040-a198-935cb58a03b3\")>,\n",
       " <selenium.webdriver.remote.webelement.WebElement (session=\"0876c7d773a165d403c49f6a6a2afb1a\", element=\"06b20da2-bb1d-4674-934c-9ee38909dcb1\")>,\n",
       " <selenium.webdriver.remote.webelement.WebElement (session=\"0876c7d773a165d403c49f6a6a2afb1a\", element=\"4606f09f-5602-4bdc-9775-0066a51fac46\")>,\n",
       " <selenium.webdriver.remote.webelement.WebElement (session=\"0876c7d773a165d403c49f6a6a2afb1a\", element=\"4f4e3138-98c6-4f1f-ae7a-165d578cb8aa\")>,\n",
       " <selenium.webdriver.remote.webelement.WebElement (session=\"0876c7d773a165d403c49f6a6a2afb1a\", element=\"485dc1f6-2c3d-4fe1-ab0a-bf93e46add1b\")>,\n",
       " <selenium.webdriver.remote.webelement.WebElement (session=\"0876c7d773a165d403c49f6a6a2afb1a\", element=\"a2a3695d-ecf6-49a2-81c3-39883bdd679d\")>,\n",
       " <selenium.webdriver.remote.webelement.WebElement (session=\"0876c7d773a165d403c49f6a6a2afb1a\", element=\"913fb21f-f49e-4166-bff0-198c1222218e\")>,\n",
       " <selenium.webdriver.remote.webelement.WebElement (session=\"0876c7d773a165d403c49f6a6a2afb1a\", element=\"f212d38e-3114-4b1a-aebc-03b0f17d3ae5\")>,\n",
       " <selenium.webdriver.remote.webelement.WebElement (session=\"0876c7d773a165d403c49f6a6a2afb1a\", element=\"9f5567e5-b810-42b6-b883-d40cc528d346\")>,\n",
       " <selenium.webdriver.remote.webelement.WebElement (session=\"0876c7d773a165d403c49f6a6a2afb1a\", element=\"f8e93fd0-ad52-4402-9878-2e3eb8c0905f\")>,\n",
       " <selenium.webdriver.remote.webelement.WebElement (session=\"0876c7d773a165d403c49f6a6a2afb1a\", element=\"e07e653f-5f65-4b62-9ac1-0edc28cc66bf\")>,\n",
       " <selenium.webdriver.remote.webelement.WebElement (session=\"0876c7d773a165d403c49f6a6a2afb1a\", element=\"04e136bd-500d-4c16-bc06-72a6e2c7f551\")>,\n",
       " <selenium.webdriver.remote.webelement.WebElement (session=\"0876c7d773a165d403c49f6a6a2afb1a\", element=\"464af870-ceb6-4a12-b50c-6fc2d2d1702c\")>,\n",
       " <selenium.webdriver.remote.webelement.WebElement (session=\"0876c7d773a165d403c49f6a6a2afb1a\", element=\"fcf20c9e-c315-4dec-acd2-a9c7b2e336f9\")>,\n",
       " <selenium.webdriver.remote.webelement.WebElement (session=\"0876c7d773a165d403c49f6a6a2afb1a\", element=\"35b0e059-288d-44de-b387-ed1a6aa4080f\")>,\n",
       " <selenium.webdriver.remote.webelement.WebElement (session=\"0876c7d773a165d403c49f6a6a2afb1a\", element=\"979aeba4-b244-4310-8f5a-f083e4d8ff31\")>,\n",
       " <selenium.webdriver.remote.webelement.WebElement (session=\"0876c7d773a165d403c49f6a6a2afb1a\", element=\"b5aba8f7-8e09-4ab2-93ca-fcd56cde41e6\")>,\n",
       " <selenium.webdriver.remote.webelement.WebElement (session=\"0876c7d773a165d403c49f6a6a2afb1a\", element=\"3b7c4e61-c606-4b62-bd1b-3e0ca0fa5356\")>,\n",
       " <selenium.webdriver.remote.webelement.WebElement (session=\"0876c7d773a165d403c49f6a6a2afb1a\", element=\"50b68eaf-28b2-43e1-9653-a0f9896db8eb\")>,\n",
       " <selenium.webdriver.remote.webelement.WebElement (session=\"0876c7d773a165d403c49f6a6a2afb1a\", element=\"8b66367d-2a83-41cf-bf25-90bbe3ec4cca\")>,\n",
       " <selenium.webdriver.remote.webelement.WebElement (session=\"0876c7d773a165d403c49f6a6a2afb1a\", element=\"45af3bc4-2424-4926-b83e-ae22da40b604\")>,\n",
       " <selenium.webdriver.remote.webelement.WebElement (session=\"0876c7d773a165d403c49f6a6a2afb1a\", element=\"2bc6b711-ef2a-4e33-8864-6e247595f30b\")>,\n",
       " <selenium.webdriver.remote.webelement.WebElement (session=\"0876c7d773a165d403c49f6a6a2afb1a\", element=\"be794bf8-c47a-4efd-b905-036d3f926265\")>,\n",
       " <selenium.webdriver.remote.webelement.WebElement (session=\"0876c7d773a165d403c49f6a6a2afb1a\", element=\"b9bb6283-b2ac-44e9-8cc1-45861737dc3e\")>,\n",
       " <selenium.webdriver.remote.webelement.WebElement (session=\"0876c7d773a165d403c49f6a6a2afb1a\", element=\"ee0ec6fc-af56-4a7c-8718-1aac191342bc\")>,\n",
       " <selenium.webdriver.remote.webelement.WebElement (session=\"0876c7d773a165d403c49f6a6a2afb1a\", element=\"803a255b-d461-46ff-af7f-8e6a0eee5ce5\")>,\n",
       " <selenium.webdriver.remote.webelement.WebElement (session=\"0876c7d773a165d403c49f6a6a2afb1a\", element=\"3cd0d44f-e1d2-4d18-8cee-a13e8eb5243d\")>,\n",
       " <selenium.webdriver.remote.webelement.WebElement (session=\"0876c7d773a165d403c49f6a6a2afb1a\", element=\"5bc02aa6-77d7-4bd1-b76c-6862b46ba9b5\")>,\n",
       " <selenium.webdriver.remote.webelement.WebElement (session=\"0876c7d773a165d403c49f6a6a2afb1a\", element=\"f4bf2b4a-d646-42b2-810f-75bce9684ab2\")>,\n",
       " <selenium.webdriver.remote.webelement.WebElement (session=\"0876c7d773a165d403c49f6a6a2afb1a\", element=\"a3c05704-ad5e-45e5-96ba-d00e1a38089e\")>]"
      ]
     },
     "execution_count": 93,
     "metadata": {},
     "output_type": "execute_result"
    }
   ],
   "source": [
    "browser.maximize_window()\n",
    "title_tags = browser.find_elements_by_xpath(\"//div[@class='dataTables_scroll']\")\n",
    "title_tags"
   ]
  },
  {
   "cell_type": "code",
   "execution_count": 94,
   "id": "6e3166b0",
   "metadata": {},
   "outputs": [],
   "source": [
    "titles=[]\n",
    "for i in title_tags:\n",
    "    title=i.text\n",
    "    titles.append(title)"
   ]
  },
  {
   "cell_type": "code",
   "execution_count": 95,
   "id": "12ca347e",
   "metadata": {},
   "outputs": [
    {
     "data": {
      "text/plain": [
       "[\"Sr. No. Date (dd/mm/yyyy) Startup Name Industry / Vertical Sub-Vertical City / Location Investors' Name Investment Type Amount (In USD)\\n1 08/09/2020 Byju’s EduTech Online Tutoring Bangalore Silver Lake, Tiger Global, General Atlantic and Owl Ventures\\nPrivate Equity 500,000,000\\n2 12/09/2020 mCaffeine Personal Care Skincare & Haircare Mumbai Amicus Capital Private Equity I LLP, Amicus Capital Partners India Fund I and RP-SG Venture Fund 1 Series B 3,000,000\\n3 09/09/2020 Qshala EduTech Online Curiosity Platform for Kids Bangalore Rainmatter Capital Angel 370,000\\n4 02/09/2020 Winzo Online Gaming Online Gaming New Delhi Kalaari Capital Partners, IndigoEdge Management Consultancy Series B 15,500,000\\n5 09/09/2020 Hippo Video Video Customer Experience(CX) Platform Video Customer Experience(CX) Platform Newark, Delaware, United States of Amercia Alpha Wave Incubation, Exfinity Venture Partners and existing backers.\\nSeries A 4,500,000\\n6 07/09/2020 Melorra E-commerce Online Jewelry Store\\nBangalore Shadow Holdings, Lightbox. Debt Financing upto 8,900,000\\n7 07/09/2020 1mg E-commerce Online Pharmacy Gurgaon Gaja Capital, Tata Capital, Partners Group In Progress 100,000,000\\n8 31/08/2020 mfine HealthTech On-Demand Healthcare Services Bangalore Caretech Pte Inc Series B 5,400,000\\n9 31/08/2020 Apna Human Resources Recruitment Platform Bangalore Lightspeed India and Sequoia Capital India Series A 8,000,000\\n10 03/09/2020 Railofy Transportation WL & RAC protection platform Mumbai Chiratae Ventures Seed 950,000\",\n",
       " \"Sr. No. Date (dd/mm/yyyy) Startup Name Industry / Vertical Sub-Vertical City / Location Investors' Name Investment Type Amount (In USD)\\n1 15/08/2020 Practo HealthTech Health care and Wellness Bangalore A1A Company\\nSeries F 32,000,000\\n2 13/08/2020 Medlife E-commerce Online Pharmacy Bangalore Prasid Uno Family Trust and SC Credit Fund 23,000,000\\n3 13/08/2020 HungerBox\\nFoodTech Online Food Delivery Service Bangalore One97, Sabre Partners Trust, Pratithi Investment Trust, and Srihari Kumar Series D1 1,560,000\\n4 04/08/2020 Dunzo Hyper-local Logistics Online Delivery Services Bangalore Existing Backers In Progress 30,000,000\\n5 11/08/2020 Terra.do EduTech Online Climate School, E-learning Stanford, California, Stanford Angels and Entrepreneurs (India), BEENEXT Emerging Asia, Rainmatter Capital\\n\\nSeed 1,400,000\\n6 12/08/2020 Classplus EduTech E-learning, Online Tutoring\\n\\nNoida Falcon Edge In Progress upto 15,000,000\\n7 14/08/2020 Niyo FinTech Financial Services Bangalore Niyo Solutions Inc. 6,000,000\\n8 10/08/2020 ZestMoney FinTech Financial Services Bangalore Primrose Hills Ventures 10,670,000\\n9 07/08/2020 FreshToHome E-commerce Food Delivery Bangalore Ascent Capital Venture 16,200,000\\n10 13/08/2020 Eduvanz FinTech Financial Services Mumbai Sequoia India, Unitus Series A 5,000,000\"]"
      ]
     },
     "execution_count": 95,
     "metadata": {},
     "output_type": "execute_result"
    }
   ],
   "source": [
    "#scraping from july-20 to september-20\n",
    "titles[7:9]"
   ]
  },
  {
   "cell_type": "code",
   "execution_count": null,
   "id": "c56ef56a",
   "metadata": {},
   "outputs": [],
   "source": []
  },
  {
   "cell_type": "markdown",
   "id": "33fea5b5",
   "metadata": {},
   "source": [
    "# Q 7: Program"
   ]
  },
  {
   "cell_type": "code",
   "execution_count": 96,
   "id": "e3f2c5f5",
   "metadata": {},
   "outputs": [],
   "source": [
    "import selenium # importing selenium\n",
    "from selenium import webdriver#importing webdriver\n",
    "from selenium.common.exceptions import StaleElementReferenceException, NoSuchElementException #importing exception "
   ]
  },
  {
   "cell_type": "code",
   "execution_count": 98,
   "id": "3a6a9875",
   "metadata": {},
   "outputs": [],
   "source": [
    "browser =  webdriver.Chrome(r'C:\\Users\\Admin\\Downloads\\chromedriver_win32 (1)\\chromedriver.exe')\n",
    "browser.get(\"https://www.digit.in/top-products/best-gaming-laptops-40.html\")"
   ]
  },
  {
   "cell_type": "code",
   "execution_count": 99,
   "id": "f2cccb36",
   "metadata": {},
   "outputs": [
    {
     "data": {
      "text/plain": [
       "[<selenium.webdriver.remote.webelement.WebElement (session=\"e8e13474a81bfb7bcaf7b19e2bf6d391\", element=\"64b397f6-5404-4572-a3ed-2ea7993eedff\")>,\n",
       " <selenium.webdriver.remote.webelement.WebElement (session=\"e8e13474a81bfb7bcaf7b19e2bf6d391\", element=\"c6b22358-8047-423a-b793-3cff298af1b8\")>,\n",
       " <selenium.webdriver.remote.webelement.WebElement (session=\"e8e13474a81bfb7bcaf7b19e2bf6d391\", element=\"6bed50dd-d937-4ae6-9eb6-8ca4e52eecb2\")>,\n",
       " <selenium.webdriver.remote.webelement.WebElement (session=\"e8e13474a81bfb7bcaf7b19e2bf6d391\", element=\"504ce807-20bd-4ac5-8216-88fadb971eb1\")>,\n",
       " <selenium.webdriver.remote.webelement.WebElement (session=\"e8e13474a81bfb7bcaf7b19e2bf6d391\", element=\"42b5c252-1872-46c1-bbfd-52df86fe01e4\")>,\n",
       " <selenium.webdriver.remote.webelement.WebElement (session=\"e8e13474a81bfb7bcaf7b19e2bf6d391\", element=\"edcc0253-c1b4-4628-af07-c52d10a484d2\")>,\n",
       " <selenium.webdriver.remote.webelement.WebElement (session=\"e8e13474a81bfb7bcaf7b19e2bf6d391\", element=\"4a51b7b1-35de-4964-af57-79f8d5adc5c6\")>,\n",
       " <selenium.webdriver.remote.webelement.WebElement (session=\"e8e13474a81bfb7bcaf7b19e2bf6d391\", element=\"4ecfc15b-318b-4ae1-9027-adbbe3df723d\")>,\n",
       " <selenium.webdriver.remote.webelement.WebElement (session=\"e8e13474a81bfb7bcaf7b19e2bf6d391\", element=\"65f653a9-66fc-47ba-98e2-dc62563fa685\")>,\n",
       " <selenium.webdriver.remote.webelement.WebElement (session=\"e8e13474a81bfb7bcaf7b19e2bf6d391\", element=\"29e497de-34f2-4ab1-81d0-192dda30e509\")>]"
      ]
     },
     "execution_count": 99,
     "metadata": {},
     "output_type": "execute_result"
    }
   ],
   "source": [
    "browser.maximize_window()\n",
    "title_tags = browser.find_elements_by_xpath(\"//div[@class='TopNumbeHeading active sticky-footer']\")\n",
    "title_tags"
   ]
  },
  {
   "cell_type": "code",
   "execution_count": 100,
   "id": "656ac5b1",
   "metadata": {},
   "outputs": [],
   "source": [
    "titles=[]\n",
    "for i in title_tags:\n",
    "    title=i.text\n",
    "    titles.append(title)"
   ]
  },
  {
   "cell_type": "code",
   "execution_count": 101,
   "id": "141a39ca",
   "metadata": {},
   "outputs": [
    {
     "data": {
      "text/plain": [
       "['1.\\nHP VICTUS 16',\n",
       " '2.\\nHP OMEN 15',\n",
       " '3.\\nACER NITRO 5',\n",
       " '4.\\nMSI STEALTH 15M',\n",
       " '5.\\nASUS ROG STRIX SCAR 15',\n",
       " '6.\\nASUS ROG STRIX SCAR 15',\n",
       " '7.\\nASUS ZEPHYRUS G14',\n",
       " '8.\\nLENOVO LEGION 5I',\n",
       " '9.\\nASUS ROG ZEPHYRUS DUO 15',\n",
       " '10.\\nACER ASPIRE 7 GAMING LAPTOP']"
      ]
     },
     "execution_count": 101,
     "metadata": {},
     "output_type": "execute_result"
    }
   ],
   "source": [
    "titles"
   ]
  },
  {
   "cell_type": "code",
   "execution_count": 102,
   "id": "4dacb29f",
   "metadata": {},
   "outputs": [
    {
     "data": {
      "text/plain": [
       "[<selenium.webdriver.remote.webelement.WebElement (session=\"e8e13474a81bfb7bcaf7b19e2bf6d391\", element=\"9d49a20f-23ed-4a62-9de2-3b624133edde\")>,\n",
       " <selenium.webdriver.remote.webelement.WebElement (session=\"e8e13474a81bfb7bcaf7b19e2bf6d391\", element=\"640eb70a-c7de-4db8-af04-3e6f3b2185e3\")>,\n",
       " <selenium.webdriver.remote.webelement.WebElement (session=\"e8e13474a81bfb7bcaf7b19e2bf6d391\", element=\"0ad5c93c-8ecd-4bff-8530-8ae404a46f87\")>,\n",
       " <selenium.webdriver.remote.webelement.WebElement (session=\"e8e13474a81bfb7bcaf7b19e2bf6d391\", element=\"033051ea-98ea-4036-8a8a-a3edf189b9c6\")>,\n",
       " <selenium.webdriver.remote.webelement.WebElement (session=\"e8e13474a81bfb7bcaf7b19e2bf6d391\", element=\"bf9ae1af-17da-4f51-963f-427b2e0b43aa\")>,\n",
       " <selenium.webdriver.remote.webelement.WebElement (session=\"e8e13474a81bfb7bcaf7b19e2bf6d391\", element=\"b976241b-59fa-4e65-9479-14a4e64c4b28\")>,\n",
       " <selenium.webdriver.remote.webelement.WebElement (session=\"e8e13474a81bfb7bcaf7b19e2bf6d391\", element=\"9fb6c42d-2776-49f6-bd47-bb63303b3241\")>,\n",
       " <selenium.webdriver.remote.webelement.WebElement (session=\"e8e13474a81bfb7bcaf7b19e2bf6d391\", element=\"e998f423-d3f5-40c6-8c30-528fd36462df\")>,\n",
       " <selenium.webdriver.remote.webelement.WebElement (session=\"e8e13474a81bfb7bcaf7b19e2bf6d391\", element=\"0df51ec4-8d3f-498f-bb37-876373cc994a\")>,\n",
       " <selenium.webdriver.remote.webelement.WebElement (session=\"e8e13474a81bfb7bcaf7b19e2bf6d391\", element=\"fcbb3f56-78df-49ff-96d0-2ac8d1781aab\")>]"
      ]
     },
     "execution_count": 102,
     "metadata": {},
     "output_type": "execute_result"
    }
   ],
   "source": [
    "windows_tags = browser.find_elements_by_xpath(\"//div[@class='product-detail']\")\n",
    "windows_tags"
   ]
  },
  {
   "cell_type": "code",
   "execution_count": 103,
   "id": "155a34b9",
   "metadata": {},
   "outputs": [],
   "source": [
    "productdetail=[]\n",
    "for i in windows_tags:\n",
    "    wind=i.text\n",
    "    productdetail.append(wind)"
   ]
  },
  {
   "cell_type": "code",
   "execution_count": 104,
   "id": "bb52782d",
   "metadata": {},
   "outputs": [
    {
     "data": {
      "text/plain": [
       "['OS\\nWINDOWS 10\\nDISPLAY\\n16.1\" (1920 X 1200)\\nPROCESSOR\\n5TH GEN AMD RYZEN 7 5800H | 3.2GHZ\\nMEMORY\\n512 GB SSD/16 GBGB DDR4\\nFULL SPECS OTHER HP LAPTOPS',\n",
       " 'OS\\nWINDOWS 10 HOME\\nDISPLAY\\n15.6\" (1920 X 1080)\\nPROCESSOR\\nAMD RYZEN 7 OCTA CORE-5800H | 4.4 GHZ\\nMEMORY\\n1 TB SSD/16 GBGB DDR4\\nFULL SPECS OTHER HP LAPTOPS',\n",
       " 'OS\\nWINDOWS 10\\nDISPLAY\\n15.6\" (1920 X 1080)\\nPROCESSOR\\nAMD RYZEN 9 OCTA CORE | 2.4 GHZ\\nMEMORY\\n1 TB HDD/16 GBGB DDR4\\nFULL SPECS OTHER ACER LAPTOPS',\n",
       " 'OS\\nWINDOWS 10\\nDISPLAY\\n15.6\" (1920 X 1080)\\nPROCESSOR\\nINTEL CORE I7 11TH GEN - 11375H | NA\\nMEMORY\\n1 TB SSD/16 GBGB DDR4\\nFULL SPECS OTHER MSI LAPTOPS',\n",
       " 'OS\\nWINDOWS 10\\nDISPLAY\\n15.6\" (2560 X 1440)\\nPROCESSOR\\nAMD RYZEN 9 OCTA CORE - 5900HX | 3.3 GHZ\\nMEMORY\\n2 TB SSD/32 GBGB DDR4\\nFULL SPECS OTHER ASUS LAPTOPS',\n",
       " 'OS\\nWINDOWS 10 HOME\\nDISPLAY\\n15.6\" (1920 X 1080)\\nPROCESSOR\\nAMD RYZEN™ 9 5900HX | 3.3 GHZ\\nMEMORY\\n1 TB SSD/16 GBGB DDR4\\nREAD REVIEW FULL SPECS OTHER ASUS LAPTOPS',\n",
       " 'OS\\nWINDOWS 10 HOME\\nDISPLAY\\n14\" (1920 X 1080)\\nPROCESSOR\\nAMD 3RD GEN RYZEN 9 | 3.3 GHZ\\nMEMORY\\n1 TB SSD/16 GBGB DDR4\\nREAD REVIEW FULL SPECS OTHER ASUS LAPTOPS',\n",
       " 'OS\\nWINDOWS 10 PRO\\nDISPLAY\\n15.6\" (1920 X 1080)\\nPROCESSOR\\n10TH GEN INTEL® CORE™ I5-10300H | 2.50 GHZ\\nMEMORY\\n1 TB SSD/16 GBGB DDR4\\nFULL SPECS OTHER LENOVO LAPTOPS',\n",
       " 'OS\\nWINDOWS 10\\nDISPLAY\\n15.6\" (3840 X 1100)\\nPROCESSOR\\nINTEL CORE I7 10TH GEN 10875H | NA\\nMEMORY\\n512 GB SSD/4 GBGB DDR4\\nFULL SPECS OTHER ASUS LAPTOPS',\n",
       " 'OS\\nWINDOWS 10 HOME\\nDISPLAY\\n15.6\" (1920 X 1080)\\nPROCESSOR\\nAMD RYZEN™ 5-5500U HEXA-CORE | NA\\nMEMORY\\n512 GB SSD/8 GBGB DDR4\\nREAD REVIEW FULL SPECS OTHER ACER LAPTOPS']"
      ]
     },
     "execution_count": 104,
     "metadata": {},
     "output_type": "execute_result"
    }
   ],
   "source": [
    "productdetail"
   ]
  },
  {
   "cell_type": "code",
   "execution_count": 105,
   "id": "626b3ce2",
   "metadata": {},
   "outputs": [],
   "source": [
    "urls=browser.find_elements_by_xpath(\"//div[@class='product-ickon']/img\")\n",
    "UR=[]\n",
    "for i in urls:\n",
    "    UR.append(i.get_attribute('src'))"
   ]
  },
  {
   "cell_type": "code",
   "execution_count": 106,
   "id": "128d24dd",
   "metadata": {},
   "outputs": [
    {
     "data": {
      "text/plain": [
       "['https://static.digit.in/product/thumb_192922_product_td_300.jpeg',\n",
       " 'https://www.digit.in/images/digit_topten_icon.png',\n",
       " 'https://www.digit.in/images/digit_topten_icon.png',\n",
       " 'https://www.digit.in/images/digit_topten_icon.png',\n",
       " 'https://www.digit.in/images/digit_topten_icon.png',\n",
       " 'https://www.digit.in/images/digit_topten_icon.png',\n",
       " 'https://www.digit.in/images/digit_topten_icon.png',\n",
       " 'https://www.digit.in/images/digit_topten_icon.png',\n",
       " 'https://www.digit.in/images/digit_topten_icon.png',\n",
       " 'https://www.digit.in/images/digit_topten_icon.png']"
      ]
     },
     "execution_count": 106,
     "metadata": {},
     "output_type": "execute_result"
    }
   ],
   "source": [
    "UR"
   ]
  },
  {
   "cell_type": "code",
   "execution_count": 107,
   "id": "b024e7ef",
   "metadata": {},
   "outputs": [
    {
     "data": {
      "text/html": [
       "<div>\n",
       "<style scoped>\n",
       "    .dataframe tbody tr th:only-of-type {\n",
       "        vertical-align: middle;\n",
       "    }\n",
       "\n",
       "    .dataframe tbody tr th {\n",
       "        vertical-align: top;\n",
       "    }\n",
       "\n",
       "    .dataframe thead th {\n",
       "        text-align: right;\n",
       "    }\n",
       "</style>\n",
       "<table border=\"1\" class=\"dataframe\">\n",
       "  <thead>\n",
       "    <tr style=\"text-align: right;\">\n",
       "      <th></th>\n",
       "      <th>titles</th>\n",
       "      <th>productdetail</th>\n",
       "      <th>imageurl</th>\n",
       "    </tr>\n",
       "  </thead>\n",
       "  <tbody>\n",
       "    <tr>\n",
       "      <th>0</th>\n",
       "      <td>1.\\nHP VICTUS 16</td>\n",
       "      <td>OS\\nWINDOWS 10\\nDISPLAY\\n16.1\" (1920 X 1200)\\n...</td>\n",
       "      <td>https://static.digit.in/product/thumb_192922_p...</td>\n",
       "    </tr>\n",
       "    <tr>\n",
       "      <th>1</th>\n",
       "      <td>2.\\nHP OMEN 15</td>\n",
       "      <td>OS\\nWINDOWS 10 HOME\\nDISPLAY\\n15.6\" (1920 X 10...</td>\n",
       "      <td>https://www.digit.in/images/digit_topten_icon.png</td>\n",
       "    </tr>\n",
       "    <tr>\n",
       "      <th>2</th>\n",
       "      <td>3.\\nACER NITRO 5</td>\n",
       "      <td>OS\\nWINDOWS 10\\nDISPLAY\\n15.6\" (1920 X 1080)\\n...</td>\n",
       "      <td>https://www.digit.in/images/digit_topten_icon.png</td>\n",
       "    </tr>\n",
       "    <tr>\n",
       "      <th>3</th>\n",
       "      <td>4.\\nMSI STEALTH 15M</td>\n",
       "      <td>OS\\nWINDOWS 10\\nDISPLAY\\n15.6\" (1920 X 1080)\\n...</td>\n",
       "      <td>https://www.digit.in/images/digit_topten_icon.png</td>\n",
       "    </tr>\n",
       "    <tr>\n",
       "      <th>4</th>\n",
       "      <td>5.\\nASUS ROG STRIX SCAR 15</td>\n",
       "      <td>OS\\nWINDOWS 10\\nDISPLAY\\n15.6\" (2560 X 1440)\\n...</td>\n",
       "      <td>https://www.digit.in/images/digit_topten_icon.png</td>\n",
       "    </tr>\n",
       "    <tr>\n",
       "      <th>5</th>\n",
       "      <td>6.\\nASUS ROG STRIX SCAR 15</td>\n",
       "      <td>OS\\nWINDOWS 10 HOME\\nDISPLAY\\n15.6\" (1920 X 10...</td>\n",
       "      <td>https://www.digit.in/images/digit_topten_icon.png</td>\n",
       "    </tr>\n",
       "    <tr>\n",
       "      <th>6</th>\n",
       "      <td>7.\\nASUS ZEPHYRUS G14</td>\n",
       "      <td>OS\\nWINDOWS 10 HOME\\nDISPLAY\\n14\" (1920 X 1080...</td>\n",
       "      <td>https://www.digit.in/images/digit_topten_icon.png</td>\n",
       "    </tr>\n",
       "    <tr>\n",
       "      <th>7</th>\n",
       "      <td>8.\\nLENOVO LEGION 5I</td>\n",
       "      <td>OS\\nWINDOWS 10 PRO\\nDISPLAY\\n15.6\" (1920 X 108...</td>\n",
       "      <td>https://www.digit.in/images/digit_topten_icon.png</td>\n",
       "    </tr>\n",
       "    <tr>\n",
       "      <th>8</th>\n",
       "      <td>9.\\nASUS ROG ZEPHYRUS DUO 15</td>\n",
       "      <td>OS\\nWINDOWS 10\\nDISPLAY\\n15.6\" (3840 X 1100)\\n...</td>\n",
       "      <td>https://www.digit.in/images/digit_topten_icon.png</td>\n",
       "    </tr>\n",
       "    <tr>\n",
       "      <th>9</th>\n",
       "      <td>10.\\nACER ASPIRE 7 GAMING LAPTOP</td>\n",
       "      <td>OS\\nWINDOWS 10 HOME\\nDISPLAY\\n15.6\" (1920 X 10...</td>\n",
       "      <td>https://www.digit.in/images/digit_topten_icon.png</td>\n",
       "    </tr>\n",
       "  </tbody>\n",
       "</table>\n",
       "</div>"
      ],
      "text/plain": [
       "                             titles  \\\n",
       "0                  1.\\nHP VICTUS 16   \n",
       "1                    2.\\nHP OMEN 15   \n",
       "2                  3.\\nACER NITRO 5   \n",
       "3               4.\\nMSI STEALTH 15M   \n",
       "4        5.\\nASUS ROG STRIX SCAR 15   \n",
       "5        6.\\nASUS ROG STRIX SCAR 15   \n",
       "6             7.\\nASUS ZEPHYRUS G14   \n",
       "7              8.\\nLENOVO LEGION 5I   \n",
       "8      9.\\nASUS ROG ZEPHYRUS DUO 15   \n",
       "9  10.\\nACER ASPIRE 7 GAMING LAPTOP   \n",
       "\n",
       "                                       productdetail  \\\n",
       "0  OS\\nWINDOWS 10\\nDISPLAY\\n16.1\" (1920 X 1200)\\n...   \n",
       "1  OS\\nWINDOWS 10 HOME\\nDISPLAY\\n15.6\" (1920 X 10...   \n",
       "2  OS\\nWINDOWS 10\\nDISPLAY\\n15.6\" (1920 X 1080)\\n...   \n",
       "3  OS\\nWINDOWS 10\\nDISPLAY\\n15.6\" (1920 X 1080)\\n...   \n",
       "4  OS\\nWINDOWS 10\\nDISPLAY\\n15.6\" (2560 X 1440)\\n...   \n",
       "5  OS\\nWINDOWS 10 HOME\\nDISPLAY\\n15.6\" (1920 X 10...   \n",
       "6  OS\\nWINDOWS 10 HOME\\nDISPLAY\\n14\" (1920 X 1080...   \n",
       "7  OS\\nWINDOWS 10 PRO\\nDISPLAY\\n15.6\" (1920 X 108...   \n",
       "8  OS\\nWINDOWS 10\\nDISPLAY\\n15.6\" (3840 X 1100)\\n...   \n",
       "9  OS\\nWINDOWS 10 HOME\\nDISPLAY\\n15.6\" (1920 X 10...   \n",
       "\n",
       "                                            imageurl  \n",
       "0  https://static.digit.in/product/thumb_192922_p...  \n",
       "1  https://www.digit.in/images/digit_topten_icon.png  \n",
       "2  https://www.digit.in/images/digit_topten_icon.png  \n",
       "3  https://www.digit.in/images/digit_topten_icon.png  \n",
       "4  https://www.digit.in/images/digit_topten_icon.png  \n",
       "5  https://www.digit.in/images/digit_topten_icon.png  \n",
       "6  https://www.digit.in/images/digit_topten_icon.png  \n",
       "7  https://www.digit.in/images/digit_topten_icon.png  \n",
       "8  https://www.digit.in/images/digit_topten_icon.png  \n",
       "9  https://www.digit.in/images/digit_topten_icon.png  "
      ]
     },
     "execution_count": 107,
     "metadata": {},
     "output_type": "execute_result"
    }
   ],
   "source": [
    "import pandas as pd #for data visualization\n",
    "digit=pd.DataFrame({})\n",
    "digit['titles']=titles\n",
    "digit['productdetail']=productdetail\n",
    "digit['imageurl']=UR\n",
    "digit"
   ]
  },
  {
   "cell_type": "code",
   "execution_count": null,
   "id": "4940c9d6",
   "metadata": {},
   "outputs": [],
   "source": []
  },
  {
   "cell_type": "markdown",
   "id": "c0da4deb",
   "metadata": {},
   "source": [
    "# Q 8: Program"
   ]
  },
  {
   "cell_type": "code",
   "execution_count": 108,
   "id": "6fbd6c76",
   "metadata": {},
   "outputs": [],
   "source": [
    "import selenium # importing selenium\n",
    "from selenium import webdriver#importing webdriver\n",
    "from selenium.common.exceptions import StaleElementReferenceException, NoSuchElementException #importing exception \n",
    "from selenium.webdriver.common.keys import Keys"
   ]
  },
  {
   "cell_type": "code",
   "execution_count": 109,
   "id": "7101def9",
   "metadata": {},
   "outputs": [],
   "source": [
    "browser =   webdriver.Chrome(r'C:\\Users\\Admin\\Downloads\\chromedriver_win32 (1)\\chromedriver.exe')\n",
    "browser.get(\"https://www.forbes.com/real-time-billionaires/#6f1445f93d78\")"
   ]
  },
  {
   "cell_type": "code",
   "execution_count": 110,
   "id": "183578a2",
   "metadata": {},
   "outputs": [
    {
     "data": {
      "text/plain": [
       "25"
      ]
     },
     "execution_count": 110,
     "metadata": {},
     "output_type": "execute_result"
    }
   ],
   "source": [
    "Rank = browser.find_elements_by_xpath(\"//td[@class='rank']\")\n",
    "len(Rank)"
   ]
  },
  {
   "cell_type": "code",
   "execution_count": 111,
   "id": "6642b8fb",
   "metadata": {},
   "outputs": [],
   "source": [
    "Ranks = []\n",
    "for i in Rank:\n",
    "    Ranks.append(i.text)"
   ]
  },
  {
   "cell_type": "code",
   "execution_count": 112,
   "id": "20b37c59",
   "metadata": {},
   "outputs": [
    {
     "data": {
      "text/plain": [
       "25"
      ]
     },
     "execution_count": 112,
     "metadata": {},
     "output_type": "execute_result"
    }
   ],
   "source": [
    "Name = browser.find_elements_by_xpath(\"//td[@class='name']\")\n",
    "len(Name)"
   ]
  },
  {
   "cell_type": "code",
   "execution_count": 113,
   "id": "d43e968e",
   "metadata": {},
   "outputs": [],
   "source": [
    "Names = []\n",
    "for i in Name:\n",
    "    Names.append(i.text)"
   ]
  },
  {
   "cell_type": "code",
   "execution_count": 114,
   "id": "05049e42",
   "metadata": {},
   "outputs": [
    {
     "data": {
      "text/plain": [
       "25"
      ]
     },
     "execution_count": 114,
     "metadata": {},
     "output_type": "execute_result"
    }
   ],
   "source": [
    "worth = browser.find_elements_by_xpath(\"//td[@class='Net Worth']\")\n",
    "len(worth)"
   ]
  },
  {
   "cell_type": "code",
   "execution_count": 115,
   "id": "444afd5f",
   "metadata": {},
   "outputs": [],
   "source": [
    "Net_worth = []\n",
    "for i in worth:\n",
    "    Net_worth.append(i.text)"
   ]
  },
  {
   "cell_type": "code",
   "execution_count": 116,
   "id": "85380a66",
   "metadata": {},
   "outputs": [
    {
     "data": {
      "text/plain": [
       "25"
      ]
     },
     "execution_count": 116,
     "metadata": {},
     "output_type": "execute_result"
    }
   ],
   "source": [
    "Age = browser.find_elements_by_xpath(\"//td[@class='age']\")\n",
    "len(Age)"
   ]
  },
  {
   "cell_type": "code",
   "execution_count": 117,
   "id": "50009929",
   "metadata": {},
   "outputs": [],
   "source": [
    "Age_of_Billionaire = []\n",
    "for i in Age:\n",
    "    Age_of_Billionaire.append(i.text)"
   ]
  },
  {
   "cell_type": "code",
   "execution_count": 118,
   "id": "e0148287",
   "metadata": {},
   "outputs": [
    {
     "data": {
      "text/plain": [
       "25"
      ]
     },
     "execution_count": 118,
     "metadata": {},
     "output_type": "execute_result"
    }
   ],
   "source": [
    "Source = browser.find_elements_by_xpath(\"//td[@class='source']\")\n",
    "len(Source)"
   ]
  },
  {
   "cell_type": "code",
   "execution_count": 119,
   "id": "6f9e03d2",
   "metadata": {},
   "outputs": [],
   "source": [
    "Source_of_Billionaire = []\n",
    "for i in Source:\n",
    "    Source_of_Billionaire.append(i.text)"
   ]
  },
  {
   "cell_type": "code",
   "execution_count": 120,
   "id": "1dc39850",
   "metadata": {},
   "outputs": [
    {
     "data": {
      "text/plain": [
       "25"
      ]
     },
     "execution_count": 120,
     "metadata": {},
     "output_type": "execute_result"
    }
   ],
   "source": [
    "Country = browser.find_elements_by_xpath(\"//td[@class='Country/Territory']\")\n",
    "len(Country)"
   ]
  },
  {
   "cell_type": "code",
   "execution_count": 121,
   "id": "3198ab5b",
   "metadata": {},
   "outputs": [],
   "source": [
    "Country_of_Billionaire = []\n",
    "for i in Country:\n",
    "    Country_of_Billionaire.append(i.text)"
   ]
  },
  {
   "cell_type": "code",
   "execution_count": 122,
   "id": "c4da9c6f",
   "metadata": {},
   "outputs": [],
   "source": [
    "import pandas as pd\n",
    "Billionare=pd.DataFrame({})\n",
    "Billionare['Rank']= Ranks\n",
    "Billionare['Name']= Names\n",
    "Billionare['Networth']= Net_worth\n",
    "Billionare['Age']= Age_of_Billionaire\n",
    "Billionare['Source']= Source_of_Billionaire\n",
    "Billionare['Country']= Country_of_Billionaire"
   ]
  },
  {
   "cell_type": "code",
   "execution_count": 123,
   "id": "67bf74b4",
   "metadata": {},
   "outputs": [
    {
     "data": {
      "text/html": [
       "<div>\n",
       "<style scoped>\n",
       "    .dataframe tbody tr th:only-of-type {\n",
       "        vertical-align: middle;\n",
       "    }\n",
       "\n",
       "    .dataframe tbody tr th {\n",
       "        vertical-align: top;\n",
       "    }\n",
       "\n",
       "    .dataframe thead th {\n",
       "        text-align: right;\n",
       "    }\n",
       "</style>\n",
       "<table border=\"1\" class=\"dataframe\">\n",
       "  <thead>\n",
       "    <tr style=\"text-align: right;\">\n",
       "      <th></th>\n",
       "      <th>Rank</th>\n",
       "      <th>Name</th>\n",
       "      <th>Networth</th>\n",
       "      <th>Age</th>\n",
       "      <th>Source</th>\n",
       "      <th>Country</th>\n",
       "    </tr>\n",
       "  </thead>\n",
       "  <tbody>\n",
       "    <tr>\n",
       "      <th>0</th>\n",
       "      <td>1</td>\n",
       "      <td>Elon Musk</td>\n",
       "      <td>$287.6 B</td>\n",
       "      <td>50</td>\n",
       "      <td>Tesla, SpaceX</td>\n",
       "      <td>United States</td>\n",
       "    </tr>\n",
       "    <tr>\n",
       "      <th>1</th>\n",
       "      <td>2</td>\n",
       "      <td>Jeff Bezos</td>\n",
       "      <td>$189.3 B</td>\n",
       "      <td>58</td>\n",
       "      <td>Amazon</td>\n",
       "      <td>United States</td>\n",
       "    </tr>\n",
       "    <tr>\n",
       "      <th>2</th>\n",
       "      <td>3</td>\n",
       "      <td>Bernard Arnault &amp; family</td>\n",
       "      <td>$174.9 B</td>\n",
       "      <td>73</td>\n",
       "      <td>LVMH</td>\n",
       "      <td>France</td>\n",
       "    </tr>\n",
       "    <tr>\n",
       "      <th>3</th>\n",
       "      <td>4</td>\n",
       "      <td>Bill Gates</td>\n",
       "      <td>$135.0 B</td>\n",
       "      <td>66</td>\n",
       "      <td>Microsoft</td>\n",
       "      <td>United States</td>\n",
       "    </tr>\n",
       "    <tr>\n",
       "      <th>4</th>\n",
       "      <td>5</td>\n",
       "      <td>Warren Buffett</td>\n",
       "      <td>$127.0 B</td>\n",
       "      <td>91</td>\n",
       "      <td>Berkshire Hathaway</td>\n",
       "      <td>United States</td>\n",
       "    </tr>\n",
       "  </tbody>\n",
       "</table>\n",
       "</div>"
      ],
      "text/plain": [
       "  Rank                      Name  Networth Age              Source  \\\n",
       "0    1                 Elon Musk  $287.6 B  50       Tesla, SpaceX   \n",
       "1    2                Jeff Bezos  $189.3 B  58              Amazon   \n",
       "2    3  Bernard Arnault & family  $174.9 B  73                LVMH   \n",
       "3    4                Bill Gates  $135.0 B  66           Microsoft   \n",
       "4    5            Warren Buffett  $127.0 B  91  Berkshire Hathaway   \n",
       "\n",
       "         Country  \n",
       "0  United States  \n",
       "1  United States  \n",
       "2         France  \n",
       "3  United States  \n",
       "4  United States  "
      ]
     },
     "execution_count": 123,
     "metadata": {},
     "output_type": "execute_result"
    }
   ],
   "source": [
    "Billionare.head()"
   ]
  },
  {
   "cell_type": "code",
   "execution_count": null,
   "id": "f72b3a07",
   "metadata": {},
   "outputs": [],
   "source": []
  },
  {
   "cell_type": "markdown",
   "id": "d7e55893",
   "metadata": {},
   "source": [
    "# Q 9: Program"
   ]
  },
  {
   "cell_type": "code",
   "execution_count": 124,
   "id": "265cd410",
   "metadata": {},
   "outputs": [],
   "source": [
    "import selenium # importing selenium\n",
    "from selenium import webdriver#importing webdriver\n",
    "from selenium.common.exceptions import StaleElementReferenceException, NoSuchElementException #importing exception \n",
    "import time"
   ]
  },
  {
   "cell_type": "code",
   "execution_count": 125,
   "id": "e85e9e4e",
   "metadata": {},
   "outputs": [],
   "source": [
    "browser = browser\n",
    "browser.get(\"https://www.youtube.com/watch?v=YfO28Ihehbk\")\n",
    "browser.maximize_window()\n",
    "browser.execute_script(\"window.scrollBy(0,10000)\" \"\")"
   ]
  },
  {
   "cell_type": "code",
   "execution_count": 126,
   "id": "f1beb07c",
   "metadata": {},
   "outputs": [],
   "source": [
    "browser.execute_script(\"window.scrollBy(0,10000)\" \"\")"
   ]
  },
  {
   "cell_type": "code",
   "execution_count": 127,
   "id": "6453d4e4",
   "metadata": {},
   "outputs": [],
   "source": [
    "for i in range(200):\n",
    "    browser.execute_script(\"window.scrollBy(0,10000)\" \"\")"
   ]
  },
  {
   "cell_type": "code",
   "execution_count": 128,
   "id": "2ec09d1c",
   "metadata": {},
   "outputs": [
    {
     "data": {
      "text/plain": [
       "300"
      ]
     },
     "execution_count": 128,
     "metadata": {},
     "output_type": "execute_result"
    }
   ],
   "source": [
    "Comment = browser.find_elements_by_id(\"content-text\")\n",
    "len(Comment)"
   ]
  },
  {
   "cell_type": "code",
   "execution_count": 129,
   "id": "1d0de9a8",
   "metadata": {},
   "outputs": [],
   "source": [
    "Comments = []\n",
    "for i in Comment:\n",
    "    Comments.append(i.text)"
   ]
  },
  {
   "cell_type": "code",
   "execution_count": 130,
   "id": "d0bc7413",
   "metadata": {},
   "outputs": [
    {
     "data": {
      "text/plain": [
       "300"
      ]
     },
     "execution_count": 130,
     "metadata": {},
     "output_type": "execute_result"
    }
   ],
   "source": [
    "upvote = browser.find_elements_by_id(\"vote-count-middle\")\n",
    "len(upvote)"
   ]
  },
  {
   "cell_type": "code",
   "execution_count": 131,
   "id": "57833d0c",
   "metadata": {},
   "outputs": [],
   "source": [
    "votes = []\n",
    "for i in upvote:\n",
    "    votes.append(i.text)"
   ]
  },
  {
   "cell_type": "code",
   "execution_count": 132,
   "id": "aaf80410",
   "metadata": {},
   "outputs": [
    {
     "data": {
      "text/plain": [
       "300"
      ]
     },
     "execution_count": 132,
     "metadata": {},
     "output_type": "execute_result"
    }
   ],
   "source": [
    "ago = browser.find_elements_by_xpath(\"//*[@id='header-author']/yt-formatted-string/a\")\n",
    "len(ago)"
   ]
  },
  {
   "cell_type": "code",
   "execution_count": 133,
   "id": "09f799cf",
   "metadata": {},
   "outputs": [],
   "source": [
    "time = []\n",
    "for i in ago:\n",
    "    time.append(i.text)"
   ]
  },
  {
   "cell_type": "code",
   "execution_count": 134,
   "id": "8b921060",
   "metadata": {},
   "outputs": [],
   "source": [
    "import pandas as pd\n",
    "youtube=pd.DataFrame({})\n",
    "youtube['comments']= Comments\n",
    "youtube['upvote']= votes\n",
    "youtube['ago']= time"
   ]
  },
  {
   "cell_type": "code",
   "execution_count": 135,
   "id": "57d7b078",
   "metadata": {
    "scrolled": true
   },
   "outputs": [
    {
     "data": {
      "text/html": [
       "<div>\n",
       "<style scoped>\n",
       "    .dataframe tbody tr th:only-of-type {\n",
       "        vertical-align: middle;\n",
       "    }\n",
       "\n",
       "    .dataframe tbody tr th {\n",
       "        vertical-align: top;\n",
       "    }\n",
       "\n",
       "    .dataframe thead th {\n",
       "        text-align: right;\n",
       "    }\n",
       "</style>\n",
       "<table border=\"1\" class=\"dataframe\">\n",
       "  <thead>\n",
       "    <tr style=\"text-align: right;\">\n",
       "      <th></th>\n",
       "      <th>comments</th>\n",
       "      <th>upvote</th>\n",
       "      <th>ago</th>\n",
       "    </tr>\n",
       "  </thead>\n",
       "  <tbody>\n",
       "    <tr>\n",
       "      <th>0</th>\n",
       "      <td>01:04 introduction to python\\n05:14 Python set...</td>\n",
       "      <td>586</td>\n",
       "      <td>2 years ago</td>\n",
       "    </tr>\n",
       "    <tr>\n",
       "      <th>1</th>\n",
       "      <td>Telusko and Navin I have gone through your 7 h...</td>\n",
       "      <td>45</td>\n",
       "      <td>9 months ago</td>\n",
       "    </tr>\n",
       "    <tr>\n",
       "      <th>2</th>\n",
       "      <td>Running out of words to appreciate your effort...</td>\n",
       "      <td>37</td>\n",
       "      <td>1 year ago</td>\n",
       "    </tr>\n",
       "    <tr>\n",
       "      <th>3</th>\n",
       "      <td>1. Introduction to Python - 01:10\\n\\n2. Python...</td>\n",
       "      <td>9</td>\n",
       "      <td>1 year ago</td>\n",
       "    </tr>\n",
       "    <tr>\n",
       "      <th>4</th>\n",
       "      <td>01:04 introduction to python\\n\\n05:14 Python s...</td>\n",
       "      <td>8</td>\n",
       "      <td>1 year ago</td>\n",
       "    </tr>\n",
       "  </tbody>\n",
       "</table>\n",
       "</div>"
      ],
      "text/plain": [
       "                                            comments upvote           ago\n",
       "0  01:04 introduction to python\\n05:14 Python set...    586   2 years ago\n",
       "1  Telusko and Navin I have gone through your 7 h...     45  9 months ago\n",
       "2  Running out of words to appreciate your effort...     37    1 year ago\n",
       "3  1. Introduction to Python - 01:10\\n\\n2. Python...      9    1 year ago\n",
       "4  01:04 introduction to python\\n\\n05:14 Python s...      8    1 year ago"
      ]
     },
     "execution_count": 135,
     "metadata": {},
     "output_type": "execute_result"
    }
   ],
   "source": [
    "youtube.head()"
   ]
  },
  {
   "cell_type": "code",
   "execution_count": null,
   "id": "faf43774",
   "metadata": {},
   "outputs": [],
   "source": []
  },
  {
   "cell_type": "markdown",
   "id": "e6213ee0",
   "metadata": {},
   "source": [
    "# Q 10: Program"
   ]
  },
  {
   "cell_type": "code",
   "execution_count": 136,
   "id": "973e6311",
   "metadata": {},
   "outputs": [],
   "source": [
    "import selenium # importing selenium\n",
    "from selenium import webdriver#importing webdriver\n",
    "from selenium.common.exceptions import StaleElementReferenceException, NoSuchElementException #importing exception \n",
    "import time"
   ]
  },
  {
   "cell_type": "code",
   "execution_count": 137,
   "id": "b64594aa",
   "metadata": {},
   "outputs": [],
   "source": [
    "browser = browser\n",
    "browser.get(\"https://www.hostelworld.com/s?q=London,%20England&country=England&city=London&type=city&id=3&from=2021-07-23&to=2021-07-26&guests=2&page=1\")\n",
    "browser.maximize_window()"
   ]
  },
  {
   "cell_type": "code",
   "execution_count": 138,
   "id": "2ecc227a",
   "metadata": {},
   "outputs": [],
   "source": [
    "name = browser.find_elements_by_xpath(\"//h2[@class='title title-6']/a\")\n",
    "hotel_name = []\n",
    "for i in name:\n",
    "    hotel_name.append(i.text)"
   ]
  },
  {
   "cell_type": "code",
   "execution_count": 139,
   "id": "50cdacb2",
   "metadata": {},
   "outputs": [],
   "source": [
    "distance = browser.find_elements_by_class_name('description')"
   ]
  },
  {
   "cell_type": "code",
   "execution_count": 140,
   "id": "074553cf",
   "metadata": {},
   "outputs": [],
   "source": [
    "distance_from_city = []"
   ]
  },
  {
   "cell_type": "code",
   "execution_count": 141,
   "id": "a0f46b64",
   "metadata": {},
   "outputs": [],
   "source": [
    "for i in distance:\n",
    "    distance_from_city.append(i.text)\n",
    "    "
   ]
  },
  {
   "cell_type": "code",
   "execution_count": 142,
   "id": "ec97a73e",
   "metadata": {},
   "outputs": [],
   "source": [
    "rat = browser.find_elements_by_xpath(\"//div[@class='score orange big']\")"
   ]
  },
  {
   "cell_type": "code",
   "execution_count": 143,
   "id": "a109e7b2",
   "metadata": {},
   "outputs": [],
   "source": [
    "ratings = []\n",
    "for i  in rat:\n",
    "    try:\n",
    "        ratings.append(i.text)\n",
    "    except NoSuchElementException as E:\n",
    "        ratings.append(\"__\")"
   ]
  },
  {
   "cell_type": "code",
   "execution_count": 144,
   "id": "7799c05e",
   "metadata": {},
   "outputs": [],
   "source": [
    "total_rates = browser.find_elements_by_xpath(\"//div[@class='reviews']\")"
   ]
  },
  {
   "cell_type": "code",
   "execution_count": 145,
   "id": "6d67d963",
   "metadata": {},
   "outputs": [],
   "source": [
    "total_rating =[]\n",
    "for i in total_rates:\n",
    "    total_rating.append(i.text)"
   ]
  },
  {
   "cell_type": "code",
   "execution_count": 146,
   "id": "9d2fe180",
   "metadata": {},
   "outputs": [],
   "source": [
    "over_all = browser.find_elements_by_xpath(\"//div[@class='keyword']\")"
   ]
  },
  {
   "cell_type": "code",
   "execution_count": 147,
   "id": "65e0d289",
   "metadata": {},
   "outputs": [],
   "source": [
    "over_all_review =[]\n",
    "for i in over_all:\n",
    "    over_all_review.append(i.text)"
   ]
  },
  {
   "cell_type": "code",
   "execution_count": 148,
   "id": "ca686f84",
   "metadata": {},
   "outputs": [],
   "source": [
    "pp =browser.find_elements_by_xpath(\"//div[@class='price title-5']\")\n",
    "\n",
    "privates_price =[]\n",
    "for i in pp:\n",
    "    privates_price.append(i.text)"
   ]
  },
  {
   "cell_type": "code",
   "execution_count": 149,
   "id": "d9427219",
   "metadata": {},
   "outputs": [],
   "source": [
    "privates_price = privates_price[0::2]"
   ]
  },
  {
   "cell_type": "code",
   "execution_count": 150,
   "id": "a158987a",
   "metadata": {},
   "outputs": [],
   "source": [
    "dp =browser.find_elements_by_xpath(\"//div[@class='price title-5']\")\n",
    "\n",
    "dorms_price =[]\n",
    "for i in dp:\n",
    "    dorms_price.append(i.text)"
   ]
  },
  {
   "cell_type": "code",
   "execution_count": 151,
   "id": "65193d1e",
   "metadata": {},
   "outputs": [],
   "source": [
    "dorms_price = dorms_price[1::2]"
   ]
  },
  {
   "cell_type": "code",
   "execution_count": 152,
   "id": "a1010e0a",
   "metadata": {},
   "outputs": [],
   "source": [
    "desc =browser.find_elements_by_xpath(\"//div[@class='rating-factors prop-card-tablet rating-factors small']\")\n",
    "\n",
    "description =[]\n",
    "for i in desc:\n",
    "    description.append(i.text)"
   ]
  },
  {
   "cell_type": "code",
   "execution_count": 153,
   "id": "8481d8e7",
   "metadata": {},
   "outputs": [],
   "source": [
    "fasc =browser.find_elements_by_xpath(\"//div[@class='facilities-label facilities']\")\n",
    "\n",
    "facilities =[]\n",
    "for i in fasc:\n",
    "    facilities.append(i.text)"
   ]
  },
  {
   "cell_type": "code",
   "execution_count": 154,
   "id": "2ca97887",
   "metadata": {},
   "outputs": [],
   "source": [
    "import pandas as pd\n",
    "hotel_details=pd.DataFrame({})\n",
    "hotel_details['Hostel_Name']= hotel_name[0:20]\n",
    "hotel_details['Type and Distance']= distance_from_city[0:20]\n",
    "hotel_details['Ratings']= ratings[0:20]\n",
    "hotel_details['Total_reviews']= total_rating[0:20]\n",
    "hotel_details['Overall_reviews']= over_all_review[0:20]\n",
    "hotel_details['Private Prices']= privates_price[0:20]\n",
    "hotel_details['Dorms Prices']= dorms_price[0:20]\n",
    "hotel_details['Description']= description[0:20]\n",
    "hotel_details['Facilities']= facilities[0:20]"
   ]
  },
  {
   "cell_type": "code",
   "execution_count": 155,
   "id": "1b6dfde5",
   "metadata": {},
   "outputs": [
    {
     "data": {
      "text/html": [
       "<div>\n",
       "<style scoped>\n",
       "    .dataframe tbody tr th:only-of-type {\n",
       "        vertical-align: middle;\n",
       "    }\n",
       "\n",
       "    .dataframe tbody tr th {\n",
       "        vertical-align: top;\n",
       "    }\n",
       "\n",
       "    .dataframe thead th {\n",
       "        text-align: right;\n",
       "    }\n",
       "</style>\n",
       "<table border=\"1\" class=\"dataframe\">\n",
       "  <thead>\n",
       "    <tr style=\"text-align: right;\">\n",
       "      <th></th>\n",
       "      <th>Hostel_Name</th>\n",
       "      <th>Type and Distance</th>\n",
       "      <th>Ratings</th>\n",
       "      <th>Total_reviews</th>\n",
       "      <th>Overall_reviews</th>\n",
       "      <th>Private Prices</th>\n",
       "      <th>Dorms Prices</th>\n",
       "      <th>Description</th>\n",
       "      <th>Facilities</th>\n",
       "    </tr>\n",
       "  </thead>\n",
       "  <tbody>\n",
       "    <tr>\n",
       "      <th>0</th>\n",
       "      <td>Safestay London Elephant &amp; Castle</td>\n",
       "      <td>Hostel - 1.7km from city centre</td>\n",
       "      <td>7.7</td>\n",
       "      <td>4127 Total Reviews</td>\n",
       "      <td>Very Good</td>\n",
       "      <td>Rs7161</td>\n",
       "      <td>Rs1790</td>\n",
       "      <td>Perfect Location\\nMarvellous Staff\\nExcellent ...</td>\n",
       "      <td>Free WiFi\\nFollows Covid-19 sanitation guidance</td>\n",
       "    </tr>\n",
       "    <tr>\n",
       "      <th>1</th>\n",
       "      <td>Generator London</td>\n",
       "      <td>Hostel - 3km from city centre</td>\n",
       "      <td>7.8</td>\n",
       "      <td>6848 Total Reviews</td>\n",
       "      <td>Very Good</td>\n",
       "      <td>Rs5516</td>\n",
       "      <td>Rs1964</td>\n",
       "      <td>Perfect Location\\nSuperb Staff\\nExcellent Clea...</td>\n",
       "      <td>Free WiFi\\nFollows Covid-19 sanitation guidance</td>\n",
       "    </tr>\n",
       "    <tr>\n",
       "      <th>2</th>\n",
       "      <td>Urbany Hostel London</td>\n",
       "      <td>Hostel - 5.4km from city centre</td>\n",
       "      <td>9.6</td>\n",
       "      <td>227 Total Reviews</td>\n",
       "      <td>Superb</td>\n",
       "      <td>Rs8862</td>\n",
       "      <td>Rs1969</td>\n",
       "      <td>Perfect Location\\nSuperb Staff\\nFantastic Clea...</td>\n",
       "      <td>Free WiFi\\nFollows Covid-19 sanitation guidance</td>\n",
       "    </tr>\n",
       "    <tr>\n",
       "      <th>3</th>\n",
       "      <td>Astor Hyde Park</td>\n",
       "      <td>Hostel - 4.3km from city centre</td>\n",
       "      <td>8.5</td>\n",
       "      <td>11418 Total Reviews</td>\n",
       "      <td>Fabulous</td>\n",
       "      <td>Rs1591</td>\n",
       "      <td>Rs8951</td>\n",
       "      <td>Perfect Location\\nSuperb Staff\\nExcellent Clea...</td>\n",
       "      <td>Free WiFi\\nFollows Covid-19 sanitation guidance</td>\n",
       "    </tr>\n",
       "    <tr>\n",
       "      <th>4</th>\n",
       "      <td>Pickwick Hall</td>\n",
       "      <td>Hostel - 2.3km from city centre</td>\n",
       "      <td>9.0</td>\n",
       "      <td>2302 Total Reviews</td>\n",
       "      <td>Superb</td>\n",
       "      <td>Rs1790</td>\n",
       "      <td>Rs6465</td>\n",
       "      <td>Perfect Location\\nSuperb Staff\\nFantastic Clea...</td>\n",
       "      <td>Free Breakfast</td>\n",
       "    </tr>\n",
       "    <tr>\n",
       "      <th>5</th>\n",
       "      <td>Smart Camden Inn Hostel</td>\n",
       "      <td>Hostel - 4.4km from city centre</td>\n",
       "      <td>8.5</td>\n",
       "      <td>2776 Total Reviews</td>\n",
       "      <td>Fabulous</td>\n",
       "      <td>Rs2089</td>\n",
       "      <td>Rs5236</td>\n",
       "      <td>Perfect Location\\nSuperb Staff\\nFantastic Clea...</td>\n",
       "      <td>Free WiFi\\nFollows Covid-19 sanitation guidance</td>\n",
       "    </tr>\n",
       "    <tr>\n",
       "      <th>6</th>\n",
       "      <td>The Walrus Hostel</td>\n",
       "      <td>Hostel - 0.2km from city centre</td>\n",
       "      <td>8.2</td>\n",
       "      <td>3732 Total Reviews</td>\n",
       "      <td>Fabulous</td>\n",
       "      <td>Rs1343</td>\n",
       "      <td>Rs6212</td>\n",
       "      <td>Perfect Location\\nSuperb Staff\\nExcellent Clea...</td>\n",
       "      <td>Free WiFi\\nFollows Covid-19 sanitation guidance</td>\n",
       "    </tr>\n",
       "    <tr>\n",
       "      <th>7</th>\n",
       "      <td>London Backpackers</td>\n",
       "      <td>Hostel - 11.9km from city centre</td>\n",
       "      <td>8.2</td>\n",
       "      <td>4204 Total Reviews</td>\n",
       "      <td>Fabulous</td>\n",
       "      <td>Rs1253</td>\n",
       "      <td>Rs5868</td>\n",
       "      <td>Wonderful Location\\nSuperb Staff\\nExcellent Cl...</td>\n",
       "      <td>Free WiFi\\nFree Breakfast\\nFollows Covid-19 sa...</td>\n",
       "    </tr>\n",
       "    <tr>\n",
       "      <th>8</th>\n",
       "      <td>Smart Russell Square Hostel</td>\n",
       "      <td>Hostel - 2.6km from city centre</td>\n",
       "      <td>6.8</td>\n",
       "      <td>9598 Total Reviews</td>\n",
       "      <td>Good</td>\n",
       "      <td>Rs6962</td>\n",
       "      <td>Rs2387</td>\n",
       "      <td>Perfect Location\\nBrilliant Staff\\nAwesome Cle...</td>\n",
       "      <td>Free WiFi\\nFollows Covid-19 sanitation guidance</td>\n",
       "    </tr>\n",
       "    <tr>\n",
       "      <th>9</th>\n",
       "      <td>YHA London Oxford Street</td>\n",
       "      <td>Hostel - 2.1km from city centre</td>\n",
       "      <td>9.7</td>\n",
       "      <td>4510 Total Reviews</td>\n",
       "      <td>Superb</td>\n",
       "      <td>Rs5371</td>\n",
       "      <td>Rs1790</td>\n",
       "      <td>Perfect Location\\nSuperb Staff\\nFantastic Clea...</td>\n",
       "      <td>Free WiFi\\nFollows Covid-19 sanitation guidance</td>\n",
       "    </tr>\n",
       "  </tbody>\n",
       "</table>\n",
       "</div>"
      ],
      "text/plain": [
       "                         Hostel_Name                 Type and Distance  \\\n",
       "0  Safestay London Elephant & Castle   Hostel - 1.7km from city centre   \n",
       "1                   Generator London     Hostel - 3km from city centre   \n",
       "2               Urbany Hostel London   Hostel - 5.4km from city centre   \n",
       "3                    Astor Hyde Park   Hostel - 4.3km from city centre   \n",
       "4                      Pickwick Hall   Hostel - 2.3km from city centre   \n",
       "5            Smart Camden Inn Hostel   Hostel - 4.4km from city centre   \n",
       "6                  The Walrus Hostel   Hostel - 0.2km from city centre   \n",
       "7                 London Backpackers  Hostel - 11.9km from city centre   \n",
       "8        Smart Russell Square Hostel   Hostel - 2.6km from city centre   \n",
       "9           YHA London Oxford Street   Hostel - 2.1km from city centre   \n",
       "\n",
       "  Ratings        Total_reviews Overall_reviews Private Prices Dorms Prices  \\\n",
       "0     7.7   4127 Total Reviews       Very Good         Rs7161       Rs1790   \n",
       "1     7.8   6848 Total Reviews       Very Good         Rs5516       Rs1964   \n",
       "2     9.6    227 Total Reviews          Superb         Rs8862       Rs1969   \n",
       "3     8.5  11418 Total Reviews        Fabulous         Rs1591       Rs8951   \n",
       "4     9.0   2302 Total Reviews          Superb         Rs1790       Rs6465   \n",
       "5     8.5   2776 Total Reviews        Fabulous         Rs2089       Rs5236   \n",
       "6     8.2   3732 Total Reviews        Fabulous         Rs1343       Rs6212   \n",
       "7     8.2   4204 Total Reviews        Fabulous         Rs1253       Rs5868   \n",
       "8     6.8   9598 Total Reviews            Good         Rs6962       Rs2387   \n",
       "9     9.7   4510 Total Reviews          Superb         Rs5371       Rs1790   \n",
       "\n",
       "                                         Description  \\\n",
       "0  Perfect Location\\nMarvellous Staff\\nExcellent ...   \n",
       "1  Perfect Location\\nSuperb Staff\\nExcellent Clea...   \n",
       "2  Perfect Location\\nSuperb Staff\\nFantastic Clea...   \n",
       "3  Perfect Location\\nSuperb Staff\\nExcellent Clea...   \n",
       "4  Perfect Location\\nSuperb Staff\\nFantastic Clea...   \n",
       "5  Perfect Location\\nSuperb Staff\\nFantastic Clea...   \n",
       "6  Perfect Location\\nSuperb Staff\\nExcellent Clea...   \n",
       "7  Wonderful Location\\nSuperb Staff\\nExcellent Cl...   \n",
       "8  Perfect Location\\nBrilliant Staff\\nAwesome Cle...   \n",
       "9  Perfect Location\\nSuperb Staff\\nFantastic Clea...   \n",
       "\n",
       "                                          Facilities  \n",
       "0    Free WiFi\\nFollows Covid-19 sanitation guidance  \n",
       "1    Free WiFi\\nFollows Covid-19 sanitation guidance  \n",
       "2    Free WiFi\\nFollows Covid-19 sanitation guidance  \n",
       "3    Free WiFi\\nFollows Covid-19 sanitation guidance  \n",
       "4                                     Free Breakfast  \n",
       "5    Free WiFi\\nFollows Covid-19 sanitation guidance  \n",
       "6    Free WiFi\\nFollows Covid-19 sanitation guidance  \n",
       "7  Free WiFi\\nFree Breakfast\\nFollows Covid-19 sa...  \n",
       "8    Free WiFi\\nFollows Covid-19 sanitation guidance  \n",
       "9    Free WiFi\\nFollows Covid-19 sanitation guidance  "
      ]
     },
     "execution_count": 155,
     "metadata": {},
     "output_type": "execute_result"
    }
   ],
   "source": [
    "hotel_details.head(10)"
   ]
  },
  {
   "cell_type": "code",
   "execution_count": null,
   "id": "089987b7",
   "metadata": {},
   "outputs": [],
   "source": []
  }
 ],
 "metadata": {
  "kernelspec": {
   "display_name": "Python 3 (ipykernel)",
   "language": "python",
   "name": "python3"
  },
  "language_info": {
   "codemirror_mode": {
    "name": "ipython",
    "version": 3
   },
   "file_extension": ".py",
   "mimetype": "text/x-python",
   "name": "python",
   "nbconvert_exporter": "python",
   "pygments_lexer": "ipython3",
   "version": "3.9.7"
  }
 },
 "nbformat": 4,
 "nbformat_minor": 5
}
