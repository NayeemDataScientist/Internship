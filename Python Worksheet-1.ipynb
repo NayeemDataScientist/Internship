{
 "cells": [
  {
   "cell_type": "markdown",
   "id": "605d2e76",
   "metadata": {},
   "source": [
    "# Question Number 11 Finding facorial of a number"
   ]
  },
  {
   "cell_type": "code",
   "execution_count": 4,
   "id": "41307d0f",
   "metadata": {},
   "outputs": [
    {
     "name": "stdout",
     "output_type": "stream",
     "text": [
      "Enter The Number6\n",
      "The Factorial of 6 is : 720\n"
     ]
    }
   ],
   "source": [
    "num=int(input(\"Enter The Number\"))\n",
    "fac=1\n",
    "for i in range (1,num+1):\n",
    "    fac=(fac*i)\n",
    "print(f\"The Factorial of {num} is : {fac}\")"
   ]
  },
  {
   "cell_type": "markdown",
   "id": "eacb1dc3",
   "metadata": {},
   "source": [
    "# Question Number 12 Number is Prime or Composite."
   ]
  },
  {
   "cell_type": "code",
   "execution_count": 11,
   "id": "7b328da8",
   "metadata": {},
   "outputs": [
    {
     "name": "stdout",
     "output_type": "stream",
     "text": [
      "Enter The Number 5\n",
      "Number Is Prime\n"
     ]
    }
   ],
   "source": [
    "num=int(input(\"Enter The Number \"))\n",
    "prime=True\n",
    "for i in range(2,num):\n",
    "    if(num%i==0):\n",
    "        prime=False\n",
    "        break\n",
    "if prime:\n",
    "    print(\"Number Is Prime\")\n",
    "else:\n",
    "    print(\"Number Is Composite\")"
   ]
  },
  {
   "cell_type": "markdown",
   "id": "408f8761",
   "metadata": {},
   "source": [
    "# Question No 13 Finding the given string is palindrome or not."
   ]
  },
  {
   "cell_type": "code",
   "execution_count": 13,
   "id": "ecd68554",
   "metadata": {},
   "outputs": [
    {
     "name": "stdout",
     "output_type": "stream",
     "text": [
      "Enter The string 5\n",
      "The string Is Palindrome\n"
     ]
    }
   ],
   "source": [
    "a=int(input(\"Enter The string \"))\n",
    "b=str(a)\n",
    "c=b[::-1]\n",
    "if b==c:\n",
    "    print(\"The string Is Palindrome\")\n",
    "else:\n",
    "    print(\"The string Is Not Palindrome\")"
   ]
  },
  {
   "cell_type": "markdown",
   "id": "bca6d5e2",
   "metadata": {},
   "source": [
    "# Question No 14 Finding the third side of a right-angled triangle."
   ]
  },
  {
   "cell_type": "code",
   "execution_count": 8,
   "id": "636ea0ef",
   "metadata": {},
   "outputs": [
    {
     "name": "stdout",
     "output_type": "stream",
     "text": [
      "Input lengths of shorter triangle sides:\n",
      "a: 3\n",
      "b: 4\n",
      "The length of the hypotenuse is 5.0\n"
     ]
    }
   ],
   "source": [
    "from math import sqrt\n",
    "print(\"Input lengths of shorter triangle sides:\")\n",
    "a = int(input(\"a: \"))\n",
    "b = int(input(\"b: \"))\n",
    "c = sqrt(a**2 + b**2)\n",
    "print(\"The length of the hypotenuse is\", c )"
   ]
  },
  {
   "cell_type": "markdown",
   "id": "d86140a7",
   "metadata": {},
   "source": [
    "# Question No 15 Finding the frequency of a given character in a String"
   ]
  },
  {
   "cell_type": "code",
   "execution_count": 9,
   "id": "8044cff9",
   "metadata": {},
   "outputs": [
    {
     "name": "stdout",
     "output_type": "stream",
     "text": [
      "Enter the string: Nayeem\n",
      "Please enter the character to find frequency of the character\n",
      "y\n",
      "The frequency of the  y in the string is:  1\n"
     ]
    }
   ],
   "source": [
    "a=input(\"Enter the string: \")\n",
    "character=input(\"Please enter the character to find frequency of the character\\n\")\n",
    "count=0\n",
    "i=0\n",
    "while(i<len(a)):\n",
    "    if(a[i]==character):\n",
    "        count=count+1\n",
    "    i=i+1\n",
    "print(\"The frequency of the \",character,\"in the string is: \",count)"
   ]
  },
  {
   "cell_type": "code",
   "execution_count": null,
   "id": "6b85fb2a",
   "metadata": {},
   "outputs": [],
   "source": []
  }
 ],
 "metadata": {
  "kernelspec": {
   "display_name": "Python 3 (ipykernel)",
   "language": "python",
   "name": "python3"
  },
  "language_info": {
   "codemirror_mode": {
    "name": "ipython",
    "version": 3
   },
   "file_extension": ".py",
   "mimetype": "text/x-python",
   "name": "python",
   "nbconvert_exporter": "python",
   "pygments_lexer": "ipython3",
   "version": "3.9.7"
  }
 },
 "nbformat": 4,
 "nbformat_minor": 5
}
